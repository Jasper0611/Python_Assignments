{
 "cells": [
  {
   "cell_type": "markdown",
   "id": "3de2844a-ee9e-43e1-9890-60ef95e474bb",
   "metadata": {},
   "source": [
    "TOPIC: String Based Assignment Problem"
   ]
  },
  {
   "cell_type": "markdown",
   "id": "2e067d2a-a786-4744-a05b-4b110ad19814",
   "metadata": {},
   "source": [
    "1. Write a program to reverse a string."
   ]
  },
  {
   "cell_type": "code",
   "execution_count": 8,
   "id": "3d237e2c-458c-492c-bb69-a7f2846cb22f",
   "metadata": {},
   "outputs": [
    {
     "data": {
      "text/plain": [
       "'!dlrow olleH'"
      ]
     },
     "execution_count": 8,
     "metadata": {},
     "output_type": "execute_result"
    }
   ],
   "source": [
    "def reverse_string(string):\n",
    "    reverse=''\n",
    "    for i in string:\n",
    "        reverse= i + reverse\n",
    "    return reverse\n",
    "        \n",
    "\n",
    "string='Hello world!'\n",
    "reverse_string(string)"
   ]
  },
  {
   "cell_type": "markdown",
   "id": "8928c95a-35ae-458f-a7e7-f95c97553aab",
   "metadata": {},
   "source": [
    "# Explanation:\n",
    "\n",
    "* Creating a function called reverse_string and passing an argument called string\n",
    "* Then i am creating a empty string called reverse, we will use this later.\n",
    "* Creating a for loop  and iterating each letter from the string which is passed in the function argument.\n",
    "* Passing the each letter from the iteration in to the variable reverse, which we already created and also concatenating the previous letter stored in the variable reverse, so that for every iteration when new letter adds  it will add before the stored letter so in the end it will give us the string in reverse format.\n",
    "* Then using the return in function and returning the value of reverse variable.\n",
    "* Finally assigning a value for string argument and calling the function reverse_string and passing the string variable.\n"
   ]
  },
  {
   "cell_type": "markdown",
   "id": "921a9a55-b4df-44fb-951a-534158bfd564",
   "metadata": {},
   "source": [
    "2. Check if a string is a palindrome."
   ]
  },
  {
   "cell_type": "code",
   "execution_count": 9,
   "id": "9cf5b1a0-adb4-4a95-93c6-8b6202895808",
   "metadata": {},
   "outputs": [
    {
     "name": "stdin",
     "output_type": "stream",
     "text": [
      "Enter the word  Madam\n"
     ]
    },
    {
     "name": "stdout",
     "output_type": "stream",
     "text": [
      "This word Madam is a palindrome\n"
     ]
    }
   ],
   "source": [
    "user_input=input(\"Enter the word \")\n",
    "lower_sting=user_input.lower()\n",
    "reverse_string=lower_sting[::-1]\n",
    "if lower_sting == reverse_string:\n",
    "    print(f'This word {user_input} is a palindrome')\n",
    "else:\n",
    "    print(f'This word {user_input} is a not palindrome')"
   ]
  },
  {
   "cell_type": "markdown",
   "id": "f2aeafc4-573a-427f-be92-6df34c98ec04",
   "metadata": {},
   "source": [
    "# Explanation:\n",
    "\n",
    "* Geting the word from the user using input() function.\n",
    "* Changing all the letters from the word into lower case in order avoid any case sensetive issues.\n",
    "* Reverse the word using the slicing method in string operation.\n",
    "* Using the If else statement, if the lowered string matches the same letters in reverse sting index it will be palindrome so used a print() function to print the statement its a palindrome. If it doesn't match it will come into else statement and print its not a palindrome."
   ]
  },
  {
   "cell_type": "markdown",
   "id": "0830f1b7-1f8c-4d0d-b300-3daee968a11d",
   "metadata": {},
   "source": [
    "3. Convert a string to uppercase."
   ]
  },
  {
   "cell_type": "code",
   "execution_count": 16,
   "id": "0cd4dc6a-dca9-4501-a5db-a8ced3d88be4",
   "metadata": {},
   "outputs": [
    {
     "name": "stdin",
     "output_type": "stream",
     "text": [
      "Enter the string  hello world!\n"
     ]
    },
    {
     "name": "stdout",
     "output_type": "stream",
     "text": [
      "Your input : hello world!, Converted String: HELLO WORLD!\n"
     ]
    }
   ],
   "source": [
    "user_input=input(\"Enter the string \")\n",
    "final_string= user_input.upper()\n",
    "print(f\"Your input : {user_input}, Converted String: {final_string}\")"
   ]
  },
  {
   "cell_type": "markdown",
   "id": "7591f8fc-7d68-4d37-9f9a-24da8d77b38f",
   "metadata": {},
   "source": [
    "# Explanation:\n",
    "\n",
    "* Geting the string from the user using input() function.\n",
    "* Using the string in-built function upper() to convert all the letters from the string into upper case and assigning into variable final_string.\n",
    "* Printing the statement of user input and the final converted Upper string using the  f-string feature."
   ]
  },
  {
   "cell_type": "markdown",
   "id": "a8a1106e-32a6-4f03-b3aa-ca4442545d71",
   "metadata": {},
   "source": [
    "4. Convert a string to lowercase."
   ]
  },
  {
   "cell_type": "code",
   "execution_count": 18,
   "id": "36911f50-5c69-4e96-9a53-33fe511ea632",
   "metadata": {},
   "outputs": [
    {
     "name": "stdin",
     "output_type": "stream",
     "text": [
      "Enter the string  HOW ARE YOU.\n"
     ]
    },
    {
     "name": "stdout",
     "output_type": "stream",
     "text": [
      "Your input : HOW ARE YOU., Converted String: how are you.\n"
     ]
    }
   ],
   "source": [
    "user_input=input(\"Enter the string \")\n",
    "final_string= user_input.lower()\n",
    "print(f\"Your input : {user_input}, Converted String: {final_string}\")"
   ]
  },
  {
   "cell_type": "markdown",
   "id": "f9fee3b8-cc43-43bd-898d-d5c48a43e6dd",
   "metadata": {},
   "source": [
    "# Explanation:\n",
    "\n",
    "* Geting the string from the user using input() function.\n",
    "* Using the string in-built function lower() to convert all the letters from the string into upper case and assigning into variable final_string.\n",
    "* Printing the statement of user input and the final converted lower string using the  f-string feature."
   ]
  },
  {
   "cell_type": "markdown",
   "id": "31b8096f-58ce-4d7b-9498-349bdc2f9f55",
   "metadata": {},
   "source": [
    "5. Count the number of vowels in a string."
   ]
  },
  {
   "cell_type": "code",
   "execution_count": 25,
   "id": "788dd61a-c6a0-4d8c-bce3-ac2ed67b1bec",
   "metadata": {},
   "outputs": [
    {
     "name": "stdin",
     "output_type": "stream",
     "text": [
      "Enter the string Encyclopedia\n"
     ]
    },
    {
     "name": "stdout",
     "output_type": "stream",
     "text": [
      "Vowels that are present in the string are:  ['e', 'o', 'e', 'i', 'a']\n",
      "Total number of vowels present in string is 5\n"
     ]
    }
   ],
   "source": [
    "user_input=input(\"Enter the string\") # taking the user input\n",
    "lower_string=user_input.lower()  # using the lower built in function to lower case the letters\n",
    "vowels=['a','e','i','o','u']  # vowels present in English Grammar\n",
    "result=[]  \n",
    "for i in lower_string:  #iterating the user input modified with lower keyword\n",
    "    if i in vowels:  # checking if any letter from user input is in our vowels list, if it matches it will continue or else it will exit and return to loop\n",
    "        result.append(i)  # appending the letter with matched in our empty result list\n",
    "print('Vowels that are present in the string are: ', result)\n",
    "print('Total number of vowels present in string is',len(result)) "
   ]
  },
  {
   "cell_type": "markdown",
   "id": "75953238-daa1-4d9c-b188-028087cccc10",
   "metadata": {},
   "source": [
    "# Explanation:\n",
    "\n",
    "* Getting the input from user using the input() function\n",
    "* Changing all the letters from the sentence into lower case in order to avoid the case sensetive issue while matching the letters.\n",
    "* assigning the vowels strings into a list to a variable called vowels because we are going to use this to match with our user input string.\n",
    "* Creating an empty list inorder to store the vowels which are going to match with our vowels input.\n",
    "* Looping the lower_string using for loop statement and using the if class statement and in keyword inorder to find if any of the vowels strings from the variable is present in the lower_string, if any string matches it will be appended to our result list using the append built in function.\n",
    "* Printing the Vowels present in the user input using print function and printing the count of the vowels present using len keyword."
   ]
  },
  {
   "cell_type": "markdown",
   "id": "ae613a99-87f5-40c8-a845-5b9d054e860a",
   "metadata": {},
   "source": [
    "6. Count the number of consonants in a string."
   ]
  },
  {
   "cell_type": "code",
   "execution_count": 30,
   "id": "1056a1f4-b4c1-43b2-abe8-731d056be0ca",
   "metadata": {},
   "outputs": [
    {
     "name": "stdout",
     "output_type": "stream",
     "text": [
      "Total number of consonants present in Encyclopedia is 7.\n"
     ]
    }
   ],
   "source": [
    "def consonants(string):\n",
    "    lower_string=string.lower()  # using the lower built in function to lower case the letters\n",
    "    vowels=['a','e','i','o','u']  # vowels present in English Grammar\n",
    "    count=0\n",
    "    for i in lower_string:  #iterating the user input modified with lower keyword\n",
    "        if i not in vowels:  # checking if any letter from string is not in our vowels list, if it matches it will continue or else it will exit and return to loop\n",
    "            count+=1  # adding 1 count for each successful strings not present in vowels.\n",
    "    return count\n",
    "string='Encyclopedia'\n",
    "number_of_consonants= consonants(string)\n",
    "print( f'Total number of consonants present in {string} is {number_of_consonants}.')"
   ]
  },
  {
   "cell_type": "markdown",
   "id": "a8de3d97-0daf-4ac9-8899-e13f8605f87c",
   "metadata": {},
   "source": [
    "# Explanation: \n",
    "\n",
    "* Consonants refer to the letters in the alphabet that are not vowels. Comparatively vowels count is lesser, hence i am using vowels to find the number of consonants present in the string.\n",
    "* Creating a function called consonants with a argument string.\n",
    "* Inside the function, first lowering the letters from string using the lower() in-built function. \n",
    "* Then assigning the values for vowels variable. This will later used in if statement.\n",
    "* Creating a variable \"count\" with 0 value. Following, creating a for loop which iterates the lower_string variable we converted.\n",
    "* Creating a condition if any letters from the lower_string is not matching with the vowels, then its a consonants, so i am adding 1 to the variable \"count\" which i created outside the loop. \n",
    "* Finally returning the count value from the consonants function.\n",
    "* Creating an argument which needs to be passed in function. Calling the function with argument passed and assign its value into a variable called number_of_consonants.\n",
    "* Lastly printing the passed string and its count of consonants using the f-string method."
   ]
  },
  {
   "cell_type": "markdown",
   "id": "5cec102f-dd90-4065-afad-f12ff53668c1",
   "metadata": {},
   "source": [
    "7. Remove all whitespaces from a string."
   ]
  },
  {
   "cell_type": "code",
   "execution_count": 44,
   "id": "784de2ec-ed92-41ab-87c2-84cf3f165e0c",
   "metadata": {},
   "outputs": [
    {
     "data": {
      "text/plain": [
       "'Hello,Howareyou,howisyourday.'"
      ]
     },
     "execution_count": 44,
     "metadata": {},
     "output_type": "execute_result"
    }
   ],
   "source": [
    "def whitespace_removal(string):  # Creating a function with passing argument string\n",
    "    final_string=\"\"        # creating a variable with empty string for storing purpose\n",
    "    for i in string:        # Looping the string passed as argument\n",
    "        if i ==\" \":             # creating if  condition if the i is a empty string need to pass it\n",
    "            pass\n",
    "        else:                   # if any string not passed the above condition and come to this else condition, then that string will add to our fina_string variable.\n",
    "            final_string+=i\n",
    "            \n",
    "    return final_string\n",
    "\n",
    "string= \"               Hello,      How        are you  ,how is your day. \"\n",
    "whitespace_removal(string)"
   ]
  },
  {
   "cell_type": "markdown",
   "id": "6a5b0231-29ac-402b-9327-5e0078168e04",
   "metadata": {},
   "source": [
    "# Explanatin: \n",
    "\n",
    "* Creating a function whitespace_removal with string as passing argument.\n",
    "* Creating a variable with empty string to store the strings from the loop later.\n",
    "* Creating a for loop and itertating the strings as i, then creating if  else condition where if any of the iterating string contains empty space then it will simply pass and if it failed to meet this condition and in the else part that iterating string will add into the final_string variable.\n",
    "* Finally returning the final_string value from the function.\n",
    "* Lastly creating a string variable and calling the whitespace_removal function by passing the string argument."
   ]
  },
  {
   "cell_type": "markdown",
   "id": "37290b61-3da3-42cb-9ebe-3cbd908b2243",
   "metadata": {},
   "source": [
    "8. Find the length of a string without using the `len()` function."
   ]
  },
  {
   "cell_type": "code",
   "execution_count": 50,
   "id": "d7f6c0c0-1e92-4192-937f-a224f65f6e08",
   "metadata": {},
   "outputs": [
    {
     "name": "stdout",
     "output_type": "stream",
     "text": [
      "The length of the string is  5\n"
     ]
    }
   ],
   "source": [
    "def length(string):\n",
    "    count=0\n",
    "    for i in string:\n",
    "        count+=1\n",
    "    return count\n",
    "\n",
    "result= length(\"Hello\")\n",
    "print('The length of the string is ',result)"
   ]
  },
  {
   "cell_type": "markdown",
   "id": "0c3ed93b-d7c6-4b0e-b486-1e57d0c5a429",
   "metadata": {},
   "source": [
    "# Explanation: \n",
    "\n",
    "* Creating a function called length with takes single argument.\n",
    "* Initializing a variable count with 0 value \n",
    "* Creating a for loop which iterates the string argument we pass in the function. For every iteration it will add 1 to the count variable we created earlier.\n",
    "* Returning the count value in the function.\n",
    "* Finally calling the length function and passing the string argument and assigning it to the variable result. Then printing the statement along with the length of the string counted."
   ]
  },
  {
   "cell_type": "markdown",
   "id": "7eb89f98-1c95-4342-9a29-a9e940d129fe",
   "metadata": {},
   "source": [
    "9. Check if a string contains a specific word."
   ]
  },
  {
   "cell_type": "code",
   "execution_count": 59,
   "id": "141b188c-988f-4acb-8d6a-fdf233bdf068",
   "metadata": {},
   "outputs": [
    {
     "name": "stdin",
     "output_type": "stream",
     "text": [
      "Enter the sentence:  Need to check a specific word\n",
      "Enter the word you need to check in the sentence:  check\n"
     ]
    },
    {
     "name": "stdout",
     "output_type": "stream",
     "text": [
      "The string contains the word check.\n"
     ]
    }
   ],
   "source": [
    "sentence = input('Enter the sentence: ')\n",
    "word_wants_to_check = input(\"Enter the word you need to check in the sentence: \")\n",
    "\n",
    "if word_wants_to_check in sentence:  #Check if the word_wants_to_check is present in the sentence using the 'in' keyword\n",
    "    print(f\"The string contains the word {word_wants_to_check}.\")\n",
    "else:\n",
    "    print(f\"The string does not contain the word {word_wants_to_check}.\")"
   ]
  },
  {
   "cell_type": "markdown",
   "id": "6ccf1259-5578-4871-a3d7-ce42f8a18def",
   "metadata": {},
   "source": [
    "# Explanation: \n",
    "\n",
    "\n",
    "* Getting the input from the user for sentence and the word he wants to check in that sentence using the input() in-built function.\n",
    "* Then using the if else condition, If the specific word is found in the string, it prints a message indicating that the word is present. It uses an f-string to include the value of word_wants_to_check in the printed message.\n",
    "* If the specific word is not found in the string, the program executes the code block under the else statement and prints the message the string not contains the word_wants_to_check.\n"
   ]
  },
  {
   "cell_type": "markdown",
   "id": "0cb28f02-1c1b-4ce4-8612-0521a90c8a8e",
   "metadata": {},
   "source": [
    "10. Replace a word in a string with another word."
   ]
  },
  {
   "cell_type": "code",
   "execution_count": 71,
   "id": "65e03685-8c28-4ef5-acf8-eb8d117a2057",
   "metadata": {},
   "outputs": [
    {
     "name": "stdin",
     "output_type": "stream",
     "text": [
      "Enter the sentence:  Largest planet in the solar-system is Mars\n",
      "Enter the old word:  Mars\n",
      "Enter the replacement word:  Jupiter\n"
     ]
    },
    {
     "data": {
      "text/plain": [
       "'Largest planet in the solar-system is Jupiter'"
      ]
     },
     "execution_count": 71,
     "metadata": {},
     "output_type": "execute_result"
    }
   ],
   "source": [
    "def word_replacement(sentence,old_word, replace_word):\n",
    "    raplaced_sentence= sentence.replace(old_word,replace_word)\n",
    "    return raplaced_sentence\n",
    "\n",
    "\n",
    "sentence=input('Enter the sentence: ')\n",
    "old_word=input('Enter the old word: ')\n",
    "replace_word=input('Enter the replacement word: ')\n",
    "word_replacement(sentence,old_word, replace_word)\n",
    "    "
   ]
  },
  {
   "cell_type": "markdown",
   "id": "520677fd-87b9-4b97-80ee-f62b9a10e2a6",
   "metadata": {},
   "source": [
    "# Explanation: \n",
    "\n",
    "* Creating a function word_replacement taking 3 arguments sentence, old_word, replace_word\n",
    "* using the replace() in-built function replacing the old word with replace word and assigning it to replaced_sentence variable, then returning the replaced_sentence value.\n",
    "* Using the input() in-built function collecting the arguments which are needed to calling a function.\n",
    "* Calling the word_replacement function and passing the arguments which are stored in variables entered by user. Now you will able to see the result with the replaced word\n",
    "\n",
    "\n",
    "\n"
   ]
  },
  {
   "cell_type": "markdown",
   "id": "18a27e17-9b65-4c12-8772-a6ba2c0cb213",
   "metadata": {},
   "source": [
    "11. Count the occurrences of a word in a string."
   ]
  },
  {
   "cell_type": "code",
   "execution_count": 134,
   "id": "cc6c3de2-312e-485d-9f43-b2cd7988fb89",
   "metadata": {},
   "outputs": [],
   "source": [
    "def word_count(sentence, word_string):    # Creating a function taking 2 arguments\n",
    "    lowered_sentence=sentence.lower()     # lowering the sentence using lower() function\n",
    "    lowered_word_string=word_string.lower()   # lowering the word given by user using lower() function\n",
    "    split_=lowered_sentence.split(\" \")        # Splitting the lowered sentence using \" \" as seperator\n",
    "    split_words=[word.rstrip('.,') for word in split_]   # using the list comprehension and removing the , and . which are not removed while splitting the words\n",
    "    words=0                 # creating a variable with value 0 \n",
    "    for word in split_words:           # Looping the splitted words \n",
    "        if word == lowered_word_string:    # if single word from iteration matches the user input 1 count will be added to word variable\n",
    "            words+=1    \n",
    "    return f'The word \"{word_string}\" occured {words} times.'   # returning the word variable and the word user want to check using f-string"
   ]
  },
  {
   "cell_type": "code",
   "execution_count": 136,
   "id": "0e58a818-4f78-4eaa-9a03-3961dfe6625c",
   "metadata": {},
   "outputs": [
    {
     "name": "stdin",
     "output_type": "stream",
     "text": [
      "Enter the sentence:  Early in the morning, the birds chirped and the sun rose, creating a beautiful, beautiful day.\n",
      "Enter the word want to check the occurance:  rose\n"
     ]
    },
    {
     "data": {
      "text/plain": [
       "'The word \"rose\" occured 1 times.'"
      ]
     },
     "execution_count": 136,
     "metadata": {},
     "output_type": "execute_result"
    }
   ],
   "source": [
    "# asking input from user\n",
    "sentence=input(\"Enter the sentence: \")\n",
    "word_string=input('Enter the word want to check the occurance: ')\n",
    "word_count(sentence, word_string)  # calling the function"
   ]
  },
  {
   "cell_type": "markdown",
   "id": "3cc5463d-f5cc-4f9c-b570-c3c6ef7db95c",
   "metadata": {},
   "source": [
    "# Explanation: \n",
    "\n",
    "* Creating a function  word_count taking 2 arguments as sentence, word_string\n",
    "* Lowering the sentence and word_string passed inside the function using lower() function method.\n",
    "* Splitting the lowered sentence using (\" \") as seperator, then the list comprehension iterates through split words and removes trailing commas and fullstop from each word using rstrip('.,'). \n",
    "* Since there are chances the string from the user could contains the , and . it will leads to incorrect response while checking the word occurance if it is not removed. \n",
    "* Creating a variable with value 0 for counting the occurance purpose.\n",
    "* Looping the splitted words, if single word from iteration matches the user input 1 count will be added to word variable which we created earlier.\n",
    "* Returning the word variable and the word user want to check using f-string\n",
    "* Using the input() in-built function collecting the arguments which are needed to calling a function.\n",
    "* Calling the word_count function and passing the arguments which are stored in variables entered by user. Now you will able to see the result with the word count.\n"
   ]
  },
  {
   "cell_type": "markdown",
   "id": "637e1c55-454a-4439-934c-d6066cdae303",
   "metadata": {},
   "source": [
    "12. Find the first occurrence of a word in a string."
   ]
  },
  {
   "cell_type": "code",
   "execution_count": 153,
   "id": "9d535455-3083-4809-bee3-29b2262c559b",
   "metadata": {},
   "outputs": [
    {
     "name": "stdin",
     "output_type": "stream",
     "text": [
      "Enter the sentence:  Early in the morning, the birds chirped and the sun rose, creating a beautiful, beautiful day.\n",
      "Enter the word want to check the first occurance:  the\n"
     ]
    },
    {
     "data": {
      "text/plain": [
       "'First occurrence of the the is 9th index'"
      ]
     },
     "execution_count": 153,
     "metadata": {},
     "output_type": "execute_result"
    }
   ],
   "source": [
    "def first_occurrence(sentence, word):\n",
    "    index = sentence.find(word)   # Find the index of the first occurrence using find() method.\n",
    "    if index != -1: #Check if the index is not -1, indicating that the word was found.\n",
    "        result = f\"First occurrence of the {word} is {index}th index\"\n",
    "    else:\n",
    "         result =( f\"{word} is not found in the sentence\")\n",
    "    return result\n",
    "sentence=input(\"Enter the sentence: \").lower()\n",
    "word=input('Enter the word want to check the first occurance: ').lower()\n",
    "first_occurrence(sentence, word)"
   ]
  },
  {
   "cell_type": "markdown",
   "id": "799f98ba-1598-469b-8658-e61bbc99e0d7",
   "metadata": {},
   "source": [
    "# Explanation:\n",
    "\n",
    "* Creating a function first_occurrence taking 2 arguments as sentence, word\n",
    "* Creating a index variable where i am using the find() in-built function in the sentence argument and passing the word argument inside the find function to find its index.\n",
    "* Using the if else statement: As the find() inbuilt function return the index of the word we are passing, if that word is not present it will give us the -1 as result, so i am checking if that index is not equal to -1 that means that word is present and the index variable stores the correct index, I am using the f-string method and storing a statement of the first occurance word and its index in result variable.\n",
    "* If the word input by the user is not found in the sentence, the block will move to else part and i am using the f-string method and storing a statement that \"word is not found in the sentence\" in a result variable.\n",
    "* Returning the result variable\n",
    "* Creating a input() in-built function and getting the sentence and from from user and storing it inside the sentence and word variable.\n",
    "* Calling the function first_occurrence(sentence, word) passing the arguments we get from user input."
   ]
  },
  {
   "cell_type": "markdown",
   "id": "18316ed2-9cc6-4e82-80a7-f0113fe39046",
   "metadata": {},
   "source": [
    "13. Find the last occurrence of a word in a string."
   ]
  },
  {
   "cell_type": "code",
   "execution_count": 2,
   "id": "492cd9e5-b9cd-4fe3-9a81-567e6e5f531a",
   "metadata": {},
   "outputs": [
    {
     "name": "stdin",
     "output_type": "stream",
     "text": [
      "Enter the sentence:  Hello, how is your day, how are you\\\n",
      "Enter the word want to check the Last occurance:  How\n"
     ]
    },
    {
     "data": {
      "text/plain": [
       "'Last occurrence of the how is in index 24.'"
      ]
     },
     "execution_count": 2,
     "metadata": {},
     "output_type": "execute_result"
    }
   ],
   "source": [
    "def last_occurrence(sentence, word):\n",
    "    index = sentence.rfind(word)   # Find the index of the last occurrence using rfind() method which search from right to left.\n",
    "    if index != -1: #Check if the index is not -1, indicating that the word was found.\n",
    "        result = f\"Last occurrence of the {word} is in index {index}.\"\n",
    "    else:\n",
    "         result =( f\"{word} is not found in the sentence\")\n",
    "    return result\n",
    "sentence=input(\"Enter the sentence: \").lower()\n",
    "word=input('Enter the word want to check the Last occurance: ').lower()\n",
    "last_occurrence(sentence, word)"
   ]
  },
  {
   "cell_type": "markdown",
   "id": "97ff04cd-0f16-445c-8656-9a1d0f9960a6",
   "metadata": {},
   "source": [
    "# Explanation:\n",
    "\n",
    "* Creating a function last_occurrence taking 2 arguments as sentence, word\n",
    "* Creating a index variable where i am using the rfind() in-built function in the sentence argument and passing the word argument inside the rfind function to find its index its start to check from right to left of a string.\n",
    "* Using the if else statement: As the rfind() inbuilt function return the index of the word we are passing, if that word is not present it will give us the -1 as result, so i am checking if that index is not equal to -1 that means that word is present and the index variable stores the correct index, I am using the f-string method and storing a statement of the last occurance word and its index in result variable.\n",
    "* If the word input by the user is not found in the sentence, the block will move to else part and i am using the f-string method and storing a statement that \"word is not found in the sentence\" in a result variable.\n",
    "* Returning the result variable\n",
    "* Creating a input() in-built function and getting the sentence and from from user and storing it inside the sentence and word variable.\n",
    "* Calling the function last_occurrence(sentence, word) passing the arguments we get from user input."
   ]
  },
  {
   "cell_type": "markdown",
   "id": "d1607fff-a229-4dfc-88f0-032038ea13b8",
   "metadata": {},
   "source": [
    "14. Split a string into a list of words."
   ]
  },
  {
   "cell_type": "code",
   "execution_count": 3,
   "id": "599a99a1-7e6a-46ea-b3bc-4ba942394e5e",
   "metadata": {},
   "outputs": [
    {
     "name": "stdin",
     "output_type": "stream",
     "text": [
      "Enter the string  Hello how are you\n"
     ]
    },
    {
     "name": "stdout",
     "output_type": "stream",
     "text": [
      "['Hello', 'how', 'are', 'you']\n"
     ]
    }
   ],
   "source": [
    "string= input('Enter the string ')\n",
    "split_list= string.split()\n",
    "print(split_list)"
   ]
  },
  {
   "cell_type": "markdown",
   "id": "b1012be6-8513-4dd4-a841-f6afba8a7c82",
   "metadata": {},
   "source": [
    "# Explanation:\n",
    "\n",
    "* Getting the input from user using the in-built input() function and storing it in string variable.\n",
    "* Using the split() in-built function to split the string. Split function will split the sentence into list of words as its default split is spaces i am not specified it here and string it inside the variable split_list.\n",
    "* Using the print function and printing the list of words."
   ]
  },
  {
   "cell_type": "markdown",
   "id": "aa7c5252-b27a-451c-a6eb-a7ea8666b9a4",
   "metadata": {},
   "source": [
    "15. Join a list of words into a string."
   ]
  },
  {
   "cell_type": "code",
   "execution_count": 12,
   "id": "a75c33a6-6259-4988-89d8-c39a003aa837",
   "metadata": {},
   "outputs": [
    {
     "name": "stdin",
     "output_type": "stream",
     "text": [
      "Input the list of words seperated by comma  Hello!, how, are , you.\n"
     ]
    },
    {
     "data": {
      "text/plain": [
       "'Hello!  how  are   you.'"
      ]
     },
     "execution_count": 12,
     "metadata": {},
     "output_type": "execute_result"
    }
   ],
   "source": [
    "list_of_words= input(\"Input the list of words seperated by comma \")\n",
    "converted_into_list=list_of_words.split(',') # using the split() function with , as seperator\n",
    "combine_list = ' '.join(converted_into_list)  # using the join() function to join the list of words\n",
    "combine_list"
   ]
  },
  {
   "cell_type": "markdown",
   "id": "3b3c5b40-357c-4ece-b619-d7d65970be3e",
   "metadata": {},
   "source": [
    "# Explanation: \n",
    "\n",
    "* Getting the input from the user using input() in-built function and giving the user a hint to put the list of words seperated by comma and stored it in varibale list_of_words.\n",
    "* Since the variable list_of_words is a string converting it into a list by splitting the string using split builtin function with the seperator comma in it.\n",
    "* Now joining the list of words into a single string using the join() inbuilt function with space as seperator and storing it in the variable combined_list.\n",
    "* printing the combined_list it will show the result in a single string value."
   ]
  },
  {
   "cell_type": "markdown",
   "id": "0fcec9d6-bd39-4746-a434-6ae089c92410",
   "metadata": {},
   "source": [
    "16. Convert a string where words are separated by spaces to one where words\n",
    "are separated by underscores."
   ]
  },
  {
   "cell_type": "code",
   "execution_count": 14,
   "id": "9bdde65b-956e-4d57-9925-44fb0c2bfe5a",
   "metadata": {},
   "outputs": [
    {
     "name": "stdin",
     "output_type": "stream",
     "text": [
      "Input the list of words seperated by space  Hello! how are you.\n"
     ]
    },
    {
     "data": {
      "text/plain": [
       "'Hello!_how_are_you.'"
      ]
     },
     "execution_count": 14,
     "metadata": {},
     "output_type": "execute_result"
    }
   ],
   "source": [
    "string= input(\"Input the list of words seperated by space \")\n",
    "converted_into_list=string.split() # using the split() function with , as seperator\n",
    "under_score_string = '_'.join(converted_into_list)  # using the join() function to join the list of words\n",
    "under_score_string"
   ]
  },
  {
   "cell_type": "markdown",
   "id": "29685fcc-862e-45ba-8b74-43ddb64e97b1",
   "metadata": {},
   "source": [
    "# Explanation: \n",
    "\n",
    "* Getting the input from the user using input() in-built function and giving the user a hint to put the list of words seperated by space and stored it in varibale string.\n",
    "* Since the variable list_of_words is a string converting it into a list by splitting the string using split builtin function with the default space seperator.\n",
    "* Now joining the list of words into a single string using the join() inbuilt function with '_' as seperator and storing it in the variable under_score_string.\n",
    "* printing the under_score_string it will show the result in a single string value seperated by underscores."
   ]
  },
  {
   "cell_type": "markdown",
   "id": "87f79b7f-f475-45fd-8ce7-e75434eb5606",
   "metadata": {},
   "source": [
    "17. Check if a string starts with a specific word or phrase."
   ]
  },
  {
   "cell_type": "code",
   "execution_count": 1,
   "id": "b7cc109b-2885-4bfb-a7dc-9a63ab840031",
   "metadata": {},
   "outputs": [
    {
     "name": "stdin",
     "output_type": "stream",
     "text": [
      "Enter the text:  Hello World\n",
      "Enter the start word:  Hello\n"
     ]
    },
    {
     "data": {
      "text/plain": [
       "'The text starts with the prefix Hello.'"
      ]
     },
     "execution_count": 1,
     "metadata": {},
     "output_type": "execute_result"
    }
   ],
   "source": [
    "def string_starts_with(text, prefix):\n",
    "    start_with = text.startswith(prefix) #Use the startswith() method to check if the text starts with the specified prefix.\n",
    "    if start_with == 1:\n",
    "        result =f\"The text starts with the prefix {prefix}.\"\n",
    "    else:\n",
    "        result =f\"The text does not start with the prefix {prefix}.\"\n",
    "    return result\n",
    "text=input(\"Enter the text: \")\n",
    "prefix= input(\"Enter the start word: \")\n",
    "string_starts_with(text, prefix)"
   ]
  },
  {
   "cell_type": "markdown",
   "id": "ee5b59f5-bd4c-4330-b3d4-9163512c1ad1",
   "metadata": {},
   "source": [
    "# Explanation: \n",
    "\n",
    "* Creating a function string_starts_with with two arguments text and prefix.\n",
    "* Inside the function creating a variable start_with where using the builtin function. The startswith() method returns True if the string starts with the specified value, otherwise False. \n",
    "* Now using the if else statement and if our start_with == 1 which means start_with == True it will execute the code under the if statement, else move to the else block and execute the code on else. If \"IF statement\" is true i am storing a statement with use of f-string in result variable. If else is true doing the same with another statement.\n",
    "* Returning the result variable.\n",
    "* Getting the input from the user for text and prefix variables.\n",
    "* Calling the string_starts_with function and passing the text and prefix arguments from user input"
   ]
  },
  {
   "cell_type": "markdown",
   "id": "21a7b2bf-0273-4e17-913b-7ac54ac937d7",
   "metadata": {},
   "source": [
    "18. Check if a string ends with a specific word or phrase."
   ]
  },
  {
   "cell_type": "code",
   "execution_count": 4,
   "id": "f75bcbe1-e4f4-472c-8e3d-d6324a123d68",
   "metadata": {},
   "outputs": [
    {
     "name": "stdin",
     "output_type": "stream",
     "text": [
      "Enter the text:  Hello world\n",
      "Enter the end word:  world\n"
     ]
    },
    {
     "data": {
      "text/plain": [
       "'The text ends with the word - world.'"
      ]
     },
     "execution_count": 4,
     "metadata": {},
     "output_type": "execute_result"
    }
   ],
   "source": [
    "def string_ends_with(text, suffix):\n",
    "    ends_with = text.endswith(suffix) #Use the startswith() method to check if the text starts with the specified prefix.\n",
    "    if ends_with == 1:\n",
    "        result = f\"The text ends with the word - {suffix}.\"\n",
    "    else:\n",
    "        result = f\"The text does not ends with the word - {suffix}.\"\n",
    "    return result\n",
    "text=input(\"Enter the text: \")\n",
    "suffix= input(\"Enter the end word: \")\n",
    "string_ends_with(text, suffix)"
   ]
  },
  {
   "cell_type": "markdown",
   "id": "9bfc03cb-33fd-4661-b35f-050b7c34dfd2",
   "metadata": {},
   "source": [
    "# Explanation: \n",
    "\n",
    "* Creating a function string_ends_with with two arguments text and suffix.\n",
    "* Inside the function creating a variable start_with where using the builtin function. The endswith() method returns True if the string ends with the specified value, otherwise False. \n",
    "* Now using the if else statement and if our ends_with == 1 which means ends_with == True it will execute the code under the if statement, else move to the else block and execute the code on else. If \"IF statement\" is true i am storing a statement with use of f-string in result variable. If else is true doing the same with another statement.\n",
    "* Returning the result variable.\n",
    "* Getting the input from the user for text and suffix variables.\n",
    "* Calling the string_ends_with function and passing the text and suffix arguments from user input"
   ]
  },
  {
   "cell_type": "markdown",
   "id": "f0f29289-c08f-4e72-aebc-8c9f40ed1533",
   "metadata": {},
   "source": [
    "19. Convert a string to title case (e.g., \"hello world\" to \"Hello World\")."
   ]
  },
  {
   "cell_type": "code",
   "execution_count": 1,
   "id": "38c038bd-d883-402d-9aa3-732519a1aac5",
   "metadata": {},
   "outputs": [
    {
     "name": "stdin",
     "output_type": "stream",
     "text": [
      "Enter the string  hello world\n"
     ]
    },
    {
     "name": "stdout",
     "output_type": "stream",
     "text": [
      "Updated string:  Hello World\n"
     ]
    }
   ],
   "source": [
    "string=input(\"Enter the string \")\n",
    "title_case= string.title() # using the title method do convert first character in every word is upper case. \n",
    "print(\"Updated string: \",title_case)\n"
   ]
  },
  {
   "cell_type": "markdown",
   "id": "c2e89d2d-a98e-4e3e-8f91-27308eff11c8",
   "metadata": {},
   "source": [
    "# Explanation:\n",
    "\n",
    "* Getting the input from user using input function.\n",
    "* Using the string operation in-built function title(). This method returns a string where the first character in every word is upper case. \n",
    "* Printing the variable to show the string with title case."
   ]
  },
  {
   "cell_type": "markdown",
   "id": "13ef8a35-b444-4392-b4f5-39e522802c08",
   "metadata": {},
   "source": [
    "20. Find the longest word in a string."
   ]
  },
  {
   "cell_type": "code",
   "execution_count": 33,
   "id": "6ebd5a7f-6794-47f9-9b99-a58de9f2370a",
   "metadata": {},
   "outputs": [
    {
     "name": "stdin",
     "output_type": "stream",
     "text": [
      "Enter the string:  Hello how is your Health condition\n"
     ]
    },
    {
     "name": "stdout",
     "output_type": "stream",
     "text": [
      "The longest word in the string is condition and its length is 9.\n"
     ]
    }
   ],
   "source": [
    "string= input(\"Enter the string: \")\n",
    "words= string.split()  # using the split() method to split the text into a list of words\n",
    "\n",
    "word=''\n",
    "longest_word_length = 0\n",
    "for i in words:   # Iterate through the list of words.\n",
    "    if len(i) > longest_word_length:\n",
    "        longest_word_length = len(i)\n",
    "        word =i\n",
    "        \n",
    "print(f\"The longest word in the string is {word} and its length is {longest_word_length}.\")\n",
    "        \n",
    "    "
   ]
  },
  {
   "cell_type": "markdown",
   "id": "fc0ee82a-ba7c-4a39-b1bf-b1b31902db0c",
   "metadata": {},
   "source": [
    "# Explanation: \n",
    "\n",
    "* Using the input() method and getting the string from user.\n",
    "* using the split() method splitting the string from the user with space as a default seperator.\n",
    "* Initializing two variables word and longest_word_length to hold the final output from the loop.\n",
    "* Creating a for loop and iterate through the list of words. Using the inbuilt len() function and compare the length of the words iterating with the longest_word_length. If the length of the word is greater, longest_word_length is equal to the current word length and word is equal to current word.\n",
    "* printing the final statement  of the longest word using f-string along with its length."
   ]
  },
  {
   "cell_type": "markdown",
   "id": "9fef5256-bf8d-40fe-a184-f0ca37bbf563",
   "metadata": {},
   "source": [
    "21. Find the shortest word in a string."
   ]
  },
  {
   "cell_type": "code",
   "execution_count": 43,
   "id": "e75bb2ef-3ef6-4c3d-b930-bd0ba8cbaac7",
   "metadata": {},
   "outputs": [
    {
     "name": "stdin",
     "output_type": "stream",
     "text": [
      "Enter the string:  Hello how is your Health condition\n"
     ]
    },
    {
     "name": "stdout",
     "output_type": "stream",
     "text": [
      "The shortest word in the string is 'is' and its length is 2.\n"
     ]
    }
   ],
   "source": [
    "string= input(\"Enter the string: \")\n",
    "words= string.split()  # using the split() method to split the text into a list of words\n",
    "\n",
    "word=''\n",
    "shortest_word_length = len(words[0])  # initialising the shorteste word with first word length\n",
    "for i in words:   # Iterate through the list of words.\n",
    "    if len(i) < shortest_word_length:\n",
    "        shortest_word_length = len(i)\n",
    "        word =i\n",
    "        \n",
    "print(f\"The shortest word in the string is '{word}' and its length is {shortest_word_length}.\")\n",
    "        \n",
    "    "
   ]
  },
  {
   "cell_type": "markdown",
   "id": "951e6078-8f20-4479-96c6-47ce673e3399",
   "metadata": {},
   "source": [
    "# Explanation: \n",
    "\n",
    "* Using the input() method and getting the string from user.\n",
    "* using the split() method splitting the string from the user with space as a default seperator.\n",
    "* Initializing two variables word and shortest_word_length to hold the final output from the loop. For shortest_word_length variable declaring the value of the length of the first word from the split words.\n",
    "* Creating a for loop and iterate through the list of words. Using the inbuilt len() function and compare the length of the words iterating with the shortest_word_length. If the length of the word is lesser, shortest_word_length is equal to the current word length and word is equal to current word.\n",
    "* printing the final statement  of the Shortest word using f-string along with its length."
   ]
  },
  {
   "cell_type": "markdown",
   "id": "2273f0be-114d-40a0-83c2-1bef6b8459e3",
   "metadata": {},
   "source": [
    "22. Reverse the order of words in a string."
   ]
  },
  {
   "cell_type": "code",
   "execution_count": 2,
   "id": "91318c4b-29de-47dd-9907-b87b8e7d7c07",
   "metadata": {},
   "outputs": [
    {
     "name": "stdin",
     "output_type": "stream",
     "text": [
      "Enter the string:  Hello how are you\n"
     ]
    },
    {
     "data": {
      "text/plain": [
       "'you are how Hello'"
      ]
     },
     "execution_count": 2,
     "metadata": {},
     "output_type": "execute_result"
    }
   ],
   "source": [
    "def reverse_word(string):\n",
    "    words= string.split()  # Splitting the string into to list of words\n",
    "    reverse= words[::-1]   # Reversing the order of words in the list\n",
    "    join=' '.join(reverse)  # using join method to join the list of words into a single string\n",
    "    return join\n",
    "\n",
    "string= input(\"Enter the string: \")\n",
    "reverse_word(string)"
   ]
  },
  {
   "cell_type": "markdown",
   "id": "6ca1fa6b-5ce8-408d-8a93-95679828bbf0",
   "metadata": {},
   "source": [
    "# Explanation: \n",
    "\n",
    "* Creating a function named reverse_word where passing 1 argument string.\n",
    "* Splitting the string into to list of words using the default space seperator \n",
    "* Reversing the order of words in the list using the negative indexing of -1 as step.\n",
    "* Joining the reversed words with \" \", using join method.\n",
    "* Returning the join variable where we stored the final joined words.\n",
    "* Getting the input from the user using the input() function and storing it in the string variable which we going to use for the function argument.\n",
    "* Calling the function and passing the argument variable."
   ]
  },
  {
   "cell_type": "markdown",
   "id": "139bc283-13f3-4c47-af6f-5068b044fe65",
   "metadata": {},
   "source": [
    "23. Check if a string is alphanumeric."
   ]
  },
  {
   "cell_type": "code",
   "execution_count": 15,
   "id": "1aff7d88-be36-4ed7-83a6-7b0bac157b26",
   "metadata": {},
   "outputs": [
    {
     "name": "stdout",
     "output_type": "stream",
     "text": [
      "The string jasp123 is alphanumeric.\n"
     ]
    }
   ],
   "source": [
    "def alphanumeric(string):\n",
    "    if string.isalnum():\n",
    "        print(f'The string {string} is alphanumeric.')\n",
    "    else:\n",
    "        print(f'The string {string} is not alphanumeric.')\n",
    "string='jasp123'     \n",
    "alphanumeric(string)              "
   ]
  },
  {
   "cell_type": "markdown",
   "id": "2295339a-0e42-4033-888f-0d8d54715a4e",
   "metadata": {},
   "source": [
    "# Explanation: \n",
    "\n",
    "* Defining the function alphanumeric that takes one parameter string.\n",
    "* Using the string.isalnum() inbuilt method to check whether the given string is alphanumeric. This method returns True if all characters in the string are letters or digits, and False otherwise.\n",
    "* So directly using the If else statement, and check if its true, it will pring the string is alphanumeric. \n",
    "* Else it will print the string is not alphanumeric. Using the f-string method to pass the string into the print statement.\n",
    "* Declaring the variable string and calling the function to check for reslts."
   ]
  },
  {
   "cell_type": "markdown",
   "id": "a40933d5-7e99-49dc-a532-95cade81b699",
   "metadata": {},
   "source": [
    "24. Extract all digits from a string."
   ]
  },
  {
   "cell_type": "code",
   "execution_count": 19,
   "id": "91c6e666-7100-415d-a736-c50a66b103a0",
   "metadata": {},
   "outputs": [
    {
     "data": {
      "text/plain": [
       "'123'"
      ]
     },
     "execution_count": 19,
     "metadata": {},
     "output_type": "execute_result"
    }
   ],
   "source": [
    "def digit_extraction(string):    \n",
    "    digits=''\n",
    "    for i in string:\n",
    "        if i.isdigit():  # This isdigit() method returns True if all the characters are digits, otherwise False. \n",
    "            digits+=i    # appending the i into digits variable\n",
    "    return digits\n",
    "string='Jasper123'\n",
    "digit_extraction(string)"
   ]
  },
  {
   "cell_type": "markdown",
   "id": "56acb8bc-a056-4f0e-95d0-9c1d0c3e45e9",
   "metadata": {},
   "source": [
    "# Explanation: \n",
    "\n",
    "* Defining the function digit_extraction which takes one argument string.\n",
    "* Delcaring a empty string variable named digits, used to store the extracted digits.\n",
    "* Using the for loop and iterating the string passed into the function.\n",
    "* using the isdigit() method to check if the iterated string is digit. This isdigit() method returns True if all the characters are digits, otherwise False. \n",
    "* So directly using the If statement with this method, if its true, appending the iterated string into the digits variable.\n",
    "* Returning the digits variable.\n",
    "* Declaring the string variable and finallly calling the function digit_extraction with string argument passed.\n"
   ]
  },
  {
   "cell_type": "markdown",
   "id": "ad05438a-e3f7-4e5c-b459-fd44474a7bcf",
   "metadata": {},
   "source": [
    "25. Extract all alphabets from a string."
   ]
  },
  {
   "cell_type": "code",
   "execution_count": 22,
   "id": "0142c85b-e383-4714-afd7-dc2205fa01ae",
   "metadata": {},
   "outputs": [
    {
     "data": {
      "text/plain": [
       "'Jasper'"
      ]
     },
     "execution_count": 22,
     "metadata": {},
     "output_type": "execute_result"
    }
   ],
   "source": [
    "def alpha_extraction(string):    \n",
    "    letters=''\n",
    "    for i in string:\n",
    "        if i.isalpha():  # This isalpha() method returns True if all the characters are alphabet letters (a-z). \n",
    "            letters+=i    # appending the i into letters variable\n",
    "    return letters\n",
    "string='24Jasper123'\n",
    "alpha_extraction(string)"
   ]
  },
  {
   "cell_type": "markdown",
   "id": "7c9e6538-b65e-49e5-8f12-9c98653312e0",
   "metadata": {},
   "source": [
    "# Explanation: \n",
    "\n",
    "* Defining the function alpha_extraction which takes one argument string.\n",
    "* Delcaring a empty string variable named letters, used to store the extracted letters.\n",
    "* Using the for loop and iterating the string passed into the function.\n",
    "* using the isalpha() method to check if the iterated string is letter. This isalpha() method returns True if all the characters are alphabet letters (a-z).\n",
    "* So directly using the If statement with this method, if its true, appending the iterated string into the letters variable.\n",
    "* Returning the letters variable.\n",
    "* Declaring the string variable and finallly calling the function alpha_extraction with string argument passed.\n"
   ]
  },
  {
   "cell_type": "markdown",
   "id": "686cb4b1-e556-4a26-ab4b-464546c1a604",
   "metadata": {},
   "source": [
    "26. Count the number of uppercase letters in a string."
   ]
  },
  {
   "cell_type": "code",
   "execution_count": 31,
   "id": "67425e32-aea1-48a1-b0b9-240c11c7397a",
   "metadata": {},
   "outputs": [
    {
     "data": {
      "text/plain": [
       "4"
      ]
     },
     "execution_count": 31,
     "metadata": {},
     "output_type": "execute_result"
    }
   ],
   "source": [
    "def count_upper(string):    \n",
    "    count=0\n",
    "    for i in string:\n",
    "        if i.isupper():  # This isupper() method returns True if all the characters are in upper case, otherwise False. \n",
    "            count+=1    # add 1 into count variable for each if statement which gets true\n",
    "    return count\n",
    "string='JaSPeR'\n",
    "count_upper(string)"
   ]
  },
  {
   "cell_type": "markdown",
   "id": "c57641ee-c981-4f37-95e5-693a863d65dd",
   "metadata": {},
   "source": [
    "# Explanation: \n",
    "\n",
    "* Defining the function count_upper which takes one argument string.\n",
    "* Delcaring a variable named count with value 0, used to count the upper case letters.\n",
    "* Using the for loop and iterating the string passed into the function.\n",
    "* using the isupper() method to check if the iterated string is in Upper case. This isupper() method returns True if all the characters are in upper case, otherwise False.\n",
    "* So directly using the If statement with this method, if its true, adding 1 for every true statement into the variable count.\n",
    "* Returning the count variable.\n",
    "* Declaring the string variable and finallly calling the function count_upper with string argument passed.\n"
   ]
  },
  {
   "cell_type": "markdown",
   "id": "74ae3c18-16d8-4f74-a377-4d6d37328045",
   "metadata": {},
   "source": [
    "27. Count the number of lowercase letters in a string."
   ]
  },
  {
   "cell_type": "code",
   "execution_count": 34,
   "id": "dd162461-663e-4f8c-8d07-a6be08fd59f1",
   "metadata": {},
   "outputs": [
    {
     "data": {
      "text/plain": [
       "4"
      ]
     },
     "execution_count": 34,
     "metadata": {},
     "output_type": "execute_result"
    }
   ],
   "source": [
    "def count_lower(string):    \n",
    "    count=0\n",
    "    for i in string:\n",
    "        if i.islower():  # This islower() method returns True if all the characters are in lower case, otherwise False. \n",
    "            count+=1    # add 1 into count variable for each if statement which gets true\n",
    "    return count\n",
    "string='jaSpeR'\n",
    "count_lower(string)"
   ]
  },
  {
   "cell_type": "markdown",
   "id": "07c7a00e-d36a-436e-9c20-c834adb715ed",
   "metadata": {},
   "source": [
    "# Explanation: \n",
    "\n",
    "* Defining the function count_lower which takes one argument string.\n",
    "* Delcaring a variable named count with value 0, used to count the lower case letters.\n",
    "* Using the for loop and iterating the string passed into the function.\n",
    "* using the islower() method to check if the iterated string is in lower case. This islower() method returns True if all the characters are in lower case, otherwise False.\n",
    "* So directly using the If statement with this method, if its true, adding 1 for every true statement into the variable count.\n",
    "* Returning the count variable.\n",
    "* Declaring the string variable and finallly calling the function count_lower with string argument passed.\n"
   ]
  },
  {
   "cell_type": "markdown",
   "id": "d8c70be7-ef25-4037-bf77-51d2e2478d45",
   "metadata": {},
   "source": [
    "28. Swap the case of each character in a string."
   ]
  },
  {
   "cell_type": "code",
   "execution_count": 36,
   "id": "7643d377-8a94-4114-bfb9-673429a30be0",
   "metadata": {},
   "outputs": [
    {
     "data": {
      "text/plain": [
       "'JAsPEr'"
      ]
     },
     "execution_count": 36,
     "metadata": {},
     "output_type": "execute_result"
    }
   ],
   "source": [
    "def swapcase(string):    \n",
    "    swaped_string=string.swapcase()\n",
    "    return swaped_string\n",
    "string='jaSpeR'\n",
    "swapcase(string)"
   ]
  },
  {
   "cell_type": "markdown",
   "id": "2a2cc6ed-d0d9-44db-a878-e7e4baa1270a",
   "metadata": {},
   "source": [
    "# Explanation: \n",
    "\n",
    "* Defining the function swapcase which takes one argument string.\n",
    "* Using the swapcase() method, this swapcase() method converts all uppercase characters to lowercase and vice versa of the given string and returns it. Storing this result in a variable swaped_string\n",
    "* Returning the swaped_string variable.\n",
    "* Declaring the string variable and finallly calling the function swapcase with string argument passed.\n"
   ]
  },
  {
   "cell_type": "markdown",
   "id": "eeebd9e0-f531-473f-8f94-9c786cb57419",
   "metadata": {},
   "source": [
    "29. Remove a specific word from a string."
   ]
  },
  {
   "cell_type": "code",
   "execution_count": 75,
   "id": "e9eaaa1d-885f-4e75-a691-45794d4363b2",
   "metadata": {},
   "outputs": [
    {
     "data": {
      "text/plain": [
       "'Hello how is your day'"
      ]
     },
     "execution_count": 75,
     "metadata": {},
     "output_type": "execute_result"
    }
   ],
   "source": [
    "def remove_word(string, word):\n",
    "    split= string.split()\n",
    "    result=[]\n",
    "    final=' '.join([char for char in split if char != word ])\n",
    "    return final\n",
    "\n",
    "string='Hello how is your day and'\n",
    "word='and'\n",
    "remove_word(string, word)"
   ]
  },
  {
   "cell_type": "markdown",
   "id": "adae132e-f89e-4dde-863a-90ad8f9e80ad",
   "metadata": {},
   "source": [
    "# Explanation:\n",
    "\n",
    "1. Function Definition:\n",
    "* def remove_word(string, word): defines a function named remove_word that takes two parameters: string (the input string) and word (the word to be removed).\n",
    "2. Splitting the String:\n",
    "* split = string.split() splits the input string into a list of words based on the default space delimiter. The result is stored in the split variable.\n",
    "3. List Comprehension and Joining:\n",
    "* [char for char in split if char != word] is a list comprehension that creates a new list containing words from the split list only if the word is not equal to the specified target word. ' '.join(...) then joins the filtered list of words into a string with spaces in between.\n",
    "4. Returning the Result:\n",
    "* return final returns the modified string without the specified word.\n",
    "5. Example Usage:\n",
    "* The code provides an example usage where the word 'and' is removed from the string 'Hello how is your day and'. The result is then printed."
   ]
  },
  {
   "cell_type": "markdown",
   "id": "5b96f10c-de1d-4cb4-9731-e15bcc1466fa",
   "metadata": {},
   "source": [
    "30. Check if a string is a valid email address."
   ]
  },
  {
   "cell_type": "code",
   "execution_count": 86,
   "id": "db6a8e7d-0b8a-4d99-8215-ec6886699b41",
   "metadata": {},
   "outputs": [
    {
     "name": "stdout",
     "output_type": "stream",
     "text": [
      "This is a valid email address\n"
     ]
    }
   ],
   "source": [
    "import re\n",
    "\n",
    "email='rahu.jasper7@gmail.com'\n",
    "pattern=r'[\\w\\.-]+@[\\w\\.-]+\\.\\w+$'\n",
    "\n",
    "if re.match(pattern, email):\n",
    "    print( 'This is a valid email address')\n",
    "else:\n",
    "    print( 'This is not a valid email address')\n",
    "\n"
   ]
  },
  {
   "cell_type": "markdown",
   "id": "9f02dfa9-50ee-49d9-bbb8-a2f993fb9476",
   "metadata": {},
   "source": [
    "# Explanation:\n",
    "\n",
    "* Impoting the re module ( regularization)\n",
    "* Declaring the variable email and pattern, email contains the  email to get validated, pattern contains the regular expression pattern.\n",
    "* The pattern uses the following components:\n",
    "* ^: Anchors the pattern to the start of the string.\n",
    "* [\\w\\.-]+: Matches one or more word characters (letters, digits, underscores) or dots or hyphens, which are valid characters in the username part of the email.\n",
    "* @: Matches the \"@\" symbol.\n",
    "* [\\w\\.-]+: Matches one or more word characters (letters, digits, underscores) or dots or hyphens, which are valid characters in the domain name part of the email.\n",
    "* \\.: Escapes and matches the literal dot (.) symbol.\n",
    "* \\w+$: Matches one or more word characters (letters, digits, underscores) at the end of the string (domain suffix, like \".com\").\n",
    "* Use re.match(pattern, email) to match the email against the pattern. If the match is successful, the email is considered valid and print the valid statement, else it will print the email is not valid."
   ]
  },
  {
   "cell_type": "markdown",
   "id": "8537cffe-ff63-431d-863b-bcbb83b9c422",
   "metadata": {},
   "source": [
    "31. Extract the username from an email address string."
   ]
  },
  {
   "cell_type": "code",
   "execution_count": 88,
   "id": "13774f69-c40e-4c5d-8666-66754dd34f8f",
   "metadata": {},
   "outputs": [
    {
     "name": "stdout",
     "output_type": "stream",
     "text": [
      "jasper\n"
     ]
    }
   ],
   "source": [
    "def extract_username(email):\n",
    "    username = email.split('@')[0]  # Split the email address at \"@\" and take the first part\n",
    "    return username\n",
    "\n",
    "email = \"jasper@google.com\"\n",
    "result = extract_username(email)\n",
    "print(result)"
   ]
  },
  {
   "cell_type": "markdown",
   "id": "f0c5bd9e-d6e0-4716-966d-5e94b07ae623",
   "metadata": {},
   "source": [
    "- Define a function named extract_username that takes an email parameter.\n",
    "- Inside the function, split the email at the \"@\" symbol using the split() method. This will result in a list containing two parts: the username and the domain.\n",
    "- Use indexing [0] to access the first part of the list, which is the username.\n",
    "Return the username from the function.\n",
    "- Declaring a variable contains an example email address.\n",
    "- Call the extract_username function with the example email to see the return from function."
   ]
  },
  {
   "cell_type": "markdown",
   "id": "1c387358-3719-48d6-b7f4-aa574fae7a3f",
   "metadata": {},
   "source": [
    "32. Extract the domain name from an email address string."
   ]
  },
  {
   "cell_type": "code",
   "execution_count": 90,
   "id": "8f550fc2-4441-4c86-b077-6d91e96257cf",
   "metadata": {},
   "outputs": [
    {
     "data": {
      "text/plain": [
       "'google.com'"
      ]
     },
     "execution_count": 90,
     "metadata": {},
     "output_type": "execute_result"
    }
   ],
   "source": [
    "def extract_domain(email):\n",
    "    domain = email.split('@')[1]  # Split the email address at \"@\" and take the second part\n",
    "    return domain\n",
    "email = \"jasper@google.com\"\n",
    "extract_domain(email)"
   ]
  },
  {
   "cell_type": "markdown",
   "id": "519ac72d-b239-41ab-ae9d-5e57db110e49",
   "metadata": {},
   "source": [
    "- Define a function named extract_domain that takes an email parameter.\n",
    "- Inside the function, split the email at the \"@\" symbol using the split() method. This will result in a list containing two parts: the username and the domain.\n",
    "- Use indexing [1] to access the first part of the list, which is the domain.\n",
    "Return the domain from the function.\n",
    "- Declaring a variable contains an example email address.\n",
    "- Call the extract_domain function with the example email to see the return from function."
   ]
  },
  {
   "cell_type": "markdown",
   "id": "21c57238-b5ec-4381-be79-d02ff5c40348",
   "metadata": {},
   "source": [
    "33. Replace multiple spaces in a string with a single space."
   ]
  },
  {
   "cell_type": "code",
   "execution_count": 92,
   "id": "80bb9a70-cb67-4e27-8a52-31d7f57062e6",
   "metadata": {},
   "outputs": [
    {
     "data": {
      "text/plain": [
       "'Hello world! How are you?'"
      ]
     },
     "execution_count": 92,
     "metadata": {},
     "output_type": "execute_result"
    }
   ],
   "source": [
    "def replace_multiple_space(input_string):\n",
    "    cleaned_string = ' '.join(input_string.split())  # Split the string at spaces and then join using a single space\n",
    "    return cleaned_string\n",
    "\n",
    "input_string = \"Hello     world!   How   are   you?\"\n",
    "replace_multiple_space(input_string)"
   ]
  },
  {
   "cell_type": "markdown",
   "id": "ddbb1c1f-33e8-4799-b9c5-0f1d3d08e60b",
   "metadata": {},
   "source": [
    "- Define a function named replace_multiple_space that takes an input_string parameter.\n",
    "- Inside the function, use the split() method to split the input_string into a list of words. By default, split() splits the string on whitespace, treating consecutive spaces as a single delimiter.\n",
    "- Use the join() method to join the list of words back into a string using a single space as the separator. This effectively replaces multiple spaces with a single space.\n",
    "- Return the cleaned_string from the function."
   ]
  },
  {
   "cell_type": "markdown",
   "id": "06ebd3ba-7b26-4daf-88c5-5699576245eb",
   "metadata": {},
   "source": [
    "34. Check if a string is a valid URL."
   ]
  },
  {
   "cell_type": "code",
   "execution_count": 13,
   "id": "6af283d1-b6d5-4a9c-8e7c-0f6163d20b2d",
   "metadata": {},
   "outputs": [
    {
     "name": "stdout",
     "output_type": "stream",
     "text": [
      "https://twitter.com is a valid URL.\n"
     ]
    }
   ],
   "source": [
    "from urllib.parse import urlparse\n",
    "\n",
    "def is_valid_url(url):\n",
    "    try:\n",
    "        result = urlparse(url)\n",
    "        return all([result.scheme, result.netloc])\n",
    "    except ValueError:\n",
    "        return False\n",
    "\n",
    "url_to_check = \"https://twitter.com\"\n",
    "\n",
    "if is_valid_url(url_to_check):\n",
    "    print(f\"{url_to_check} is a valid URL.\")\n",
    "else:\n",
    "    print(f\"{url_to_check} is not a valid URL.\")\n"
   ]
  },
  {
   "cell_type": "markdown",
   "id": "f3d6eca0-f5c9-4406-8889-2dbd4ab78f9d",
   "metadata": {},
   "source": [
    "# Explanation:\n",
    "\n",
    "- Import the urlparse function from the urllib.parse module. This function allows us to parse URLs and extract their components.\n",
    "- Define a function named is_valid_url that takes a url parameter.\n",
    "Inside the function, use a try block to handle possible exceptions during URL parsing.\n",
    "- Use urlparse(url) to parse the given URL. The result is an object containing the URL's components like scheme, netloc, path, query, etc.\n",
    "- Check if both the result.scheme (URL scheme, like \"http\", \"https\", etc.) and result.netloc (network location) are present. If both are present, it's considered a valid URL.\n",
    "- If any exception occurs during parsing (indicating that the URL is not correctly formatted), the except ValueError block will catch it and return False.\n",
    "- Call the is_valid_url function with the example URL to see whether each URL is considered valid or not."
   ]
  },
  {
   "cell_type": "markdown",
   "id": "2fc695fc-a937-4e66-add0-f5e3fdc7ef6c",
   "metadata": {},
   "source": [
    "35. Extract the protocol (http or https) from a URL string."
   ]
  },
  {
   "cell_type": "code",
   "execution_count": 47,
   "id": "9f25efd1-d2d3-4dc6-a1c7-ffea75e515fa",
   "metadata": {},
   "outputs": [
    {
     "data": {
      "text/plain": [
       "'https'"
      ]
     },
     "execution_count": 47,
     "metadata": {},
     "output_type": "execute_result"
    }
   ],
   "source": [
    "from urllib.parse import urlparse\n",
    "\n",
    "def extract_protocol(url):\n",
    "    try:\n",
    "        result = urlparse(url)\n",
    "        if result.scheme != '':\n",
    "            return result.scheme\n",
    "    except ValueError:\n",
    "        return False\n",
    "    \n",
    "url_to_check = \"https://example.com\"\n",
    "\n",
    "extract_protocol(url_to_check)\n",
    "    "
   ]
  },
  {
   "cell_type": "markdown",
   "id": "95e9ebbf-b43c-43f6-9598-49152686d4ed",
   "metadata": {},
   "source": [
    "# Explanation:\n",
    "\n",
    "- Import the urlparse function from the urllib.parse module. This function allows us to parse URLs and extract their components.\n",
    "- Define a function named extract_protocol that takes a url parameter.\n",
    "Inside the function, use a try block to handle possible exceptions during URL parsing.\n",
    "- Use urlparse(url) to parse the given URL. The result is an object containing the URL's components like scheme, netloc, path, query, etc.\n",
    "- Check if result.scheme (URL scheme, like \"http\", \"https\", etc.) present and if it is not empty i want it to return the result.scheme.\n",
    "- If any exception occurs during parsing (indicating that the URL is not correctly formatted) the except ValueError block will catch it and return the print statement.\n",
    "- Call the extract_protocol function with the example URL to find the protocol"
   ]
  },
  {
   "cell_type": "markdown",
   "id": "d47f2699-825f-450c-8b6b-25c446dbac49",
   "metadata": {},
   "source": [
    "36. Find the frequency of each character in a string."
   ]
  },
  {
   "cell_type": "code",
   "execution_count": 69,
   "id": "562b4857-db15-4c28-a588-ef355f018ef7",
   "metadata": {},
   "outputs": [
    {
     "data": {
      "text/html": [
       "<div>\n",
       "<style scoped>\n",
       "    .dataframe tbody tr th:only-of-type {\n",
       "        vertical-align: middle;\n",
       "    }\n",
       "\n",
       "    .dataframe tbody tr th {\n",
       "        vertical-align: top;\n",
       "    }\n",
       "\n",
       "    .dataframe thead th {\n",
       "        text-align: right;\n",
       "    }\n",
       "</style>\n",
       "<table border=\"1\" class=\"dataframe\">\n",
       "  <thead>\n",
       "    <tr style=\"text-align: right;\">\n",
       "      <th></th>\n",
       "      <th>Characters</th>\n",
       "      <th>Frequency</th>\n",
       "    </tr>\n",
       "  </thead>\n",
       "  <tbody>\n",
       "    <tr>\n",
       "      <th>0</th>\n",
       "      <td>F</td>\n",
       "      <td>1</td>\n",
       "    </tr>\n",
       "    <tr>\n",
       "      <th>1</th>\n",
       "      <td>o</td>\n",
       "      <td>1</td>\n",
       "    </tr>\n",
       "    <tr>\n",
       "      <th>2</th>\n",
       "      <td>r</td>\n",
       "      <td>2</td>\n",
       "    </tr>\n",
       "    <tr>\n",
       "      <th>3</th>\n",
       "      <td>e</td>\n",
       "      <td>2</td>\n",
       "    </tr>\n",
       "    <tr>\n",
       "      <th>4</th>\n",
       "      <td>v</td>\n",
       "      <td>1</td>\n",
       "    </tr>\n",
       "  </tbody>\n",
       "</table>\n",
       "</div>"
      ],
      "text/plain": [
       "  Characters  Frequency\n",
       "0          F          1\n",
       "1          o          1\n",
       "2          r          2\n",
       "3          e          2\n",
       "4          v          1"
      ]
     },
     "execution_count": 69,
     "metadata": {},
     "output_type": "execute_result"
    }
   ],
   "source": [
    "import pandas as pd\n",
    "def char_frequency(string):\n",
    "    frequency = {}  # Create an empty dictionary to store character frequencies\n",
    "    for char in string:\n",
    "        if char in frequency:\n",
    "            frequency[char] += 1  # Increment the frequency count if the character is already in the dictionary\n",
    "        else:\n",
    "            frequency[char] = 1   # Initialize the frequency count to 1 if the character is not in the dictionary\n",
    "    return pd.DataFrame(frequency.items(), columns=['Characters', \"Frequency\"])\n",
    "string = \"Forever\"\n",
    "\n",
    "char_frequency(string)\n"
   ]
  },
  {
   "cell_type": "markdown",
   "id": "19b22ef5-ccf4-4925-9d32-ebc9d0610b6c",
   "metadata": {},
   "source": [
    "# Explanation: \n",
    "\n",
    "- Importing the pandas library to show the final result in a table format.\n",
    "- We define a function char_frequency(string) that takes a string as input.\n",
    "- Inside the function, we create an empty dictionary named frequency to store the frequency of each character.\n",
    "- We iterate through each character in the string.\n",
    "- For each character, we check if it is already present in the frequency dictionary using the in operator.\n",
    "  - If the character is already in the dictionary, we increment its corresponding frequency count by 1.\n",
    "  - If the character is not in the dictionary, we initialize its frequency count to 1.\n",
    "- After iterating through all characters in the input string, we pass the items in frequency into the pandas DataFrame method to return it as in easy readable format."
   ]
  },
  {
   "cell_type": "markdown",
   "id": "e426679d-b388-47fa-8e07-7c815eea8f92",
   "metadata": {},
   "source": [
    "37. Remove all punctuation from a string."
   ]
  },
  {
   "cell_type": "code",
   "execution_count": 103,
   "id": "2a6c9040-167a-49ea-844a-4cf396108b06",
   "metadata": {},
   "outputs": [
    {
     "name": "stdout",
     "output_type": "stream",
     "text": [
      "Hello  world  How is it going \n"
     ]
    }
   ],
   "source": [
    "string =  \"Hello, world! How is it going?\"\n",
    "result=''\n",
    "for i in string:\n",
    "    if i.isalnum():\n",
    "        result+=i\n",
    "    else:\n",
    "        result+=\" \"\n",
    "    \n",
    "print(result)"
   ]
  },
  {
   "cell_type": "markdown",
   "id": "0d5da59e-5936-4b49-8478-2760433f0c6d",
   "metadata": {},
   "source": [
    "# Explanation: \n",
    "\n",
    "* Declaring a variable string with a example string word.\n",
    "* Declaring a variable with empty string value named result.\n",
    "* Looping the string and iterates through i, using if statement, and the .isalnum() which used to check whether the specific string is alpha or numeric if its true, that specific letter will add into the result variable .\n",
    "* Else if the letter is not alpha numeric eg, if its any puncutaction we are adding a empty space in the result variable.\n",
    "* Printing the result variable"
   ]
  },
  {
   "cell_type": "markdown",
   "id": "ab477964-1359-4f0d-9833-ae78e47d3b93",
   "metadata": {},
   "source": [
    "38. Check if a string contains only digits."
   ]
  },
  {
   "cell_type": "code",
   "execution_count": 109,
   "id": "decaa894-75b2-4344-8fa6-afc4703d699b",
   "metadata": {},
   "outputs": [
    {
     "data": {
      "text/plain": [
       "'345123 contains only digits'"
      ]
     },
     "execution_count": 109,
     "metadata": {},
     "output_type": "execute_result"
    }
   ],
   "source": [
    "def str_digit(string):\n",
    "    if string.isdigit():  # This isdigit() method returns True if all the characters are digits. \n",
    "        return f'{string} contains only digits'\n",
    "    else:\n",
    "        return f'{string} not contains only digits'\n",
    "string='345123'\n",
    "str_digit(string)"
   ]
  },
  {
   "cell_type": "markdown",
   "id": "09e793fa-5d67-470e-b0f6-0fa4a1abba56",
   "metadata": {},
   "source": [
    "# Explanation: \n",
    "\n",
    "* Defining the function str_digit which takes one argument string.\n",
    "* using the  isdigit() method to check if string is numeric value. This isdigit() method returns True if all the characters are digits.\n",
    "* So directly using the If statement with this method, if its true, returning the string contains digits using fstring, else returning the string and methioning not only digits.\n",
    "* Declaring the string variable and finally calling the function str_digit with string argument passed.\n"
   ]
  },
  {
   "cell_type": "markdown",
   "id": "7b94e902-addf-4764-8265-69b44ab6e107",
   "metadata": {},
   "source": [
    "39. Check if a string contains only alphabets."
   ]
  },
  {
   "cell_type": "code",
   "execution_count": 116,
   "id": "786f2295-c5bd-463a-af96-e93d42775dda",
   "metadata": {},
   "outputs": [
    {
     "data": {
      "text/plain": [
       "'Jasper contains only alphabets'"
      ]
     },
     "execution_count": 116,
     "metadata": {},
     "output_type": "execute_result"
    }
   ],
   "source": [
    "def str_alpha(string):\n",
    "    if string.isalpha():  # This isalpha() method returns True if all the characters are alphabets. \n",
    "        return f'{string} contains only alphabets'\n",
    "    else:\n",
    "        return f'{string} not contains only alphabets'\n",
    "string='Jasper'\n",
    "str_alpha(string)"
   ]
  },
  {
   "cell_type": "markdown",
   "id": "1d863fcf-ab2a-4bad-bb39-bc9dc9dd880d",
   "metadata": {},
   "source": [
    "# Explanation: \n",
    "\n",
    "* Defining the function str_alpha which takes one argument string.\n",
    "* using the  isalpha() method to check if string contains only alphabets. This isdigit() method returns True if all the characters are alphabets.\n",
    "* So directly using the If statement with this method, if its true, returning that the string contains only alphabets using fstring, else returning the string and mentioning not only alphabets.\n",
    "* Declaring the string variable and finally calling the function str_alpha with string argument passed.\n"
   ]
  },
  {
   "cell_type": "markdown",
   "id": "58b3ebf9-99e5-4f24-beeb-ab8de5903fd9",
   "metadata": {},
   "source": [
    "40. Convert a string to a list of characters."
   ]
  },
  {
   "cell_type": "code",
   "execution_count": 1,
   "id": "6a2435e5-cd7a-49dd-8e5e-8744c1cea050",
   "metadata": {},
   "outputs": [
    {
     "name": "stdout",
     "output_type": "stream",
     "text": [
      "['H', 'e', 'l', 'l', 'o', ',', ' ', 'W', 'o', 'r', 'l', 'd', '!']\n"
     ]
    }
   ],
   "source": [
    "input_string = \"Hello, World!\"\n",
    "char_list = list(input_string)  # Converting the string to a list of characters\n",
    "print(char_list)"
   ]
  },
  {
   "cell_type": "markdown",
   "id": "2e81e624-61be-4a01-af3c-b5ca8564d36d",
   "metadata": {},
   "source": [
    "# Explanation: \n",
    "\n",
    "* Declaring a variable with string value\n",
    "* using the list() to convert the input string into list of characters and store it in the char_list variable\n",
    "* Printing the char_list variable"
   ]
  },
  {
   "cell_type": "markdown",
   "id": "56f0f39d-d708-4717-9edd-061558a137cf",
   "metadata": {},
   "source": [
    "41. Check if two strings are anagrams."
   ]
  },
  {
   "cell_type": "code",
   "execution_count": 4,
   "id": "26e6c476-0c5a-4eb5-9230-6fb737bf3716",
   "metadata": {},
   "outputs": [
    {
     "data": {
      "text/plain": [
       "\"listen' and 'silent' are anagrams\""
      ]
     },
     "execution_count": 4,
     "metadata": {},
     "output_type": "execute_result"
    }
   ],
   "source": [
    "def are_anagrams(str1, str2):\n",
    "    str1 = str1.replace(\" \", \"\").lower()\n",
    "    str2 = str2.replace(\" \", \"\").lower() # Remove spaces and convert strings to lowercase for accurate comparison\n",
    "    if sorted(str1) == sorted(str2):\n",
    "        return f\"{str1}' and '{str2}' are anagrams\"\n",
    "    else: \n",
    "        return f\"{str1}' and '{str2}' are not anagrams\"\n",
    "\n",
    "str1='listen'\n",
    "str2='silent'\n",
    "are_anagrams(str1, str2)"
   ]
  },
  {
   "cell_type": "markdown",
   "id": "786e635d-d21c-4709-bcdc-c2aabcca5607",
   "metadata": {},
   "source": [
    "# Explanation:\n",
    "\n",
    "1. Function Definition:\n",
    "def are_anagrams(str1, str2): defines a function named are_anagrams that takes two strings (str1 and str2) as parameters.\n",
    "2. Remove Spaces and Convert to Lowercase:\n",
    "str1 = str1.replace(\" \", \"\").lower(): Removes spaces and converts all characters in str1 to lowercase.\n",
    "str2 = str2.replace(\" \", \"\").lower(): Similarly, removes spaces and converts all characters in str2 to lowercase.\n",
    "This step ensures that spaces and case differences do not affect the anagram comparison.\n",
    "3. Check for Anagrams:\n",
    "if sorted(str1) == sorted(str2):: Checks if the sorted list of characters in str1 is equal to the sorted list of characters in str2.\n",
    "If the sorted character lists are the same, it means that the two strings are anagrams.\n",
    "4. Return Result:\n",
    "return f\"{str1}' and '{str2}' are anagrams\": If the strings are anagrams, return a message indicating that they are anagrams.\n",
    "else: return f\"{str1}' and '{str2}' are not anagrams\": If the strings are not anagrams, return a message indicating that they are not.\n",
    "* Example Usage:\n",
    "str1 = 'listen' and str2 = 'silent' are example strings provided.\n",
    "The are_anagrams function is then called with these example strings."
   ]
  },
  {
   "cell_type": "markdown",
   "id": "1b8e2f86-2553-423b-b018-646974dd8695",
   "metadata": {},
   "source": [
    "42. Encode a string using a Caesar cipher."
   ]
  },
  {
   "cell_type": "code",
   "execution_count": 59,
   "id": "3fcbc838-a6dc-474f-ad0a-99c0501a7cd3",
   "metadata": {},
   "outputs": [
    {
     "data": {
      "text/plain": [
       "'jgnnq k yknn ecnn aqw da vqoqttqy 12ro'"
      ]
     },
     "execution_count": 59,
     "metadata": {},
     "output_type": "execute_result"
    }
   ],
   "source": [
    "string= 'Hello I will call you by tomorrow 12pm'\n",
    "shift= 2\n",
    "def ceasar_cipher(string, shift):\n",
    "    string=string.lower()\n",
    "    result =''\n",
    "    for i in string:\n",
    "        if i.isalpha():\n",
    "            ceasar_code= chr((ord(i)+shift-ord('a'))% 26 + ord('a'))\n",
    "            result+=ceasar_code\n",
    "        else:\n",
    "            result+=i\n",
    "    return result\n",
    "ceasar_cipher(string, shift)"
   ]
  },
  {
   "cell_type": "markdown",
   "id": "33eb19dc-e331-4351-a752-d2482ae836ae",
   "metadata": {},
   "source": [
    "Explanation:\n",
    "\n",
    "1. Input Variables:\n",
    "string = 'hello i will call you by tomorrow 12pm': The original string that you want to encrypt using the Caesar cipher.\n",
    "shift = 2: The shift value for the Caesar cipher. Each letter in the original string will be shifted by this amount.\n",
    "2. Function Definition:\n",
    "def ceasar_cipher(string, shift):: Defines a function named ceasar_cipher that takes two parameters - string (the input string to be encrypted) and shift (the shift value for the Caesar cipher). converting all the string into lower method using lower.\n",
    "3. Result Initialization:\n",
    "result = '': Initializes an empty string (result) where the encrypted characters will be stored.\n",
    "4. Iteration through Each Character:\n",
    "for i in string:: Iterates through each character in the input string.\n",
    "5. Check if Character is an Alphabetical Letter:\n",
    "if i.isalpha():: Checks if the current character i is an alphabetical letter. else: If the character is not an alphabetical letter, it is appended to the result without modification.\n",
    "6. Caesar Cipher Encryption:\n",
    "ceasar_code = chr((ord(i) + shift - ord('a')) % 26 + ord('a')): Calculates the Caesar cipher code for the current letter:\n",
    "ord(i): Gets the ASCII code of the current letter.\n",
    "(ord(i) + shift - ord('a')): Calculates the new position of the letter after the shift.\n",
    "% 26: Handles wrapping around the alphabet (assuming a 26-letter alphabet).\n",
    "+ ord('a'): Adjusts the result to the ASCII code of the letter 'a'.\n",
    "chr(...): Converts the final ASCII code back to a character.\n",
    "result += ceasar_code: Appends the encrypted letter to the result string.\n",
    "7. Return Result:\n",
    "return result: Returns the final encrypted string.\n",
    "* Example Usage:\n",
    "ceasar_cipher(string, shift): Calls the ceasar_cipher function with the provided string and shift value."
   ]
  },
  {
   "cell_type": "markdown",
   "id": "a8fdb4b1-6e11-4b1f-93ae-887312a456b9",
   "metadata": {},
   "source": [
    "43. Decode a Caesar cipher encoded string."
   ]
  },
  {
   "cell_type": "code",
   "execution_count": 61,
   "id": "40b1988e-c8c3-466b-97fa-463b324bd460",
   "metadata": {},
   "outputs": [
    {
     "data": {
      "text/plain": [
       "'hello i will call you by tomorrow 12pm'"
      ]
     },
     "execution_count": 61,
     "metadata": {},
     "output_type": "execute_result"
    }
   ],
   "source": [
    "string= 'jgnnq K yknn ecnn aqw da vqoqttqy 12ro'\n",
    "shift= 2\n",
    "def ceasar_cipher_decode(string, shift):\n",
    "    string=string.lower()\n",
    "    result =''\n",
    "    for i in string:\n",
    "        if i.isalpha():\n",
    "            ceasar_code= chr((ord(i)-shift-ord('a'))% 26 + ord('a'))\n",
    "            result+=ceasar_code\n",
    "        else:\n",
    "            result+=i\n",
    "    return result\n",
    "ceasar_cipher_decode(string, shift)"
   ]
  },
  {
   "cell_type": "markdown",
   "id": "4ddde402-6c49-4c73-992c-f1e487750ec6",
   "metadata": {},
   "source": [
    "Explanation:\n",
    "\n",
    "1. Input Variables:\n",
    "string = 'jgnnq k yknn ecnn aqw da vqoqttqy 12ro': The original string that you want to encrypt using the Caesar cipher.\n",
    "shift = 2: The shift value for the Caesar cipher. Each letter in the original string will be shifted by this amount.\n",
    "2. Function Definition:\n",
    "def ceasar_cipher(string, shift):: Defines a function named ceasar_cipher that takes two parameters - string (the input string to be encrypted) and shift (the shift value for the Caesar cipher). Converting all the string into lower method using lower.\n",
    "3. Result Initialization:\n",
    "result = '': Initializes an empty string (result) where the encrypted characters will be stored.\n",
    "4. Iteration through Each Character:\n",
    "for i in string:: Iterates through each character in the input string.\n",
    "5. Check if Character is an Alphabetical Letter:\n",
    "if i.isalpha():: Checks if the current character i is an alphabetical letter. else: If the character is not an alphabetical letter, it is appended to the result without modification.\n",
    "6. Caesar Cipher Encryption:\n",
    "ceasar_code = chr((ord(i) - shift - ord('a')) % 26 + ord('a')): Calculates the Caesar cipher code for the current letter:\n",
    "ord(i): Gets the ASCII code of the current letter.\n",
    "(ord(i) + shift - ord('a')): Calculates the new position of the letter after the shift.\n",
    "% 26: Handles wrapping around the alphabet (assuming a 26-letter alphabet).\n",
    "+ ord('a'): Adjusts the result to the ASCII code of the letter 'a'.\n",
    "chr(...): Converts the final ASCII code back to a character.\n",
    "result += ceasar_code: Appends the encrypted letter to the result string.\n",
    "7. Return Result:\n",
    "return result: Returns the final encrypted string.\n",
    "* Example Usage:\n",
    "ceasar_cipher(string, shift): Calls the ceasar_cipher function with the provided string and shift value."
   ]
  },
  {
   "cell_type": "markdown",
   "id": "4447c813-86a0-42f7-a078-c11223da55b3",
   "metadata": {},
   "source": [
    "44. Find the most frequent word in a string."
   ]
  },
  {
   "cell_type": "code",
   "execution_count": 139,
   "id": "678bae9e-03ad-4c62-8bfa-3b1e5c7b422d",
   "metadata": {},
   "outputs": [
    {
     "data": {
      "text/plain": [
       "\"The most frequent word is 'how' and repeated 3 times.\""
      ]
     },
     "execution_count": 139,
     "metadata": {},
     "output_type": "execute_result"
    }
   ],
   "source": [
    "import re\n",
    "def most_frequent(string):\n",
    "    clean_string = re.sub(r'[^\\w\\s]', '', string).lower()\n",
    "    split= clean_string.split()\n",
    "    frequent= {}\n",
    "    for i in split:\n",
    "        if i in frequent:\n",
    "            frequent[i]+=1\n",
    "        else:\n",
    "            frequent[i] =1\n",
    "    most_frequent = max(frequent, key=frequent.get)\n",
    "    frequency = frequent[most_frequent]\n",
    "    return f\"The most frequent word is '{most_frequent}' and repeated {frequency} times.\"\n",
    "string= 'Hello! how are you, how is your how, day?'\n",
    "most_frequent(string)"
   ]
  },
  {
   "cell_type": "markdown",
   "id": "5897485e-1bd2-4f12-906c-cd7cf50a3631",
   "metadata": {},
   "source": [
    "Explanation:\n",
    "\n",
    "1. Import re Module:\n",
    "import re: Imports the regular expression module for text processing.\n",
    "2. Function Definition:\n",
    "def most_frequent(string):: Defines a function named most_frequent that takes a string as input.\n",
    "3. Text Cleaning:\n",
    "clean_string = re.sub(r'[^\\w\\s]', '', string).lower(): Removes non-word and non-whitespace characters using re.sub(). The result is then converted to lowercase using .lower().\n",
    "4. Split the Cleaned String:\n",
    "split = clean_string.split(): Splits the cleaned string into a list of words using split().\n",
    "5. Count Word Frequencies:\n",
    "frequent = {}: Initializes an empty dictionary to store word frequencies.\n",
    "for i in split:: Iterates through the list of words.\n",
    "If the word is already in the dictionary, its frequency is incremented.\n",
    "If the word is not in the dictionary, a new entry is created with a frequency of 1.\n",
    "6. Find Most Frequent Word:\n",
    "most_frequent = max(frequent, key=frequent.get): Finds the key (word) with the maximum value (frequency) in the dictionary.\n",
    "frequency = frequent[most_frequent]: Retrieves the frequency of the most frequent word.\n",
    "7. Return Result:\n",
    "return f\"The most frequent word is '{most_frequent}' and repeated {frequency} times.\": Returns a formatted string indicating the most frequent word and its frequency.\n",
    "* Example Usage:\n",
    "string = 'Hello! how are you, how is your how, day?': An example string is provided.\n",
    "most_frequent(string): The function is called with the example string."
   ]
  },
  {
   "cell_type": "markdown",
   "id": "41beeebd-4b7d-4eca-bc79-ea093480e6e5",
   "metadata": {},
   "source": [
    "45. Find all unique words in a string."
   ]
  },
  {
   "cell_type": "code",
   "execution_count": 2,
   "id": "1725538a-88e8-49e8-99d1-31b58aded0a4",
   "metadata": {},
   "outputs": [
    {
     "data": {
      "text/plain": [
       "('Unique words:', {'hello', 'hows', 'the', 'there', 'world'})"
      ]
     },
     "execution_count": 2,
     "metadata": {},
     "output_type": "execute_result"
    }
   ],
   "source": [
    "import re\n",
    "\n",
    "def unique_words(string):\n",
    "    clean_string = re.sub(r'[^\\w\\s]', '', string).lower() # Remove punctuation and convert to lowercase\n",
    "    words = set(clean_string.split())  # Split the string into words and convert to a set for uniqueness\n",
    "    return \"Unique words:\", words\n",
    "\n",
    "string = \"Hello world, hello there! How's the world?\"\n",
    "unique_words(string)"
   ]
  },
  {
   "cell_type": "markdown",
   "id": "6c18bc12-5e98-43a6-a8d2-45f24ebd5e54",
   "metadata": {},
   "source": [
    "Explanation:\n",
    "\n",
    "* Import re Module:\n",
    "import re: Imports the regular expression module for text processing.\n",
    "* Function Definition:\n",
    "def unique_words(string):: Defines a function named unique_words that takes a string as input.\n",
    "* Text Cleaning:\n",
    "clean_string = re.sub(r'[^\\w\\s]', '', string).lower(): Removes non-word and non-whitespace characters using re.sub(). The result is then converted to lowercase using .lower().\n",
    "* Split the Cleaned String into Words:\n",
    "words = set(clean_string.split()): Splits the cleaned string into words using split() and then converts the list of words into a set.\n",
    "Using a set ensures that only unique words are retained, as sets do not allow duplicate elements.\n",
    "* Return Result:\n",
    "return \"Unique words:\", words: Returns a tuple containing a label (\"Unique words:\") and the set of unique words.\n",
    "* Example Usage:\n",
    "string = \"Hello world, hello there! How's the world?\": An example string is provided.\n",
    "unique_words(string): The function is called with the example string."
   ]
  },
  {
   "cell_type": "markdown",
   "id": "bde74398-1bef-49e3-8d0f-e872d963deb2",
   "metadata": {},
   "source": [
    "46. Count the number of syllables in a string."
   ]
  },
  {
   "cell_type": "code",
   "execution_count": 8,
   "id": "1dfa7145-a264-4571-a3ac-524e57ad26f4",
   "metadata": {},
   "outputs": [
    {
     "data": {
      "text/plain": [
       "\"No of Syllables present in 'Hello world 43' is 3\""
      ]
     },
     "execution_count": 8,
     "metadata": {},
     "output_type": "execute_result"
    }
   ],
   "source": [
    "import re\n",
    "\n",
    "def count_syllables(word):\n",
    "    \n",
    "    vowel_groups = re.findall(r'[aeiouy]+', word, re.IGNORECASE) # Count vowel groups using regular expression\n",
    "    return f\"No of Syllables present in '{word}' is {len(vowel_groups)}\"\n",
    "\n",
    "word= 'Hello world 43'\n",
    "count_syllables(word)"
   ]
  },
  {
   "cell_type": "markdown",
   "id": "ee1966f3-01b8-4e8e-b5cf-bec590c057fd",
   "metadata": {},
   "source": [
    "Explanation:\n",
    "\n",
    "* Import re Module:\n",
    "import re: Imports the regular expression module for text processing.\n",
    "* Function Definition:\n",
    "def count_syllables(word):: Defines a function named count_syllables that takes a word as input.\n",
    "* Count Vowel Groups:\n",
    "vowel_groups = re.findall(r'[aeiouy]+', word, re.IGNORECASE): Uses re.findall() to find all occurrences of sequences of vowels or vowel-like sounds in the word. The regular expression [aeiouy]+ matches one or more consecutive vowels (case-insensitive).\n",
    "re.IGNORECASE: This flag makes the pattern matching case-insensitive, allowing it to match both uppercase and lowercase vowels.\n",
    "* Return Result:\n",
    "return f\"No of Syllables present in '{word}' is {len(vowel_groups)}\": Returns a formatted string indicating the number of syllables found in the word. The length of the vowel_groups list gives the count of syllables.\n",
    "* Example Usage:\n",
    "word = 'Hello world 43': An example word is provided. Note that the function may not accurately handle numbers, as it is primarily designed for words.\n",
    "count_syllables(word): The function is called with the example word."
   ]
  },
  {
   "cell_type": "markdown",
   "id": "e5db92f9-aa76-4cfa-8dfd-df15bf634e0b",
   "metadata": {},
   "source": [
    "47. Check if a string contains any special characters."
   ]
  },
  {
   "cell_type": "code",
   "execution_count": 9,
   "id": "2ff48183-9ec0-4dfd-97b7-5c40b69efe36",
   "metadata": {},
   "outputs": [
    {
     "name": "stdout",
     "output_type": "stream",
     "text": [
      "'Hello3#%' contains special Characters.\n"
     ]
    }
   ],
   "source": [
    "def spl_characters(string):\n",
    "    if string.isalnum() == 0:\n",
    "        return f\"'{string}' contains special Characters.\"\n",
    "    else:\n",
    "        return f\"'{string}' does not contains special Characters.\"\n",
    "string = 'Hello3#%'            \n",
    "print(spl_characters(string))"
   ]
  },
  {
   "cell_type": "markdown",
   "id": "fb09652a-dd29-4f43-a9bd-1b9090c6a47d",
   "metadata": {},
   "source": [
    "Explanation:\n",
    "\n",
    "* Function Definition:\n",
    "def spl_characters(string):: Defines a function named spl_characters that takes a string as input.\n",
    "* Check for Special Characters:\n",
    "if string.isalnum() == 0:: Checks if the string contains alphanumeric characters only. The method isalnum() returns True if all characters in the string are alphanumeric (letters or numbers), and False otherwise.\n",
    "return f\"'{string}' contains special characters.\": If the string does not contain only alphanumeric characters (i.e., if isalnum() returns False), this branch is executed, and a message is returned indicating that the string contains special characters.\n",
    "* No Special Characters Case:\n",
    "else:: If the string contains only alphanumeric characters (i.e., if isalnum() returns True), this branch is executed.\n",
    "return f\"'{string}' does not contain special characters.\": In this case, a message is returned indicating that the string does not contain special characters.\n",
    "* Example Usage:\n",
    "string = 'Hello3#%': An example string is provided with a mix of alphanumeric and special characters.\n",
    "print(spl_characters(string)): The function is called with the example string, and the result is printed."
   ]
  },
  {
   "cell_type": "markdown",
   "id": "b0751ed3-f01f-4afd-a531-af7a07dae6e6",
   "metadata": {},
   "source": [
    "48. Remove the nth word from a string."
   ]
  },
  {
   "cell_type": "code",
   "execution_count": 140,
   "id": "cc987387-b6a6-4c5d-a520-a2da38ee1e5c",
   "metadata": {},
   "outputs": [
    {
     "name": "stdout",
     "output_type": "stream",
     "text": [
      "original word: Hello Arjun How are you\n",
      "Modified word : Hello Arjun How you\n",
      "Removed word :  are\n",
      "        \n"
     ]
    }
   ],
   "source": [
    "def remove_string(string, n):\n",
    "    split= string.split()  # Split into words\n",
    "    if 0 <= n <= len(split)-1: # Check if n is within the valid range (0 <= n <= len(split)-1)\n",
    "        removed= split.pop(n) # using pop method \n",
    "        final_word= ' '.join(split)  # using the join method to join the remaining words\n",
    "        return f'''original word: {string}\n",
    "Modified word : {final_word}\n",
    "Removed word :  {removed}\n",
    "        '''\n",
    "    else:\n",
    "        return 'Try within the range of index'\n",
    "string= 'Hello Arjun How are you'\n",
    "print(remove_string(string  , 3))"
   ]
  },
  {
   "cell_type": "markdown",
   "id": "2c0d3907-ba2c-485d-a832-694eb62861f5",
   "metadata": {},
   "source": [
    "Explanation:\n",
    "\n",
    "* Function Definition:\n",
    "def remove_string(string, n):: Defines a function named remove_string that takes a string (string) and an index (n) as input.\n",
    "* Split the String:\n",
    "split = string.split(): Splits the input string into a list of words using the split() method.\n",
    "* Check for Valid Index:\n",
    "if 0 <= n <= len(split)-1:: Checks if the index n is within the valid range (0 to the length of the split words - 1).\n",
    "* Remove Word at Specified Index:\n",
    "removed = split.pop(n): Uses the pop() method to remove the word at the specified index (n) from the list split. The removed word is stored in the variable \n",
    "* Join Remaining Words:\n",
    "final_word = ' '.join(split): Uses the join() method to join the remaining words in the list split into a single string. This represents the modified word.\n",
    "* Return Formatted String:\n",
    "The function returns a formatted string using an f-string that includes the original word, modified word, and removed word.\n",
    "* Invalid Index Case:\n",
    "else:: If the index is not within the valid range, the function returns a message indicating that the user should try within the valid index range.\n",
    "* Example Usage:\n",
    "string = 'Hello Arjun How are you': An example string is provided.\n",
    "print(remove_string(string, 1)): The function is called with the example string and index.\n"
   ]
  },
  {
   "cell_type": "markdown",
   "id": "9e067852-2cb0-4a1a-b011-85d62a567b2a",
   "metadata": {},
   "source": [
    "49. Insert a word at the nth position in a string."
   ]
  },
  {
   "cell_type": "code",
   "execution_count": 146,
   "id": "9557ca2a-7540-49ec-8129-8d4ec1587272",
   "metadata": {},
   "outputs": [
    {
     "name": "stdout",
     "output_type": "stream",
     "text": [
      "original word: Hello Arjun How are you\n",
      "Modified word : Hello Arjun bhai How are you\n",
      "Added word :  bhai\n",
      "        \n"
     ]
    }
   ],
   "source": [
    "def insert_word(string, n, word):\n",
    "    split= string.split()  # Split into words\n",
    "    if 0 <= n <= len(split):  #setting the condition n should be greater than or equal 0 and lesser or equals to length of words splitted\n",
    "        split.insert(n , word )\n",
    "        final_word= ' '.join(split)  # using the join method to join the remaining words\n",
    "    else:\n",
    "        return 'Try within the range of index'\n",
    "    return f'''original word: {string}\n",
    "Modified word : {final_word}\n",
    "Added word :  {word}\n",
    "        '''\n",
    "string= 'Hello Arjun How are you'\n",
    "print(insert_word(string  , 2, 'bhai'))"
   ]
  },
  {
   "cell_type": "markdown",
   "id": "36113b87-7179-4b94-82e9-fe5d399522c2",
   "metadata": {},
   "source": [
    "Explanation:\n",
    "\n",
    "* Function Definition:\n",
    "def insert_word(string, n, word):: Defines a function named insert_word that takes a string (string), an index (n), and a word (word) as input.\n",
    "* Split the String:\n",
    "split = string.split(): Splits the input string into a list of words using the split() method.\n",
    "* Check for Valid Range:\n",
    "if 0 <= n <= len(split):: Checks if the index n is within the valid range (0 to the length of the split words).\n",
    "* Insert the Word and Join:\n",
    "split.insert(n, word): Inserts the word at the specified index (n) in the list split.\n",
    "final_word = ' '.join(split): Joins the remaining words to form a modified string.\n",
    "* Return Result or Error Message:\n",
    "Returns the formatted string with the original, modified, and added words if n is within a valid range.\n",
    "Returns an error message if n is not within a valid range.\n",
    "* Example Usage:\n",
    "string = 'Hello Arjun How are you': An example string is provided.\n",
    "print(insert_word(string, 2, 'bhai')): The function is called with the example string, index (2), and the word to insert ('bhai')."
   ]
  },
  {
   "cell_type": "markdown",
   "id": "28d99394-9cf5-4eaa-95db-f92aaef27ac8",
   "metadata": {},
   "source": [
    "50. Convert a CSV string to a list of lists."
   ]
  },
  {
   "cell_type": "code",
   "execution_count": 2,
   "id": "a64698a1-8213-4ace-8d06-86e2baaa3bc6",
   "metadata": {},
   "outputs": [
    {
     "name": "stdout",
     "output_type": "stream",
     "text": [
      "['Product', ' Price', ' Quantity']\n",
      "['Apple', ' 1.00', ' 10']\n",
      "['Banana', ' 0.75', ' 15']\n",
      "['Orange', ' 1.25', ' 8']\n"
     ]
    }
   ],
   "source": [
    "def csv_str(csv_string):\n",
    "    split= csv_string.split('\\n')\n",
    "    result=[]\n",
    "    for i in split:\n",
    "        list_=i.split(',')\n",
    "        result.append(list_)\n",
    "    return result\n",
    "\n",
    "csv_string = \"Product, Price, Quantity\\nApple, 1.00, 10\\nBanana, 0.75, 15\\nOrange, 1.25, 8\"\n",
    "list_=csv_str(csv_string)\n",
    "for row in list_:\n",
    "    print( row )"
   ]
  },
  {
   "cell_type": "markdown",
   "id": "5ed259df-3687-41af-acb3-54a852aeb0b4",
   "metadata": {},
   "source": [
    "Explanation:\n",
    "\n",
    "1. Function Definition: The `csv_str` function is declared to take a CSV string as input.\n",
    "2. Splitting Lines: The CSV string is split into a list of strings using the newline character (`'\\n'`), resulting in a list where each element represents a line in the CSV.\n",
    "3. Result List Initialization: An empty list named `result` is initialized to store the final result.\n",
    "4. Processing Each Line:A loop iterates over each line in the CSV, represented by the variable `i`.\n",
    "5. Splitting Values: Each line (`i`) is split into a list of values using the comma (`,`) as the separator, and the resulting list is assigned to `list_`.\n",
    "6. Appending to Result List: The list of values (`list_`) for each line is appended to the `result` list. Now, `result` is a list of lists, where each inner list represents a row of values from the CSV.\n",
    "7. Returning Result: The function returns the final result, which is a list of lists representing the CSV data.\n",
    "8. CSV String Definition: A CSV string containing product information is defined, with columns for Product, Price, and Quantity.\n",
    "9. Function Call: The `csv_str` function is called with the provided CSV string, and the result is stored in the variable `list_`.\n",
    "10. Printing Result: A loop iterates through each row in the `list_`, and each row is printed, displaying the parsed information from the CSV."
   ]
  },
  {
   "cell_type": "markdown",
   "id": "2651fe10-10b5-4b7e-a163-8500efbabdd6",
   "metadata": {},
   "source": [
    "# List Based Practice Problem "
   ]
  },
  {
   "cell_type": "markdown",
   "id": "8f51d4a2-6a5b-4003-84c3-d043628de755",
   "metadata": {},
   "source": [
    "1. Create a list with integers from 1 to 10."
   ]
  },
  {
   "cell_type": "code",
   "execution_count": 9,
   "id": "293a8f9b-a533-4ecc-9a06-8c80a1a5a85f",
   "metadata": {},
   "outputs": [
    {
     "name": "stdout",
     "output_type": "stream",
     "text": [
      "[1, 2, 3, 4, 5, 6, 7, 8, 9, 10]\n"
     ]
    }
   ],
   "source": [
    "list_=[i for i in range(1,11)]\n",
    "print(list_)"
   ]
  },
  {
   "cell_type": "markdown",
   "id": "27b843ca-dc8b-465d-8ebd-c7b4d692b01a",
   "metadata": {},
   "source": [
    "- We use a list comprehension, a concise way to create lists in Python, to generate the list of integers from 1 to 10.\n",
    "- The expression [i for i in range(1, 11)] iterates over the range of numbers from 1 (inclusive) to 11 (exclusive), and for each number i, it adds i to the list.\n",
    "- The resulting list is stored in the variable list_.\n",
    "- We print the list_ using the print() statement."
   ]
  },
  {
   "cell_type": "markdown",
   "id": "9c484ad3-7b74-464c-98ab-f10185de66fe",
   "metadata": {},
   "source": [
    "2. Find the length of a list without using the `len()` function."
   ]
  },
  {
   "cell_type": "code",
   "execution_count": 13,
   "id": "7d61cbb1-32da-487c-89d2-d24c73f7b26f",
   "metadata": {},
   "outputs": [
    {
     "data": {
      "text/plain": [
       "'The length of the list is 10'"
      ]
     },
     "execution_count": 13,
     "metadata": {},
     "output_type": "execute_result"
    }
   ],
   "source": [
    "def length_list(list_):\n",
    "    length=0\n",
    "    for i in list_:\n",
    "        length+=1\n",
    "    return f\"The length of the list is {length}\"\n",
    "\n",
    "list_=[1,2,3,4,5,6,7,8,9,10]\n",
    "length_list(list_)"
   ]
  },
  {
   "cell_type": "markdown",
   "id": "c912c15d-fd4c-4201-b7ad-6b5db9c9f83a",
   "metadata": {},
   "source": [
    "# Explanation : \n",
    "\n",
    "* Function Definition:\n",
    "Defines a function named length_list that takes a single argument list_.\n",
    "* Length Variable Initialization:\n",
    "Initializes a variable length to 0. This variable will be used to count the length of the list.\n",
    "* Loop through List:\n",
    "Initiates a loop that iterates through each element (i) in the input list list_.\n",
    "* Incrementing Length:\n",
    "Increments the length variable by 1 for each element in the list, effectively counting the number of elements in the list.\n",
    "* Returning Result:\n",
    "Returns a formatted string stating the length of the list."
   ]
  },
  {
   "cell_type": "markdown",
   "id": "b17b753d-10b3-4105-aa51-273230362239",
   "metadata": {},
   "source": [
    "3. Append an element to the end of a list."
   ]
  },
  {
   "cell_type": "code",
   "execution_count": 22,
   "id": "e2a5b635-65e4-4da7-a730-fdd66a83b68e",
   "metadata": {},
   "outputs": [
    {
     "name": "stdout",
     "output_type": "stream",
     "text": [
      "['Arjun', 'vijay', 'Prakash', 'Leo']\n"
     ]
    }
   ],
   "source": [
    "names=['Arjun', 'vijay','Prakash']\n",
    "names.append('Leo')  # using the append method to add new element to the list in default it append to end\n",
    "print(names)\n"
   ]
  },
  {
   "cell_type": "markdown",
   "id": "0fba18dc-9953-4487-9b6a-481c12a5a609",
   "metadata": {},
   "source": [
    "# Explanation :\n",
    "\n",
    "* Initialize a example list of names and declared the variable names\n",
    "* used the append() method to add a new element to the list at the end.\n",
    "* used print () function to print the list."
   ]
  },
  {
   "cell_type": "markdown",
   "id": "3a384969-e30b-458f-9143-77db4349fc6c",
   "metadata": {},
   "source": [
    "4. Insert an element at a specific index in a list."
   ]
  },
  {
   "cell_type": "code",
   "execution_count": 12,
   "id": "46da7602-de7a-45ba-8865-5d71a816179b",
   "metadata": {},
   "outputs": [
    {
     "data": {
      "text/plain": [
       "['Leo', 'Arjun', 'vijay', 'Prakash']"
      ]
     },
     "execution_count": 12,
     "metadata": {},
     "output_type": "execute_result"
    }
   ],
   "source": [
    "def _insert_element(string, index,insert_word):  # Creating a function with 3 parameters\n",
    "    string.insert(index, insert_word) # using insert method with takes index and value parameter\n",
    "    return string\n",
    "string=['Arjun', 'vijay','Prakash']\n",
    "insert_word= 'Leo'\n",
    "index=0\n",
    "_insert_element(string, index,insert_word)"
   ]
  },
  {
   "cell_type": "markdown",
   "id": "254019df-0bc1-4940-a337-0af5394e8d67",
   "metadata": {},
   "source": [
    "Explanation:\n",
    "\n",
    "* Function Definition:\n",
    "Defines a function named _insert_element with three parameters: string (a list), index (the position to insert), and insert_word (the element to insert).\n",
    "* Insertion Operation:\n",
    "Uses the insert method on the provided list (string) to insert the specified insert_word at the given index.\n",
    "* Return Statement:\n",
    "Returns the modified list (string) after the insertion.\n",
    "* Usage:\n",
    "Defines a list named string containing names.\n",
    "Specifies the insert_word as 'Leo' and the index as 0.\n",
    "Calls the _insert_element function with these values and stores the result in the variable result."
   ]
  },
  {
   "cell_type": "markdown",
   "id": "e13c83b7-8ed7-47f8-8949-9e9acf1b23bc",
   "metadata": {},
   "source": [
    "5. Remove an element from a list by its value."
   ]
  },
  {
   "cell_type": "code",
   "execution_count": 15,
   "id": "0ff94416-e1db-4540-b1de-1871358e5072",
   "metadata": {},
   "outputs": [
    {
     "name": "stdout",
     "output_type": "stream",
     "text": [
      "['Arjun', 'vijay', 'Prakash']\n"
     ]
    }
   ],
   "source": [
    "string=['Arjun','Leo', 'vijay','Prakash']\n",
    "remove_value= 'Leo'\n",
    "string.remove(remove_value) # using remove() method to remove a specific element, which takes the removal value\n",
    "print(string)\n",
    "\n"
   ]
  },
  {
   "cell_type": "markdown",
   "id": "4dd38418-e5ad-43f0-92aa-ca06adef5d18",
   "metadata": {},
   "source": [
    "Explanation:\n",
    "\n",
    "* List Definition:\n",
    "Initializes a list named string with elements 'Arjun', 'Leo', 'vijay', and 'Prakash'.\n",
    "* Remove Operation:\n",
    "Specifies the value to be removed as 'Leo' and uses the remove() method on the list string.\n",
    "The remove() method removes the first occurrence of the specified value from the list.\n",
    "* Printing Result:\n",
    "Prints the modified list after removing 'Leo'."
   ]
  },
  {
   "cell_type": "markdown",
   "id": "eae52108-e5a6-468a-b387-3ffbdc04d861",
   "metadata": {},
   "source": [
    "6. Remove an element from a list by its index."
   ]
  },
  {
   "cell_type": "code",
   "execution_count": 25,
   "id": "c9cb3b79-6eff-4e13-9066-0b3465cb88b0",
   "metadata": {},
   "outputs": [
    {
     "name": "stdout",
     "output_type": "stream",
     "text": [
      "Updated element = ['Arjun', 'Leo', 'Prakash']\n",
      "removed element = vijay\n",
      "\n"
     ]
    }
   ],
   "source": [
    "string=['Arjun','Leo', 'vijay','Prakash']\n",
    "removed=string.pop(2) # using pop() method to remove an element at specific index\n",
    "print(f'''Updated element = {string}\n",
    "removed element = {removed}\n",
    "''')"
   ]
  },
  {
   "cell_type": "markdown",
   "id": "eca7c882-b6fe-4b71-b4b4-1ef88f6ae620",
   "metadata": {},
   "source": [
    "Explanation:\n",
    "\n",
    "* List Definition:\n",
    "Initializes a list named string with elements 'Arjun', 'Leo', 'vijay', and 'Prakash'.\n",
    "* Pop Operation:\n",
    "Uses the pop() method on the list string with index 2.\n",
    "The pop() method removes the element at the specified index (2 in this case) and returns the removed element. In this example, the element 'vijay' at index 2 is removed, and the removed element is stored in the variable removed.\n",
    "* Printing Result:\n",
    "Prints the updated list (string) after the removal and the removed element."
   ]
  },
  {
   "cell_type": "markdown",
   "id": "bd8c447e-b889-49ee-9ced-8aaec34bb413",
   "metadata": {},
   "source": [
    "7. Check if an element exists in a list."
   ]
  },
  {
   "cell_type": "code",
   "execution_count": 27,
   "id": "07eef85f-6b1c-4cf2-a17e-d2a9d83eb62d",
   "metadata": {},
   "outputs": [
    {
     "data": {
      "text/plain": [
       "'Leo present in the string.'"
      ]
     },
     "execution_count": 27,
     "metadata": {},
     "output_type": "execute_result"
    }
   ],
   "source": [
    "def _check_element(string, search_element):\n",
    "    if search_element in string:\n",
    "        return f'{search_element} present in the string.'\n",
    "    else: \n",
    "        return f'{search_element} not present.'\n",
    "string=['Arjun','Leo', 'vijay','Prakash']\n",
    "search_element='Leo'\n",
    "_check_element(string, search_element)"
   ]
  },
  {
   "cell_type": "markdown",
   "id": "b3085b85-5751-4485-a4b0-a43b8c17ab95",
   "metadata": {},
   "source": [
    "Explanation:\n",
    "\n",
    "* Function Definition:\n",
    "Defines a function named _check_element with two parameters - string (a list) and search_element (the element to search for).\n",
    "* Element Check:\n",
    "Uses an if statement to check if the search_element is present in the list string using the in operator.\n",
    "* Return Statement (Element Found):\n",
    "If the search_element is found, returns a formatted string indicating that the element is present in the string.\n",
    "* Return Statement (Element Not Found):\n",
    "If the search_element is not found, returns a formatted string indicating that the element is not present in the string.\n",
    "* Usage:\n",
    "Defines a list named string containing names.\n",
    "Specifies the search_element as 'Leo'.\n",
    "Calls the _check_element function with these values and stores the result in the variable result."
   ]
  },
  {
   "cell_type": "markdown",
   "id": "cf65997a-044c-43b1-9680-b6712f227f74",
   "metadata": {},
   "source": [
    "8. Find the index of the first occurrence of an element in a list."
   ]
  },
  {
   "cell_type": "code",
   "execution_count": 32,
   "id": "76d3e3e2-86ed-4729-8538-773ac8b854e2",
   "metadata": {},
   "outputs": [
    {
     "name": "stdout",
     "output_type": "stream",
     "text": [
      " The index of the first occurance of Arjun is index 0\n"
     ]
    }
   ],
   "source": [
    "string=['Arjun','Leo', 'Arjun','vijay','Prakash']\n",
    "element='Arjun'\n",
    "index_=string.index(element)\n",
    "print(f' The index of the first occurance of {element} is index {index_}')"
   ]
  },
  {
   "cell_type": "markdown",
   "id": "94d40556-2657-48a8-9f94-1bbacfff0ce1",
   "metadata": {},
   "source": [
    "Explanation:\n",
    "\n",
    "* List Definition:\n",
    "Initializes a list named string with elements 'Arjun', 'Leo', 'Arjun', 'vijay', and 'Prakash'.\n",
    "* Indexing Operation:\n",
    "Uses the index() method on the list string to find the index of the first occurrence of the specified element ('Arjun' in this case).\n",
    "* Printing Result:\n",
    "Prints a formatted string indicating the index of the first occurrence of the specified element."
   ]
  },
  {
   "cell_type": "markdown",
   "id": "4334320c-173c-4042-90f1-35626e148689",
   "metadata": {},
   "source": [
    "9. Count the occurrences of an element in a list."
   ]
  },
  {
   "cell_type": "code",
   "execution_count": 37,
   "id": "255e1b7f-2f60-4b75-8ac5-e9e550e418b6",
   "metadata": {},
   "outputs": [
    {
     "name": "stdout",
     "output_type": "stream",
     "text": [
      " The element Arjun occurs 2 times\n"
     ]
    }
   ],
   "source": [
    "string=['Arjun','Leo', 'Arjun','vijay','Prakash']\n",
    "element='Arjun'\n",
    "count=string.count(element)\n",
    "print(f' The element {element} occurs {count} times')"
   ]
  },
  {
   "cell_type": "markdown",
   "id": "f6ef26d8-ceff-4746-ab24-7956e0e238eb",
   "metadata": {},
   "source": [
    "Explanation:\n",
    "\n",
    "* List Definition:\n",
    "Initializes a list named string with elements 'Arjun', 'Leo', 'Arjun', 'vijay', and 'Prakash'.\n",
    "* Count Operation:\n",
    "Uses the count() method on the list string to count the number of occurrences of the specified element ('Arjun' in this case).\n",
    "* Printing Result:\n",
    "Prints a formatted string indicating the number of occurrences of the specified element."
   ]
  },
  {
   "cell_type": "markdown",
   "id": "ed1aad91-6ef8-4abd-a9e3-c761d8dd7ea5",
   "metadata": {},
   "source": [
    "10. Reverse the order of elements in a list."
   ]
  },
  {
   "cell_type": "code",
   "execution_count": 41,
   "id": "c4f57579-59de-40e7-91a6-29faa0caa44e",
   "metadata": {},
   "outputs": [
    {
     "name": "stdout",
     "output_type": "stream",
     "text": [
      "Original string = ['Prakash', 'vijay', 'Arjun', 'Leo', 'Arjun']\n",
      "reverse string = None\n"
     ]
    }
   ],
   "source": [
    "string=['Arjun','Leo', 'Arjun','vijay','Prakash']\n",
    "reverse_string= string.reverse()  #using reverse method\n",
    "print(f'''Original string = {string}\n",
    "reverse string = {reverse_string}''')"
   ]
  },
  {
   "cell_type": "markdown",
   "id": "cc271266-962d-49d2-808f-bfe7e35a17e7",
   "metadata": {},
   "source": [
    "Explanation:\n",
    "\n",
    "* List Definition:\n",
    "Initializes a list named string with elements 'Arjun', 'Leo', 'Arjun', 'vijay', and 'Prakash'.\n",
    "* Reversal Operation:\n",
    "Uses the reverse() method on the list string. The reverse() method reverses the elements of the list in-place.\n",
    "* Printing Result:\n",
    "Prints a formatted string indicating the original list string and the result of the reverse() method.\n"
   ]
  },
  {
   "cell_type": "markdown",
   "id": "b37ed01f-c2b4-491a-b848-96269593a14a",
   "metadata": {},
   "source": [
    "11. Sort a list in ascending order."
   ]
  },
  {
   "cell_type": "code",
   "execution_count": 48,
   "id": "4c09962f-500c-4981-8c87-4c31ea31462a",
   "metadata": {},
   "outputs": [
    {
     "name": "stdout",
     "output_type": "stream",
     "text": [
      "Sorted string = ['Arjun', 'Arjun', 'Leo', 'Prakash', 'vijay']\n"
     ]
    }
   ],
   "source": [
    "string=['Arjun','Leo', 'Arjun','vijay','Prakash']\n",
    "string.sort()\n",
    "print(f'Sorted string = {string}')"
   ]
  },
  {
   "cell_type": "markdown",
   "id": "c3763b1d-5475-4cb4-9ce7-515ff0cb8b05",
   "metadata": {},
   "source": [
    "Explanation:\n",
    "\n",
    "* List Definition:\n",
    "Initializes a list named string with elements 'Arjun', 'Leo', 'Arjun', 'vijay', and 'Prakash'.\n",
    "* Sorting Operation:\n",
    "Uses the sort() method on the list string. The sort() method sorts the elements of the list in-place default ascending order.\n",
    "* Printing Result:\n",
    "Prints a formatted string indicating the sorted list string."
   ]
  },
  {
   "cell_type": "markdown",
   "id": "796b865d-33a4-4982-ae6d-ab7f15f8e6dc",
   "metadata": {},
   "source": [
    "12. Sort a list in descending order."
   ]
  },
  {
   "cell_type": "code",
   "execution_count": 50,
   "id": "316fd14e-421f-4f2f-acea-a2cf837b1902",
   "metadata": {},
   "outputs": [
    {
     "name": "stdout",
     "output_type": "stream",
     "text": [
      "Sorted string = ['vijay', 'Prakash', 'Leo', 'Arjun', 'Arjun']\n"
     ]
    }
   ],
   "source": [
    "string=['Arjun','Leo', 'Arjun','vijay','Prakash']\n",
    "string.sort(reverse=True)\n",
    "print(f'Sorted string = {string}')"
   ]
  },
  {
   "cell_type": "markdown",
   "id": "caa8f9b3-1c62-4b01-ba55-76aa15be5e83",
   "metadata": {},
   "source": [
    "Explanation:\n",
    "\n",
    "* List Definition:\n",
    "Initializes a list named string with elements 'Arjun', 'Leo', 'Arjun', 'vijay', and 'Prakash'.\n",
    "* Sorting Operation (Descending Order):\n",
    "Uses the sort() method on the list string with the argument reverse=True.\n",
    "The sort() method sorts the elements of the list in-place in descending order.\n",
    "* Printing Result:\n",
    "Prints a formatted string indicating the sorted list string in descending order."
   ]
  },
  {
   "cell_type": "markdown",
   "id": "5d1ba81d-6f0f-4462-a6dc-34002684e466",
   "metadata": {},
   "source": [
    "13. Create a list of even numbers from 1 to 20."
   ]
  },
  {
   "cell_type": "code",
   "execution_count": 2,
   "id": "23de7a71-71d1-48b5-a613-190d98796b60",
   "metadata": {},
   "outputs": [
    {
     "data": {
      "text/plain": [
       "'List of Even Numbers from 1-20 :[2, 4, 6, 8, 10, 12, 14, 16, 18, 20]'"
      ]
     },
     "execution_count": 2,
     "metadata": {},
     "output_type": "execute_result"
    }
   ],
   "source": [
    "def even(n):\n",
    "    even_number=[]\n",
    "    for i in range(1,n+1):\n",
    "        if i %2==0:\n",
    "            even_number.append(i)\n",
    "        else:\n",
    "            pass\n",
    "    return f'List of Even Numbers from 1-{n} :{even_number}'\n",
    "n=20\n",
    "even(n)"
   ]
  },
  {
   "cell_type": "markdown",
   "id": "c50c6197-6930-4322-891c-df63d23b3334",
   "metadata": {},
   "source": [
    "Explanation:\n",
    "\n",
    "* Function Definition:\n",
    "Defines a function named 'even' that takes a single parameter 'n'.\n",
    "* Even Numbers List Initialization:\n",
    "Initializes an empty list named 'even_number' to store even numbers.\n",
    "* Loop through Numbers:\n",
    "Initiates a loop that iterates through numbers from 1 to 'n'.\n",
    "* Checking and Appending:\n",
    "Checks if the current number 'i' is even. If so, appends it to the 'even_number' list.\n",
    "* Return Statement:\n",
    "Returns a formatted string indicating the list of even numbers from 1 to 'n'.\n",
    "* Usage:\n",
    "Calls the 'even' function with the value 'n' as an argument and stores the result in the variable 'even_numbers_list'."
   ]
  },
  {
   "cell_type": "markdown",
   "id": "fe559573-c1f7-46af-830e-2d9de9e53838",
   "metadata": {},
   "source": [
    "14. Create a list of odd numbers from 1 to 20."
   ]
  },
  {
   "cell_type": "code",
   "execution_count": 5,
   "id": "ed847f5c-3266-43eb-ba18-c47e6eb759df",
   "metadata": {},
   "outputs": [
    {
     "data": {
      "text/plain": [
       "'List of Odd Numbers from 1-20 :[1, 3, 5, 7, 9, 11, 13, 15, 17, 19]'"
      ]
     },
     "execution_count": 5,
     "metadata": {},
     "output_type": "execute_result"
    }
   ],
   "source": [
    "def odd_(n):\n",
    "    odd_number=[]\n",
    "    for i in range(1,n+1):\n",
    "        if i %2!=0:\n",
    "            odd_number.append(i)\n",
    "        else:\n",
    "            pass\n",
    "    return f'List of Odd Numbers from 1-{n} :{odd_number}'\n",
    "n=20\n",
    "odd_(n)"
   ]
  },
  {
   "cell_type": "markdown",
   "id": "ca98671e-ad30-4f5a-92ff-8382e495c78f",
   "metadata": {},
   "source": [
    "Explanation:\n",
    "\n",
    "* Function Definition:\n",
    "Defines a function named 'odd_' that takes a single parameter 'n'.\n",
    "* Odd Numbers List Initialization:\n",
    "Initializes an empty list named 'odd_number' to store odd numbers.\n",
    "* Loop through Numbers:\n",
    "Initiates a loop that iterates through numbers from 1 to 'n'.\n",
    "* Checking and Appending:\n",
    "Checks if the current number 'i' is odd. If so, appends it to the 'odd_number' list.\n",
    "* Return Statement:\n",
    "Returns a formatted string indicating the list of odd numbers from 1 to 'n'.\n",
    "* Usage:\n",
    "Calls the 'odd_' function with the value 'n' as an argument and stores the result in the variable 'result'."
   ]
  },
  {
   "cell_type": "markdown",
   "id": "e39237b7-b960-48eb-96e5-72653a2dfcb4",
   "metadata": {},
   "source": [
    "15. Find the sum of all elements in a list."
   ]
  },
  {
   "cell_type": "code",
   "execution_count": 9,
   "id": "aea7788c-7a44-479f-9853-d6e7f360d7f2",
   "metadata": {},
   "outputs": [
    {
     "name": "stdout",
     "output_type": "stream",
     "text": [
      "Total = 110\n"
     ]
    }
   ],
   "source": [
    "list_=[2, 4, 6, 8, 10, 12, 14, 16, 18, 20]\n",
    "total=sum(list_)\n",
    "print(f'Total = {total}')"
   ]
  },
  {
   "cell_type": "markdown",
   "id": "4b71c47c-5695-4bcd-924f-0440d19022da",
   "metadata": {},
   "source": [
    "Explanation:\n",
    "\n",
    "* List Definition:\n",
    "Initializes a list named list_ containing the numbers 2, 4, 6, 8, 10, 12, 14, 16, 18, 20.\n",
    "* Sum Calculation:\n",
    "Uses the sum() function to calculate the sum of all elements in the list list_.\n",
    "The sum() function adds up all the numbers in the iterable (in this case, the elements of the list).\n",
    "* Printing Result:\n",
    "Prints a formatted string indicating the total sum of the elements in the list list_."
   ]
  },
  {
   "cell_type": "markdown",
   "id": "db6fae89-5a03-45f9-9dc3-204b03400c5c",
   "metadata": {},
   "source": [
    "16. Find the maximum value in a list."
   ]
  },
  {
   "cell_type": "code",
   "execution_count": 11,
   "id": "476562fd-94c6-45e1-9024-7dc05435102a",
   "metadata": {},
   "outputs": [
    {
     "name": "stdout",
     "output_type": "stream",
     "text": [
      "Maximum number is 50\n"
     ]
    }
   ],
   "source": [
    "list_=[2, 4, 6, 50, 10, 12, 14, 16, 18, 20]\n",
    "maximum=max(list_)\n",
    "print(f'Maximum number is {maximum}')"
   ]
  },
  {
   "cell_type": "markdown",
   "id": "e110867a-b16f-4f7b-a5b1-88967a5d5619",
   "metadata": {},
   "source": [
    "Explanation:\n",
    "\n",
    "* List Definition:\n",
    "Initializes a list named list_ containing the numbers 2, 4, 6, 50, 10, 12, 14, 16, 18, 20.\n",
    "* Maximum Calculation:\n",
    "Uses the max() function to find the maximum value in the list list_.\n",
    "The max() function returns the maximum value from the iterable (in this case, the elements of the list).\n",
    "* Printing Result:\n",
    "Prints a formatted string indicating the maximum value in the list list_."
   ]
  },
  {
   "cell_type": "markdown",
   "id": "06a59613-c84f-424d-a7b8-6bcef7ccbaf9",
   "metadata": {},
   "source": [
    "17. Find the minimum value in a list."
   ]
  },
  {
   "cell_type": "code",
   "execution_count": 13,
   "id": "c85546ba-c58f-470e-977d-268d776c9c25",
   "metadata": {},
   "outputs": [
    {
     "name": "stdout",
     "output_type": "stream",
     "text": [
      "Minimum number is 2\n"
     ]
    }
   ],
   "source": [
    "list_=[2, 4, 6, 50, 10, 12, 14, 16, 18, 20]\n",
    "minimum=min(list_)\n",
    "print(f'Minimum number is {minimum}')"
   ]
  },
  {
   "cell_type": "markdown",
   "id": "91609b73-a3a0-4ca5-889e-02a9eea61fd0",
   "metadata": {},
   "source": [
    "Explanation:\n",
    "\n",
    "* List Definition:\n",
    "Initializes a list named list_ containing the numbers 2, 4, 6, 50, 10, 12, 14, 16, 18, 20.\n",
    "* Minimum Calculation:\n",
    "Uses the min() function to find the minimum value in the list list_.\n",
    "The min() function returns the minimum value from the iterable (in this case, the elements of the list).\n",
    "* Printing Result:\n",
    "Prints a formatted string indicating the minimum value in the list list_."
   ]
  },
  {
   "cell_type": "markdown",
   "id": "c6c1107e-a4ac-4442-b539-01ac794fd8ab",
   "metadata": {},
   "source": [
    "18. Create a list of squares of numbers from 1 to 10."
   ]
  },
  {
   "cell_type": "code",
   "execution_count": 20,
   "id": "3297100a-b3c9-4a88-8fd3-65ec6853edf7",
   "metadata": {},
   "outputs": [
    {
     "data": {
      "text/plain": [
       "'List of squares of Numbers from 1-10 :[1, 4, 9, 16, 25, 36, 49, 64, 81, 100]'"
      ]
     },
     "execution_count": 20,
     "metadata": {},
     "output_type": "execute_result"
    }
   ],
   "source": [
    "def squares(n):\n",
    "    squares=[]\n",
    "    for i in range(1,n+1):\n",
    "        squares.append(i*i)\n",
    "    return f'List of squares of Numbers from 1-{n} :{squares}'\n",
    "n=10\n",
    "squares(n)"
   ]
  },
  {
   "cell_type": "markdown",
   "id": "3a5a5065-a1d5-4d6e-b85e-f98cbc3a31ed",
   "metadata": {},
   "source": [
    "Explanation:\n",
    "\n",
    "* Function Definition:\n",
    "Defines a function named 'squares' that takes a single parameter 'n'.\n",
    "* Squares List Initialization:\n",
    "Initializes an empty list named 'squares' to store the squares of numbers.\n",
    "* Loop through Numbers:\n",
    "Initiates a loop that iterates through numbers from 1 to 'n'.\n",
    "* Calculating Squares:\n",
    "Appends the square of the current number 'i' to the 'squares' list.\n",
    "* Return Statement:\n",
    "Returns a formatted string indicating the list of squares of numbers from 1 to 'n'.\n",
    "* Usage:\n",
    "Calls the 'squares' function with the value 'n' as an argument and stores the result in the variable 'result'.\n",
    "\n",
    "\n",
    "\n",
    "\n"
   ]
  },
  {
   "cell_type": "markdown",
   "id": "20477cdc-620b-4239-b265-7ec53aa4c52d",
   "metadata": {},
   "source": [
    "19. Create a list of random numbers."
   ]
  },
  {
   "cell_type": "code",
   "execution_count": 27,
   "id": "d5e321e0-58ed-47bd-aa84-cc9e912df33c",
   "metadata": {},
   "outputs": [
    {
     "name": "stdout",
     "output_type": "stream",
     "text": [
      "[25, 2, 83, 59, 56, 10, 85, 62, 10, 32]\n"
     ]
    }
   ],
   "source": [
    "import random\n",
    "\n",
    "   \n",
    "random_numbers=[ random.randint(1,100) for i in range(10)]\n",
    "print(random_numbers)"
   ]
  },
  {
   "cell_type": "markdown",
   "id": "4d182cbd-8244-4fd3-9955-4b034ac82bf1",
   "metadata": {},
   "source": [
    "Explanation:\n",
    "\n",
    "* Importing the 'random' Module:\n",
    "The import random statement imports the 'random' module, which provides functions for generating random numbers.\n",
    "* List Comprehension for Random Numbers:\n",
    "The line random_numbers = [random.randint(1, 100) for i in range(10)] uses a list comprehension to generate a list of 10 random integers.\n",
    "random.randint(1, 100) generates a random integer between 1 (inclusive) and 100 (inclusive).\n",
    "The list comprehension [... for i in range(10)] repeats this process 10 times to create a list of 10 random numbers.\n",
    "* Printing Result:\n",
    "The print(random_numbers) statement prints the list of 10 random numbers generated using the 'random' module.\n",
    "The output will be a list of 10 random integers between 1 and 100.\n",
    "\n",
    "\n",
    "\n"
   ]
  },
  {
   "cell_type": "markdown",
   "id": "108f5ff6-dbe5-4bb1-8928-a38d9eed092d",
   "metadata": {},
   "source": [
    "20. Remove duplicates from a list."
   ]
  },
  {
   "cell_type": "code",
   "execution_count": 28,
   "id": "9fcacbfc-39c1-4aa1-bfe0-90c1f1d8b0fd",
   "metadata": {},
   "outputs": [
    {
     "name": "stdout",
     "output_type": "stream",
     "text": [
      "List without duplicates: [40, 10, 50, 20, 30]\n"
     ]
    }
   ],
   "source": [
    "my_list = [10, 20, 30, 20, 40, 10, 50, 30]\n",
    "unique_list = list(set(my_list))\n",
    "print(\"List without duplicates:\", unique_list)"
   ]
  },
  {
   "cell_type": "markdown",
   "id": "3b8087dd-e95f-45db-9d0f-381d62f18711",
   "metadata": {},
   "source": [
    "Explanation:\n",
    "\n",
    "* List Definition:\n",
    "Initializes a list named my_list containing some elements with duplicates.\n",
    "* Removing Duplicates using a Set:\n",
    "Uses the set() function to create a set from my_list. A set automatically removes duplicate elements, leaving only unique elements.\n",
    "* Converting Set back to List:\n",
    "Converts the set obtained in the previous step back to a list using the list() constructor.\n",
    "This step is necessary because sets don't maintain the order of elements.\n",
    "* Printing Result:\n",
    "Prints a formatted string indicating the list without duplicates."
   ]
  },
  {
   "cell_type": "markdown",
   "id": "d0849dda-002b-4cbe-a134-444d5034290c",
   "metadata": {},
   "source": [
    "21. Find the common elements between two lists."
   ]
  },
  {
   "cell_type": "code",
   "execution_count": 5,
   "id": "ddb8a260-2871-4a9d-90b8-fc016675e2a9",
   "metadata": {},
   "outputs": [
    {
     "name": "stdout",
     "output_type": "stream",
     "text": [
      "Common elements: [3, 4, 5]\n"
     ]
    }
   ],
   "source": [
    "list1 = [1, 2, 3, 4, 5]\n",
    "list2 = [3, 4, 5, 6, 7]\n",
    "\n",
    "common_elements = [value for value in list1 if value in list2]\n",
    "\n",
    "print(\"Common elements:\", common_elements)"
   ]
  },
  {
   "cell_type": "markdown",
   "id": "4ddb9163-714a-4329-b820-773273588aba",
   "metadata": {},
   "source": [
    "Explanation:\n",
    "\n",
    "* List Initialization:\n",
    "Initializing two lists list1 and list2 with values.\n",
    "\n",
    "* List Comprehension for Common Elements:\n",
    "common_elements variable is created using a list comprehension.It iterates through each value in list1.\n",
    "Adds the value to common_elements only if it is also present in list2.\n",
    "* Print Statement:\n",
    "Prints the common elements found."
   ]
  },
  {
   "cell_type": "markdown",
   "id": "73a0c8f6-0766-489e-a68c-b5cdc99e7528",
   "metadata": {},
   "source": [
    "22. Find the difference between two lists."
   ]
  },
  {
   "cell_type": "code",
   "execution_count": 4,
   "id": "28f2edaa-6f72-425a-a30e-5e7aaa620667",
   "metadata": {},
   "outputs": [
    {
     "name": "stdout",
     "output_type": "stream",
     "text": [
      "Different elements presented in list 1: [1, 2]\n",
      "Different elements presented in list 2: [6, 7]\n"
     ]
    }
   ],
   "source": [
    "list1 = [1, 2, 3, 4, 5]\n",
    "list2 = [3, 4, 5, 6, 7]\n",
    "\n",
    "diff_elements = [value for value in list1 if value  not in list2]\n",
    "diff_elements2=[value for value in list2 if value  not in list1]\n",
    "print(\"Different elements presented in list 1:\", diff_elements)\n",
    "print(\"Different elements presented in list 2:\", diff_elements2)"
   ]
  },
  {
   "cell_type": "markdown",
   "id": "caf6dc78-eac6-4fdb-9e27-d0e61afe709b",
   "metadata": {},
   "source": [
    "Explanation:\n",
    "\n",
    "* List Initialization:\n",
    "list1 is set to [1, 2, 3, 4, 5].\n",
    "list2 is set to [3, 4, 5, 6, 7].\n",
    "* List Comprehension for Different Elements (List 1):\n",
    "diff_elements is created using a list comprehension.\n",
    "It iterates through each element in list1.\n",
    "Includes the element in diff_elements only if it is not present in list2.\n",
    "* List Comprehension for Different Elements (List 2):\n",
    "diff_elements2 is created using a list comprehension.\n",
    "It iterates through each element in list2.\n",
    "Includes the element in diff_elements2 only if it is not present in list1.\n",
    "* Print Statements:\n",
    "Prints the different elements found in each list."
   ]
  },
  {
   "cell_type": "markdown",
   "id": "063cebe6-d384-4f91-9eef-72e0e3ffece6",
   "metadata": {},
   "source": [
    "23. Merge two lists."
   ]
  },
  {
   "cell_type": "code",
   "execution_count": 16,
   "id": "05d0f15e-9b7b-417a-be23-f8cbd06dc272",
   "metadata": {},
   "outputs": [
    {
     "name": "stdout",
     "output_type": "stream",
     "text": [
      "Merged List: [1, 2, 3, 4, 5, 6]\n"
     ]
    }
   ],
   "source": [
    "list1 = [1, 2, 3]\n",
    "list2 = [4, 5, 6]\n",
    "\n",
    "list1.extend(list2)\n",
    "\n",
    "print(\"Merged List:\", list1)"
   ]
  },
  {
   "cell_type": "markdown",
   "id": "903bd169-aba0-4ccf-9869-3bca4d3ac4a9",
   "metadata": {},
   "source": [
    "Explanation:\n",
    "    \n",
    "* List Initialization:\n",
    "list1 is initialized with elements [1, 2, 3].\n",
    "list2 is initialized with elements [4, 5, 6].\n",
    "* Using extend() Method to Merge Lists:\n",
    "The extend() method is called on list1 with list2 as an argument.\n",
    "This method modifies list1 in place by adding all elements from list2 to the end of list1.\n",
    "* Print Statement:\n",
    "Prints the result after merging."
   ]
  },
  {
   "cell_type": "markdown",
   "id": "fe9081cb-5c5a-4cf2-979c-7b7b8244887d",
   "metadata": {},
   "source": [
    "24. Multiply all elements in a list by 2."
   ]
  },
  {
   "cell_type": "code",
   "execution_count": 20,
   "id": "4d04c6b3-ccaa-4ff0-bd77-a32676ed1d30",
   "metadata": {},
   "outputs": [
    {
     "name": "stdout",
     "output_type": "stream",
     "text": [
      "Multiplied list: [2, 4, 6]\n"
     ]
    }
   ],
   "source": [
    "list_= [1, 2, 3]\n",
    "multiply_= [i*2 for i in list_ ]\n",
    "print(\"Multiplied list:\", multiply_)"
   ]
  },
  {
   "cell_type": "markdown",
   "id": "4d586df2-c0bc-4131-b1c8-024af50b6e19",
   "metadata": {},
   "source": [
    "Explanation: \n",
    "    \n",
    "* List Initialization:\n",
    "list_ is initialized with elements [1, 2, 3].\n",
    "* List Comprehension to Multiply Elements by 2:\n",
    "A list comprehension is used to create a new list named multiply_.\n",
    "It iterates through each element i in list_.\n",
    "Multiplies each element by 2 (i * 2) and adds the result to the new list.\n",
    "* Print Statement:\n",
    "Prints the result after multiplication."
   ]
  },
  {
   "cell_type": "markdown",
   "id": "92a82ed0-95bf-466b-b3d4-c234362264a8",
   "metadata": {},
   "source": [
    "25. Filter out all even numbers from a list."
   ]
  },
  {
   "cell_type": "code",
   "execution_count": 26,
   "id": "899d16dc-0b60-4188-9146-a6cd4fe3fdae",
   "metadata": {},
   "outputs": [
    {
     "name": "stdout",
     "output_type": "stream",
     "text": [
      "even numbers: [2, 4, 12, 6, 8, 10]\n"
     ]
    }
   ],
   "source": [
    "list_=[1,2,3,4,12,6,7,8,10, 15]\n",
    "even_number=[i for i in list_ if i%2==0]\n",
    "print(\"even numbers:\",even_number)"
   ]
  },
  {
   "cell_type": "markdown",
   "id": "18b915d9-fe99-4de0-b356-48838011e96d",
   "metadata": {},
   "source": [
    "Explanation: \n",
    "    \n",
    "* List Initialization:\n",
    "list_ is initialized with elements [1, 2, 3, 4, 12, 6, 7, 8, 10, 15].\n",
    "* List Comprehension to Extract Even Numbers:\n",
    "A list comprehension is used to create a new list named even_number.\n",
    "It iterates through each element i in list_.\n",
    "Includes the element in even_number only if it is an even number (i % 2 == 0).\n",
    "* Result:\n",
    "The list even_number now contains only the even numbers from the original list.\n",
    "* Print Statement:\n",
    "Prints the list of even numbers."
   ]
  },
  {
   "cell_type": "markdown",
   "id": "110b989f-62a3-4685-a5bf-51db5632ed8b",
   "metadata": {},
   "source": [
    "26. Convert a list of strings to a list of integers."
   ]
  },
  {
   "cell_type": "code",
   "execution_count": 33,
   "id": "dd2c7a2c-51ea-42d3-90e4-d4149bee7953",
   "metadata": {},
   "outputs": [
    {
     "name": "stdout",
     "output_type": "stream",
     "text": [
      "String List: ['10', '20', '30', '40', '50']\n",
      "Converted list of integers : [10, 20, 30, 40, 50]\n"
     ]
    }
   ],
   "source": [
    "string_list = [\"10\", \"20\", \"30\", \"40\", \"50\"]\n",
    "int_list= [int(i) for i in string_list]\n",
    "print(f'''String List: {string_list}\n",
    "Converted list of integers : {int_list}''')"
   ]
  },
  {
   "cell_type": "markdown",
   "id": "5cda5736-e23a-4375-a59a-b734c4bf69f7",
   "metadata": {},
   "source": [
    "Explanation: \n",
    "    \n",
    "* List Initialization:\n",
    "string_list is initialized with string elements [\"10\", \"20\", \"30\", \"40\", \"50\"].\n",
    "* List Comprehension to Convert Strings to Integers:\n",
    "A list comprehension is used to create a new list named int_list.\n",
    "It iterates through each string element i in string_list.\n",
    "Converts each string element to an integer using int(i) and adds the result to the new list.\n",
    "* Print Statement:\n",
    "Prints the original string list and the new list of integers."
   ]
  },
  {
   "cell_type": "markdown",
   "id": "fd97d7e1-b89a-46ac-b679-ddb6e99b1c88",
   "metadata": {},
   "source": [
    "27. Convert a list of integers to a list of strings."
   ]
  },
  {
   "cell_type": "code",
   "execution_count": 34,
   "id": "54aaeb0e-7870-4a7e-83e4-f60cc26897fa",
   "metadata": {},
   "outputs": [
    {
     "name": "stdout",
     "output_type": "stream",
     "text": [
      "Integer List: [10, 20, 30, 40, 50]\n",
      "Converted list of String : ['10', '20', '30', '40', '50']\n"
     ]
    }
   ],
   "source": [
    "int_list =[10, 20, 30, 40, 50]\n",
    "str_list= [str(i) for i in string_list]\n",
    "print(f'''Integer List: {int_list}\n",
    "Converted list of String : {str_list}''')"
   ]
  },
  {
   "cell_type": "markdown",
   "id": "b2d693a9-e909-4ad3-baab-3d582636a6a4",
   "metadata": {},
   "source": [
    "Explanation: \n",
    "    \n",
    "* List Initialization:\n",
    "int_list is initialized with string elements [10, 20, 30, 40, 50].\n",
    "* List Comprehension to Convert integers to strings:\n",
    "A list comprehension is used to create a new list named str_list.\n",
    "It iterates through each integer element i in int_list.\n",
    "Converts each int element to an strings using str(i) and adds the result to the new list.\n",
    "* Print Statement:\n",
    "Prints the original int list and the new list of strings."
   ]
  },
  {
   "cell_type": "markdown",
   "id": "1b9e34e9-20fb-4234-a5df-9ded08862cf5",
   "metadata": {},
   "source": [
    "28. Flatten a nested list."
   ]
  },
  {
   "cell_type": "code",
   "execution_count": 15,
   "id": "d5bdb845-9212-409a-8efc-9925df8b2739",
   "metadata": {},
   "outputs": [
    {
     "name": "stdout",
     "output_type": "stream",
     "text": [
      "Flattend List:  [1, 2, 3, 4, 5, 6, 7, 8, 9, 10]\n"
     ]
    }
   ],
   "source": [
    "nested_list = [[1, 2, 3],[4, 5], [6, 7, 8, 9],10]\n",
    "flatened_lst=[]\n",
    "for i in nested_list:\n",
    "    if isinstance(i, list):\n",
    "        flatened_lst.extend(i)\n",
    "    else:\n",
    "        flatened_lst.append(i)\n",
    "        \n",
    "print('Flattend List: ',flatened_lst)"
   ]
  },
  {
   "cell_type": "markdown",
   "id": "d890f500-36dd-420c-acde-8ea40b207777",
   "metadata": {},
   "source": [
    "Explanation:\n",
    "    \n",
    "* List Initialization:\n",
    "nested_list is initialized with elements, including sublists and a non-list element (10).\n",
    "* Iterating through the Nested List:\n",
    "The for loop iterates through each item in nested_list.\n",
    "* Checking if the Item is a List:\n",
    "isinstance(item, list) checks whether the current item is a list.\n",
    "* Handling Lists and Non-List Elements:\n",
    "If the item is a list, it extends the flatened_lst with its elements.\n",
    "If the item is not a list, it appends the item directly to flatened_lst.\n",
    "* Print Statement:\n",
    "Prints the flattened list."
   ]
  },
  {
   "cell_type": "markdown",
   "id": "fce7179d-6549-488d-aea8-342ff897035c",
   "metadata": {},
   "source": [
    "29. Create a list of the first 10 Fibonacci numbers."
   ]
  },
  {
   "cell_type": "code",
   "execution_count": 12,
   "id": "45e7b224-1c83-4b48-9b31-d01c2734ee39",
   "metadata": {},
   "outputs": [
    {
     "name": "stdout",
     "output_type": "stream",
     "text": [
      "The list of first 10 Fibonacci numbers: [0, 1, 1, 2, 3, 5, 8, 13, 21, 34]\n"
     ]
    }
   ],
   "source": [
    "def fibonacci(n):\n",
    "    fibonacci_numbers=[0,1]\n",
    "    for i in range(2,n):\n",
    "        value= fibonacci_numbers[-1]+fibonacci_numbers[-2]\n",
    "        fibonacci_numbers.append(value)\n",
    "\n",
    "    return f'The list of first {n} Fibonacci numbers: {fibonacci_numbers}'\n",
    "\n",
    "n= 10\n",
    "result= fibonacci(n)\n",
    "print(result)"
   ]
  },
  {
   "cell_type": "markdown",
   "id": "c05aecf1-4c29-40b3-b7e5-203dd7126c14",
   "metadata": {},
   "source": [
    "Explanation: \n",
    "\n",
    "* Function Definition:\n",
    "The fibonacci function takes an argument n, which represents the number of Fibonacci numbers to generate.\n",
    "* Fibonacci Numbers Initialization:\n",
    "fibonacci_numbers is initialized with the first two Fibonacci numbers [0, 1].\n",
    "* Loop to Generate Fibonacci Numbers:\n",
    "The for loop iterates from 2 to n-1 to generate additional Fibonacci numbers.\n",
    "Each new Fibonacci number is the sum of the last two numbers in the list.\n",
    "* Return Statement:\n",
    "The function returns a formatted string containing the list of the first n Fibonacci numbers.\n",
    "* Function Call:\n",
    "The function is called with n = 10, generating the first 10 Fibonacci numbers.\n",
    "* Print Statement:\n",
    "Prints the result, which is a formatted string showing the list of the first 10 Fibonacci numbers."
   ]
  },
  {
   "cell_type": "markdown",
   "id": "9dc771c5-5e49-4474-a59a-869d9f072de7",
   "metadata": {},
   "source": [
    "30. Check if a list is sorted."
   ]
  },
  {
   "cell_type": "code",
   "execution_count": null,
   "id": "2783056d-6eef-4f8e-b6fd-22318f55fd61",
   "metadata": {},
   "outputs": [],
   "source": [
    "def is_sorted(lst):\n",
    "    return all(lst[i] <= lst[i + 1] for i in range(len(lst) - 1))\n",
    "\n",
    "lst=  [10, 20, 30, 40, 50]\n",
    "result= is_sorted(lst)\n",
    "print(f'The give list is sorted in ascending order: {result}')"
   ]
  },
  {
   "cell_type": "markdown",
   "id": "7827b875-c1c6-4168-855c-22b4dc826e12",
   "metadata": {},
   "source": [
    "Explanation: \n",
    "    \n",
    "* Function Definition:\n",
    "def is_sorted(lst): defines a function named is_sorted that takes a list lst as its parameter.\n",
    "* Generator Expression:\n",
    "lst[i] <= lst[i + 1] for i in range(len(lst) - 1) is a generator expression.\n",
    "It iterates over the indices (i) from 0 to len(lst) - 2.\n",
    "For each index, it checks if the element at the current index (lst[i]) is less than or equal to the element at the next index (lst[i + 1]).\n",
    "* all() Function:\n",
    "all(...) takes the values produced by the generator expression.\n",
    "It returns True if all values are True, and False otherwise.\n",
    "* Return Statement:\n",
    "The function returns the result of the all() function, indicating whether every element in the list is less than or equal to its adjacent element.\n",
    "* List Initialization:\n",
    "lst is initialized with the values [10, 20, 30, 40, 50].\n",
    "* Function Call:\n",
    "is_sorted(lst) is called with the list lst.\n",
    "The result of this function call is True because every element in the list is less than or equal to its adjacent element.\n",
    "* Result Assignment:\n",
    "The result of the function call is assigned to the variable result.\n",
    "* Printing the result with fstring"
   ]
  },
  {
   "cell_type": "markdown",
   "id": "0dca43ac-c5ca-408c-82e2-259b037e03a9",
   "metadata": {},
   "source": [
    "31. Rotate a list to the left by `n` positions."
   ]
  },
  {
   "cell_type": "code",
   "execution_count": 15,
   "id": "0ae1928c-bf6e-4c90-99a9-a4c2db76afc3",
   "metadata": {},
   "outputs": [
    {
     "name": "stdout",
     "output_type": "stream",
     "text": [
      "Original List: [1, 2, 3, 4, 5]\n",
      "Rotated List: [3, 4, 5, 1, 2]\n"
     ]
    }
   ],
   "source": [
    "def rotate_left(lst, n):           \n",
    "    rotation_index = n % len(lst)  # Calculate the effective rotation index\n",
    "    rotated_list = lst[rotation_index:] + lst[:rotation_index]     # Perform the rotation using slicing\n",
    "    return rotated_list\n",
    "\n",
    "original_list = [1, 2, 3, 4, 5]\n",
    "rotated_list = rotate_left(original_list, 2)\n",
    "\n",
    "print(\"Original List:\", original_list)\n",
    "print(\"Rotated List:\", rotated_list)\n"
   ]
  },
  {
   "cell_type": "markdown",
   "id": "ab7570f7-cbea-45a6-a510-2e27d0cf37fa",
   "metadata": {},
   "source": [
    "Explanation:\n",
    "\n",
    "* Function Definition:\n",
    "def rotate_left(lst, n): defines a function named rotate_left that takes a list lst and an integer n as parameters.\n",
    "* Calculate Rotation Index:\n",
    "rotation_index = n % len(lst) calculates the effective rotation index by taking the modulo of n with the length of the list (len(lst)).\n",
    "This step ensures that the rotation index is within the bounds of the list, handling cases where n is greater than the length of the list.\n",
    "* Perform Rotation Using Slicing:\n",
    "rotated_list = lst[rotation_index:] + lst[:rotation_index] creates a new list (rotated_list) by concatenating two slices of the original list:\n",
    "The first slice (lst[rotation_index:]) starts from the calculated rotation index and goes to the end of the list.\n",
    "The second slice (lst[:rotation_index]) starts from the beginning of the list and goes up to, but not including, the rotation index.\n",
    "* Return Rotated List:\n",
    "return rotated_list returns the rotated list as the result of the function.\n",
    "* List Initialization:\n",
    "original_list = [1, 2, 3, 4, 5] initializes a list named original_list with values.\n",
    "* Function Call:\n",
    "rotated_list = rotate_left(original_list, 2) calls the rotate_left function with the original_list and a rotation value of 2.\n",
    "* Print Statements:\n",
    "print(\"Original List:\", original_list) prints the original list.\n",
    "print(\"Rotated List:\", rotated_list) prints the rotated list."
   ]
  },
  {
   "cell_type": "markdown",
   "id": "b325e9c2-eba7-4f47-856f-5ccb0a1c6f54",
   "metadata": {},
   "source": [
    "32. Rotate a list to the right by `n` positions."
   ]
  },
  {
   "cell_type": "code",
   "execution_count": 22,
   "id": "2e69614a-2d26-41e9-886a-aa3644c75a1e",
   "metadata": {},
   "outputs": [
    {
     "name": "stdout",
     "output_type": "stream",
     "text": [
      "Original List: [3, 4, 5, 1, 2]\n",
      "Rotated List: [1, 2, 3, 4, 5]\n"
     ]
    }
   ],
   "source": [
    "def rotate_right(lst, n):           \n",
    "    rotation_index = n % len(lst)  # Calculate the effective rotation index\n",
    "    rotated_list = lst[-rotation_index:] + lst[:-rotation_index]     # Perform the rotation using slicing\n",
    "    return rotated_list\n",
    "\n",
    "original_list = [3, 4, 5,1, 2]\n",
    "rotated_right = rotate_right(original_list, 2)\n",
    "\n",
    "print(\"Original List:\", original_list)\n",
    "print(\"Rotated List:\", rotated_right)\n"
   ]
  },
  {
   "cell_type": "markdown",
   "id": "fe6314f8-568b-4bec-8f4b-0271cba46cbe",
   "metadata": {},
   "source": [
    "Explanation:\n",
    "\n",
    "* Function Definition:\n",
    "def rotate_right(lst, n): defines a function named rotate_left that takes a list lst and an integer n as parameters.\n",
    "* Calculate Rotation Index:\n",
    "rotation_index = n % len(lst) calculates the effective rotation index by taking the modulo of n with the length of the list (len(lst)).\n",
    "This step ensures that the rotation index is within the bounds of the list, handling cases where n is greater than the length of the list.\n",
    "* Perform Rotation Using Slicing:\n",
    "rotated_list = lst[-rotation_index:] + lst[:-rotation_index] creates a new list (rotated_list) by concatenating two slices of the original list:\n",
    "The first slice (lst[-rotation_index:]) starts from the calculated negative rotation index and goes to the end of the list.\n",
    "The second slice (lst[:rotation_index]) starts from the beginning of the list and goes up to, but not including, the negative rotation index.\n",
    "* Return Rotated List:\n",
    "return rotated_list returns the rotated list as the result of the function.\n",
    "* List Initialization:\n",
    "original_list = [ 3, 4, 5,1, 2] initializes a list named original_list with values.\n",
    "* Function Call:\n",
    "rotated_list = rotate_right(original_list, 2) calls the rotate_right function with the original_list and a rotation value of 2.\n",
    "* Print Statements:\n",
    "print(\"Original List:\", original_list) prints the original list.\n",
    "print(\"Rotated List:\", rotated_right) prints the rotated list."
   ]
  },
  {
   "cell_type": "markdown",
   "id": "745c3e43-5217-4fde-9e03-ca09393cb669",
   "metadata": {},
   "source": [
    "33. Create a list of prime numbers up to 50."
   ]
  },
  {
   "cell_type": "code",
   "execution_count": 7,
   "id": "ac6b9f49-1cc5-4edc-a13e-6a7b28f37e92",
   "metadata": {},
   "outputs": [
    {
     "name": "stdout",
     "output_type": "stream",
     "text": [
      "Prime numbers up to 50 : [2, 3, 5, 7, 11, 13, 17, 19, 23, 29, 31, 37, 41, 43, 47]\n"
     ]
    }
   ],
   "source": [
    "def is_prime(num):\n",
    "    if num < 2:\n",
    "        return False\n",
    "    for i in range(2, int(num**0.5) + 1):\n",
    "        if num % i == 0:\n",
    "            return False\n",
    "    return True\n",
    "\n",
    "def generate_primes(limit):\n",
    "    prime_list = [num for num in range(2, limit) if is_prime(num)]\n",
    "    return prime_list\n",
    "\n",
    "# Example: Generate a list of prime numbers up to 50\n",
    "limit = 50\n",
    "primes_up_to_50 = generate_primes(limit)\n",
    "\n",
    "print(\"Prime numbers up to\", limit, \":\", primes_up_to_50)"
   ]
  },
  {
   "cell_type": "markdown",
   "id": "d4d95d75-af45-4160-9e73-6f70df3ccd74",
   "metadata": {},
   "source": [
    "Explanation:\n",
    "\n",
    "* is_prime Function:\n",
    "This function checks whether a given number num is a prime number.\n",
    "If num is less than 2, it returns False since 0 and 1 are not prime numbers.\n",
    "It then iterates through the numbers from 2 to the square root of num (converted to an integer) to check if num is divisible by any of them.\n",
    "If it finds a divisor, it returns False. If no divisors are found, it returns True, indicating that num is a prime number.\n",
    "* generate_primes Function:\n",
    "This function generates a list of prime numbers up to a specified limit.\n",
    "It uses a list comprehension to iterate through numbers from 2 to the given limit and includes only those numbers for which the is_prime function returns True.\n",
    "The resulting list is a list of prime numbers up to the specified limit.\n",
    "* Example Usage:\n",
    "The example sets the limit to 50 and generates a list of prime numbers up to that limit using the generate_primes function.\n",
    "The result is printed, showing the prime numbers up to 50."
   ]
  },
  {
   "cell_type": "markdown",
   "id": "6ca02769-70f6-4814-aa72-3815e90ec11a",
   "metadata": {},
   "source": [
    "34. Split a list into chunks of size `n`."
   ]
  },
  {
   "cell_type": "code",
   "execution_count": 6,
   "id": "ea3f5b7a-1ea8-471e-aa67-5c05e4efb3ff",
   "metadata": {},
   "outputs": [
    {
     "name": "stdout",
     "output_type": "stream",
     "text": [
      "Original List:  [2, 3, 5, 7, 11, 13, 17, 19, 23, 29, 31, 37, 41, 43, 47]\n",
      "Splitted list : [[2, 3, 5], [7, 11, 13], [17, 19, 23], [29, 31, 37], [41, 43, 47]]\n"
     ]
    }
   ],
   "source": [
    "def split_chunk_size(list_,size):\n",
    "    split= [ list_[i:i+size]  for i in range(0,len(list_),size)]\n",
    "    return split\n",
    "\n",
    "list_= [2, 3, 5, 7, 11, 13, 17, 19, 23, 29, 31, 37, 41, 43, 47]\n",
    "size= 3\n",
    "\n",
    "result= split_chunk_size(list_,size)\n",
    "\n",
    "print('Original List: ', list_)\n",
    "print('Splitted list :' , result)"
   ]
  },
  {
   "cell_type": "markdown",
   "id": "065e17fb-ee76-45b6-940b-5017298df7ec",
   "metadata": {},
   "source": [
    "Explanation:\n",
    "\n",
    "* split_chunk_size Function:\n",
    "The function takes two parameters: list_ (the original list) and size (the desired chunk size).\n",
    "It uses a list comprehension to create chunks of size size from the original list.\n",
    "The range(0, len(list_), size) generates starting indices for each chunk, and list_[i:i+size] creates a sublist starting from index i up to, but not including, index i + size.\n",
    "The function returns a list of chunks.\n",
    "* Example Usage:\n",
    "The example initializes a list named list_ containing prime numbers.\n",
    "It specifies a chunk size of 3.\n",
    "The split_chunk_size function is called with the original list and the chunk size.\n",
    "The original list and the resulting list of chunks are printed."
   ]
  },
  {
   "cell_type": "markdown",
   "id": "2925e58c-e6de-4d3f-b216-7d2c927a560b",
   "metadata": {},
   "source": [
    "35. Find the second largest number in a list."
   ]
  },
  {
   "cell_type": "code",
   "execution_count": 11,
   "id": "a89bead4-6109-49b8-82eb-e6bae0ecb829",
   "metadata": {},
   "outputs": [
    {
     "name": "stdout",
     "output_type": "stream",
     "text": [
      "The second largest number in the list is 43\n"
     ]
    }
   ],
   "source": [
    "def second_largest(list_):\n",
    "    remove_dup=list(set(list_))\n",
    "    remove_dup.sort(reverse=True)\n",
    "    return remove_dup[1]\n",
    "\n",
    "list_= [2, 3, 5, 7, 11, 13, 17, 19, 23, 29, 31, 37, 41, 43, 47, 47]\n",
    "result= second_largest(list_)\n",
    "\n",
    "print('The second largest number in the list is' , result)"
   ]
  },
  {
   "cell_type": "markdown",
   "id": "cb374104-a36f-4727-bdc5-3042837173e6",
   "metadata": {},
   "source": [
    "Explanation:\n",
    "\n",
    "* second_largest Function:\n",
    "The function takes a list list_ as input.\n",
    "It removes duplicates from the list by converting it to a set (set(list_)), and then back to a list (list(set(list_))).\n",
    "The resulting list is sorted in descending order using sort(reverse=True).\n",
    "The second element (index 1) in the sorted list is returned, representing the second largest number in the original list.\n",
    "* Example Usage:\n",
    "The example initializes a list named list_ containing prime numbers with a duplicate (47).\n",
    "The second_largest function is called with the list."
   ]
  },
  {
   "cell_type": "markdown",
   "id": "d71d687c-bfa0-4e0b-8fa3-35eec0dc66d5",
   "metadata": {},
   "source": [
    "36. Replace every element in a list with its square."
   ]
  },
  {
   "cell_type": "code",
   "execution_count": 2,
   "id": "cd893eaf-5726-409e-9bf5-4a3c6b4b7bdb",
   "metadata": {},
   "outputs": [
    {
     "name": "stdout",
     "output_type": "stream",
     "text": [
      "Squared list: [4, 16, 36, 64, 100]\n"
     ]
    }
   ],
   "source": [
    "# Example list\n",
    "my_list = [2, 4, 6, 8, 10]\n",
    "squared_list = [i **2 for i in my_list] # Replace every element with its square using a list comprehension\n",
    "print(\"Squared list:\", squared_list)"
   ]
  },
  {
   "cell_type": "markdown",
   "id": "1ca4bdf4-423c-41ee-8d18-793971b1a661",
   "metadata": {},
   "source": [
    "Explanation:\n",
    "* Initialized a variable my_list with a list of int values.\n",
    "* Used the list comprehension to iterate on every element in the  my_list variable and squared the each single element and updated this into a variable squared_list\n",
    "* printed the squared_list"
   ]
  },
  {
   "cell_type": "markdown",
   "id": "677d9683-3ecd-441c-b5ab-37227eef5f17",
   "metadata": {},
   "source": [
    "37. Convert a list to a dictionary where list elements become keys and their\n",
    "indices become values."
   ]
  },
  {
   "cell_type": "code",
   "execution_count": 12,
   "id": "aa383c8b-5705-49e0-a5ee-bd693237139d",
   "metadata": {},
   "outputs": [
    {
     "name": "stdout",
     "output_type": "stream",
     "text": [
      "{'Jas': 0, 'Abdul': 1, 'Praven': 2, 'Vijay': 3}\n"
     ]
    }
   ],
   "source": [
    "names=['Jas', 'Abdul', 'Praven', 'Vijay']\n",
    "converted_type={}\n",
    "for i, j in enumerate(names):\n",
    "     converted_type[j]= i\n",
    "print(converted_type)"
   ]
  },
  {
   "cell_type": "markdown",
   "id": "0cc91c23-bb32-40c3-9ac5-24b9e803a330",
   "metadata": {},
   "source": [
    "Explanation:\n",
    "    \n",
    "* Created a variable \"names\" with list of names in it.\n",
    "* Created a empty dictionary to store the values from the loop iteration.\n",
    "* Iterating every names from the list and using the enumerate method, the enumerate () method adds a counter to an iterable and returns it in the form of an enumerating object. \n",
    "* Updating the keys and values to the empty dictionary we created before. Printing the converted_type to check the list of names are in keys now and the values are their index."
   ]
  },
  {
   "cell_type": "markdown",
   "id": "47637eb4-f168-401a-8284-50331f9f5cc1",
   "metadata": {},
   "source": [
    "38. Shuffle the elements of a list randomly."
   ]
  },
  {
   "cell_type": "code",
   "execution_count": 13,
   "id": "eb30689d-c576-4222-b44f-43eb5118233b",
   "metadata": {},
   "outputs": [
    {
     "name": "stdout",
     "output_type": "stream",
     "text": [
      "Shuffled list: [8, 6, 7, 3, 10, 2, 4, 1, 9, 5]\n"
     ]
    }
   ],
   "source": [
    "import random\n",
    "my_list = [1, 2, 3, 4, 5, 6, 7, 8, 9, 10]\n",
    "random.shuffle(my_list)\n",
    "print(\"Shuffled list:\", my_list)"
   ]
  },
  {
   "cell_type": "markdown",
   "id": "e9ff5b00-d917-4b2b-9a74-732c926331d3",
   "metadata": {},
   "source": [
    "Explanation: \n",
    "* Importing the random module which as the inbuilt function for shuffle\n",
    "* creating a list of numbers arranged from 1-10\n",
    "* using the random.shuffle() method, this will randomly shuffle the elements in the list. \n",
    "* Finally printing our shuffled list variable."
   ]
  },
  {
   "cell_type": "markdown",
   "id": "b59e92dd-11a5-4fd2-8bd9-af312e29444e",
   "metadata": {},
   "source": [
    "39. Create a list of the first 10 factorial numbers."
   ]
  },
  {
   "cell_type": "code",
   "execution_count": 10,
   "id": "3481eac3-0533-46ab-919f-78967db6cf34",
   "metadata": {},
   "outputs": [
    {
     "data": {
      "text/plain": [
       "[1, 1, 2, 6, 24, 120, 720, 5040, 40320, 362880]"
      ]
     },
     "execution_count": 10,
     "metadata": {},
     "output_type": "execute_result"
    }
   ],
   "source": [
    "def factorial (n):\n",
    "    if n == 0 or n ==1:\n",
    "        return 1\n",
    "    return n * factorial(n-1)\n",
    "\n",
    "factorial_numbers= [factorial(number) for number in range(10)]\n",
    "factorial_numbers"
   ]
  },
  {
   "cell_type": "markdown",
   "id": "fe166f56-a2b9-4336-8d9a-a6e59567ad57",
   "metadata": {},
   "source": [
    "Explanation:\n",
    "\n",
    "* Function Definition:\n",
    "The function factorial takes a single parameter n.\n",
    "It uses recursion to calculate the factorial of n.\n",
    "The base case checks if n is 0 or 1, in which case the function returns 1.\n",
    "Otherwise, it returns n multiplied by the factorial of (n-1).\n",
    "* List Comprehension:\n",
    "The line factorial_numbers = [factorial(number) for number in range(10)] creates a list called factorial_numbers.\n",
    "It uses a list comprehension to calculate the factorial of each number in the range from 0 to 9 (10 is exclusive) using the factorial function.\n",
    "* Result:\n",
    "The factorial_numbers list will contain the factorials of numbers from 0 to 9."
   ]
  },
  {
   "cell_type": "markdown",
   "id": "1b3161a6-a4e0-4df2-9a78-d25acd8677bd",
   "metadata": {},
   "source": [
    "40. Check if two lists have at least one element in common."
   ]
  },
  {
   "cell_type": "code",
   "execution_count": 5,
   "id": "ebd43a63-44a7-485c-962f-a622013eaa20",
   "metadata": {},
   "outputs": [
    {
     "name": "stdout",
     "output_type": "stream",
     "text": [
      "Does the list has atleas one common element : True\n"
     ]
    }
   ],
   "source": [
    "def common_element(a,b):\n",
    "    for i in a:\n",
    "        if i in b:\n",
    "            return True\n",
    "    return false\n",
    "        \n",
    "a= ['apple', 'banana', 'orange','mango']\n",
    "b= ['pineapple', 'avacodo', 'orange', 'orange', 'apple', 'mango','pineapple']\n",
    "print('Does the list has atleas one common element :',common_element(a,b))"
   ]
  },
  {
   "cell_type": "markdown",
   "id": "ef5e1190-4b6f-4a33-a8cc-29d117829e3d",
   "metadata": {},
   "source": [
    "Explanation\n",
    "\n",
    "* Function Definition:\n",
    "The function common_element takes two lists, a and b, as parameters.\n",
    "It uses a for loop to iterate over each element (i) in the first list a.\n",
    "Inside the loop, it checks if the current element i is present in the second list b using the in keyword.\n",
    "If a common element is found, the function immediately returns True.\n",
    "If the loop completes without finding any common element, it returns False.\n",
    "* Lists:\n",
    "Two lists, a and b, are defined. These lists contain strings representing different fruits.\n",
    "* Function Call:\n",
    "The common_element function is called with the lists a and b as arguments.\n",
    "The result (either True or False) is printed along with a descriptive message.\n",
    "* Output:\n",
    "The function checks if there is at least one common element between the two lists (a and b)."
   ]
  },
  {
   "cell_type": "markdown",
   "id": "55ccdc03-454b-4c56-a64a-56011afc35ee",
   "metadata": {},
   "source": [
    "41. Remove all elements from a list."
   ]
  },
  {
   "cell_type": "code",
   "execution_count": 9,
   "id": "926893e6-4c34-4411-ac25-9f6df9e573fc",
   "metadata": {},
   "outputs": [
    {
     "name": "stdout",
     "output_type": "stream",
     "text": [
      "[]\n"
     ]
    }
   ],
   "source": [
    "fruits= ['apple', 'banana', 'orange','mango']\n",
    "fruits.clear()\n",
    "print(fruits)"
   ]
  },
  {
   "cell_type": "markdown",
   "id": "6cda7c76-09fb-4298-ad3d-9c3d2d62bc7e",
   "metadata": {},
   "source": [
    "Explanation:\n",
    "\n",
    "- Created a variable called fruits with lits of fruits   \n",
    "- used the clear() method in list function to clear all the element in the list "
   ]
  },
  {
   "cell_type": "markdown",
   "id": "f8274a6a-f7bd-48da-88d9-90d30ae552b6",
   "metadata": {},
   "source": [
    "42. Replace negative numbers in a list with 0."
   ]
  },
  {
   "cell_type": "code",
   "execution_count": 26,
   "id": "7c8112ac-4f2b-45c5-a820-6baeb9f7f715",
   "metadata": {},
   "outputs": [
    {
     "name": "stdout",
     "output_type": "stream",
     "text": [
      "Original numbers :[1, -2, 3, 4, 5, -4]\n",
      "replaced numbers : [1, 0, 3, 4, 5, 0]\n"
     ]
    }
   ],
   "source": [
    "numbers= [1,-2,3,4,5,-4]\n",
    "new_numbers=[0 if i < 0 else i for i in numbers]\n",
    "print(f'''Original numbers :{numbers}\n",
    "replaced numbers : {new_numbers}''')"
   ]
  },
  {
   "cell_type": "markdown",
   "id": "95ae5957-22dd-40ce-9211-c20d6ca3cd59",
   "metadata": {},
   "source": [
    "Explanation:\n",
    "\n",
    "* List Comprehension:\n",
    "The line new_numbers = [0 if i < 0 else i for i in numbers] uses list comprehension.\n",
    "It iterates through each element (i) in the original numbers list.\n",
    "If the element is negative (i < 0), it appends 0 to the new list; otherwise, it appends the original element i.\n",
    "* Print Statement:\n",
    "The print statement outputs both the original list (numbers) and the modified list (new_numbers).\n",
    "It uses an f-string for formatting.\n"
   ]
  },
  {
   "cell_type": "markdown",
   "id": "a9e2042e-eef3-4a72-bf23-61b0230978e7",
   "metadata": {},
   "source": [
    "43. Convert a string into a list of words."
   ]
  },
  {
   "cell_type": "code",
   "execution_count": 27,
   "id": "964f8a4e-0b3c-4157-b73a-0c2f99a4a882",
   "metadata": {},
   "outputs": [
    {
     "name": "stdout",
     "output_type": "stream",
     "text": [
      "List of words: ['Hello,', 'this', 'is', 'a', 'sample', 'sentence.']\n"
     ]
    }
   ],
   "source": [
    "my_string = \"Hello, this is a sample sentence.\"\n",
    "word_list = my_string.split()\n",
    "print(\"List of words:\", word_list)"
   ]
  },
  {
   "cell_type": "markdown",
   "id": "9351e554-2652-4a14-b22d-2b11cbc28319",
   "metadata": {},
   "source": [
    "Explanation:\n",
    "\n",
    "* String Splitting:\n",
    "The line word_list = my_string.split() uses the split() method on the string my_string.\n",
    "This method splits the string into a list of words, using whitespace as the default delimiter.\n",
    "* Print Statement:\n",
    "The print(\"List of words:\", word_list) statement outputs a message along with the list of words.\n",
    "It uses an f-string to format the output."
   ]
  },
  {
   "cell_type": "markdown",
   "id": "ed0361c9-9e75-4ff8-bfc9-5ea1caca3901",
   "metadata": {},
   "source": [
    "44. Convert a list of words into a string."
   ]
  },
  {
   "cell_type": "code",
   "execution_count": 32,
   "id": "42539331-acc7-4f85-8bb3-836a04baa1a4",
   "metadata": {},
   "outputs": [
    {
     "name": "stdout",
     "output_type": "stream",
     "text": [
      "Hello, this is a sample sentence.\n"
     ]
    }
   ],
   "source": [
    "List_of_words= ['Hello,', 'this', 'is', 'a', 'sample', 'sentence.']\n",
    "joined_words= ' '.join(List_of_words)\n",
    "print(joined_words)"
   ]
  },
  {
   "cell_type": "markdown",
   "id": "6ea268ab-8bd1-46d0-a935-b61acc7c0e3b",
   "metadata": {},
   "source": [
    "Explanation:\n",
    "\n",
    "* List Joining:\n",
    "The line joined_words = ' '.join(List_of_words) uses the join() method to concatenate the elements of List_of_words into a single string.\n",
    "The string ' ' is used as the separator, indicating that a space should be inserted between each pair of joined words.\n",
    "* Print Statement:\n",
    "The print(joined_words) statement outputs the result of the joining operation.\n",
    "* Output:\n",
    "The output displays the string obtained by joining the elements of List_of_words with spaces."
   ]
  },
  {
   "cell_type": "markdown",
   "id": "279d74fd-4736-4b47-a7b5-34e8aeb50859",
   "metadata": {},
   "source": [
    "45. Create a list of the first `n` powers of 2."
   ]
  },
  {
   "cell_type": "code",
   "execution_count": 4,
   "id": "fc9de01d-01f0-4b91-8290-09629f36778b",
   "metadata": {},
   "outputs": [
    {
     "name": "stdout",
     "output_type": "stream",
     "text": [
      "[1, 2, 4, 8, 16]\n"
     ]
    }
   ],
   "source": [
    "n=5\n",
    "result= [2**i for i in range(n)]\n",
    "print(\"List of the first\", n, \"powers of 2:\",result)"
   ]
  },
  {
   "cell_type": "markdown",
   "id": "0f8aa166-38c9-455b-b954-2f71fff2b5cd",
   "metadata": {},
   "source": [
    "Explanation:\n",
    "    \n",
    "* List Comprehension:\n",
    "The line result = [2**i for i in range(n)] uses list comprehension.\n",
    "It iterates over the range from 0 to n-1 and calculates 2**i for each i.\n",
    "The result is a list containing the first n powers of 2.\n",
    "* Print Statement:\n",
    "The print(result) statement outputs the list of powers of 2."
   ]
  },
  {
   "cell_type": "markdown",
   "id": "7455c9cb-0868-4ffe-b7e8-bfe43835486e",
   "metadata": {},
   "source": [
    "46. Find the longest string in a list of strings."
   ]
  },
  {
   "cell_type": "code",
   "execution_count": 12,
   "id": "fa4219fd-e0f7-44a0-bfe7-e947e7c98232",
   "metadata": {},
   "outputs": [
    {
     "name": "stdout",
     "output_type": "stream",
     "text": [
      "The longest string in the list is watermelon\n"
     ]
    }
   ],
   "source": [
    "fruits= ['apple', 'banana', 'orange','mango', 'watermelon']\n",
    "longest_sting=''\n",
    "for i in fruits:\n",
    "    if len(i) >len(longest_sting):\n",
    "        longest_sting= i\n",
    "print('The longest string in the list is', longest_sting)"
   ]
  },
  {
   "cell_type": "markdown",
   "id": "067fec9f-5d2c-423f-a392-15b214357b0c",
   "metadata": {},
   "source": [
    "Explanation:\n",
    "\n",
    "* Initialization:\n",
    "The line fruits = ['apple', 'banana', 'orange', 'mango', 'watermelon'] initializes a list named fruits with strings representing different fruits.\n",
    "The line longest_sting = '' initializes an empty string named longest_sting. This will be used to store the longest string found in the fruits list.\n",
    "* For Loop:\n",
    "The for loop iterates over each element (i) in the fruits list.\n",
    "* Condition:\n",
    "Inside the loop, the if statement checks if the length of the current element i is greater than the length of the current longest_sting.\n",
    "If true, it updates longest_sting to be the current element i.\n",
    "* Print Statement:\n",
    "The print('The longest string in the list is', longest_sting) statement outputs the result.\n",
    "It indicates the longest string found in the fruits list."
   ]
  },
  {
   "cell_type": "markdown",
   "id": "a68efe34-0842-4c69-bd4c-fd1da5e7a768",
   "metadata": {},
   "source": [
    "47. Find the shortest string in a list of strings."
   ]
  },
  {
   "cell_type": "code",
   "execution_count": 17,
   "id": "e6c896cf-aeeb-43fe-9203-4a5bd7c4b63f",
   "metadata": {},
   "outputs": [
    {
     "name": "stdout",
     "output_type": "stream",
     "text": [
      "The Shortest string in the list is apple\n"
     ]
    }
   ],
   "source": [
    "fruits= ['apple', 'banana', 'orange','mangoes', 'watermelon']\n",
    "shortest_sting=fruits[0]\n",
    "for i in fruits:\n",
    "    if len(i) <len(shortest_sting):\n",
    "        shortest_sting= i\n",
    "print('The Shortest string in the list is', shortest_sting)"
   ]
  },
  {
   "cell_type": "markdown",
   "id": "107547f2-76e6-4d34-82f6-71ed4dab0ec8",
   "metadata": {},
   "source": [
    "Explanation:\n",
    "\n",
    "* Initialization:\n",
    "The line fruits = ['apple', 'banana', 'orange', 'mangoes', 'watermelon'] initializes a list named fruits with strings representing different fruits.\n",
    "The line shortest_sting = fruits[0] initializes shortest_sting with the first string in the fruits list. This will be used to store the shortest string found in the list.\n",
    "* For Loop:\n",
    "The for loop iterates over each element (i) in the fruits list.\n",
    "* Condition:\n",
    "Inside the loop, the if statement checks if the length of the current element i is less than the length of the current shortest_sting.\n",
    "If true, it updates shortest_sting to be the current element i.\n",
    "* Print Statement:\n",
    "The print('The Shortest string in the list is', shortest_sting) statement outputs the result.\n",
    "It indicates the shortest string found in the fruits list."
   ]
  },
  {
   "cell_type": "markdown",
   "id": "7e2b3c57-b8f3-4f1c-97ad-7f751ecccbdc",
   "metadata": {},
   "source": [
    "48. Create a list of the first `n` triangular numbers."
   ]
  },
  {
   "cell_type": "code",
   "execution_count": 30,
   "id": "ca92a726-e7d4-473b-b949-69bf311f430d",
   "metadata": {},
   "outputs": [
    {
     "name": "stdout",
     "output_type": "stream",
     "text": [
      "List of the first 5 triangular numbers: [1, 3, 6, 10, 15]\n"
     ]
    }
   ],
   "source": [
    "def triangular_numbers(n):\n",
    "    return [i * (i + 1) // 2 for i in range(1, n + 1)]\n",
    "n = 5\n",
    "triangular_list = triangular_numbers(n)\n",
    "print(\"List of the first\", n, \"triangular numbers:\", triangular_list)"
   ]
  },
  {
   "cell_type": "markdown",
   "id": "5f44bea9-5ad7-4848-aca2-9cc190bf13cb",
   "metadata": {},
   "source": [
    "Explanation:\n",
    "\n",
    "* Function Definition:\n",
    "The function triangular_numbers(n) takes a parameter n.\n",
    "It uses a list comprehension to generate a list of the first n triangular numbers.\n",
    "The formula for the triangular number at position i is i * (i + 1) // 2\n",
    "The function returns the list of triangular numbers.\n",
    "* Function Call:\n",
    "The line n = 5 sets the value of n to 5.\n",
    "The line triangular_list = triangular_numbers(n) calls the triangular_numbers function with n as an argument and stores the result in the variable triangular_list.\n",
    "* Print Statement:\n",
    "The line print(\"List of the first\", n, \"triangular numbers:\", triangular_list) outputs the result.\n",
    "It displays a message along with the list of the first n triangular numbers."
   ]
  },
  {
   "cell_type": "markdown",
   "id": "cf7dfbea-7a58-44fe-9fd4-241984bcff17",
   "metadata": {},
   "source": [
    "49. Check if a list contains another list as a subsequence."
   ]
  },
  {
   "cell_type": "code",
   "execution_count": 34,
   "id": "4119a7c3-2672-45ce-be1e-efde3b661aab",
   "metadata": {},
   "outputs": [
    {
     "name": "stdout",
     "output_type": "stream",
     "text": [
      "Main list contains the subsequence.\n"
     ]
    }
   ],
   "source": [
    "def is_subsequence(subsequence, main_list):\n",
    "    subseq_index = 0  \n",
    "    for element in main_list:\n",
    "        if element == subsequence[subseq_index]:\n",
    "            subseq_index += 1\n",
    "            if subseq_index == len(subsequence):\n",
    "                return True\n",
    "    return False\n",
    "\n",
    "main_list = ['apple', 'orange', 'watermelon', 'pineapple', 'grapes', 'nuts']\n",
    "subsequence = ['orange', 'grapes',  'nuts']\n",
    "\n",
    "if is_subsequence(subsequence, main_list):\n",
    "    print(\"Main list contains the subsequence.\")\n",
    "else:\n",
    "    print(\"Main list does not contain the subsequence.\")"
   ]
  },
  {
   "cell_type": "markdown",
   "id": "dc26e55d-eea2-4ed4-b7e3-b88f87c7c0cb",
   "metadata": {},
   "source": [
    "Explanation: \n",
    "\n",
    "* Function Definition:\n",
    "The function is_subsequence(subsequence, main_list) checks if main_list contains the elements of subsequence in the same order.\n",
    "It uses a loop to iterate through each element in main_list.\n",
    "If an element in main_list matches the current element in subsequence, it continues checking the next elements in both lists.\n",
    "If all elements of subsequence are found in order within main_list, the function returns True; otherwise, it returns False.\n",
    "* Lists Initialization:\n",
    "The line main_list = ['apple', 'orange', 'watermelon', 'pineapple', 'grapes', 'nuts'] initializes a list named main_list.\n",
    "The line subsequence = ['orange', 'grapes', 'nuts'] initializes a list named subsequence.\n",
    "* Function Call:\n",
    "The line if is_subsequence(subsequence, main_list): calls the is_subsequence function with subsequence and main_list as arguments.\n",
    "Depending on the result, it prints whether the main list contains the subsequence or not."
   ]
  },
  {
   "cell_type": "markdown",
   "id": "0a914042-0856-49b5-aaf0-485eda624f85",
   "metadata": {},
   "source": [
    "50. Swap two elements in a list by their indices."
   ]
  },
  {
   "cell_type": "code",
   "execution_count": 3,
   "id": "630a84e4-f69d-4b81-bcae-4d86c8d3da27",
   "metadata": {},
   "outputs": [
    {
     "name": "stdout",
     "output_type": "stream",
     "text": [
      "List after swapping elements: [1, 4, 3, 2, 5]\n"
     ]
    }
   ],
   "source": [
    "my_list = [1, 2, 3, 4, 5]\n",
    "index1 = 1\n",
    "index2 = 3\n",
    "temp = my_list[index1]  # Swap the elements at the specified indices\n",
    "my_list[index1] = my_list[index2]\n",
    "my_list[index2] = temp\n",
    "print(\"List after swapping elements:\", my_list)"
   ]
  },
  {
   "cell_type": "markdown",
   "id": "92a9dae7-aa76-4849-ac17-5b35bf3e0c13",
   "metadata": {},
   "source": [
    "Explanation:\n",
    "\n",
    "* List and Indices:\n",
    "The line my_list = [1, 2, 3, 4, 5] initializes a list named my_list with integer elements.\n",
    "The variables index1 and index2 are set to 1 and 3, respectively. These are the indices of the elements to be swapped.\n",
    "* Swapping Elements:\n",
    "The line temp = my_list[index1] temporarily stores the value at index index1.\n",
    "The line my_list[index1] = my_list[index2] assigns the value at index index2 to the position of index index1.\n",
    "The line my_list[index2] = temp assigns the temporarily stored value to the position of index index2.\n",
    "These operations effectively swap the elements at the specified indices.\n",
    "* Print Statement:\n",
    "The line print(\"List after swapping elements:\", my_list) outputs the result.\n",
    "It displays the modified list after swapping the elements."
   ]
  },
  {
   "cell_type": "markdown",
   "id": "e33ef5cf-17bd-4f65-90a2-63c02dd6c072",
   "metadata": {},
   "source": [
    "# Tuple Based Practice Problem :"
   ]
  },
  {
   "cell_type": "markdown",
   "id": "cad49619-2bf5-4ecd-866e-cf48d42d763a",
   "metadata": {},
   "source": [
    "1. Create a tuple with integers from 1 to 5."
   ]
  },
  {
   "cell_type": "code",
   "execution_count": 6,
   "id": "5404278b-bbb2-4dcf-8791-e01236d06ec0",
   "metadata": {},
   "outputs": [
    {
     "name": "stdout",
     "output_type": "stream",
     "text": [
      "(1, 2, 3, 4, 5)\n"
     ]
    }
   ],
   "source": [
    "_tuple = (1, 2, 3, 4, 5)\n",
    "print(_tuple)"
   ]
  },
  {
   "cell_type": "markdown",
   "id": "bf09a308-50b9-43a0-b2bf-3309f79654d1",
   "metadata": {},
   "source": [
    "- Used parentheses to create a tuple named _tuple containing the integers from 1 to 5.\n",
    "- print the tuple using the print() statement."
   ]
  },
  {
   "cell_type": "markdown",
   "id": "2e9ad128-27b7-41df-8f93-4c536ef912c3",
   "metadata": {},
   "source": [
    "2. Access the third element of a tuple."
   ]
  },
  {
   "cell_type": "code",
   "execution_count": 5,
   "id": "2f408249-4d11-4501-aad6-d75b46d3390b",
   "metadata": {},
   "outputs": [
    {
     "name": "stdout",
     "output_type": "stream",
     "text": [
      "The third element of the tuple is: 30\n"
     ]
    }
   ],
   "source": [
    "my_tuple = (10, 20, 30, 40, 50)\n",
    "third_element = my_tuple[2]\n",
    "print(\"The third element of the tuple is:\", third_element)"
   ]
  },
  {
   "cell_type": "markdown",
   "id": "e77d083a-057b-4211-a1fb-ff7ce84187df",
   "metadata": {},
   "source": [
    "- Created a tuple named my_tuple with five elements: 10, 20, 30, 40, and 50.\n",
    "- To access elements of a tuple, we use square brackets [] with the index of the element we want to access. Tuples are zero-indexed, so the third element has an index of 2.\n",
    "- We store the value of the third element (30) in the variable third_element.\n",
    "- Finally, we use the print function to display a message along with the value of the third element of the tuple."
   ]
  },
  {
   "cell_type": "markdown",
   "id": "ce3e560d-af92-4e5f-9f91-56700894f062",
   "metadata": {},
   "source": [
    "3. Find the length of a tuple without using the `len()` function."
   ]
  },
  {
   "cell_type": "code",
   "execution_count": 1,
   "id": "f55fd2c0-db12-441b-91a5-8f18a6711ae7",
   "metadata": {},
   "outputs": [
    {
     "name": "stdout",
     "output_type": "stream",
     "text": [
      "5\n"
     ]
    }
   ],
   "source": [
    "my_tuple = (10, 20, 30, 40, 50)\n",
    "count = 0\n",
    "for i in my_tuple:\n",
    "    count += 1\n",
    "print(count)"
   ]
  },
  {
   "cell_type": "markdown",
   "id": "7a949534-874b-4320-b2d9-35f9a75c5e3f",
   "metadata": {},
   "source": [
    "Explanation:\n",
    "\n",
    "* Tuple and Initialization:\n",
    "The line my_tuple = (10, 20, 30, 40, 50) creates a tuple named my_tuple with integer elements.\n",
    "The variable count is initialized to 0. This variable will be used to count the number of elements in the tuple.\n",
    "* For Loop:\n",
    "The for loop iterates over each element (i) in the my_tuple.\n",
    "Inside the loop, the count += 1 statement increments the count for each element encountered in the tuple.\n",
    "* Print Statement:\n",
    "The line print(count) outputs the result.\n",
    "It displays the final count, representing the number of elements in the tuple."
   ]
  },
  {
   "cell_type": "markdown",
   "id": "ad6a5388-cf5e-46e1-b5be-18e5d8e93c7e",
   "metadata": {},
   "source": [
    "4. Count the occurrences of an element in a tuple."
   ]
  },
  {
   "cell_type": "code",
   "execution_count": 3,
   "id": "20bda8a7-7cdb-402f-93f0-f091920179ae",
   "metadata": {},
   "outputs": [
    {
     "name": "stdout",
     "output_type": "stream",
     "text": [
      "The element 20 appears 3 times in the tuple.\n"
     ]
    }
   ],
   "source": [
    "my_tuple = (10, 20, 30, 20, 40, 50, 20)\n",
    "element_to_count = 20\n",
    "count = 0\n",
    "for item in my_tuple: # Iterate through the tuple and count occurrences of the chosen element\n",
    "    if item == element_to_count:\n",
    "        count += 1\n",
    "print(f\"The element {element_to_count} appears {count} times in the tuple.\")"
   ]
  },
  {
   "cell_type": "markdown",
   "id": "574847ac-f523-4b3d-b877-2189bc97f195",
   "metadata": {},
   "source": [
    "Explanation: \n",
    "    \n",
    "* Tuple and Initialization:\n",
    "The line my_tuple = (10, 20, 30, 20, 40, 50, 20) creates a tuple named my_tuple with integer elements.\n",
    "The variable element_to_count is set to 20. This variable represents the element for which the occurrences will be counted.\n",
    "The variable count is initialized to 0. This variable will be used to count the occurrences of the chosen element.\n",
    "* For Loop:\n",
    "The for loop iterates over each element (item) in the my_tuple.\n",
    "Inside the loop, the if statement checks if the current element (item) is equal to the chosen element to count (element_to_count).\n",
    "If true, it increments the count by 1 for each occurrence of the chosen element.\n",
    "* Print Statement:\n",
    "The line print(f\"The element {element_to_count} appears {count} times in the tuple.\") outputs the result.\n",
    "It displays a message indicating the number of times the chosen element appears in the tuple."
   ]
  },
  {
   "cell_type": "markdown",
   "id": "b444c05f-57a4-4947-b256-57917cc39156",
   "metadata": {},
   "source": [
    "5. Find the index of the first occurrence of an element in a tuple."
   ]
  },
  {
   "cell_type": "code",
   "execution_count": 4,
   "id": "d717f7ab-9232-4d01-8d02-f5fe9d8f6fbc",
   "metadata": {},
   "outputs": [
    {
     "name": "stdout",
     "output_type": "stream",
     "text": [
      "The first occurrence of 20 is at index 1.\n"
     ]
    }
   ],
   "source": [
    "my_tuple = (10, 20, 30, 20, 40, 50)\n",
    "element_to_find = 20\n",
    "index = -1  # Initialize with -1 to indicate that the element was not found\n",
    "for i, item in enumerate(my_tuple):\n",
    "    if item == element_to_find:\n",
    "        index = i\n",
    "        break  # Exit the loop once the first occurrence is found\n",
    "if index != -1: # Print the index of the first occurrence\n",
    "    print(f\"The first occurrence of {element_to_find} is at index {index}.\")\n",
    "else:\n",
    "    print(f\"{element_to_find} is not found in the tuple.\")"
   ]
  },
  {
   "cell_type": "markdown",
   "id": "56486512-0f55-40bb-9e2a-0cecf0ec426e",
   "metadata": {},
   "source": [
    "Explanation: \n",
    "\n",
    "* Tuple and Initialization:\n",
    "The line my_tuple = (10, 20, 30, 20, 40, 50) creates a tuple named my_tuple with integer elements.\n",
    "The variable element_to_find is set to 20. This variable represents the element to be searched for.\n",
    "The variable index is initialized to -1. This variable will be used to store the index of the first occurrence of the element, or -1 if the element is not found.\n",
    "* For Loop with Enumeration:\n",
    "The for loop iterates over each element (item) in the my_tuple along with its index (i).\n",
    "Inside the loop, the if statement checks if the current element (item) is equal to the element to be found (element_to_find).\n",
    "If true, it updates the index with the current index (i) and exits the loop using break.\n",
    "* Print Statement:\n",
    "The lines if index != -1: and print(f\"The first occurrence of {element_to_find} is at index {index}.\") handle the output.\n",
    "If the element is found (index != -1), it prints the message with the index.\n",
    "If the element is not found, it prints a message indicating that."
   ]
  },
  {
   "cell_type": "markdown",
   "id": "3f64a59f-b57c-46fe-bf22-b52ef2d894fc",
   "metadata": {},
   "source": [
    "6. Check if an element exists in a tuple."
   ]
  },
  {
   "cell_type": "code",
   "execution_count": 10,
   "id": "20523841-7cac-4a7c-8168-cbe0c2768b93",
   "metadata": {},
   "outputs": [
    {
     "data": {
      "text/plain": [
       "'40 exists in the tuple.'"
      ]
     },
     "execution_count": 10,
     "metadata": {},
     "output_type": "execute_result"
    }
   ],
   "source": [
    "def check(tuple_, element):\n",
    "    if element in tuple_:\n",
    "        return f\"{element} exists in the tuple.\"\n",
    "    return f\"{element} does not exist in the tuple.\"\n",
    "tuple_= (10, 20, 30, 20, 40, 50)\n",
    "element= 40\n",
    "\n",
    "check(tuple_, element)"
   ]
  },
  {
   "cell_type": "markdown",
   "id": "1e153642-6d28-41fa-9d0d-dc67c7b76d3c",
   "metadata": {},
   "source": [
    "Explanation: \n",
    "\n",
    "* Function Definition:\n",
    "The function check(tuple_, element) takes two parameters: tuple_ (the tuple to be checked) and element (the element to be checked for).\n",
    "Inside the function, it uses the in operator to check if the specified element is present in the given tuple.\n",
    "If the element is found in the tuple, it returns a message indicating that the element exists in the tuple. Otherwise, it returns a message indicating that the element does not exist in the tuple.\n",
    "* Function Call:\n",
    "The line check(tuple_, element) calls the check function with the provided tuple and element as arguments."
   ]
  },
  {
   "cell_type": "markdown",
   "id": "74db12e3-77d8-4b9d-9f0a-633199c479dc",
   "metadata": {},
   "source": [
    "7. Convert a tuple to a list."
   ]
  },
  {
   "cell_type": "code",
   "execution_count": 20,
   "id": "1dd1cd87-957c-4e79-8f75-0efdae5d8b76",
   "metadata": {},
   "outputs": [
    {
     "name": "stdout",
     "output_type": "stream",
     "text": [
      "Before : (10, 20, 30, 20, 40, 50) its type <class 'tuple'>\n",
      "After : [10, 20, 30, 20, 40, 50] its type <class 'list'>\n"
     ]
    }
   ],
   "source": [
    "tuple_= (10, 20, 30, 20, 40, 50)\n",
    "list_= list(tuple_)\n",
    "\n",
    "print(f'''Before : {tuple_} its type {type(tuple_)}\n",
    "After : {list_} its type {type(list_)}''')"
   ]
  },
  {
   "cell_type": "markdown",
   "id": "6a871e01-42c7-4b9a-ab84-ae73af058cf9",
   "metadata": {},
   "source": [
    "Explanation:\n",
    "\n",
    "* Created a tuple with list of int values and assigend to variable called tuple_\n",
    "* Used the list() method to type cast the tuple into list \n",
    "* printed the before and after of list and tuple along with its type using f-string."
   ]
  },
  {
   "cell_type": "markdown",
   "id": "67b96c57-a150-4ebb-8d94-714ccfca67e1",
   "metadata": {},
   "source": [
    "8. Convert a list to a tuple."
   ]
  },
  {
   "cell_type": "code",
   "execution_count": 21,
   "id": "803ebe39-3ebf-4947-a178-fb86f63a881a",
   "metadata": {},
   "outputs": [
    {
     "name": "stdout",
     "output_type": "stream",
     "text": [
      "Before : [10, 20, 30, 20, 40, 50] its type <class 'list'>\n",
      "After : (10, 20, 30, 20, 40, 50) its type <class 'tuple'>\n"
     ]
    }
   ],
   "source": [
    "list_= [10, 20, 30, 20, 40, 50] \n",
    "tuple_= tuple(tuple_)\n",
    "\n",
    "print(f'''Before : {list_} its type {type(list_)}\n",
    "After : {tuple_} its type {type(tuple_)}''')"
   ]
  },
  {
   "cell_type": "markdown",
   "id": "9a67d757-515f-4134-95aa-5e582e54955b",
   "metadata": {},
   "source": [
    "Explanation:\n",
    "\n",
    "* Created a list with list of int values and assigend to variable called list_\n",
    "* Used the tuple() method to type cast the list into tuple \n",
    "* printed the before and after of list and tuple along with its type using f-string."
   ]
  },
  {
   "cell_type": "markdown",
   "id": "4c981560-4902-45f0-a766-45cc8cb0d53b",
   "metadata": {},
   "source": [
    "9. Unpack the elements of a tuple into variables."
   ]
  },
  {
   "cell_type": "code",
   "execution_count": 28,
   "id": "6f2886d6-54df-4f97-8b08-261dcdfbe5f1",
   "metadata": {},
   "outputs": [
    {
     "name": "stdout",
     "output_type": "stream",
     "text": [
      "var1: 10\n",
      "var2: 20\n",
      "var3: 30\n"
     ]
    }
   ],
   "source": [
    "my_tuple = (10, 20, 30)\n",
    "var1, var2, var3 = my_tuple   # Unpack the elements of the tuple into variables\n",
    "\n",
    "print(\"var1:\", var1) # Print the variables\n",
    "print(\"var2:\", var2)\n",
    "print(\"var3:\", var3)"
   ]
  },
  {
   "cell_type": "markdown",
   "id": "73d67573-aaf2-44f5-a90d-b9e172011058",
   "metadata": {},
   "source": [
    "Explanation:\n",
    "\n",
    "- Tuple and Unpacking:\n",
    "The line my_tuple = (10, 20, 30) creates a tuple named my_tuple with three integer elements.\n",
    "The line var1, var2, var3 = my_tuple unpacks the elements of the tuple into three variables (var1, var2, and var3).\n",
    "Each variable is assigned the corresponding value from the tuple.\n",
    "- Print Statements:\n",
    "The lines print(\"var1:\", var1), print(\"var2:\", var2), and print(\"var3:\", var3) output the result.\n",
    "They display the values of the variables var1, var2, and var3, respectively."
   ]
  },
  {
   "cell_type": "markdown",
   "id": "aa042b35-d44c-4662-8779-a28ee8fd8077",
   "metadata": {},
   "source": [
    "10. Create a tuple of even numbers from 1 to 10."
   ]
  },
  {
   "cell_type": "code",
   "execution_count": 33,
   "id": "b888b86f-11ae-46f1-928c-c18ecd1ffea5",
   "metadata": {},
   "outputs": [
    {
     "name": "stdout",
     "output_type": "stream",
     "text": [
      "Tuple of even numbers: (2, 4, 6, 8, 10)\n"
     ]
    }
   ],
   "source": [
    "even_numbers_list = [num for num in range(2, 11, 2)]  # Start from 2, step by 2, end at 10\n",
    "even_numbers_tuple = tuple(even_numbers_list)   #Convert the list to a tuple\n",
    "\n",
    "print(\"Tuple of even numbers:\", even_numbers_tuple)"
   ]
  },
  {
   "cell_type": "markdown",
   "id": "a2d64ecf-58eb-4c93-83a6-55b6c765f2a9",
   "metadata": {},
   "source": [
    "Explanation:\n",
    "\n",
    "- List Comprehension:\n",
    "The line even_numbers_list = [num for num in range(2, 11, 2)] creates a list named even_numbers_list using list comprehension.\n",
    "It generates even numbers starting from 2, with a step of 2, up to (but not including) 11.\n",
    "- Tuple Conversion:\n",
    "The line even_numbers_tuple = tuple(even_numbers_list) converts the list even_numbers_list to a tuple named even_numbers_tuple.\n",
    "This is achieved by using the tuple() constructor, which takes an iterable (in this case, a list) and creates a tuple.\n",
    "- Print Statement:\n",
    "The line print(\"Tuple of even numbers:\", even_numbers_tuple) outputs the result.\n",
    "It displays a message along with the tuple of even numbers."
   ]
  },
  {
   "cell_type": "markdown",
   "id": "01f440a3-8381-4d5b-8769-509cb24732f0",
   "metadata": {},
   "source": [
    "11. Create a tuple of odd numbers from 1 to 10."
   ]
  },
  {
   "cell_type": "code",
   "execution_count": 35,
   "id": "c8b6f264-9813-4519-a977-800502ca2c96",
   "metadata": {},
   "outputs": [
    {
     "name": "stdout",
     "output_type": "stream",
     "text": [
      "Tuple of odd numbers: (1, 3, 5, 7, 9)\n"
     ]
    }
   ],
   "source": [
    "odd_numbers_list = [num for num in range(1, 11, 2)]  # Start from 1, step by 2, end at 11\n",
    "odd_numbers_tuple = tuple(odd_numbers_list)  # Convert the list to a tuple\n",
    "\n",
    "print(\"Tuple of odd numbers:\", odd_numbers_tuple)"
   ]
  },
  {
   "cell_type": "markdown",
   "id": "1738921d-8ffa-4987-94f7-3228064c131f",
   "metadata": {},
   "source": [
    "Explanation:\n",
    "\n",
    "- The list comprehension [num for num in range(1, 11, 2)] generates odd numbers starting from 1, with a step of 2, up to (but not including) 11.\n",
    "- The tuple() constructor converts the list to a tuple.\n",
    "- The print statement displays the message along with the tuple of odd numbers."
   ]
  },
  {
   "cell_type": "markdown",
   "id": "e0b480b7-74cb-4898-9972-90e98170a9af",
   "metadata": {},
   "source": [
    "12. Concatenate two tuples."
   ]
  },
  {
   "cell_type": "code",
   "execution_count": 37,
   "id": "2fa16c50-94da-451c-91b4-50414531116e",
   "metadata": {},
   "outputs": [
    {
     "name": "stdout",
     "output_type": "stream",
     "text": [
      "(1, 3, 4, 5, 6, 7, 8, 9, 10, 11)\n"
     ]
    }
   ],
   "source": [
    "tuple1= (1,3,4,5,6)\n",
    "tuple2= (7,8,9,10,11)\n",
    "concatenated_tuple= tuple1+tuple2\n",
    "print(concatenated_tuple)"
   ]
  },
  {
   "cell_type": "markdown",
   "id": "2d713185-251e-4648-aafc-629013c5abec",
   "metadata": {},
   "source": [
    "Explanation : \n",
    "    \n",
    "- Tuple Initialization:\n",
    "The lines tuple1 = (1, 3, 4, 5, 6) and tuple2 = (7, 8, 9, 10, 11) initialize two tuples named tuple1 and tuple2 with integer elements.\n",
    "- Concatenation:\n",
    "The line concatenated_tuple = tuple1 + tuple2 concatenates the two tuples using the + operator.\n",
    "This creates a new tuple named concatenated_tuple that contains all the elements from tuple1 followed by all the elements from tuple2.\n",
    "- Print Statement:\n",
    "The line print(concatenated_tuple) outputs the result.\n",
    "It displays the concatenated tuple."
   ]
  },
  {
   "cell_type": "markdown",
   "id": "7010293c-64d1-4703-9735-2ec2048520f7",
   "metadata": {},
   "source": [
    "13. Repeat a tuple three times."
   ]
  },
  {
   "cell_type": "code",
   "execution_count": 39,
   "id": "4180b402-61b2-49c4-b48c-42c6f57b91e2",
   "metadata": {},
   "outputs": [
    {
     "name": "stdout",
     "output_type": "stream",
     "text": [
      "Repeated tuple: (1, 3, 4, 5, 6, 1, 3, 4, 5, 6, 1, 3, 4, 5, 6)\n"
     ]
    }
   ],
   "source": [
    "tuple_= (1,3,4,5,6)\n",
    "repeated_tuple= tuple_*3\n",
    "print(\"Repeated tuple:\", repeated_tuple)"
   ]
  },
  {
   "cell_type": "markdown",
   "id": "58f8b2f7-1411-4f89-9788-79e8758945bc",
   "metadata": {},
   "source": [
    "- We start by creating a tuple named tuple_ with some elements.\n",
    "- We use the * operator to repeat the tuple three times, resulting in a new tuple named repeated_tuple.\n",
    "- We print the repeated tuple."
   ]
  },
  {
   "cell_type": "markdown",
   "id": "6c2a9c4e-c10a-475d-b8f5-912ee0a71302",
   "metadata": {},
   "source": [
    "14. Check if a tuple is empty."
   ]
  },
  {
   "cell_type": "code",
   "execution_count": 4,
   "id": "6dccd848-d7d2-48e7-8e07-96a088ab2516",
   "metadata": {},
   "outputs": [
    {
     "name": "stdout",
     "output_type": "stream",
     "text": [
      "The given tuple is not empty\n",
      "The given tuple is empty\n"
     ]
    }
   ],
   "source": [
    "def check(tuple_):\n",
    "    if tuple_:\n",
    "        return('The given tuple is not empty')\n",
    "    else:\n",
    "        return('The given tuple is empty')\n",
    "\n",
    "tuple_= (1,3,4,5,6)\n",
    "tuple3=()\n",
    "print( check(tuple_)) # printing the function wi\n",
    "print( check(tuple3))"
   ]
  },
  {
   "cell_type": "markdown",
   "id": "17ca2335-ed23-4c8e-8033-93ada555478f",
   "metadata": {},
   "source": [
    "Explanation :\n",
    "    \n",
    "* Function Definition:\n",
    "The function check(tuple_) takes a single parameter tuple_.\n",
    "Inside the function, it checks if the given tuple is truthy (non-empty) using an if statement.\n",
    "If the tuple is truthy, it returns a message indicating that the tuple is not empty. Otherwise, it returns a message indicating that the tuple is empty.\n",
    "* Tuple Initialization:\n",
    "The line tuple_ = (1, 3, 4, 5, 6) initializes a tuple named tuple_ with integer elements.\n",
    "The line tuple3 = () initializes an empty tuple named tuple3.\n",
    "* Function Calls:\n",
    "The lines print(check(tuple_)) and print(check(tuple3)) call the check function with the provided tuples as arguments."
   ]
  },
  {
   "cell_type": "markdown",
   "id": "51e9cc26-e024-4882-b1ac-9bd0f3f5d03a",
   "metadata": {},
   "source": [
    "15. Create a nested tuple."
   ]
  },
  {
   "cell_type": "code",
   "execution_count": 1,
   "id": "89bab5cd-f669-41a3-8cee-8e9fe2e1a35f",
   "metadata": {},
   "outputs": [
    {
     "name": "stdout",
     "output_type": "stream",
     "text": [
      "Nested tuple: ((1, 2, 3), ('a', 'b', 'c'), (True, False))\n"
     ]
    }
   ],
   "source": [
    "nested_tuple = ((1, 2, 3), ('a', 'b', 'c'), (True, False))\n",
    "\n",
    "print(\"Nested tuple:\", nested_tuple)"
   ]
  },
  {
   "cell_type": "markdown",
   "id": "3ae4229f-2de4-423c-93c8-f63a5791f285",
   "metadata": {},
   "source": [
    "- We create a nested tuple named nested_tuple that contains three tuples as its elements. Each of these inner tuples can have different data types.\n",
    "- We print the nested tuple to see its structure."
   ]
  },
  {
   "cell_type": "markdown",
   "id": "74104162-c28c-4ffc-a78f-a98fc804ac93",
   "metadata": {},
   "source": [
    "16. Access the first element of a nested tuple."
   ]
  },
  {
   "cell_type": "code",
   "execution_count": 5,
   "id": "5da27b09-3a66-4d89-af67-56b7f4a9aae6",
   "metadata": {},
   "outputs": [
    {
     "name": "stdout",
     "output_type": "stream",
     "text": [
      "First element of the nested tuple: 1\n"
     ]
    }
   ],
   "source": [
    "nested_tuple = ((1, 2, 3), (4, 5, 6), (7, 8, 9))\n",
    "\n",
    "first_element = nested_tuple[0][0]\n",
    "\n",
    "print(\"First element of the nested tuple:\", first_element)"
   ]
  },
  {
   "cell_type": "markdown",
   "id": "f3442161-405c-4b7d-9d35-07e263dce804",
   "metadata": {},
   "source": [
    "Explanation:\n",
    "\n",
    "* Nested Tuple Initialization:\n",
    "The line nested_tuple = ((1, 2, 3), (4, 5, 6), (7, 8, 9)) initializes a nested tuple named nested_tuple.\n",
    "* Accessing the First Element:\n",
    "The expression nested_tuple[0] accesses the first tuple within the nested tuple.\n",
    "The additional [0] at the end accesses the first element of that first tuple.\n",
    "* Print Statement:\n",
    "The line print(\"First element of the nested tuple:\", first_element) outputs the result.\n",
    "It displays the first element of the nested tuple."
   ]
  },
  {
   "cell_type": "markdown",
   "id": "0d4f6137-2263-4a16-9f22-1be5da0b765a",
   "metadata": {},
   "source": [
    "17. Create a tuple with a single element."
   ]
  },
  {
   "cell_type": "code",
   "execution_count": 8,
   "id": "aa998094-65c3-4fcd-84c5-17f7ffc111cf",
   "metadata": {},
   "outputs": [
    {
     "name": "stdout",
     "output_type": "stream",
     "text": [
      "Single element tuple: (2,)\n"
     ]
    }
   ],
   "source": [
    "single_element_tuple = (2,) \n",
    "\n",
    "print(\"Single element tuple:\", single_element_tuple)"
   ]
  },
  {
   "cell_type": "markdown",
   "id": "fe966b22-95d3-492d-b8d0-9db3d57d7363",
   "metadata": {},
   "source": [
    "- We create a tuple named single_element_tuple with a single element. The key here is to include a trailing comma after the element, which informs Python that you want to create a tuple with one element.\n",
    "- We print the single element tuple to see its contents."
   ]
  },
  {
   "cell_type": "markdown",
   "id": "52cc9c0a-5746-4099-9658-872dbd6f4dba",
   "metadata": {},
   "source": [
    "18. Compare two tuples."
   ]
  },
  {
   "cell_type": "code",
   "execution_count": 13,
   "id": "434a2393-6b8b-4225-9d6e-d87922f0a347",
   "metadata": {},
   "outputs": [
    {
     "name": "stdout",
     "output_type": "stream",
     "text": [
      "tuple1 == tuple2: False\n",
      "tuple1 != tuple2: True\n",
      "tuple1 < tuple2: True\n",
      "tuple1 <= tuple2: True\n",
      "tuple1 > tuple2: False\n",
      "tuple1 >= tuple2: False\n"
     ]
    }
   ],
   "source": [
    "tuple1 = (1, 2, 3)\n",
    "tuple2=(4, 5, 6)\n",
    "\n",
    "''' The six comparison operators are:\n",
    "== or equal to,\n",
    "!= or not equal to,\n",
    "> or greater than,\n",
    ">= or greater than or equal to,\n",
    "< or less than, and.\n",
    "<= or less than or equal to.'''\n",
    "\n",
    "print(\"tuple1 == tuple2:\", tuple1 == tuple2)  \n",
    "print(\"tuple1 != tuple2:\", tuple1 != tuple2)  \n",
    "print(\"tuple1 < tuple2:\", tuple1 < tuple2)  \n",
    "print(\"tuple1 <= tuple2:\", tuple1 <= tuple2) \n",
    "print(\"tuple1 > tuple2:\", tuple1 > tuple2)   \n",
    "print(\"tuple1 >= tuple2:\", tuple1 >= tuple2) \n",
    "\n"
   ]
  },
  {
   "cell_type": "markdown",
   "id": "516582fd-4426-4033-bbe7-c2e96ae2046b",
   "metadata": {},
   "source": [
    "Created two tuples named tuple1 and tuple2.\n",
    "And used various comparison operators to compare the elements of the two tuples:\n",
    "- tuple1 == tuple2 checks if the tuples are equal element-wise.\n",
    "- tuple1 != tuple2 checks if the tuples are not equal element-wise.\n",
    "- tuple1 < tuple2 checks if tuple1 is lexicographically less than tuple2.\n",
    "- tuple1 <= tuple2 checks if tuple1 is lexicographically less than or equal to tuple2.\n",
    "- tuple1 > tuple2 checks if tuple1 is lexicographically greater than tuple2.\n",
    "- tuple1 >= tuple2 checks if tuple1 is lexicographically greater than or equal to tuple2."
   ]
  },
  {
   "cell_type": "markdown",
   "id": "1efb1224-7313-4476-b9c3-a4c7e9a31d3c",
   "metadata": {},
   "source": [
    "19. Delete a tuple."
   ]
  },
  {
   "cell_type": "code",
   "execution_count": 19,
   "id": "c0affb66-3b22-4ee7-8323-b63999677093",
   "metadata": {},
   "outputs": [
    {
     "ename": "NameError",
     "evalue": "name 'tuple_' is not defined",
     "output_type": "error",
     "traceback": [
      "\u001b[0;31m---------------------------------------------------------------------------\u001b[0m",
      "\u001b[0;31mNameError\u001b[0m                                 Traceback (most recent call last)",
      "Cell \u001b[0;32mIn[19], line 6\u001b[0m\n\u001b[1;32m      1\u001b[0m tuple_ \u001b[38;5;241m=\u001b[39m (\u001b[38;5;241m1\u001b[39m, \u001b[38;5;241m2\u001b[39m, \u001b[38;5;241m3\u001b[39m)\n\u001b[1;32m      3\u001b[0m \u001b[38;5;28;01mdel\u001b[39;00m tuple_\n\u001b[0;32m----> 6\u001b[0m \u001b[38;5;28mprint\u001b[39m(\u001b[43mtuple_\u001b[49m)\n",
      "\u001b[0;31mNameError\u001b[0m: name 'tuple_' is not defined"
     ]
    }
   ],
   "source": [
    "tuple_ = (1, 2, 3)\n",
    "\n",
    "del tuple_\n",
    "\n",
    "\n",
    "print(tuple_)"
   ]
  },
  {
   "cell_type": "markdown",
   "id": "4aed9797-5665-4277-8711-1e0d4bfffbbf",
   "metadata": {},
   "source": [
    "* Created a Tuple with variable tuple_\n",
    "* Since tuples are immutable, their elements cannot be modified or removed once the tuple is created. Hence used the del keyword in python and deleted the variable tuple_. \n",
    "* Now tried accessing the tuple it showing name error since it was deleted."
   ]
  },
  {
   "cell_type": "markdown",
   "id": "0a808b3a-917b-4a66-995b-dfc03dafa167",
   "metadata": {},
   "source": [
    "20. Slice a tuple."
   ]
  },
  {
   "cell_type": "code",
   "execution_count": 22,
   "id": "2e446947-d761-4837-88af-c0445acd328a",
   "metadata": {},
   "outputs": [
    {
     "name": "stdout",
     "output_type": "stream",
     "text": [
      "('Vik', 'Mark', 'Siva')\n"
     ]
    }
   ],
   "source": [
    "names = ('Jas', 'Vik', 'Mark', 'Siva','Vijay')\n",
    "sliced= names[1:4]\n",
    "print(sliced)"
   ]
  },
  {
   "cell_type": "markdown",
   "id": "5994e44a-5554-4e5c-bfa5-f26ed3732ce2",
   "metadata": {},
   "source": [
    "* Created a tuple with list of names\n",
    "* Created variable silced using the slicing operation [1:4] it will slice the tuple from 1st index upto 3rd index.\n",
    "* Printing the sliced variable"
   ]
  },
  {
   "cell_type": "markdown",
   "id": "7c383aa4-7f9b-4607-98a9-82c6b99f0690",
   "metadata": {},
   "source": [
    "21. Find the maximum value in a tuple."
   ]
  },
  {
   "cell_type": "code",
   "execution_count": 24,
   "id": "54bc1995-10ce-48d2-a5f9-7465582e6f3b",
   "metadata": {},
   "outputs": [
    {
     "name": "stdout",
     "output_type": "stream",
     "text": [
      "The Maximum value in the tuple is  45\n"
     ]
    }
   ],
   "source": [
    "_tuple = (10, 20, 5, 45, 30)\n",
    "max_=max(_tuple)\n",
    "print('The Maximum value in the tuple is ',max_)"
   ]
  },
  {
   "cell_type": "markdown",
   "id": "e89234bf-c98d-4ca4-b95e-b77e362bcc9c",
   "metadata": {},
   "source": [
    "* Initiated a variable _tuple with list of int values\n",
    "* used the max function and pass the tuple inside it to see the max value and storing it in the variable max_\n",
    "* printing the max value with the string using f-string method"
   ]
  },
  {
   "cell_type": "markdown",
   "id": "8be6cf5a-68c9-4cdc-99d2-a93259d9a224",
   "metadata": {},
   "source": [
    "22. Find the minimum value in a tuple."
   ]
  },
  {
   "cell_type": "code",
   "execution_count": 25,
   "id": "4012be40-ffa0-4275-b8f7-1d825bfd906d",
   "metadata": {},
   "outputs": [
    {
     "name": "stdout",
     "output_type": "stream",
     "text": [
      "The Minimum value in the tuple is  5\n"
     ]
    }
   ],
   "source": [
    "_tuple = (10, 20, 5, 45, 30)\n",
    "min_=min(_tuple)\n",
    "print('The Minimum value in the tuple is ',min_)"
   ]
  },
  {
   "cell_type": "markdown",
   "id": "5f39f596-a858-4aad-8440-86a3425b1ac6",
   "metadata": {},
   "source": [
    "* Initiated a variable _tuple with list of int values\n",
    "* used the min function and pass the tuple inside it to see the minimum value and storing it in the variable min_\n",
    "* printing the min value with the string using f-string method"
   ]
  },
  {
   "cell_type": "markdown",
   "id": "5b1cb5b6-c9d1-4cc1-b910-9e8bae5ef90e",
   "metadata": {},
   "source": [
    "23. Convert a string to a tuple of characters."
   ]
  },
  {
   "cell_type": "code",
   "execution_count": 28,
   "id": "499ec138-dad5-4b64-b029-c2601dc564ae",
   "metadata": {},
   "outputs": [
    {
     "name": "stdout",
     "output_type": "stream",
     "text": [
      "Tuple of characters: ('H', 'e', 'l', 'l', 'o', ',', ' ', 'W', 'o', 'r', 'l', 'd', '!')\n"
     ]
    }
   ],
   "source": [
    "my_string = \"Hello, World!\"\n",
    "tuple_of_characters = tuple(my_string)\n",
    "print(\"Tuple of characters:\", tuple_of_characters)"
   ]
  },
  {
   "cell_type": "markdown",
   "id": "6beca519-b8a1-47ce-ad03-4ea576f1ace5",
   "metadata": {},
   "source": [
    "- Initiated a variable my_string with string.\n",
    "- We use the tuple() constructor and pass the string my_string as an argument. This constructor converts the string into a tuple of individual characters.\n",
    "- We print the resulting tuple of characters."
   ]
  },
  {
   "cell_type": "markdown",
   "id": "a8ce6274-86e4-4ee5-9a01-68a1f0d513f6",
   "metadata": {},
   "source": [
    "24. Convert a tuple of characters to a string."
   ]
  },
  {
   "cell_type": "code",
   "execution_count": 31,
   "id": "bb71575c-1532-411f-81b9-3ef3f3e7f1db",
   "metadata": {},
   "outputs": [
    {
     "name": "stdout",
     "output_type": "stream",
     "text": [
      "Hello, World!\n"
     ]
    }
   ],
   "source": [
    "tuple_=('H', 'e', 'l', 'l', 'o', ',', ' ', 'W', 'o', 'r', 'l', 'd', '!')\n",
    "string= ''.join(tuple_)\n",
    "print(string)"
   ]
  },
  {
   "cell_type": "markdown",
   "id": "6e8fc5a7-c340-49aa-b060-da70127e5838",
   "metadata": {},
   "source": [
    "- Created a tuple named tuple_ containing individual characters.\n",
    "- Used the join() method, which is called on an empty string (''), to join the characters from the tuple and create a single string.\n",
    "- print the resulting string."
   ]
  },
  {
   "cell_type": "markdown",
   "id": "03b71e0f-b8b8-4b41-8c18-b65d1f6724d2",
   "metadata": {},
   "source": [
    "25. Create a tuple from multiple data types."
   ]
  },
  {
   "cell_type": "code",
   "execution_count": 33,
   "id": "d635a704-a035-4db7-a145-845df3eb9cb4",
   "metadata": {},
   "outputs": [
    {
     "name": "stdout",
     "output_type": "stream",
     "text": [
      "(1, 'hello', 3.14, True)\n"
     ]
    }
   ],
   "source": [
    "mixed_tuple = (1, \"hello\", 3.14, True)\n",
    "\n",
    "print(mixed_tuple)"
   ]
  },
  {
   "cell_type": "markdown",
   "id": "b8cdf178-ef96-47ad-8291-3061ce3cca80",
   "metadata": {},
   "source": [
    "- The mixed_tuple contains four elements of different data types: an integer, a string, a float, and a boolean. "
   ]
  },
  {
   "cell_type": "markdown",
   "id": "357dc4aa-658e-4beb-bcdc-f34478b52b48",
   "metadata": {},
   "source": [
    "26. Check if two tuples are identical."
   ]
  },
  {
   "cell_type": "code",
   "execution_count": 34,
   "id": "b2c00d56-9cac-4e56-8913-a4f7816212f9",
   "metadata": {},
   "outputs": [
    {
     "name": "stdout",
     "output_type": "stream",
     "text": [
      "Tuples are identical\n"
     ]
    }
   ],
   "source": [
    "tuple1 = (1, 2, 3)\n",
    "tuple2 = (1, 2, 3)\n",
    "\n",
    "if tuple1 == tuple2:\n",
    "    print(\"Tuples are identical\")\n",
    "else:\n",
    "    print(\"Tuples are not identical\")"
   ]
  },
  {
   "cell_type": "markdown",
   "id": "17b4f3f7-41f2-4fa3-8096-bec7ab50b0f6",
   "metadata": {},
   "source": [
    "* Initiated two tuples , and used the if class and the == operator is used to compare tuple1 and tuple2. \n",
    "* If the elements in both tuples are the same and in the same order, the condition will be true, and it will print \"Tuples are identical.\" Otherwise, it will print \"Tuples are not identical.\""
   ]
  },
  {
   "cell_type": "markdown",
   "id": "c349582c-de74-49bc-b279-69e6ca0cbd9f",
   "metadata": {},
   "source": [
    "27. Sort the elements of a tuple."
   ]
  },
  {
   "cell_type": "code",
   "execution_count": 38,
   "id": "cb2c26a0-0164-44e8-9b00-b06f3a6c20ce",
   "metadata": {},
   "outputs": [
    {
     "name": "stdout",
     "output_type": "stream",
     "text": [
      "(1, 2, 3, 5, 10, 11)\n"
     ]
    }
   ],
   "source": [
    "tuple_ = (10, 2, 3, 5, 11, 1)\n",
    "sorted_tuple = tuple(sorted(tuple_))\n",
    "print(sorted_tuple)      "
   ]
  },
  {
   "cell_type": "markdown",
   "id": "75f26c04-3140-471c-93cb-f3adf4612933",
   "metadata": {},
   "source": [
    "- We start by creating a tuple named tuple_ with some numeric elements.\n",
    "- We use the sorted() function to sort the elements of the tuple. The sorted() function returns a sorted list.\n",
    "- We use the tuple() constructor to convert the sorted list back into a tuple.\n",
    "- We print the sorted tuple."
   ]
  },
  {
   "cell_type": "markdown",
   "id": "aa58e9a7-a00d-4ee4-9fad-3beadfeed2f5",
   "metadata": {},
   "source": [
    "28. Convert a tuple of integers to a tuple of strings."
   ]
  },
  {
   "cell_type": "code",
   "execution_count": 1,
   "id": "a598badf-9f70-4afa-94dc-a04bb132a66f",
   "metadata": {},
   "outputs": [
    {
     "data": {
      "text/plain": [
       "('10', '2', '3', '5', '11', '1')"
      ]
     },
     "execution_count": 1,
     "metadata": {},
     "output_type": "execute_result"
    }
   ],
   "source": [
    "tuple_ = (10, 2, 3, 5, 11, 1)\n",
    "tuple_of_strings = tuple(str(item) for item in tuple_)\n",
    "tuple_of_strings"
   ]
  },
  {
   "cell_type": "markdown",
   "id": "e5b4bb39-b58c-4d99-b361-3ed69b766725",
   "metadata": {},
   "source": [
    "* Initated a variable tuple_ with list of integers\n",
    "* Used list comprehension to iterate through each integer in the tuple and convert it to a string using the str() function. The list comprehension generates a list of strings.\n",
    "* Then convert the list of strings to a tuple using the tuple() constructor.\n",
    "* Finally print the resulting tuple of strings."
   ]
  },
  {
   "cell_type": "markdown",
   "id": "a1f999ce-7960-4305-9fa8-9501515a0b61",
   "metadata": {},
   "source": [
    "29. Convert a tuple of strings to a tuple of integers."
   ]
  },
  {
   "cell_type": "code",
   "execution_count": 11,
   "id": "e7fbd26c-2983-42dc-9bf5-b07f6cf39be5",
   "metadata": {},
   "outputs": [
    {
     "data": {
      "text/plain": [
       "(10, 2, 3, 5, 11, 1)"
      ]
     },
     "execution_count": 11,
     "metadata": {},
     "output_type": "execute_result"
    }
   ],
   "source": [
    "tuple_ = ('10', '2', '3', '5', '11', '1')\n",
    "tuple_of_int = tuple(int(item) for item in tuple_)\n",
    "tuple_of_int"
   ]
  },
  {
   "cell_type": "markdown",
   "id": "56384c21-402c-4eb9-91ae-77dfe69fc2ec",
   "metadata": {},
   "source": [
    "* Initated a variable tuple_ with list of strings\n",
    "* Used list comprehension to iterate through each string in the tuple and convert it to a int using the int() function. The list comprehension generates a list of int.\n",
    "- Then convert the list of int to a tuple using the tuple() constructor.\n",
    "- Finally print the resulting tuple of integers."
   ]
  },
  {
   "cell_type": "markdown",
   "id": "f9617557-71b0-40d6-afc9-0271069f15a7",
   "metadata": {},
   "source": [
    "30. Merge two tuples."
   ]
  },
  {
   "cell_type": "code",
   "execution_count": 12,
   "id": "6cccc6a7-1224-4dc5-869a-82b5c61d0f93",
   "metadata": {},
   "outputs": [
    {
     "name": "stdout",
     "output_type": "stream",
     "text": [
      "Merged tuple: (1, 2, 3, 4, 5, 6)\n"
     ]
    }
   ],
   "source": [
    "tuple1 = (1, 2, 3)\n",
    "tuple2 = (4, 5, 6)\n",
    "\n",
    "merged_tuple = tuple1 + tuple2\n",
    "\n",
    "print(\"Merged tuple:\", merged_tuple)"
   ]
  },
  {
   "cell_type": "markdown",
   "id": "a523b465-2363-4c14-9997-797521961d5c",
   "metadata": {},
   "source": [
    "- We start by creating two tuples named tuple1 and tuple2.\n",
    "- We use the + operator to merge the two tuples, resulting in a new tuple named merged_tuple.\n",
    "- We print the merged tuple."
   ]
  },
  {
   "cell_type": "markdown",
   "id": "45c65339-c7ca-49df-9461-20aedb14535d",
   "metadata": {},
   "source": [
    "31. Flatten a nested tuple."
   ]
  },
  {
   "cell_type": "code",
   "execution_count": 3,
   "id": "902474f7-630e-4db5-b31d-b1872c2c1e9c",
   "metadata": {},
   "outputs": [
    {
     "name": "stdout",
     "output_type": "stream",
     "text": [
      "(1, 2, 3, 4, 5, 6, 7, 8)\n"
     ]
    }
   ],
   "source": [
    "def flatten(tuple_):\n",
    "    flaten=[]\n",
    "    for i in tuple_:\n",
    "        if isinstance(i,tuple):\n",
    "            flaten.extend(flatten(i))\n",
    "        else:\n",
    "            flaten.append(i)\n",
    "    return tuple(flaten)\n",
    "tuple_=((1, 2), (3, 4, 5), (6, (7, 8)))\n",
    "print(flatten(tuple_))"
   ]
  },
  {
   "cell_type": "markdown",
   "id": "62a6bd34-d6a8-4111-b12c-b4e27e33a5d6",
   "metadata": {},
   "source": [
    "* Function Definition:\n",
    "The flatten function takes a tuple as an argument.\n",
    "* Initialization:\n",
    "It initializes an empty list flaten to store the flattened elements.\n",
    "* Iteration through Tuple Elements:\n",
    "It iterates through each element i in the input tuple_.\n",
    "* Checking if Element is a Tuple:\n",
    "It checks if the current element i is an instance of a tuple using isinstance(i, tuple).\n",
    "If it is a tuple, it recursively calls flatten(i) to flatten the nested tuple.\n",
    "* Extending the List:\n",
    "The extend method is used to add the flattened elements to the flaten list.\n",
    "* Appending Non-Tuple Elements:\n",
    "If the current element i is not a tuple, it is appended directly to the flaten list.\n",
    "* Conversion to Tuple:\n",
    "Finally, the function returns a new tuple created from the flattened list using tuple(flaten).\n",
    "* Example Usage:\n",
    "The given example has a nested tuple ((1, 2), (3, 4, 5), (6, (7, 8))).\n",
    "The function is called with this tuple, and the flattened result is printed."
   ]
  },
  {
   "cell_type": "markdown",
   "id": "422b17f2-90cf-4501-bccd-a1b122035061",
   "metadata": {},
   "source": [
    "32. Create a tuple of the first 5 prime numbers."
   ]
  },
  {
   "cell_type": "code",
   "execution_count": 14,
   "id": "f92945f0-71aa-465f-a38c-6884e6850906",
   "metadata": {},
   "outputs": [
    {
     "data": {
      "text/plain": [
       "(2, 3, 5, 7, 11)"
      ]
     },
     "execution_count": 14,
     "metadata": {},
     "output_type": "execute_result"
    }
   ],
   "source": [
    "def is_prime(num):\n",
    "    if num <2:\n",
    "        return False\n",
    "    for i in range(2, int(num**0.5) + 1):\n",
    "        if num % i == 0:\n",
    "            return False\n",
    "    return True\n",
    "\n",
    "prime_numbers_list=tuple([i for i in range(2,100) if is_prime(i)][:5])\n",
    "prime_numbers_list"
   ]
  },
  {
   "cell_type": "markdown",
   "id": "09c4a884-ca10-4e55-bc31-248e6a40788f",
   "metadata": {},
   "source": [
    "* def is_prime(num):\n",
    "This defines a function named is_prime that takes a number num as an argument.\n",
    "* if num < 2:\n",
    "Checks if num is less than 2. If so, it returns False since prime numbers are defined as integers greater than 1.\n",
    "* for i in range(2, int(num**0.5) + 1):\n",
    "Iterates through the numbers from 2 to the integer square root of num (inclusive). This loop is used to check if num has any divisors other than 1 and itself.\n",
    "* if num % i == 0:\n",
    "Checks if num is divisible evenly by the current value of i. If so, num has a divisor other than 1 and itself, making it not a prime number. In this case, the function returns False.\n",
    "return True\n",
    "If the function has not returned False during the loop, it means that no divisors were found. Therefore, the function returns True, indicating that num is a prime number.\n",
    "* prime_numbers_list = tuple([i for i in range(2,100) if is_prime(i)][:5])\n",
    "Creates a tuple containing the first 5 prime numbers on range 2-99.\n",
    "Uses a list comprehension to iterate over the numbers from 2 to 99 and includes only those that are prime (using the is_prime function).\n",
    "Limits the result to the first 5 prime numbers by using [:5].\n",
    "Converts the resulting list to a tuple.\n",
    "* prime_numbers_list\n",
    "Finally, the tuple containing the first 5 prime numbers is printed."
   ]
  },
  {
   "cell_type": "markdown",
   "id": "89d39fa4-8fd3-4972-be88-de7dfea1e426",
   "metadata": {},
   "source": [
    "33. Check if a tuple is a palindrome."
   ]
  },
  {
   "cell_type": "code",
   "execution_count": 24,
   "id": "49294bb7-013f-4728-aa65-94f92bcdf4db",
   "metadata": {},
   "outputs": [
    {
     "name": "stdout",
     "output_type": "stream",
     "text": [
      "The tuple is a palindrome\n"
     ]
    }
   ],
   "source": [
    "def is_palindrome(tuple_):\n",
    "    return tuple_ == tuple_[::-1]\n",
    "\n",
    "result = is_palindrome((1, 2, 3, 2, 1))\n",
    "\n",
    "if result:\n",
    "    print('The tuple is a palindrome')\n",
    "else:\n",
    "    print('The tuple is not a palindrome')"
   ]
  },
  {
   "cell_type": "markdown",
   "id": "66671b71-739d-4db5-8cdb-5fbeb7eb6ee8",
   "metadata": {},
   "source": [
    "- The is_palindrome function compares the given tuple (tuple_) to its reversed version (tuple_[::-1]).\n",
    "- The result is a boolean indicating whether the tuple is a palindrome or not.\n",
    "- Finally we checks if the tuple (1, 2, 3, 2, 1) is a palindrome and prints the corresponding message."
   ]
  },
  {
   "cell_type": "markdown",
   "id": "869f0d17-8267-4b69-91e2-473a4e769cb8",
   "metadata": {},
   "source": [
    "34. Create a tuple of squares of numbers from 1 to 5."
   ]
  },
  {
   "cell_type": "code",
   "execution_count": 32,
   "id": "47b5b43b-2343-41a5-979f-a276f73fbc9a",
   "metadata": {},
   "outputs": [
    {
     "name": "stdout",
     "output_type": "stream",
     "text": [
      "The tuple of Squares of numbers from 1 to 5 : (1, 4, 9, 16, 25)\n"
     ]
    }
   ],
   "source": [
    "def squares(n):\n",
    "    result=[]\n",
    "    for i in range(1,n+1):\n",
    "        result.append(i**2)\n",
    "    return tuple(result)\n",
    "\n",
    "\n",
    "print('The tuple of Squares of numbers from 1 to 5 :', squares(5))\n",
    "        "
   ]
  },
  {
   "cell_type": "markdown",
   "id": "3c601b10-0a16-4f94-a0b5-81d908b44538",
   "metadata": {},
   "source": [
    "* Function Definition:\n",
    "def squares(n):: Defines a function named squares that takes an integer n as an argument.\n",
    "* Initialization of result List:\n",
    "result = []: Initializes an empty list named result to store the squares of numbers.\n",
    "* For Loop to Calculate Squares:\n",
    "for i in range(1, n + 1):: Iterates through numbers from 1 to n (inclusive).\n",
    "* Appending Squares to result:\n",
    "result.append(i ** 2): Calculates the square of each number i and appends it to the result list.\n",
    "* Returning Result as a Tuple:\n",
    "return tuple(result): Converts the result list to a tuple and returns it.\n",
    "* Example Usage:\n",
    "print('The tuple of Squares of numbers from 1 to 5:', squares(5)): Calls the squares function with n=5 and prints the result."
   ]
  },
  {
   "cell_type": "markdown",
   "id": "0f765bbc-a74e-4cad-887f-ac20696474fe",
   "metadata": {},
   "source": [
    "35. Filter out all even numbers from a tuple."
   ]
  },
  {
   "cell_type": "code",
   "execution_count": 40,
   "id": "01691301-d08c-433e-b9a4-73c91cf692f3",
   "metadata": {},
   "outputs": [
    {
     "name": "stdout",
     "output_type": "stream",
     "text": [
      "(2, 4, 6, 8, 10, 12)\n"
     ]
    }
   ],
   "source": [
    "_tuple=(1,2,3,4,5,6,7,8,9,10,12)\n",
    "even_tuple=tuple( i for i in _tuple if i%2==0 )\n",
    "print(even_tuple)"
   ]
  },
  {
   "cell_type": "markdown",
   "id": "bfe9f967-0c49-4a54-904c-f19a5bacb801",
   "metadata": {},
   "source": [
    "* Tuple Initialization:\n",
    "_tuple = (1, 2, 3, 4, 5, 6, 7, 8, 9, 10, 12)\n",
    "Initializes a tuple named _tuple with the values 1 to 12.\n",
    "* List Comprehension for Filtering Even Numbers:\n",
    "even_tuple = tuple(i for i in _tuple if i % 2 == 0)\n",
    "Uses a list comprehension to iterate over elements in _tuple.\n",
    "Filters only the even numbers by checking i % 2 == 0.\n",
    "Converts the resulting list to a tuple and assigns it to the variable even_tuple.\n",
    "* Printing the Result:\n",
    "print(even_tuple)\n",
    "Prints the tuple containing only the even numbers."
   ]
  },
  {
   "cell_type": "markdown",
   "id": "b0df7153-d784-4afc-8b85-c2286e548226",
   "metadata": {},
   "source": [
    "36. Multiply all elements in a tuple by 2."
   ]
  },
  {
   "cell_type": "code",
   "execution_count": 43,
   "id": "cb081fbe-051b-4a91-aee8-3006b680fc2d",
   "metadata": {},
   "outputs": [
    {
     "name": "stdout",
     "output_type": "stream",
     "text": [
      "(2, 4, 6, 8, 10)\n"
     ]
    }
   ],
   "source": [
    "_tuple=(1,2,3,4,5)\n",
    "multiplied_tuple=tuple(i *2 for i in _tuple )\n",
    "print(multiplied_tuple)"
   ]
  },
  {
   "cell_type": "markdown",
   "id": "4f09b6b2-e664-439f-b724-c93a87650357",
   "metadata": {},
   "source": [
    "* Tuple Initialization:\n",
    "_tuple = (1, 2, 3, 4, 5)\n",
    "Initializes a tuple named _tuple with the values 1 to 5.\n",
    "* List Comprehension for Multiplying Each Element by 2:\n",
    "multiplied_tuple = tuple(i * 2 for i in _tuple)\n",
    "Uses a list comprehension to iterate over elements in _tuple.\n",
    "Multiplies each element by 2 (i * 2).\n",
    "Converts the resulting list to a tuple and assigns it to the variable multiplied_tuple.\n",
    "* Printing the Result:\n",
    "print(multiplied_tuple)\n",
    "Prints the tuple containing each element of _tuple multiplied by 2."
   ]
  },
  {
   "cell_type": "markdown",
   "id": "8dcd89d3-9f07-46d1-9add-c66eba536e7a",
   "metadata": {},
   "source": [
    "37. Create a tuple of random numbers."
   ]
  },
  {
   "cell_type": "code",
   "execution_count": 56,
   "id": "08dd305c-2677-4529-9626-da745d70152d",
   "metadata": {},
   "outputs": [
    {
     "name": "stdout",
     "output_type": "stream",
     "text": [
      "Tuple of random numbers: (86, 7, 4, 81, 22, 15, 44, 74, 67, 31)\n"
     ]
    }
   ],
   "source": [
    "import random\n",
    "random_num=tuple( random.randint(1, 100) for i in range (10))\n",
    "print('Tuple of random numbers:',random_num)"
   ]
  },
  {
   "cell_type": "markdown",
   "id": "0427d2c4-b7f3-4dbd-82ba-ad0a5db96b8f",
   "metadata": {},
   "source": [
    "* Importing the random Module:\n",
    "import random\n",
    "Imports the random module in Python, which provides functions for generating random numbers.\n",
    "* Generating a Tuple of Random Numbers:\n",
    "random_num = tuple(random.randint(1, 100) for i in range(10))\n",
    "Uses a list comprehension to generate 10 random integers between 1 and 100 using random.randint(1, 100).\n",
    "Converts the resulting list to a tuple and assigns it to the variable random_num.\n",
    "* Printing the Result:\n",
    "print('Tuple of random numbers:', random_num)\n",
    "Prints the tuple containing the 10 random numbers."
   ]
  },
  {
   "cell_type": "markdown",
   "id": "90f204ad-49a2-45f1-8dfa-97769d6cd005",
   "metadata": {},
   "source": [
    "38. Check if a tuple is sorted."
   ]
  },
  {
   "cell_type": "code",
   "execution_count": 67,
   "id": "cc0eed5b-d595-4f34-8446-ead7afe63fa0",
   "metadata": {},
   "outputs": [
    {
     "name": "stdout",
     "output_type": "stream",
     "text": [
      "Tuple is not sorted\n"
     ]
    }
   ],
   "source": [
    "tuple_=(86, 7, 4, 81, 22, 15, 44, 74, 67, 31)\n",
    "\n",
    "if tuple_ == tuple(sorted(tuple_)):\n",
    "    print('Tuple is sorted')\n",
    "else:\n",
    "    print('Tuple is not sorted')"
   ]
  },
  {
   "cell_type": "markdown",
   "id": "2b477327-b2f9-422a-85a4-0aa7b73072c6",
   "metadata": {},
   "source": [
    "Explanation:\n",
    "* Initialized a tuple_ with random values\n",
    "* Using the if condition and using the sorted inbuilt function and type cast into the tuple () and check if that is equal to the tuple_\n",
    "* If both are equal it will print Tuple is sorted else print tuple is not sorted"
   ]
  },
  {
   "cell_type": "markdown",
   "id": "71f99627-f260-4414-b7e2-4a77eafacf6c",
   "metadata": {},
   "source": [
    "39. Rotate a tuple to the left by `n` positions."
   ]
  },
  {
   "cell_type": "code",
   "execution_count": 4,
   "id": "d238d59b-fa61-4207-bb27-e9ce588bc056",
   "metadata": {},
   "outputs": [
    {
     "name": "stdout",
     "output_type": "stream",
     "text": [
      "(4, 81, 22, 15, 44, 74, 67, 31, 86, 7)\n"
     ]
    }
   ],
   "source": [
    "def rotate_tuple(tuple_, n):\n",
    "    rotated_tuple= tuple_[n:]+tuple_[:n]\n",
    "    return rotated_tuple\n",
    "        \n",
    "tuple_=(86, 7, 4, 81, 22, 15, 44, 74, 67, 31)\n",
    "n=2\n",
    "\n",
    "print(rotate_tuple(tuple_, n))"
   ]
  },
  {
   "cell_type": "markdown",
   "id": "7619d3fd-b0f8-4bf9-8cdc-8c19458df78f",
   "metadata": {},
   "source": [
    "Explanation: \n",
    "\n",
    "* Created a function rotate_tuple with arguments (tuple_ , n)  tuple_ will pass the tuple argument, n is the position which we want to rotate.\n",
    "* created a variable rotated_tuple where we using the tuple indexing start from the nth position till last index and concatenate start index till nth position (excluding nth index). Returning the rotated_tuple variable\n",
    "* Created a variable for passing tuple_ with integers and assigned the nth posstion.\n",
    "* Printing the function rotate_tuple(tuple_,n)"
   ]
  },
  {
   "cell_type": "markdown",
   "id": "8c88ff97-6d1e-4726-8d7f-4e4f039fa7c1",
   "metadata": {},
   "source": [
    "40. Rotate a tuple to the right by `n` positions."
   ]
  },
  {
   "cell_type": "code",
   "execution_count": 5,
   "id": "caee8309-370d-4c4f-9522-a85578d2ab36",
   "metadata": {},
   "outputs": [
    {
     "name": "stdout",
     "output_type": "stream",
     "text": [
      "(67, 31, 86, 7, 4, 81, 22, 15, 44, 74)\n"
     ]
    }
   ],
   "source": [
    "def rotate_tuple(tuple_, n):\n",
    "    rotated_tuple= tuple_[-n:]+tuple_[:-n]\n",
    "    return rotated_tuple\n",
    "        \n",
    "tuple_=(86, 7, 4, 81, 22, 15, 44, 74, 67, 31)\n",
    "n=2\n",
    "\n",
    "print(rotate_tuple(tuple_, n))"
   ]
  },
  {
   "cell_type": "markdown",
   "id": "d9993768-18d7-4724-9cfa-65d306444d13",
   "metadata": {},
   "source": [
    "Explanation: \n",
    "\n",
    "* Created a function rotate_tuple with arguments (tuple_ , n)  tuple_ will pass the tuple argument, n is the position which we want to rotate.\n",
    "* created a variable rotated_tuple assigning the concatenating values tuple_[-n:] extracts the last n elements of the tuple.tuple_[:-n] extracts all elements from the beginning of the tuple up to (but not including) the last n elements.The concatenation of these two slices creates the rotated tuple to the right.\n",
    "* Returning the rotated_tuple variable\n",
    "* Created a variable for passing tuple_ with integers and assigned the nth posstion.\n",
    "* Printing the function rotate_tuple(tuple_,n)"
   ]
  },
  {
   "cell_type": "markdown",
   "id": "b1ea3769-27b8-4e0c-9ab7-f0371f47296b",
   "metadata": {},
   "source": [
    "41. Create a tuple of the first 5 Fibonacci numbers."
   ]
  },
  {
   "cell_type": "code",
   "execution_count": 15,
   "id": "bd55c464-765d-4bc1-8371-42a62c18062b",
   "metadata": {},
   "outputs": [
    {
     "name": "stdout",
     "output_type": "stream",
     "text": [
      "(0, 1, 1, 2, 3)\n"
     ]
    }
   ],
   "source": [
    "def fibonacci(n):\n",
    "    start=[0,1]\n",
    "    while len(start)<n:\n",
    "        fibbi= start[-1]+ start[-2]\n",
    "        start.append(fibbi)\n",
    "    return tuple(start)\n",
    "\n",
    "print(fibonacci(5))"
   ]
  },
  {
   "cell_type": "markdown",
   "id": "b92025b4-8a84-4561-adc1-0a7b798fae1e",
   "metadata": {},
   "source": [
    "Explanation:\n",
    "\n",
    "* Initialization:\n",
    "start = [0, 1]: Initializes a list called start with the first two Fibonacci numbers, 0 and 1.\n",
    "* Fibonacci Number Generation:\n",
    "while len(start) < n:: This loop continues until the length of the start list reaches the specified value n.\n",
    "fibbi = start[-1] + start[-2]: Calculates the next Fibonacci number by adding the last two elements of the start list.\n",
    "start.append(fibbi): Appends the newly calculated Fibonacci number to the start list.\n",
    "* Conversion to Tuple:\n",
    "return tuple(start): Converts the final start list into a tuple and returns it.\n",
    "* Function Call and Print:\n",
    "print(fibonacci(5)): Calls the fibonacci function with n=5 and prints the resulting tuple."
   ]
  },
  {
   "cell_type": "markdown",
   "id": "c0562f87-4433-4a58-926c-8620b734fb66",
   "metadata": {},
   "source": [
    "42. Create a tuple from user input."
   ]
  },
  {
   "cell_type": "code",
   "execution_count": 7,
   "id": "0df6fe63-b751-48d2-990e-73dce59407da",
   "metadata": {},
   "outputs": [
    {
     "name": "stdin",
     "output_type": "stream",
     "text": [
      "Enter the List of names seperated by comma john,harry\n"
     ]
    },
    {
     "name": "stdout",
     "output_type": "stream",
     "text": [
      "('john', 'harry') <class 'tuple'>\n"
     ]
    }
   ],
   "source": [
    "user= tuple(input('Enter the List of names seperated by comma').split(','))\n",
    "\n",
    "print(user, type(user))"
   ]
  },
  {
   "cell_type": "markdown",
   "id": "d106f255-471c-4858-9777-be28baefe1e8",
   "metadata": {},
   "source": [
    "Explanation:\n",
    "\n",
    "* Used input() inbuilt function to get the input from user and used the split() with , as seperator then used the tuple() function to type cast it\n",
    "* printing the variable user and and type of the variable "
   ]
  },
  {
   "cell_type": "markdown",
   "id": "e3a63160-ebd9-4990-9cce-ced704433e60",
   "metadata": {},
   "source": [
    "43. Swap two elements in a tuple."
   ]
  },
  {
   "cell_type": "code",
   "execution_count": 2,
   "id": "198532cc-cfe8-464a-aa5a-9a08626adad8",
   "metadata": {},
   "outputs": [
    {
     "name": "stdout",
     "output_type": "stream",
     "text": [
      "Original Tuple: (1, 2, 3, 4, 5)\n",
      "Tuple after swapping elements: (1, 4, 3, 2, 5)\n"
     ]
    }
   ],
   "source": [
    "def swap_elements(tuple_, index1, index2):\n",
    "    list_ = list(tuple_)\n",
    "    list_[index1], list_[index2] = list_[index2], list_[index1]\n",
    "    swapped_tuple = tuple(list_)\n",
    "    return swapped_tuple\n",
    "\n",
    "original_tuple = (1, 2, 3, 4, 5)\n",
    "index_to_swap1 = 1\n",
    "index_to_swap2 = 3\n",
    "\n",
    "result_tuple = swap_elements(original_tuple, index_to_swap1, index_to_swap2)\n",
    "print(\"Original Tuple:\", original_tuple)\n",
    "print(\"Tuple after swapping elements:\", result_tuple)\n"
   ]
  },
  {
   "cell_type": "markdown",
   "id": "cd0c49bb-86c4-440a-a77f-90b386b1c1f4",
   "metadata": {},
   "source": [
    "Explanation : \n",
    "\n",
    "* Function Definition:\n",
    "A function named swap_elements is defined to swap elements in a tuple.\n",
    "* Tuple to List and Element Swap:\n",
    "The tuple is converted to a list.\n",
    "Elements at specified indices (index1 and index2) are swapped using tuple unpacking.\n",
    "* List to Tuple and Return:\n",
    "The list is converted back to a tuple (swapped_tuple).\n",
    "The resulting tuple is returned.\n",
    "* Example Usage:\n",
    "An example tuple original_tuple is provided.\n",
    "Indices (index_to_swap1 and index_to_swap2) are specified for element swapping.\n",
    "* Function Call and Print:\n",
    "The function is called with the example tuple and indices.\n",
    "The original and resulting tuples are printed."
   ]
  },
  {
   "cell_type": "markdown",
   "id": "bdb03a2c-00a0-4fc0-a8b8-9be3cdbdf370",
   "metadata": {},
   "source": [
    "44. Reverse the elements of a tuple."
   ]
  },
  {
   "cell_type": "code",
   "execution_count": 1,
   "id": "029bb24d-0582-4a22-80c4-c2b2c7e44c7c",
   "metadata": {},
   "outputs": [
    {
     "name": "stdout",
     "output_type": "stream",
     "text": [
      "Original Tuple: (1, 2, 3, 4, 5)\n",
      "Reversed Tuple: (5, 4, 3, 2, 1)\n"
     ]
    }
   ],
   "source": [
    "def reverse_tuple(tuple_):\n",
    "    reversed_tuple = tuple_[::-1]\n",
    "    return reversed_tuple\n",
    "\n",
    "# Example usage\n",
    "original_tuple = (1, 2, 3, 4, 5)\n",
    "result_tuple = reverse_tuple(original_tuple)\n",
    "\n",
    "# Print the original and reversed tuples\n",
    "print(\"Original Tuple:\", original_tuple)\n",
    "print(\"Reversed Tuple:\", result_tuple)"
   ]
  },
  {
   "cell_type": "markdown",
   "id": "1777e1b9-3ecc-440f-a5c0-d56d0af70fb9",
   "metadata": {},
   "source": [
    "Explanation:\n",
    "\n",
    "* Function Definition:\n",
    "The reverse_tuple function takes a tuple as input and returns the reversed tuple.\n",
    "* Tuple Reversal:\n",
    "reversed_tuple = tuple_[::-1]: This line creates a new tuple (reversed_tuple) by using slicing to reverse the order of elements in the original tuple.\n",
    "* Example Usage:\n",
    "An example tuple original_tuple is provided.\n",
    "* Function Call and Print:\n",
    "The function is called with the example tuple.\n",
    "The original and reversed tuples are printed."
   ]
  },
  {
   "cell_type": "markdown",
   "id": "d197bf46-d640-462a-bfe5-457388a442b0",
   "metadata": {},
   "source": [
    "45. Create a tuple of the first `n` powers of 2."
   ]
  },
  {
   "cell_type": "code",
   "execution_count": 7,
   "id": "cab4821d-b984-4941-808a-5a960c35836b",
   "metadata": {},
   "outputs": [
    {
     "name": "stdout",
     "output_type": "stream",
     "text": [
      "(2, 4, 8)\n"
     ]
    }
   ],
   "source": [
    "def powers(n):\n",
    "    value=[]\n",
    "    for i in range(1,n+1):\n",
    "        value.append(2**i)\n",
    "    return tuple(value)\n",
    "n=3\n",
    "print(powers(n))"
   ]
  },
  {
   "cell_type": "markdown",
   "id": "8d54b5c9-6865-4a7f-a2f0-b113c690eba8",
   "metadata": {},
   "source": [
    "Explanation:\n",
    "\n",
    "* Function Definition:\n",
    "A function named powers is defined, taking an integer n as its parameter.\n",
    "* List Generation in a Loop:\n",
    "Inside the function, a list named value is initialized. The function uses a for loop to iterate from 1 to n (inclusive).\n",
    "For each iteration, it calculates the value of 2**i and appends it to the list value. This loop generates the first n powers of 2.\n",
    "* Convert List to Tuple and Return:\n",
    "After the loop, the function converts the list value to a tuple using tuple(value) and returns the resulting tuple.\n",
    "* Example Usage:\n",
    "An example with n = 3 is provided. This represents the number of powers of 2 you want to generate.\n",
    "* Function Call and Print:\n",
    "The function is called with the specified value of n, and the resulting tuple is assigned to the variable result_tuple.\n",
    "The resulting tuple is printed."
   ]
  },
  {
   "cell_type": "markdown",
   "id": "422fa1c1-6f45-49e1-bc5b-9dc7fa26f80b",
   "metadata": {},
   "source": [
    "46. Find the longest string in a tuple of strings."
   ]
  },
  {
   "cell_type": "code",
   "execution_count": 27,
   "id": "b61a849b-bcce-4287-89cb-352503a84e9e",
   "metadata": {},
   "outputs": [
    {
     "name": "stdout",
     "output_type": "stream",
     "text": [
      "The longest strings in the tuple of string are : ('cinema', 'jasper')\n"
     ]
    }
   ],
   "source": [
    "tuple_=('jas', 'vijay','cinema', 'jasper')\n",
    "max_= len(max(tuple_, key=lambda x: len(x)))\n",
    "longest_string=tuple(i for i in tuple_ if len(i)==max_)\n",
    "print('The longest strings in the tuple of string are :',longest_string)"
   ]
  },
  {
   "cell_type": "markdown",
   "id": "97a2325a-42d0-4236-bc0d-37d754a41f73",
   "metadata": {},
   "source": [
    "#Explanation:\n",
    "\n",
    "* Initiating a variable tuple_ with string values\n",
    "* max_length = len(max(tuple_, key=lambda x: len(x))):\n",
    "The max() function is used to find the maximum element in the tuple_ based on the length of each string. The key=lambda x: len(x) specifies that the length of each string should be used for comparison.\n",
    "max() returns the maximum string, and len() is then used to calculate the length of that string. The result is stored in the variable max_length.\n",
    "* longest_strings = tuple(i for i in tuple_ if len(i) == max_length):\n",
    "A generator expression is used to create a tuple (longest_strings) containing all the strings from tuple_ that have a length equal to the max_length.\n",
    "The for i in tuple_ iterates over each element in tuple_, and if len(i) == max_length checks if the length of the string i is equal to the previously calculated maximum length (max_length).\n",
    "The tuple is created using the tuple() constructor.\n",
    "* print('The longest strings in the tuple of strings are:', longest_strings):\n",
    "Finally, the code prints the message along with the tuple of longest strings."
   ]
  },
  {
   "cell_type": "markdown",
   "id": "f0f5ad64-a5a5-465b-93f3-33e62acfcc59",
   "metadata": {},
   "source": [
    "47. Find the shortest string in a tuple of strings."
   ]
  },
  {
   "cell_type": "code",
   "execution_count": 32,
   "id": "f78b52ff-5e91-4790-a9b8-9844c6a3422e",
   "metadata": {},
   "outputs": [
    {
     "name": "stdout",
     "output_type": "stream",
     "text": [
      "The Shortest strings in the tuple of string are : ('jas', 'key')\n"
     ]
    }
   ],
   "source": [
    "def short(tuple_):\n",
    "    min_= len(min(tuple_, key=lambda x: len(x)))\n",
    "    shortest_string=tuple(i for i in tuple_ if len(i)==min_)\n",
    "    return shortest_string\n",
    "\n",
    "tuple_=('jas', 'vijay','key', 'jasper')\n",
    "\n",
    "print('The Shortest strings in the tuple of string are :',short(tuple_)) \n"
   ]
  },
  {
   "cell_type": "markdown",
   "id": "7a706c5c-1d71-4fd4-8ed3-77dab01eb96d",
   "metadata": {},
   "source": [
    "#Explanation:\n",
    "\n",
    "* Function Definition:def short(tuple_): This line defines a function named short that takes a single argument, tuple_.\n",
    "* Finding Minimum Length: The min() function finds the minimum element in the tuple_ based on the length of each string. The key=lambda x: len(x) specifies that the length of each string should be used for comparison. The length of the minimum string is then calculated using len(), and the result is stored in the variable min_length.\n",
    "* Creating Tuple of Shortest Strings: A generator expression is used to create a tuple (shortest_strings) containing strings from tuple_ that have a length equal to the min_length.\n",
    "The for i in tuple_ iterates over each element in tuple_, and if len(i) == min_length checks if the length of the string i is equal to the previously calculated minimum length (min_length).\n",
    "The resulting strings are included in the tuple using the tuple() constructor.\n",
    "* return shortest_strings: The function returns the tuple of shortest strings.\n",
    "* Function Call and Print: The function is called with the provided tuple, and the result is printed, indicating the strings with the minimum length in the original tuple."
   ]
  },
  {
   "cell_type": "markdown",
   "id": "79f32245-0f00-41d3-a0d1-220375c70cf4",
   "metadata": {},
   "source": [
    "48. Create a tuple of the first `n` triangular numbers."
   ]
  },
  {
   "cell_type": "code",
   "execution_count": 47,
   "id": "f4d62981-0704-4a75-bee1-f74a2a713aea",
   "metadata": {},
   "outputs": [
    {
     "name": "stdout",
     "output_type": "stream",
     "text": [
      "Tuple of the first 5 triangular numbers: (1, 3, 6, 10, 15)\n"
     ]
    }
   ],
   "source": [
    "def triangular_(n):\n",
    "    result= tuple( i*(i+1)//2 for i in range (1,5+1)) \n",
    "    return result\n",
    "n=5\n",
    "print(\"Tuple of the first\", n, \"triangular numbers:\", triangular_(n))"
   ]
  },
  {
   "cell_type": "markdown",
   "id": "c30b2e48-3465-4196-b2a0-57e080ff90e1",
   "metadata": {},
   "source": [
    "Explanation:\n",
    "* Function Definition: Define a function named triangular_ that takes an argument n.\n",
    "\n",
    "* Generating Tuple of Triangular Numbers: Generate a tuple (result) containing the first 5 triangular numbers using a list comprehension and the formula i*(i+1)//2 \n",
    "\n",
    "* Returning the Result: Return the tuple (result) of the first 5 triangular numbers.\n",
    "\n",
    "* Function Call and Print: Call the function with n = 5 and print the result."
   ]
  },
  {
   "cell_type": "markdown",
   "id": "29bf5a01-2d35-44b6-9944-68fdd0d50375",
   "metadata": {},
   "source": [
    "49. Check if a tuple contains another tuple as a subsequence."
   ]
  },
  {
   "cell_type": "code",
   "execution_count": 1,
   "id": "70ff52c4-8b49-410b-89ea-0670d90cd0af",
   "metadata": {},
   "outputs": [
    {
     "name": "stdout",
     "output_type": "stream",
     "text": [
      "True\n"
     ]
    }
   ],
   "source": [
    "def is_subsequence(sub, main):\n",
    "    for i in range(len(main) - len(sub) + 1):\n",
    "        if main[i:i+len(sub)] == sub:\n",
    "            return True\n",
    "    return False\n",
    "\n",
    "main_tuple = (1, 2, 3, 4, 5, 6)\n",
    "sub_tuple = (3, 4, 5)\n",
    "\n",
    "result = is_subsequence(sub_tuple, main_tuple)\n",
    "print(result)"
   ]
  },
  {
   "cell_type": "markdown",
   "id": "cec25af8-3a07-4941-9a21-282d633afe3f",
   "metadata": {},
   "source": [
    "Explanation:\n",
    "    \n",
    "* Function Definition:\n",
    "Define a function named is_subsequence that takes two tuples as arguments: sub (potential subsequence) and main (main tuple).\n",
    "* terating Through the Main Tuple:\n",
    "Use a for loop to iterate through the indices of the main tuple.\n",
    "The loop runs from 0 to len(main) - len(sub) + 1 to cover possible starting indices for the subsequence check.\n",
    "* Checking for Subsequence:\n",
    "Within the loop, check if the slice of the main tuple from index i to i+len(sub) is equal to the sub tuple.\n",
    "If true, it means that the elements of the sub tuple appear consecutively in the same order within the main tuple.\n",
    "* Return True If Subsequence Found:\n",
    "If a match is found, immediately return True, indicating that the sub tuple is a subsequence of the main tuple.\n",
    "* Return False if No Subsequence Found:\n",
    "If the loop completes without finding a match, return False, indicating that the sub tuple is not a subsequence of the main tuple.\n",
    "* Finally calling the function by passing the sample main and sub tuples and printing the results"
   ]
  },
  {
   "cell_type": "markdown",
   "id": "f6f5b048-4d8b-4119-a31f-7581653dc6fd",
   "metadata": {},
   "source": [
    "50. Create a tuple of alternating 1s and 0s of length `n`."
   ]
  },
  {
   "cell_type": "code",
   "execution_count": 2,
   "id": "6fa877a0-ce84-4959-8165-1e221798b776",
   "metadata": {},
   "outputs": [
    {
     "name": "stdout",
     "output_type": "stream",
     "text": [
      "(0, 1, 0, 1, 0, 1, 0, 1, 0, 1)\n"
     ]
    }
   ],
   "source": [
    "def create_alternating_tuple(n):\n",
    "    alternating_sequence = [i % 2 for i in range(n)]\n",
    "    result_tuple = tuple(alternating_sequence)# Convert the list to a tuple\n",
    "    return result_tuple\n",
    "\n",
    "n = 10  \n",
    "result = create_alternating_tuple(n)\n",
    "print(result)\n"
   ]
  },
  {
   "cell_type": "markdown",
   "id": "1fdb968a-20f5-4565-a72d-1f92b5ef5f16",
   "metadata": {},
   "source": [
    "Explanation:\n",
    "\n",
    "* Function Definition:\n",
    "Define a function named create_alternating_tuple that takes an argument n.\n",
    "* Generate Alternating Sequence:\n",
    "Utilize a list comprehension to create a sequence (alternating_sequence) of alternating 1s and 0s based on the index i. The expression i % 2 ensures alternation between 0 and 1.\n",
    "* Convert List to Tuple:\n",
    "Convert the list (alternating_sequence) to a tuple (result_tuple) using the tuple() function.\n",
    "* Return Resulting Tuple:\n",
    "Return the resulting tuple containing alternating 1s and 0s.\n",
    "* Providing n =10 and calling the function and stored it in variable result finally printing it\n",
    "    "
   ]
  },
  {
   "cell_type": "markdown",
   "id": "be695e40-0fa4-428b-a3e3-417e4c14c9da",
   "metadata": {},
   "source": [
    "# Set Based Practice Problem :"
   ]
  },
  {
   "cell_type": "markdown",
   "id": "f90a4770-c30e-430d-b6b6-9e13cc1e8fbc",
   "metadata": {},
   "source": [
    "1. Create a set with integers from 1 to 5."
   ]
  },
  {
   "cell_type": "code",
   "execution_count": 6,
   "id": "161db142-f442-4d74-b9f3-f0248630deac",
   "metadata": {},
   "outputs": [
    {
     "name": "stdout",
     "output_type": "stream",
     "text": [
      "{1, 2, 3, 4, 5}\n"
     ]
    }
   ],
   "source": [
    "integers ={1,2,3,4,5} # Use curly braces {} to create a set. Inside the braces, list the integers from 1 to 5, separated by commas.\n",
    "print(integers) # printing the set of integers"
   ]
  },
  {
   "cell_type": "markdown",
   "id": "3ea148b0-d341-4f7c-a5c4-5b3f257bbc31",
   "metadata": {},
   "source": [
    "2. Add an element to a set."
   ]
  },
  {
   "cell_type": "code",
   "execution_count": 11,
   "id": "fec8a416-276d-4cb7-ad5a-4984a6119fe1",
   "metadata": {},
   "outputs": [
    {
     "name": "stdout",
     "output_type": "stream",
     "text": [
      "{1, 2, 3, 4, 5, 6}\n"
     ]
    }
   ],
   "source": [
    "set_={1,2,3,4,5} # Created a set with list of integers from 1-5\n",
    "set_.add(6) # using the add method and \n",
    "print(set_)"
   ]
  },
  {
   "cell_type": "markdown",
   "id": "8bd130b1-4c44-463f-bec1-16955f844f02",
   "metadata": {},
   "source": [
    "Explanation: \n",
    "* Created a set with list of integers from 1-5 \n",
    "* Using the inbuilt function add() to add an element \n",
    "* printing the set_"
   ]
  },
  {
   "cell_type": "markdown",
   "id": "73ed18ff-f93d-4118-98aa-3cf39d9b749f",
   "metadata": {},
   "source": [
    "3. Remove an element from a set."
   ]
  },
  {
   "cell_type": "code",
   "execution_count": 12,
   "id": "ce407c9d-8332-4c8b-8d9c-d5511467b2e1",
   "metadata": {},
   "outputs": [
    {
     "data": {
      "text/plain": [
       "{1, 2, 3, 4, 5}"
      ]
     },
     "execution_count": 12,
     "metadata": {},
     "output_type": "execute_result"
    }
   ],
   "source": [
    "set_={1, 2, 3, 4, 5, 6}\n",
    "set_.remove(6)\n",
    "set_"
   ]
  },
  {
   "cell_type": "markdown",
   "id": "72292b40-c502-4b8b-be57-0b4089b6e4d5",
   "metadata": {},
   "source": [
    "Explanation: \n",
    "* Created a set with list of integers from 1-6 \n",
    "* Using the inbuilt function remove() to add an element from this set, it only remove if the element is present else it will raise error.\n",
    "* printing the set_"
   ]
  },
  {
   "cell_type": "markdown",
   "id": "452026d9-66bd-40c0-bca4-86aad9f4c990",
   "metadata": {},
   "source": [
    "4. Check if an element exists in a set."
   ]
  },
  {
   "cell_type": "code",
   "execution_count": 14,
   "id": "d8d5bcf5-6d98-42ba-b332-02043e5cb400",
   "metadata": {},
   "outputs": [
    {
     "name": "stdout",
     "output_type": "stream",
     "text": [
      "Element exists\n"
     ]
    }
   ],
   "source": [
    "set_={1, 2, 3, 4, 5, 6}\n",
    "element= 3\n",
    "if element in set_:\n",
    "    print('Element exists')\n",
    "else:\n",
    "    print(\"Element doesn't exists\")"
   ]
  },
  {
   "cell_type": "markdown",
   "id": "9238c393-e069-44c3-9579-0decbad29ee1",
   "metadata": {},
   "source": [
    "Explanation:\n",
    "\n",
    "* Created a set of 1-6 integers with variable set_ \n",
    "* Initiated an element which want to check in the set_variable\n",
    "* Used the If else statement and in keyword to check if the element in the set_ this will return the bolean True or false, if true it will print exlement exists else print element doesn't exists."
   ]
  },
  {
   "cell_type": "markdown",
   "id": "c6c59b2a-5264-4426-9d1b-7f3e8ee16862",
   "metadata": {},
   "source": [
    "5. Find the length of a set without using the `len()` function."
   ]
  },
  {
   "cell_type": "code",
   "execution_count": 29,
   "id": "4105d665-541c-44ce-81b9-9afb6d8ce587",
   "metadata": {},
   "outputs": [
    {
     "name": "stdout",
     "output_type": "stream",
     "text": [
      "The length of the set_ is 7\n"
     ]
    }
   ],
   "source": [
    "set_={1,3,4,5,6,7,8}\n",
    "length=0\n",
    "for i in set_:\n",
    "    length+=1\n",
    "    \n",
    "print('The length of the set_ is', length)"
   ]
  },
  {
   "cell_type": "markdown",
   "id": "49562048-7762-4563-9c95-01d3060d04f7",
   "metadata": {},
   "source": [
    "Explanation:\n",
    "\n",
    "* Created a variable names set_ consists of integers in set type.\n",
    "* Initiated a variable length with 0 as value for later purpose.\n",
    "* In for loop iterate over all the elements in set and for every iteration adding 1 to the length variable."
   ]
  },
  {
   "cell_type": "markdown",
   "id": "34a47792-e3ae-4a39-9b62-0339f2a64487",
   "metadata": {},
   "source": [
    "6. Clear all elements from a set."
   ]
  },
  {
   "cell_type": "code",
   "execution_count": 31,
   "id": "dbc8b00c-06aa-4202-a010-10ee145d797b",
   "metadata": {},
   "outputs": [
    {
     "name": "stdout",
     "output_type": "stream",
     "text": [
      "set()\n"
     ]
    }
   ],
   "source": [
    "set_={1,3,4,5,6,7,8}\n",
    "set_.clear()\n",
    "print(set_)"
   ]
  },
  {
   "cell_type": "markdown",
   "id": "8045feee-eec4-4243-a1d6-095e29dacccc",
   "metadata": {},
   "source": [
    "Explanation:\n",
    "\n",
    "* Created a set with intergers.\n",
    "* Used the inbuilt clear function() and cleared all the elements in set.\n",
    "* printing the set_ variable \n"
   ]
  },
  {
   "cell_type": "markdown",
   "id": "f15b9f4b-5469-4844-bab3-7ccbc979bb87",
   "metadata": {},
   "source": [
    "7. Create a set of even numbers from 1 to 10."
   ]
  },
  {
   "cell_type": "code",
   "execution_count": 5,
   "id": "fecbf49a-7c0c-4273-85d3-44c5eae02f19",
   "metadata": {},
   "outputs": [
    {
     "name": "stdout",
     "output_type": "stream",
     "text": [
      "Set of even numbers from 1-10 are {8, 2, 4, 6}\n"
     ]
    }
   ],
   "source": [
    "even_numbers_set= {i for i in range(1,10) if i % 2==0}\n",
    "print('Set of even numbers from 1-10 are', even_numbers_set)"
   ]
  },
  {
   "cell_type": "markdown",
   "id": "3a04c817-74b8-4ad2-9066-0200697385b9",
   "metadata": {},
   "source": [
    "Explanation: \n",
    "* Used set comprehension to generate a set named even_numbers_set.\n",
    "* The comprehension iterates through numbers from 1 to 10 (range(1, 10)) and includes only those numbers that are even (if i % 2 == 0).\n",
    "* Printing the variable even_numbers_set along with the text  Set of even numbers from 1-10 are."
   ]
  },
  {
   "cell_type": "markdown",
   "id": "9b827cae-f48b-4143-8795-448445f2dce1",
   "metadata": {},
   "source": [
    "8. Create a set of odd numbers from 1 to 10."
   ]
  },
  {
   "cell_type": "code",
   "execution_count": 4,
   "id": "fb26a433-ff76-4cab-af1b-953963563e33",
   "metadata": {},
   "outputs": [
    {
     "name": "stdout",
     "output_type": "stream",
     "text": [
      "Set of odd numbers from 1-10 are {1, 3, 5, 7, 9}\n"
     ]
    }
   ],
   "source": [
    "odd_numbers_set = {i for i in range(1, 11) if i % 2 != 0}\n",
    "print('Set of odd numbers from 1-10 are', odd_numbers_set)"
   ]
  },
  {
   "cell_type": "markdown",
   "id": "50d99122-7e1e-4136-a7cb-7d318e198a94",
   "metadata": {},
   "source": [
    "Explanation: \n",
    "* Used set comprehension to generate a set named odd_numbers_set.\n",
    "* The comprehension iterates through numbers from 1 to 10 (range(1, 10)) and includes only those numbers that are even (if i % 2 != 0).\n",
    "* Printing the variable odd_numbers_set along with the text Set of odd numbers from 1-10 are."
   ]
  },
  {
   "cell_type": "markdown",
   "id": "d63e9617-d1de-410f-93cc-0a2614412d4c",
   "metadata": {},
   "source": [
    "9. Find the union of two sets."
   ]
  },
  {
   "cell_type": "code",
   "execution_count": 7,
   "id": "0ba60853-ccb0-4d90-9564-63a75fdc48c7",
   "metadata": {},
   "outputs": [
    {
     "name": "stdout",
     "output_type": "stream",
     "text": [
      "Union Set : {1, 2, 3, 4, 5, 6, 7, 8, 9, 10}\n"
     ]
    }
   ],
   "source": [
    "set1={1,2,3,4,5}\n",
    "set2={6,7,8,9,10}\n",
    "union_set= set1.union(set2)\n",
    "print('Union Set :',union_set)"
   ]
  },
  {
   "cell_type": "markdown",
   "id": "a6598893-871f-4176-bec7-3832f77ac3ef",
   "metadata": {},
   "source": [
    "Exlanation:\n",
    "\n",
    "* Created two sets set1 and set2 with list of integers and used the set operation function union() \n",
    "* Print the union_set with text Union Set:"
   ]
  },
  {
   "cell_type": "markdown",
   "id": "0e4e28f8-f598-4c83-ac82-cdb32f7c71b4",
   "metadata": {},
   "source": [
    "10. Find the intersection of two sets."
   ]
  },
  {
   "cell_type": "code",
   "execution_count": 9,
   "id": "742ff753-e991-4b42-973a-b3c2f053b033",
   "metadata": {},
   "outputs": [
    {
     "name": "stdout",
     "output_type": "stream",
     "text": [
      "Intersection set:  {2, 3, 5}\n"
     ]
    }
   ],
   "source": [
    "set1={1,2,3,4,5}\n",
    "set2={2,3,5,6,7,8,9,10}\n",
    "intersection_set= set1.intersection(set2)\n",
    "print(\"Intersection set: \",intersection_set)"
   ]
  },
  {
   "cell_type": "markdown",
   "id": "d96a06f8-1295-421b-bc61-d4c2ac299c26",
   "metadata": {},
   "source": [
    "Exlanation:\n",
    "\n",
    "* Created two sets set1 and set2 with list of integers\n",
    "* The intersection() method is used to find the intersection of the two sets. This method returns a new set containing common elements from both sets.\n",
    "* Print the intersection_set with text intersection Set:"
   ]
  },
  {
   "cell_type": "markdown",
   "id": "efc720a9-1fbb-4a07-b647-1a998997603b",
   "metadata": {},
   "source": [
    "11. Find the difference between two sets."
   ]
  },
  {
   "cell_type": "code",
   "execution_count": 12,
   "id": "a1db174f-40dd-45c5-823d-0f8a988d41e8",
   "metadata": {},
   "outputs": [
    {
     "name": "stdout",
     "output_type": "stream",
     "text": [
      "difference set:  {1, 2}\n"
     ]
    }
   ],
   "source": [
    "set1 = {1, 2, 3, 4}\n",
    "set2 = {3, 4, 5, 6}\n",
    "\n",
    "difference_set = set1.difference(set2)\n",
    "print(\"difference set: \",difference_set)"
   ]
  },
  {
   "cell_type": "markdown",
   "id": "a45726e5-9f80-4107-a7a5-66a5d7da22e6",
   "metadata": {},
   "source": [
    "Exlanation:\n",
    "\n",
    "* Created two sets set1 and set2 with list of integers\n",
    "* The difference() method is used to find the difference between set1 and set2. This method returns a new set containing elements that are present in set1 but not in set2.\n",
    "* Print the difference_set with text difference Set:"
   ]
  },
  {
   "cell_type": "markdown",
   "id": "a442e1bc-19db-411a-9cf2-ca0e95827273",
   "metadata": {},
   "source": [
    "12. Check if a set is a subset of another set."
   ]
  },
  {
   "cell_type": "code",
   "execution_count": 4,
   "id": "79cd6269-be23-4fd0-9a6e-e0ac3a90aabf",
   "metadata": {},
   "outputs": [
    {
     "name": "stdout",
     "output_type": "stream",
     "text": [
      "Set2 is a subset of set1.\n"
     ]
    }
   ],
   "source": [
    "set1 = {1, 2, 3, 4,5, 6}\n",
    "set2 = {3,4,5}\n",
    "\n",
    "if set2.issubset(set1):\n",
    "    print('Set2 is a subset of set1.')\n",
    "else:\n",
    "    print('Set2 is not a subset of set1.')\n"
   ]
  },
  {
   "cell_type": "markdown",
   "id": "e56e7364-a9ea-4d13-b678-442b6b17be2f",
   "metadata": {},
   "source": [
    "Exlanation:\n",
    "\n",
    "* Created two sets set1 and set2 with list of integers\n",
    "* The issubset() method is used to check if set2 is a subset of set1. This method returns True if every element of the set is present in the other set, and False otherwise. Hence used the If else condition and if the statement is true it will print set2 is subset else it not.\n"
   ]
  },
  {
   "cell_type": "markdown",
   "id": "b81c8a52-a5f3-4cec-94cc-bb288a8e2ff8",
   "metadata": {},
   "source": [
    "13. Check if a set is a superset of another set."
   ]
  },
  {
   "cell_type": "code",
   "execution_count": 9,
   "id": "bee582e9-02ed-4c3a-9a6f-ad2af887b840",
   "metadata": {},
   "outputs": [
    {
     "name": "stdout",
     "output_type": "stream",
     "text": [
      "Set 2 is super set of set1\n"
     ]
    }
   ],
   "source": [
    "set1 = {1, 2}\n",
    "set2 = {1, 2, 3, 4}\n",
    "\n",
    "if set2.issuperset(set1):\n",
    "    print('Set 2 is super set of set1')\n",
    "else:\n",
    "    print('Set 2 is not super set of set1')\n",
    "\n"
   ]
  },
  {
   "cell_type": "markdown",
   "id": "95fe621a-4545-454d-8bd2-f951a8fc5912",
   "metadata": {},
   "source": [
    "Exlanation:\n",
    "\n",
    "* Created two sets set1 and set2 with list of integers\n",
    "* The issuperset() method is used to check if set2 is a superset of set1. This method returns True if every element of the other set is present in the set, and False otherwise. Hence used the If else condition and if the statement is true it will print set2 is superset else it not.\n"
   ]
  },
  {
   "cell_type": "markdown",
   "id": "9a5d67f5-87ad-4edc-81e4-cb446a6a481f",
   "metadata": {},
   "source": [
    "14. Create a set from a list."
   ]
  },
  {
   "cell_type": "code",
   "execution_count": 19,
   "id": "283e3022-183a-4ca5-9d9b-f387cac89f04",
   "metadata": {},
   "outputs": [
    {
     "name": "stdout",
     "output_type": "stream",
     "text": [
      "List :[1, 3, 4, 5, 6, 4],\n",
      "set from list : {1, 3, 4, 5, 6}\n"
     ]
    }
   ],
   "source": [
    "list_=[1,3,4,5,6,4]\n",
    "set_=set(list_)\n",
    "print(f'''List :{list_},\n",
    "set from list : {set_}''')\n"
   ]
  },
  {
   "cell_type": "markdown",
   "id": "edb36ba9-6c9c-4698-8d33-c534c2cfe33a",
   "metadata": {},
   "source": [
    "Explanation:\n",
    "* Created a list with list of integers\n",
    "* Used set() constructor to convert the list_ into a set. This automatically removes duplicate elements, creating a set with only unique elements. The resulting set is stored in the variable set_.\n",
    "- Finally, we print both the original list and the set obtained from the list using print() statements."
   ]
  },
  {
   "cell_type": "markdown",
   "id": "cd642957-be55-4579-b09e-9a3f03f0303c",
   "metadata": {},
   "source": [
    "15. Convert a set to a list."
   ]
  },
  {
   "cell_type": "code",
   "execution_count": 1,
   "id": "eec97ee4-5384-4c75-b81f-57dfa2cbf0ad",
   "metadata": {},
   "outputs": [
    {
     "name": "stdout",
     "output_type": "stream",
     "text": [
      " Set :{1, 2, 3, 4, 5}\n",
      "converted to list :[1, 2, 3, 4, 5]\n"
     ]
    }
   ],
   "source": [
    "set_={1,2,3,4,5}\n",
    "list_=list(set_)\n",
    "print(f''' Set :{set_}\n",
    "converted to list :{list_}''')"
   ]
  },
  {
   "cell_type": "markdown",
   "id": "ddb7e8ec-4074-4386-802b-dee3a983a4fc",
   "metadata": {},
   "source": [
    "Explanation:\n",
    "* Created a set with list of integers\n",
    "* Used list() constructor to convert the set_ into a list. \n",
    "* Finally, we print both the original set and the list obtained from the set using print() statements."
   ]
  },
  {
   "cell_type": "markdown",
   "id": "3cdb6f13-3e3e-4085-b4c0-ef3a5d5653e2",
   "metadata": {},
   "source": [
    "16. Remove a random element from a set."
   ]
  },
  {
   "cell_type": "code",
   "execution_count": 2,
   "id": "214fca27-1104-40b1-a5b9-917f44803d73",
   "metadata": {},
   "outputs": [
    {
     "name": "stdout",
     "output_type": "stream",
     "text": [
      "Original set: {1, 2, 3, 4, 5}\n",
      "Updated set after removing 5 : {1, 2, 3, 4}\n"
     ]
    }
   ],
   "source": [
    "import random \n",
    "\n",
    "my_set = {1, 2, 3, 4, 5}\n",
    "\n",
    "print(\"Original set:\", my_set)\n",
    "\n",
    "random_element = random.choice(list(my_set))\n",
    "\n",
    "my_set.remove(random_element)# Remove the chosen random element from the set using the remove() method\n",
    "\n",
    "print(\"Updated set after removing\", random_element, \":\", my_set)"
   ]
  },
  {
   "cell_type": "markdown",
   "id": "5eea7d34-00a5-4ae7-93a6-036e93da2aa2",
   "metadata": {},
   "source": [
    "Explanation:\n",
    "* Import random module\n",
    "* random.choice(list(my_set)):\n",
    "Convert the set to a list using list(my_set).\n",
    "Use random.choice() to choose a random element from the list.\n",
    "* my_set.remove(random_element):\n",
    "Remove the chosen random element from the set using the remove() method.\n",
    "* Print the Original and Updated Sets:\n",
    "Print the original set before removing the random element.\n",
    "Print the updated set after removing the random element."
   ]
  },
  {
   "cell_type": "markdown",
   "id": "1b14ced6-5958-4ebc-b43d-60acac5f8632",
   "metadata": {},
   "source": [
    "17. Pop an element from a set."
   ]
  },
  {
   "cell_type": "code",
   "execution_count": 5,
   "id": "7672c6d7-9aaa-438b-9b84-a05710a97a45",
   "metadata": {},
   "outputs": [
    {
     "name": "stdout",
     "output_type": "stream",
     "text": [
      "Popped Element: 1\n",
      "Updated Set: {2, 3, 4, 5}\n"
     ]
    }
   ],
   "source": [
    "my_set = {1, 2, 3, 4, 5}\n",
    "popped_element = my_set.pop()\n",
    "\n",
    "print(\"Popped Element:\", popped_element)\n",
    "print(\"Updated Set:\", my_set)"
   ]
  },
  {
   "cell_type": "markdown",
   "id": "cb776325-35fd-4063-905c-e1f3d4e75007",
   "metadata": {},
   "source": [
    "Explanation:\n",
    "\n",
    "* Created a set with list of integers\n",
    "* used the pop() method it removes and returns an arbitrary element from the set.\n",
    "* printing both the removed element and updated set"
   ]
  },
  {
   "cell_type": "markdown",
   "id": "1d35a155-f245-482e-87fe-908e820d19eb",
   "metadata": {},
   "source": [
    "18. Check if two sets have no elements in common."
   ]
  },
  {
   "cell_type": "code",
   "execution_count": 8,
   "id": "e01cdc34-a39e-444d-8ed9-f2457772805d",
   "metadata": {},
   "outputs": [
    {
     "name": "stdout",
     "output_type": "stream",
     "text": [
      "No Common Elements\n"
     ]
    }
   ],
   "source": [
    "set_1={1,2,3,4,5}\n",
    "set_2={6,7,8,9,10}\n",
    "\n",
    "common_elements= set_1.intersection(set_2)\n",
    "if not common_elements:\n",
    "    print('No Common Elements')\n",
    "else: \n",
    "    Print('Common elements found',common_elements)"
   ]
  },
  {
   "cell_type": "markdown",
   "id": "f53b0203-5052-4b2d-91af-4abcaefb51da",
   "metadata": {},
   "source": [
    "Explanation:\n",
    "    \n",
    "* Created two sets set_1 and set_2 with different elements \n",
    "* Used the intersection() method to find the common elements in the sets and stored the return elements in the variable common_elements\n",
    "* If the common_elements is empty of not having any elements printing the statement no common elements else printing the statement common elements found with common elements value."
   ]
  },
  {
   "cell_type": "markdown",
   "id": "d0ab9f1d-cf61-459f-a14c-6aa1fca19225",
   "metadata": {},
   "source": [
    "19. Find the symmetric difference between two sets."
   ]
  },
  {
   "cell_type": "code",
   "execution_count": 12,
   "id": "7ba6b43c-bda7-4efd-baae-1c3058c24ef9",
   "metadata": {},
   "outputs": [
    {
     "name": "stdout",
     "output_type": "stream",
     "text": [
      "Symmetric difference between set_1 and set_2:  {1, 2, 3, 4, 5, 8, 9, 10}\n"
     ]
    }
   ],
   "source": [
    "set_1={1,2,3,4,5,6,7}\n",
    "set_2={6,7,8,9,10}\n",
    "\n",
    "symmetric_difference= set_1.symmetric_difference(set_2)\n",
    "print('Symmetric difference between set_1 and set_2: ',symmetric_difference)"
   ]
  },
  {
   "cell_type": "markdown",
   "id": "18fb75d8-d755-47d1-8744-8f66f344e8ee",
   "metadata": {},
   "source": [
    "Explanation:\n",
    "\n",
    "* Created two sets set_1 and set_2 with difference elements and some common elements\n",
    "* Used the symmetric_difference () inbuilt function this will return the elements that are unique to each set, excluding those that are common to both sets.\n",
    "* Printing the statement with the symmetric_difference variable"
   ]
  },
  {
   "cell_type": "markdown",
   "id": "bf4227c2-dfcf-4069-b486-bb479eb11a16",
   "metadata": {},
   "source": [
    "20. Update a set with elements from another set."
   ]
  },
  {
   "cell_type": "code",
   "execution_count": 17,
   "id": "342af558-66b7-4a2b-b425-a663f52dc752",
   "metadata": {},
   "outputs": [
    {
     "name": "stdout",
     "output_type": "stream",
     "text": [
      "Updated set:  {1, 2, 3, 4, 5, 6, 7, 8, 9, 10}\n"
     ]
    }
   ],
   "source": [
    "set_1={1,2,3,4,5,6,7}\n",
    "set_2={6,7,8,9,10}\n",
    "\n",
    "set_1.update(set_2)\n",
    "print('Updated set: ',set_1)"
   ]
  },
  {
   "cell_type": "markdown",
   "id": "293b1120-2df8-4e5e-8edb-8e20345502ab",
   "metadata": {},
   "source": [
    "Explanation:\n",
    "\n",
    "* Created two sets set_1 and set_2 with integers\n",
    "* used the update() inbuilt function and updated the set_2 with the set_1 it will remove any duplicate and update the unique values\n",
    "* Printing the set_1"
   ]
  },
  {
   "cell_type": "markdown",
   "id": "19857823-f7b9-4b6f-8a34-ca13f5bba452",
   "metadata": {},
   "source": [
    "21. Create a set of the first 5 prime numbers."
   ]
  },
  {
   "cell_type": "code",
   "execution_count": 8,
   "id": "48832446-66f8-4fc4-97f2-cbd48c1278a0",
   "metadata": {},
   "outputs": [
    {
     "name": "stdout",
     "output_type": "stream",
     "text": [
      "The first 5 prime numbers are {2, 3, 5, 7, 11}\n"
     ]
    }
   ],
   "source": [
    "def prime(number):\n",
    "    if number ==1:\n",
    "        return False\n",
    "    for i in range(2,int(number**0.5) +1):\n",
    "        if number %i ==0:\n",
    "            return False\n",
    "    return True\n",
    "\n",
    "def n_prime(n):\n",
    "    prime_=set()\n",
    "    number=2\n",
    "    while len(prime_)<n:\n",
    "        if prime(number):\n",
    "            prime_.add(number)\n",
    "        number+=1\n",
    "    return prime_\n",
    "\n",
    "n=5\n",
    "print(f'The first {n} prime numbers are { n_prime(n)}')       \n"
   ]
  },
  {
   "cell_type": "markdown",
   "id": "63cc6f32-5f4f-4008-9a14-74e159de865d",
   "metadata": {},
   "source": [
    "Explanation:\n",
    "\n",
    "* prime(number) function:\n",
    "Checks if a given number is prime using a loop that iterates from 2 to the square root of the number.\n",
    "Returns True if the number is prime and False otherwise.\n",
    "* n_prime(n) function:\n",
    "Generates a set (prime_set) containing the first n prime numbers.\n",
    "Utilizes the prime() function to determine if a number is prime before adding it to the set.\n",
    "Uses a while loop to continue adding prime numbers until the set contains n elements.\n",
    "* Main Code:\n",
    "Specifies the value of n (in this case, 5) to indicate the number of prime numbers to generate.\n",
    "Prints the first n prime numbers using the n_prime function."
   ]
  },
  {
   "cell_type": "markdown",
   "id": "05bdd63f-3880-43ff-9246-55e05a7c5349",
   "metadata": {},
   "source": [
    "22. Check if two sets are identical."
   ]
  },
  {
   "cell_type": "code",
   "execution_count": 9,
   "id": "8e382e69-d5dd-4c7b-a227-f2cf4caa2fb3",
   "metadata": {},
   "outputs": [
    {
     "name": "stdout",
     "output_type": "stream",
     "text": [
      "Identical sets\n"
     ]
    }
   ],
   "source": [
    "set_1={1,2,3,4}\n",
    "set_2={1,2,3,4}\n",
    "\n",
    "if set_1==set_2:\n",
    "    print('Identical sets')\n",
    "else:\n",
    "    print('Not Identical Sets')"
   ]
  },
  {
   "cell_type": "markdown",
   "id": "f976873a-d65c-4e96-ac68-6fbf48035875",
   "metadata": {},
   "source": [
    "Explanation:\n",
    "\n",
    "* Defined two sets set_1 and set_2 with same set of integeres\n",
    "* used the = operator and use the if condition to check both the sets are equal if its equal it will print identical sets else not identical"
   ]
  },
  {
   "cell_type": "markdown",
   "id": "2dd781d5-37b3-4a26-9aaa-62232164f188",
   "metadata": {},
   "source": [
    "23. Create a frozen set."
   ]
  },
  {
   "cell_type": "code",
   "execution_count": 1,
   "id": "7521acc5-ef2d-4dfb-b72e-456a2e547a2c",
   "metadata": {},
   "outputs": [
    {
     "name": "stdout",
     "output_type": "stream",
     "text": [
      "Regular Set: {1, 2, 3, 4, 5}\n",
      "Frozen Set: frozenset({1, 2, 3, 4, 5})\n"
     ]
    }
   ],
   "source": [
    "my_set = {1, 2, 3, 4, 5}\n",
    "\n",
    "my_frozen_set = frozenset(my_set)\n",
    "\n",
    "# Print both sets\n",
    "print(\"Regular Set:\", my_set)\n",
    "print(\"Frozen Set:\", my_frozen_set)"
   ]
  },
  {
   "cell_type": "markdown",
   "id": "f7f11a41-0aba-41c3-9112-122618356569",
   "metadata": {},
   "source": [
    "Explanation:\n",
    "\n",
    "Created an ordinary set with integers\n",
    "*  Converted the ordinary set into frozen set using frozenset() constructor, now this set will be immutable.\n",
    "* Printing both the original and frozenset"
   ]
  },
  {
   "cell_type": "markdown",
   "id": "7759382c-1a65-4b56-be65-9104732b4ca9",
   "metadata": {},
   "source": [
    "24. Check if a set is disjoint with another set."
   ]
  },
  {
   "cell_type": "code",
   "execution_count": 6,
   "id": "7b8b448d-a6e7-442a-b308-cfd2b00ca925",
   "metadata": {},
   "outputs": [
    {
     "name": "stdout",
     "output_type": "stream",
     "text": [
      "Are the sets disjoint? True\n"
     ]
    }
   ],
   "source": [
    "set_1={1,2,3,4}\n",
    "set_2={5,6,7,8,9}\n",
    "is_disjoin= set_1.isdisjoint(set_2)\n",
    "print(\"Are the sets disjoint?\",is_disjoin)"
   ]
  },
  {
   "cell_type": "markdown",
   "id": "39cd34d3-c7d0-4a5d-9387-8b9b4967a463",
   "metadata": {},
   "source": [
    "Explanation:\n",
    "\n",
    "- We start by defining two sets, set_1 and set_2, which contain different elements. You can modify these sets with the elements you want to use for the check.\n",
    "- The isdisjoint() method is called on set_1 and is passed set_2 as an argument. This method checks whether the sets have any elements in common.\n",
    "- The result of the disjointness check is stored in the is_disjoin variable. If the sets are disjoint, disjoint_status will be True, and if they are not disjoint, it will be False.\n",
    "- Finally, we use the print() function to display the result. It will print a message indicating whether the sets are disjoint or not based on the value of the disjoint_status variable."
   ]
  },
  {
   "cell_type": "markdown",
   "id": "95248b1b-8d84-4ee7-b574-15d757587120",
   "metadata": {},
   "source": [
    "25. Create a set of squares of numbers from 1 to 5."
   ]
  },
  {
   "cell_type": "code",
   "execution_count": 12,
   "id": "95333826-1758-43a9-9570-7dd1225ca703",
   "metadata": {},
   "outputs": [
    {
     "name": "stdout",
     "output_type": "stream",
     "text": [
      "Set of squares numbers from 1-5 {1, 4, 9, 16, 25}\n"
     ]
    }
   ],
   "source": [
    "def squares(start_range, end_range):\n",
    "    n_squares={ i**2 for i in range(start_range,end_range+1)}\n",
    "    return n_squares\n",
    "start_range, end_range= 1,5\n",
    "print(f'Set of squares numbers from {start_range}-{end_range} {squares(start_range, end_range)}')"
   ]
  },
  {
   "cell_type": "markdown",
   "id": "ae6a030e-33c5-4f85-85e9-e2655f4d4bcc",
   "metadata": {},
   "source": [
    "Explanation:\n",
    "\n",
    "* Created a function with two input parameters squares(start_range, end_range)\n",
    "* using the set comprehension insdide that loop the start and end range getting from the parameters and using the exponential operation ** to square root it and storing it to n_squares variable.\n",
    "* Return the n_squares\n",
    "* initializing the start and end range then printing the text and call the function using f string."
   ]
  },
  {
   "cell_type": "markdown",
   "id": "bc5ac50c-d25a-4510-a041-f6bc7dfca447",
   "metadata": {},
   "source": [
    "26. Filter out all even numbers from a set."
   ]
  },
  {
   "cell_type": "code",
   "execution_count": 13,
   "id": "b6430313-5683-4bc9-a512-70c6982059af",
   "metadata": {},
   "outputs": [
    {
     "name": "stdout",
     "output_type": "stream",
     "text": [
      "Even numbers from set :  {2, 4, 6, 8, 12, 14, 16}\n"
     ]
    }
   ],
   "source": [
    "set_={1,2,3,4,5,6,7,8,9,12,14,16}\n",
    "even_numbers= {i for i in set_ if i %2==0}\n",
    "print(\"Even numbers from set : \",even_numbers)"
   ]
  },
  {
   "cell_type": "markdown",
   "id": "55b2656c-aa01-472d-9265-6db85a5a6c0d",
   "metadata": {},
   "source": [
    "Explanation:\n",
    "    \n",
    "* Created a set variable with list of integers\n",
    "* The set comprehension {i for i in set_ if i % 2 == 0} iterates through each element in set_.It includes only those elements (i) that are even (i.e., i % 2 == 0 is True).\n",
    "* Printing the variable even_numbers which contains the even numbers from the set"
   ]
  },
  {
   "cell_type": "markdown",
   "id": "9b5e8619-7d45-47c0-ae95-e12c99a151ba",
   "metadata": {},
   "source": [
    "27. Multiply all elements in a set by 2."
   ]
  },
  {
   "cell_type": "code",
   "execution_count": 16,
   "id": "140703da-307f-4894-8b09-649a5a42857c",
   "metadata": {},
   "outputs": [
    {
     "name": "stdout",
     "output_type": "stream",
     "text": [
      "Original set: {1, 2, 3, 4, 5}\n",
      "multiplied by 2: {2, 4, 6, 8, 10}\n"
     ]
    }
   ],
   "source": [
    "set_={1,2,3,4,5}\n",
    "multiplied_set= {i*2 for i in set_}\n",
    "print(f'''Original set: {set_}\n",
    "multiplied by 2: {multiplied_set}''')"
   ]
  },
  {
   "cell_type": "markdown",
   "id": "8a6af1cc-b121-46da-a9c5-47a1660727cb",
   "metadata": {},
   "source": [
    "Explanation:\n",
    "\n",
    "* Set Definition:\n",
    "set_ is a set containing integers.\n",
    "* Set Comprehension:\n",
    "The set comprehension {i * 2 for i in set_} iterates through each element in set_.\n",
    "It includes the doubled value of each element in the new set.\n",
    "* Result Printing:\n",
    "The original set and the set with elements multiplied by 2 are printed using an f-string."
   ]
  },
  {
   "cell_type": "markdown",
   "id": "d5c2557a-dc0e-464f-af16-addbfb12bccd",
   "metadata": {},
   "source": [
    "28. Create a set of random numbers."
   ]
  },
  {
   "cell_type": "code",
   "execution_count": 24,
   "id": "3beb1931-0791-4d71-b49b-d7264fb90377",
   "metadata": {},
   "outputs": [
    {
     "name": "stdout",
     "output_type": "stream",
     "text": [
      "Random set of numbers :{64, 9, 78, 14, 91}\n"
     ]
    }
   ],
   "source": [
    "import random\n",
    "random.randint(1,100)\n",
    "n= 5\n",
    "random_set=set()\n",
    "while len(random_set)<n:\n",
    "    random_set.add(random.randint(1,100))\n",
    "print(f'Random set of numbers :{random_set}')"
   ]
  },
  {
   "cell_type": "markdown",
   "id": "095c3801-0484-4f75-895d-e46cba302459",
   "metadata": {},
   "source": [
    "Explanation:\n",
    "\n",
    "* Import Random Module:\n",
    "import random: Imports the random module for generating random numbers.\n",
    "* Generate a Single Random Integer:\n",
    "random_integer = random.randint(1, 100): Generates a single random integer between 1 and 100 (inclusive).\n",
    "* Specify the Number of Elements:\n",
    "n = 5: Specifies the desired number of elements in the random set.\n",
    "* Create an Empty Set:\n",
    "random_set = set(): Initializes an empty set to store unique random integers.\n",
    "* Generate Random Set:\n",
    "while len(random_set) < n:: Uses a while loop to add random integers to the set until it reaches the specified size n.\n",
    "random_set.add(random.randint(1, 100)): Adds a random integer between 1 and 100 to the set.\n",
    "* Print Result:\n",
    "print(f'Random set of numbers: {random_set}'): Prints the final random set of numbers."
   ]
  },
  {
   "cell_type": "markdown",
   "id": "9ad1c1cb-2685-4021-b731-cddfb5bd6b4a",
   "metadata": {},
   "source": [
    "29. Check if a set is empty."
   ]
  },
  {
   "cell_type": "code",
   "execution_count": 25,
   "id": "22a78c44-ca3e-4c57-bef2-4f7b69fd2260",
   "metadata": {},
   "outputs": [
    {
     "name": "stdout",
     "output_type": "stream",
     "text": [
      "Set_1 is not empty\n",
      "set_2 is empty\n"
     ]
    }
   ],
   "source": [
    "set_1= {1,2,3,4}\n",
    "set_2=set()\n",
    "if not set_1:\n",
    "    print(\"set_1 is empty\")\n",
    "else:\n",
    "    print('Set_1 is not empty')\n",
    "if not set_2:\n",
    "    print('set_2 is empty')\n",
    "else:\n",
    "    print('set_2 is not empty')"
   ]
  },
  {
   "cell_type": "markdown",
   "id": "a54ee4c5-0977-4e40-8941-aa9b7a542b22",
   "metadata": {},
   "source": [
    "Explanation:\n",
    " \n",
    "* Set Definitions:\n",
    "set_1 = {1, 2, 3, 4}: Defines a non-empty set with elements.\n",
    "set_2 = set(): Creates an empty set.\n",
    "* Check for Empty Sets:\n",
    "if not set_1:: Checks if set_1 is empty. If it is, it prints \"set_1 is empty\"; otherwise, it prints 'set_1 is not empty'.\n",
    "if not set_2:: Checks if set_2 is empty. If it is, it prints \"set_2 is empty\"; otherwise, it prints 'set_2 is not empty'."
   ]
  },
  {
   "cell_type": "markdown",
   "id": "0059233d-e86b-49e0-b626-884a17cd8ba5",
   "metadata": {},
   "source": [
    "30. Create a nested set (hint: use frozenset)."
   ]
  },
  {
   "cell_type": "code",
   "execution_count": 30,
   "id": "afdfdbc1-bae7-40d2-b52d-3c264c63379b",
   "metadata": {},
   "outputs": [
    {
     "data": {
      "text/plain": [
       "{frozenset({1, 2, 3}), frozenset({5, 6, 7}), frozenset({3, 4, 5})}"
      ]
     },
     "execution_count": 30,
     "metadata": {},
     "output_type": "execute_result"
    }
   ],
   "source": [
    "nested_set={frozenset({1,2,3}),frozenset({3,4,5}),frozenset({5,6,7})}\n",
    "nested_set"
   ]
  },
  {
   "cell_type": "markdown",
   "id": "bcf3547f-5d38-46dc-ad64-2c3c353fcc90",
   "metadata": {},
   "source": [
    "Explanation:\n",
    "\n",
    "* Frozensets Creation:\n",
    "frozenset({1, 2, 3}), frozenset({3, 4, 5}), and frozenset({5, 6, 7}): Create three frozensets, each representing a subset of integers.\n",
    "* Nested Set Creation:\n",
    "{frozenset({1, 2, 3}), frozenset({3, 4, 5}), frozenset({5, 6, 7})}: Create a set (nested_set) that contains the three frozensets created in the previous step.\n",
    "* Printing the Nested Set:\n",
    "print(\"Nested set:\", nested_set): Print the contents of the nested_set."
   ]
  },
  {
   "cell_type": "markdown",
   "id": "c5b1ffa1-1c9a-4ca0-b1d9-d1db95cb2002",
   "metadata": {},
   "source": [
    "31. Remove an element from a set using the discard method."
   ]
  },
  {
   "cell_type": "code",
   "execution_count": 34,
   "id": "ab953b3d-a488-4f85-b4f3-a7302d52bf95",
   "metadata": {},
   "outputs": [
    {
     "name": "stdout",
     "output_type": "stream",
     "text": [
      "original set:  {1, 2, 3, 4}\n",
      "after discard:  {1, 3, 4}\n"
     ]
    }
   ],
   "source": [
    "set_={1,2,3,4}\n",
    "print('original set: ',set_)\n",
    "set_.discard(2)\n",
    "print('after discard: ',set_)"
   ]
  },
  {
   "cell_type": "markdown",
   "id": "c6cab577-5037-4387-a1c5-31559186d92f",
   "metadata": {},
   "source": [
    "Explanation:\n",
    "   \n",
    "* Created a set with random integers\n",
    "* printing the original set to show the difference after discard\n",
    "* using the discard() method and removing the element want to remove passing it inside the discard(2) function. If the element is present it will remove else it will run without throwing any error.\n",
    "* printing the set_1 now to show the difference"
   ]
  },
  {
   "cell_type": "markdown",
   "id": "050dd22d-9b4f-490e-8c27-d3c5989a0cac",
   "metadata": {},
   "source": [
    "32. Compare two sets."
   ]
  },
  {
   "cell_type": "code",
   "execution_count": 46,
   "id": "a8b503e5-07ca-4bfb-8070-d7f910eaea60",
   "metadata": {},
   "outputs": [
    {
     "name": "stdout",
     "output_type": "stream",
     "text": [
      "Set 1: {1, 2, 3, 4, 5}\n",
      "Set 2: {3, 4, 5, 6, 7}\n",
      "\n",
      "Results of general comparison operators:\n",
      "The sets are not equal\n",
      "The sets have some common elements\n",
      "\n",
      "Results of Set operations:\n",
      "Is set1 a subset of set2? False\n",
      "Is set2 a subset of set1? False\n",
      "Intersection: {3, 4, 5}\n",
      "Union: {1, 2, 3, 4, 5, 6, 7}\n",
      "Elements in set1 but not in set2: {1, 2}\n",
      "Elements in set2 but not in set1: {6, 7}\n"
     ]
    }
   ],
   "source": [
    "set_1 = {1, 2, 3, 4, 5}\n",
    "set_2 = {3, 4, 5, 6, 7}\n",
    "\n",
    "print(\"Set 1:\", set_1)\n",
    "print(\"Set 2:\", set_2)\n",
    "\n",
    "print('\\nResults of general comparison operators:')\n",
    "# Compare sets using equality (==)\n",
    "if set_1 == set_2:\n",
    "    print(\"The sets are equal\")\n",
    "else:\n",
    "    print(\"The sets are not equal\")\n",
    "\n",
    "# Compare sets using other operators\n",
    "if set_1 < set_2:\n",
    "    print(\"set_1 is a proper subset of set_2\")\n",
    "elif set_1 > set_2:\n",
    "    print(\"set_1 is a proper superset of set_2\")\n",
    "else:\n",
    "    print(\"The sets have some common elements\")\n",
    "    \n",
    "# Set operations\n",
    "\n",
    "# Check if set1 is a subset of set2\n",
    "is_subset = set_1.issubset(set_2)\n",
    "\n",
    "# Check if set2 is a subset of set1\n",
    "is_superset = set_1.issuperset(set_2)\n",
    "\n",
    "# Find the intersection of the sets\n",
    "intersection = set_1.intersection(set_2)\n",
    "\n",
    "# Find the union of the sets\n",
    "union = set_1.union(set_2)\n",
    "\n",
    "# Find the elements that are in set1 but not in set2\n",
    "difference1 = set_1.difference(set_2)\n",
    "\n",
    "# Find the elements that are in set2 but not in set1\n",
    "difference2 = set_2.difference(set_1)\n",
    "\n",
    "# Step 3: Print the results\n",
    "print('\\nResults of Set operations:')\n",
    "print(\"Is set1 a subset of set2?\", is_subset)\n",
    "print(\"Is set2 a subset of set1?\", is_superset)\n",
    "print(\"Intersection:\", intersection)\n",
    "print(\"Union:\", union)\n",
    "print(\"Elements in set1 but not in set2:\", difference1)\n",
    "print(\"Elements in set2 but not in set1:\", difference2)"
   ]
  },
  {
   "cell_type": "markdown",
   "id": "b0d1703f-2b54-4d68-b07f-c7df92b70c1e",
   "metadata": {},
   "source": [
    "Explanation:\n",
    "General operators:\n",
    "* set_1 == set_2: Checks if the two sets are equal.\n",
    "* set_1 < set_2: Checks if set_1 is a proper subset of set_2.\n",
    "* set_1 > set_2: Checks if set_1 is a proper superset of set_2.\n",
    "\n",
    "Set operations:\n",
    " - issubset() checks if set1 is a subset of set2.\n",
    "  - issuperset() checks if set1 is a superset of set2.\n",
    "  - intersection() finds the common elements between the sets.\n",
    "  - union() finds the combined set of unique elements from both sets.\n",
    "  - difference() finds the elements that are in the first set but not in the second set, and vice versa.\n",
    "-  print out the original sets, the comparison results, the intersection, the union, and the differences.\n"
   ]
  },
  {
   "cell_type": "markdown",
   "id": "08275771-2cb7-43d9-9c0b-4f1feb797d72",
   "metadata": {},
   "source": [
    "33. Create a set from a string.\n"
   ]
  },
  {
   "cell_type": "code",
   "execution_count": 51,
   "id": "4d8f3c06-4114-4a64-85ed-85b914e528c2",
   "metadata": {},
   "outputs": [
    {
     "data": {
      "text/plain": [
       "{' ', 'H', 'd', 'e', 'l', 'o', 'r', 'w'}"
      ]
     },
     "execution_count": 51,
     "metadata": {},
     "output_type": "execute_result"
    }
   ],
   "source": [
    "string_='Hello world'\n",
    "myset=set(string_)\n",
    "myset"
   ]
  },
  {
   "cell_type": "markdown",
   "id": "aff67f63-b84a-4045-a30c-16d253b8df18",
   "metadata": {},
   "source": [
    "Explanation:\n",
    "- Start by defining an input string \"Hello world\".\n",
    "- We use the set() constructor to create a set named myset from the characters present in the input string. The set() constructor automatically eliminates duplicate characters since sets don't allow duplicates.\n",
    "- Finally, we print the resulting set using the print() function. This will output a set containing the unique characters from the input string."
   ]
  },
  {
   "cell_type": "markdown",
   "id": "832c11c8-1dea-4594-818e-033984c5e3e5",
   "metadata": {},
   "source": [
    "34. Convert a set of strings to a set of integers."
   ]
  },
  {
   "cell_type": "code",
   "execution_count": 56,
   "id": "680d8594-135b-4089-8933-7df23d3db0fd",
   "metadata": {},
   "outputs": [
    {
     "name": "stdout",
     "output_type": "stream",
     "text": [
      "String set: {'456', '123', '789'}\n",
      "integer set: {456, 123, 789}\n"
     ]
    }
   ],
   "source": [
    "string_set = {\"123\", \"456\", \"789\"}\n",
    "converted_int_set= {int(i) for i in string_set}\n",
    "print(f'''String set: {string_set}\n",
    "integer set: {converted_int_set}''')"
   ]
  },
  {
   "cell_type": "markdown",
   "id": "78a1b93d-632a-4895-91a2-dfc48b655204",
   "metadata": {},
   "source": [
    "Explanation:\n",
    "\n",
    "* String Set Definition:\n",
    "string_set = {\"123\", \"456\", \"789\"}: Defines a set of strings.\n",
    "* Set Comprehension for Conversion:\n",
    "converted_int_set = {int(i) for i in string_set}: Creates a new set (converted_int_set) by using a set comprehension to convert each string element in string_set to an integer using the int() function.\n",
    "* Printing the Results:\n",
    "print(f'String set: {string_set}\\nInteger set: {converted_int_set}'): Prints the original string set and the set of converted integers using an f-string."
   ]
  },
  {
   "cell_type": "markdown",
   "id": "c8706be7-6721-4d8b-853e-cd179685b4eb",
   "metadata": {},
   "source": [
    "35. Convert a set of integers to a set of strings."
   ]
  },
  {
   "cell_type": "code",
   "execution_count": 3,
   "id": "b1191c3b-a957-4e16-93c4-1f3adf10bb2f",
   "metadata": {},
   "outputs": [
    {
     "name": "stdout",
     "output_type": "stream",
     "text": [
      "Integer set: {456, 123, 789}\n",
      "String set: {'789', '456', '123'}\n"
     ]
    }
   ],
   "source": [
    "integer_set= {456, 123, 789}\n",
    "converted_str_set= {str(i) for i in integer_set}\n",
    "print(f'''Integer set: {integer_set}\n",
    "String set: {converted_str_set}''')"
   ]
  },
  {
   "cell_type": "markdown",
   "id": "23152351-06ff-445c-98a2-ada4ef13c0ed",
   "metadata": {},
   "source": [
    "Explanation:\n",
    "\n",
    "* Integer Set Definition:\n",
    "integer_set = {456, 123, 789}: Defines a set of integers.\n",
    "* Set Comprehension for Conversion:\n",
    "converted_str_set = {str(i) for i in integer_set}: Creates a new set (converted_str_set) by using a set comprehension to convert each integer element in integer_set to a string using the str() function.\n",
    "* Printing the Results:\n",
    "print(f'Integer set: {integer_set}\\nString set: {converted_str_set}'): Prints the original integer set and the set of converted strings using an f-string."
   ]
  },
  {
   "cell_type": "markdown",
   "id": "d8aa988f-f249-4a09-b471-e90f57daa9a4",
   "metadata": {},
   "source": [
    "36. Create a set from a tuple."
   ]
  },
  {
   "cell_type": "code",
   "execution_count": 5,
   "id": "a1aec0b1-3cfc-47e6-9844-991c7e7aa0ab",
   "metadata": {},
   "outputs": [
    {
     "name": "stdout",
     "output_type": "stream",
     "text": [
      "{1, 2, 3, 4, 5}\n"
     ]
    }
   ],
   "source": [
    "tuple_=(1,2,3,4,5,4)\n",
    "set_convert=set(tuple_)\n",
    "print(set_convert)"
   ]
  },
  {
   "cell_type": "markdown",
   "id": "823e0556-597b-474d-b537-490ac974fd23",
   "metadata": {},
   "source": [
    "Explanation:\n",
    "    \n",
    "* Created a tuple with integers from 1-5 with one duplicate 4\n",
    "* Used the set() constructor to convert the tuple into set since set doesn't have duplicates duplicates will be removed and stored it in the variable set_convert\n",
    "* printing the variable set_convert"
   ]
  },
  {
   "cell_type": "markdown",
   "id": "47985eef-15bd-4f1b-bb38-3d6dfb190a1c",
   "metadata": {},
   "source": [
    "37. Convert a set to a tuple."
   ]
  },
  {
   "cell_type": "code",
   "execution_count": 6,
   "id": "176f838d-be2e-4b94-9938-3fdbafc95376",
   "metadata": {},
   "outputs": [
    {
     "name": "stdout",
     "output_type": "stream",
     "text": [
      "(1, 2, 3, 4, 5)\n"
     ]
    }
   ],
   "source": [
    "set_={1, 2, 3, 4, 5}\n",
    "tuple_convert=tuple(set_)\n",
    "print(tuple_convert)"
   ]
  },
  {
   "cell_type": "markdown",
   "id": "0fc9b5e7-74b2-4daa-804b-63a5936d46e6",
   "metadata": {},
   "source": [
    "Explanation:\n",
    "    \n",
    "* Created a set with integers from 1-5\n",
    "* used the tuple() constructor to convert the set into tuple and stored it in variable tuple_convert.\n",
    "* printing the variable tuple_convert to show the result in tuple."
   ]
  },
  {
   "cell_type": "markdown",
   "id": "ffc6f346-1131-4d05-83d5-9c27e010f9fb",
   "metadata": {},
   "source": [
    "38. Find the maximum value in a set."
   ]
  },
  {
   "cell_type": "code",
   "execution_count": 15,
   "id": "07597d13-b16e-4e9c-8f2c-cc52cc66ad36",
   "metadata": {},
   "outputs": [
    {
     "name": "stdout",
     "output_type": "stream",
     "text": [
      "Maximum value in {22, 7, 8, 13, 15} is 22\n"
     ]
    }
   ],
   "source": [
    "my_set = {15, 7, 22, 13, 8}\n",
    "max_value=0\n",
    "for i in my_set:\n",
    "    if i>max_value:\n",
    "        max_value=i\n",
    "print(f'Maximum value in {my_set} is {max_value}')"
   ]
  },
  {
   "cell_type": "markdown",
   "id": "b4df88bb-ffd3-4d06-bcc1-1c2dae5bd468",
   "metadata": {},
   "source": [
    "Explanation:\n",
    "\n",
    "* my_set = {15, 7, 22, 13, 8}: Defines a set with elements.\n",
    "* max_value = 0: Initializes max_value to 0.\n",
    "* for i in my_set:: Iterates over each element in the set.\n",
    "* if i > max_value:: Checks if the current element i is greater than the current max_value.\n",
    "* max_value = i: If i is greater than the current max_value, updates max_value to i.\n",
    "* print(f'Maximum value in {my_set} is {max_value}'): Prints the result using an f-string."
   ]
  },
  {
   "cell_type": "markdown",
   "id": "bd4b22ac-d5dc-4040-8417-f5c4e19599a5",
   "metadata": {},
   "source": [
    "39. Find the minimum value in a set."
   ]
  },
  {
   "cell_type": "code",
   "execution_count": 21,
   "id": "b0f41ad6-51ad-484c-ada2-fcb79398bf33",
   "metadata": {},
   "outputs": [
    {
     "name": "stdout",
     "output_type": "stream",
     "text": [
      "Minimum value in {22, 7, 8, 13, 15} is 7\n"
     ]
    }
   ],
   "source": [
    "my_set = {15, 7, 22, 13, 8}\n",
    "min_value=None\n",
    "for i in my_set:\n",
    "    if min_value is None or i< min_value:\n",
    "        min_value=i\n",
    "print(f'Minimum value in {my_set} is {min_value}')"
   ]
  },
  {
   "cell_type": "markdown",
   "id": "f18457e3-954c-42f4-96c2-87cbc9afbe76",
   "metadata": {},
   "source": [
    "Explanation:\n",
    "\n",
    "* my_set = {15, 7, 22, 13, 8}: Defines a set with elements.\n",
    "* min_value = None: Initializes min_value to None.\n",
    "* for i in my_set:: Iterates over each element in the set.\n",
    "* if min_value is None or i < min_value:: Checks if min_value is None or if the current element i is less than the current min_value.\n",
    "* min_value = i: If the conditions are met, updates min_value to i.\n",
    "* print(f'Minimum value in {my_set} is {min_value}'): Prints the result using an f-string."
   ]
  },
  {
   "cell_type": "markdown",
   "id": "a2ed54f2-c2b5-4d89-b629-d8127c43f061",
   "metadata": {},
   "source": [
    "40. Create a set from user input."
   ]
  },
  {
   "cell_type": "code",
   "execution_count": 26,
   "id": "65803c31-f7f3-46db-a01d-389e365f86e2",
   "metadata": {},
   "outputs": [
    {
     "name": "stdin",
     "output_type": "stream",
     "text": [
      "Enter elements separated by commas:  jas,ajay,edwin\n"
     ]
    },
    {
     "name": "stdout",
     "output_type": "stream",
     "text": [
      "The created set from user input: {'ajay', 'jas', 'edwin'}\n"
     ]
    }
   ],
   "source": [
    "user_input = input(\"Enter elements separated by commas: \")\n",
    "user_set = set(user_input.split(','))\n",
    "\n",
    "print(f'The created set from user input: {user_set}')\n"
   ]
  },
  {
   "cell_type": "markdown",
   "id": "f9d8874e-b20a-491f-a7bf-35f3fe9727d1",
   "metadata": {},
   "source": [
    "Explanation:\n",
    "\n",
    "* user_input = input(\"Enter elements separated by commas: \"): Prompts the user to enter elements separated by commas.\n",
    "* user_set = set(user_input.split(',')): Converts the input string into a set. The split(',') method is used to split the input string into a list of elements using commas as separators.\n",
    "* print(f'The created set from user input: {user_set}'): Displays the resulting set."
   ]
  },
  {
   "cell_type": "markdown",
   "id": "1bd0ea9b-e4d6-49ad-9e19-c32c147f659c",
   "metadata": {},
   "source": [
    "41. Check if the intersection of two sets is empty."
   ]
  },
  {
   "cell_type": "code",
   "execution_count": 3,
   "id": "0536e770-fee0-48b3-a08b-27a6560a971a",
   "metadata": {},
   "outputs": [
    {
     "name": "stdout",
     "output_type": "stream",
     "text": [
      "The intersection of the two sets is empty.\n"
     ]
    }
   ],
   "source": [
    "set_1={1,2,3,4}\n",
    "set_2={5,6,7,8}\n",
    "intersection_result = set_1.intersection(set_2)\n",
    "if not intersection_result:\n",
    "    print(\"The intersection of the two sets is empty.\")\n",
    "else:\n",
    "    print(\"The intersection of the two sets is not empty.\")"
   ]
  },
  {
   "cell_type": "markdown",
   "id": "5c816e66-f552-40d6-9847-0db0eced77b1",
   "metadata": {},
   "source": [
    "Explanation:\n",
    "\n",
    "* set_1 = {1, 2, 3, 4}: Defines the first set.\n",
    "* set_2 = {5, 6, 7, 8}: Defines the second set.\n",
    "* intersection_result = set_1.intersection(set_2): Finds the intersection of set_1 and set_2.\n",
    "* if not intersection_result:: Checks if the intersection is empty using the not keyword.\n",
    "* print(\"The intersection of the two sets is empty.\"): Prints a message if the intersection is empty.\n",
    "* else:: Executes if the intersection is not empty.\n",
    "* print(\"The intersection of the two sets is not empty.\"): Prints a message indicating that the intersection is not empty."
   ]
  },
  {
   "cell_type": "markdown",
   "id": "c49b02e1-ef5a-4ac1-bb96-367d492075be",
   "metadata": {},
   "source": [
    "42. Create a set of the first 5 Fibonacci numbers."
   ]
  },
  {
   "cell_type": "code",
   "execution_count": 20,
   "id": "423ad8f1-4d67-4cbd-8a87-9a70da03b206",
   "metadata": {},
   "outputs": [
    {
     "name": "stdout",
     "output_type": "stream",
     "text": [
      "First 5 fibonacci numbers in set :  {0, 1, 2, 3, 5}\n"
     ]
    }
   ],
   "source": [
    "def fibonacci(n):\n",
    "    fibbi=[0,1]\n",
    "    while len(fibbi) < n+1:\n",
    "        fibbi.append(fibbi[-1]+fibbi[-2])\n",
    "    return set(fibbi)\n",
    "        \n",
    "print('First 5 fibonacci numbers in set : ',fibonacci(5))"
   ]
  },
  {
   "cell_type": "markdown",
   "id": "2b31ac54-684f-40db-9d64-fe74080c5a67",
   "metadata": {},
   "source": [
    "Explanation:\n",
    "\n",
    "* def fibonacci(n): Defines a function named fibonacci that takes an argument n.\n",
    "* fibbi = [0, 1]: Initializes the list with the first two Fibonacci numbers.\n",
    "* while len(fibbi) < n + 1:: Continues adding Fibonacci numbers to the list until it reaches the desired length n + 1.\n",
    "* fibbi.append(fibbi[-1] + fibbi[-2]): Computes the next Fibonacci number by summing the last two elements.\n",
    "* return set(fibbi): Converts the list into a set and returns it.\n",
    "* print('First 5 Fibonacci numbers in set:', fibonacci(5)): Calls the function to generate the first 5 Fibonacci numbers and prints the resulting set."
   ]
  },
  {
   "cell_type": "markdown",
   "id": "6b253bf2-87f0-4083-b1cb-a54929c59b7e",
   "metadata": {},
   "source": [
    "43. Remove duplicates from a list using sets."
   ]
  },
  {
   "cell_type": "code",
   "execution_count": 24,
   "id": "bc77d766-e675-4d6e-8c7d-1da682a4b7b6",
   "metadata": {},
   "outputs": [
    {
     "name": "stdout",
     "output_type": "stream",
     "text": [
      "Original List: [1, 2, 3, 1, 4, 2, 5, 6, 3]\n",
      "List with Duplicates Removed: [1, 2, 3, 4, 5, 6]\n"
     ]
    }
   ],
   "source": [
    "original_list = [1, 2, 3, 1, 4, 2, 5, 6, 3]\n",
    "\n",
    "unique_list = list(set(original_list))\n",
    "\n",
    "print(f'Original List: {original_list}')\n",
    "print(f'List with Duplicates Removed: {unique_list}')\n"
   ]
  },
  {
   "cell_type": "markdown",
   "id": "73af74fc-e91a-40e3-b432-34cb428aff96",
   "metadata": {},
   "source": [
    "Explanation:\n",
    "\n",
    "* original_list = [1, 2, 3, 1, 4, 2, 5, 6, 3]: Defines the original list with duplicates.\n",
    "* unique_list = list(set(original_list)): Converts the original list to a set, removing duplicates, and then converts it back to a list.\n",
    "* print(f'Original List: {original_list}'): Prints the original list.\n",
    "* print(f'List with Duplicates Removed: {unique_list}'): Prints the list with duplicates removed."
   ]
  },
  {
   "cell_type": "markdown",
   "id": "383fcdba-999c-44fa-8c77-2bedcd2f0827",
   "metadata": {},
   "source": [
    "44. Check if two sets have the same elements, regardless of their count."
   ]
  },
  {
   "cell_type": "code",
   "execution_count": 1,
   "id": "f6ea175b-b37d-4438-9cef-681d8f9a7bdd",
   "metadata": {},
   "outputs": [
    {
     "name": "stdout",
     "output_type": "stream",
     "text": [
      "The sets have the same elements.\n"
     ]
    }
   ],
   "source": [
    "def have_same_elements(set1, set2):\n",
    "    sorted_list1 = sorted(list(set1))\n",
    "    sorted_list2 = sorted(list(set2))\n",
    "    return sorted_list1 == sorted_list2\n",
    "\n",
    "set1 = {1, 2, 3, 2, 1}\n",
    "set2 = {3, 1, 2}\n",
    "\n",
    "result = have_same_elements(set1, set2)\n",
    "\n",
    "# Print the result\n",
    "if result:\n",
    "    print(\"The sets have the same elements.\")\n",
    "else:\n",
    "    print(\"The sets do not have the same elements.\")"
   ]
  },
  {
   "cell_type": "markdown",
   "id": "81a99c12-12a9-4107-b1c4-f85137399582",
   "metadata": {},
   "source": [
    "Explanation:\n",
    "\n",
    "* def have_same_elements(set1, set2): Defines a function that takes two sets as parameters.\n",
    "* sorted_list1 = sorted(list(set1)): Converts set1 to a sorted list.\n",
    "* sorted_list2 = sorted(list(set2)): Converts set2 to a sorted list.\n",
    "* return sorted_list1 == sorted_list2: Checks if the sorted lists are equal, indicating whether the sets have the same elements.\n",
    "* Example sets:\n",
    "* set1 = {1, 2, 3, 2, 1}: Contains duplicates and is not in sorted order.\n",
    "* set2 = {3, 1, 2}: Is in a different order but has the same elements.\n",
    "* result = have_same_elements(set1, set2): Calls the function with the example sets to check if they have the same elements.\n",
    "* Prints the result based on whether the sets have the same elements or not."
   ]
  },
  {
   "cell_type": "markdown",
   "id": "89678114-a131-4f44-a56d-84f1298a232e",
   "metadata": {},
   "source": [
    "45. Create a set of the first `n` powers of 2."
   ]
  },
  {
   "cell_type": "code",
   "execution_count": 8,
   "id": "f9fc201f-4f69-43fd-936b-1618c3eeff9c",
   "metadata": {},
   "outputs": [
    {
     "name": "stdout",
     "output_type": "stream",
     "text": [
      "The first 5 powers of 2: {1, 2, 4, 8, 16}\n"
     ]
    }
   ],
   "source": [
    "def powers_of_2(n):\n",
    "    return {2 ** i for i in range(n)}\n",
    "\n",
    "n = 5\n",
    "result_set = powers_of_2(n)\n",
    "\n",
    "print(f'The first {n} powers of 2: {result_set}')"
   ]
  },
  {
   "cell_type": "markdown",
   "id": "34d6c00a-d31c-475b-a755-3178fdbfd051",
   "metadata": {},
   "source": [
    "Explanation:\n",
    "\n",
    "* def powers_of_2(n): Defines a function that takes an argument n.\n",
    "* {2 ** i for i in range(n)}: Uses a set comprehension to generate a set containing the first n powers of 2. 2 ** i calculates 2 raised to the power of i for each i in the range from 0 to n-1.\n",
    "* n = 5: Example value for n, indicating the number of powers of 2 to generate.\n",
    "* result_set = powers_of_2(n): Calls the function to create the set of the first n powers of 2.\n",
    "* print(f'The first {n} powers of 2: {result_set}'): Prints the resulting set."
   ]
  },
  {
   "cell_type": "markdown",
   "id": "2fc2dd98-3a63-4ff4-9d9e-095b410e1088",
   "metadata": {},
   "source": [
    "46. Find the common elements between a set and a list."
   ]
  },
  {
   "cell_type": "code",
   "execution_count": 22,
   "id": "6899a909-c347-4f8e-b65e-fc2c8c6f741f",
   "metadata": {},
   "outputs": [
    {
     "name": "stdout",
     "output_type": "stream",
     "text": [
      "Common elements: {9, 12, 7}\n"
     ]
    }
   ],
   "source": [
    "def common_elements(set_, list_):\n",
    "    common_elements=set_.intersection(set(list_))\n",
    "    return f\"Common elements: {common_elements}\"\n",
    "\n",
    "my_set = {3, 7, 9, 12, 15}\n",
    "my_list = [7, 12, 5, 9]\n",
    "print(common_elements(my_set, my_list))"
   ]
  },
  {
   "cell_type": "markdown",
   "id": "570e787f-61b5-4f54-bc0a-6c7d7770bcfc",
   "metadata": {},
   "source": [
    "Explanation:\n",
    "\n",
    "* def common_elements(set_, list_): Defines a function that takes a set and a list as parameters.\n",
    "* common_elements = set_.intersection(set(list_)): Finds the intersection (common elements) between the set and the list.\n",
    "* return f\"Common elements: {common_elements}\": Returns a formatted string indicating the common elements.\n",
    "* my_set = {3, 7, 9, 12, 15}: Example set.\n",
    "* my_list = [7, 12, 5, 9]: Example list.\n",
    "* print(common_elements(my_set, my_list)): Calls the function to find and print the common elements."
   ]
  },
  {
   "cell_type": "markdown",
   "id": "29432bff-ff23-44f7-9154-d0be2765e76c",
   "metadata": {},
   "source": [
    "47. Create a set of the first `n` triangular numbers."
   ]
  },
  {
   "cell_type": "code",
   "execution_count": 28,
   "id": "41160111-fa00-4f05-bd65-64f0a9fbd1e5",
   "metadata": {},
   "outputs": [
    {
     "name": "stdin",
     "output_type": "stream",
     "text": [
      "Enter the value of n:  5\n"
     ]
    },
    {
     "name": "stdout",
     "output_type": "stream",
     "text": [
      "The set of the first 5 triangular numbers is: {1, 3, 6, 10, 15}\n"
     ]
    }
   ],
   "source": [
    "def generate_triangular_numbers(n):\n",
    "    triangular_numbers = set()  \n",
    "    for i in range(1, n + 1):\n",
    "        triangular_number = i * (i + 1) // 2  \n",
    "        triangular_numbers.add(triangular_number)  \n",
    "    return triangular_numbers\n",
    "\n",
    "n = int(input(\"Enter the value of n: \"))\n",
    "\n",
    "triangular_set = generate_triangular_numbers(n)\n",
    "\n",
    "print(f\"The set of the first {n} triangular numbers is:\", triangular_set)"
   ]
  },
  {
   "cell_type": "markdown",
   "id": "1763fae5-d020-4f94-a520-80d315a04aec",
   "metadata": {},
   "source": [
    "Explanation:\n",
    "\n",
    "* def generate_triangular_numbers(n): Defines a function that takes an argument n and generates a set of the first n triangular numbers.\n",
    "* triangular_numbers = set(): Initializes an empty set to store the triangular numbers.\n",
    "* for i in range(1, n + 1):: Iterates through the range from 1 to n (inclusive) to calculate each triangular number.\n",
    "* triangular_number = i * (i + 1) // 2: Calculates the ith triangular number using the formula.\n",
    "* triangular_numbers.add(triangular_number): Adds the calculated triangular number to the set.\n",
    "* return triangular_numbers: Returns the set of triangular numbers.\n",
    "* n = int(input(\"Enter the value of n: \")): Takes user input for the value of n.\n",
    "* triangular_set = generate_triangular_numbers(n): Calls the function to generate the set of triangular numbers.\n",
    "* print(f\"The set of the first {n} triangular numbers is:\", triangular_set): Prints the resulting set."
   ]
  },
  {
   "cell_type": "markdown",
   "id": "23516516-e2e2-42a7-8f1a-f90ea842d590",
   "metadata": {},
   "source": [
    "48. Check if a set contains another set as a subset."
   ]
  },
  {
   "cell_type": "code",
   "execution_count": 29,
   "id": "192ca11c-0721-42a5-872b-cd65f8194ccb",
   "metadata": {},
   "outputs": [
    {
     "name": "stdout",
     "output_type": "stream",
     "text": [
      "set2 is a subset of set1\n"
     ]
    }
   ],
   "source": [
    "set1 = {1, 2, 3, 4, 5}\n",
    "set2 = {3, 4}\n",
    "\n",
    "is_subset = set2.issubset(set1)\n",
    "\n",
    "if is_subset:\n",
    "    print(\"set2 is a subset of set1\")\n",
    "else:\n",
    "    print(\"set2 is not a subset of set1\")"
   ]
  },
  {
   "cell_type": "markdown",
   "id": "4f95420e-ccba-4c3d-9862-93ac341d8bd7",
   "metadata": {},
   "source": [
    "Explanation:\n",
    "\n",
    "* set1 = {1, 2, 3, 4, 5}: Defines a set named set1 containing elements 1, 2, 3, 4, and 5.\n",
    "* set2 = {3, 4}: Defines another set named set2 containing elements 3 and 4.\n",
    "* is_subset = set2.issubset(set1): Uses the issubset method to check if set2 is a subset of set1. The result (True or False) is stored in the variable is_subset.\n",
    "* if is_subset:: Checks if is_subset is True.\n",
    "* print(\"set2 is a subset of set1\"): Prints a message indicating that set2 is a subset of set1 if the condition is True.\n",
    "* else:: Executes if is_subset is False.\n",
    "* print(\"set2 is not a subset of set1\"): Prints a message indicating that set2 is not a subset of set1."
   ]
  },
  {
   "cell_type": "markdown",
   "id": "699d5e9a-2bc0-488a-bc46-1280862ac0f5",
   "metadata": {},
   "source": [
    "49. Create a set of alternating 1s and 0s of length `n`."
   ]
  },
  {
   "cell_type": "code",
   "execution_count": 32,
   "id": "de0afeba-cc60-41c9-b911-677eeed24d77",
   "metadata": {},
   "outputs": [
    {
     "name": "stdout",
     "output_type": "stream",
     "text": [
      "The set of alternating 1s and 0s of length 5: {0, 1}\n"
     ]
    }
   ],
   "source": [
    "def create_alternating_set(n):\n",
    "    return {i % 2 for i in range(n)}\n",
    "\n",
    "n = 5\n",
    "alternating_set = create_alternating_set(n)\n",
    "\n",
    "print(f'The set of alternating 1s and 0s of length {n}: {alternating_set}')"
   ]
  },
  {
   "cell_type": "markdown",
   "id": "0190bc24-afa5-45d6-9c4a-5060b4940c2c",
   "metadata": {},
   "source": [
    "Explanation:\n",
    "\n",
    "* def create_alternating_set(n): Defines a function that takes an argument n.\n",
    "* {i % 2 for i in range(n)}: Uses a set comprehension to generate a set of alternating 1s and 0s. The expression i % 2 results in 0 when i is even and 1 when i is odd.\n",
    "* n = 5: Example value for n, indicating the length of the set.\n",
    "* alternating_set = create_alternating_set(n): Calls the function to create the set of alternating 1s and 0s.\n",
    "* print(f'The set of alternating 1s and 0s of length {n}: {alternating_set}'): Prints the resulting set. since sets doesn't have duplicates only two elements will be shown"
   ]
  },
  {
   "cell_type": "markdown",
   "id": "74353b6c-29df-44d2-ab85-17655ef1c03f",
   "metadata": {},
   "source": [
    "50. Merge multiple sets into one."
   ]
  },
  {
   "cell_type": "code",
   "execution_count": 34,
   "id": "a9b7b7cb-f5f6-449f-a349-2493f4e852ca",
   "metadata": {},
   "outputs": [
    {
     "name": "stdout",
     "output_type": "stream",
     "text": [
      "Merged Set: {1, 2, 3, 4, 5, 6, 7}\n"
     ]
    }
   ],
   "source": [
    "set1 = {1, 2, 3}\n",
    "set2 = {3, 4, 5}\n",
    "set3 = {5, 6, 7}\n",
    "\n",
    "merged_set = set1.union(set2, set3)\n",
    "\n",
    "print(\"Merged Set:\", merged_set)"
   ]
  },
  {
   "cell_type": "markdown",
   "id": "5e094b6b-8069-4b66-a659-abebf2980b6d",
   "metadata": {},
   "source": [
    "Explanation:\n",
    "\n",
    "* set1 = {1, 2, 3}, set2 = {3, 4, 5}, set3 = {5, 6, 7}: Defines three sets with different elements.\n",
    "* merged_set = set1.union(set2, set3): Uses the union method to merge the three sets. The union method can take multiple sets as arguments and returns a new set containing all unique elements from the specified sets.\n",
    "* print(\"Merged Set:\", merged_set): Prints the resulting merged set."
   ]
  },
  {
   "cell_type": "code",
   "execution_count": null,
   "id": "43648ddd-bb77-4202-a9de-93b141d63927",
   "metadata": {},
   "outputs": [],
   "source": []
  }
 ],
 "metadata": {
  "kernelspec": {
   "display_name": "Python 3 (ipykernel)",
   "language": "python",
   "name": "python3"
  },
  "language_info": {
   "codemirror_mode": {
    "name": "ipython",
    "version": 3
   },
   "file_extension": ".py",
   "mimetype": "text/x-python",
   "name": "python",
   "nbconvert_exporter": "python",
   "pygments_lexer": "ipython3",
   "version": "3.10.8"
  }
 },
 "nbformat": 4,
 "nbformat_minor": 5
}
