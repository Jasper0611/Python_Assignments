{
 "cells": [
  {
   "cell_type": "markdown",
   "id": "c57f4d98-e05b-414f-a0a8-5326baa98c44",
   "metadata": {},
   "source": [
    "# Basic Level:\n",
    "1. Write a Python program to print the numbers from 1 to 10 using a `for` loop."
   ]
  },
  {
   "cell_type": "code",
   "execution_count": 3,
   "id": "606af27e-066f-4d3b-b65c-2647de306250",
   "metadata": {},
   "outputs": [
    {
     "name": "stdout",
     "output_type": "stream",
     "text": [
      "1\n",
      "2\n",
      "3\n",
      "4\n",
      "5\n",
      "6\n",
      "7\n",
      "8\n",
      "9\n"
     ]
    }
   ],
   "source": [
    "for num in range(1,10):\n",
    "    print(num)"
   ]
  },
  {
   "cell_type": "markdown",
   "id": "b132ab4f-7ad6-4dd3-8846-a81b8116cd77",
   "metadata": {},
   "source": [
    "Explanation:\n",
    "* used the for loop and iterated the range(1,10) and print the num iteration."
   ]
  },
  {
   "cell_type": "markdown",
   "id": "7d9dcc86-6cd7-4e26-81ad-35eca322b572",
   "metadata": {},
   "source": [
    "2. Create a program that calculates the sum of all numbers in a list using a `for` loop."
   ]
  },
  {
   "cell_type": "code",
   "execution_count": 2,
   "id": "1219403c-d759-4c40-ae39-011e172724f1",
   "metadata": {},
   "outputs": [
    {
     "name": "stdout",
     "output_type": "stream",
     "text": [
      "Sum of numbers in list is 65\n"
     ]
    }
   ],
   "source": [
    "numbers=[1,3,4,12,45]\n",
    "sum_of_numbers=0\n",
    "for num in numbers:\n",
    "    sum_of_numbers+=num\n",
    "print('Sum of numbers in list is',sum_of_numbers)  "
   ]
  },
  {
   "cell_type": "markdown",
   "id": "8543534f-e3a5-40b1-bcb3-7ef4f066e742",
   "metadata": {},
   "source": [
    "Explanation: \n",
    "* created a list with random numbers\n",
    "* initiated a variable sum_of_numbers with 0 as value to sum the individual elements in the list.\n",
    "* Iterate over the list using for loop and adding every single element from iteration into the variable sum_of_numbers\n",
    "* printing the text sum of nubers in list is and the variable using print()"
   ]
  },
  {
   "cell_type": "markdown",
   "id": "4a70e624-5f1a-4483-9c5b-7e3bdfc2ba57",
   "metadata": {},
   "source": [
    "3. Write a program to print the characters of a string in reverse order using a `for` loop."
   ]
  },
  {
   "cell_type": "code",
   "execution_count": 9,
   "id": "4291b106-9873-4e6b-8266-aff4730300d2",
   "metadata": {},
   "outputs": [
    {
     "name": "stdout",
     "output_type": "stream",
     "text": [
      "Original string: Hello World\n",
      "reverse string: dlroW olleH\n"
     ]
    }
   ],
   "source": [
    "string_='Hello World'\n",
    "reverse=''\n",
    "for char in string_:\n",
    "    reverse=char+reverse\n",
    "\n",
    "print(f'''Original string: {string_}\n",
    "reverse string: {reverse}''')"
   ]
  },
  {
   "cell_type": "markdown",
   "id": "d26bea3a-674b-4556-a4eb-cb973ac3cef7",
   "metadata": {},
   "source": [
    "Initialization:\n",
    "\n",
    "* string_ is initialized with the value 'Hello World', which is the original string you want to reverse.\n",
    "reverse is initialized as an empty string. This will be used to store the reversed version of the original string.\n",
    "* For Loop:\n",
    "The for loop iterates through each character (char) in the string_.\n",
    "* Reversing the String:\n",
    "Inside the loop, each character is concatenated to the beginning of the reverse string. The line reverse = char + reverse effectively reverses the order of characters.\n",
    "* Print Statements:\n",
    "After the loop completes, the original and reversed strings are printed using an f-string.\n",
    "The original string is printed as-is, and the reversed string is printed."
   ]
  },
  {
   "cell_type": "markdown",
   "id": "aff3b694-58be-473f-94f1-0e26c3b740c0",
   "metadata": {},
   "source": [
    "4. Develop a program that finds the factorial of a given number using a `for` loop."
   ]
  },
  {
   "cell_type": "code",
   "execution_count": 25,
   "id": "01dfac47-75a4-40c9-a160-1c38c4c93adc",
   "metadata": {},
   "outputs": [
    {
     "name": "stdin",
     "output_type": "stream",
     "text": [
      "Enter a non-negative integer to calculate its factorial:  5\n"
     ]
    },
    {
     "name": "stdout",
     "output_type": "stream",
     "text": [
      "The factorial of 5 is: 120\n"
     ]
    }
   ],
   "source": [
    "def calculate_factorial(number):\n",
    "    factorial = 1\n",
    "    \n",
    "    # Check if the number is negative, zero, or a positive integer\n",
    "    if number < 0:\n",
    "        return \"Factorial is not defined for negative numbers.\"\n",
    "    elif number == 0:\n",
    "        return 1\n",
    "    else:\n",
    "        # Use a for loop to calculate the factorial\n",
    "        for i in range(1, number + 1):\n",
    "            factorial *= i\n",
    "        return factorial\n",
    "\n",
    "# Input: Get a number from the user\n",
    "user_input = int(input(\"Enter a non-negative integer to calculate its factorial: \"))\n",
    "\n",
    "# Calculate and print the factorial\n",
    "result = calculate_factorial(user_input)\n",
    "print(f\"The factorial of {user_input} is: {result}\")\n"
   ]
  },
  {
   "cell_type": "markdown",
   "id": "1dd3329c-7d4d-4376-a31a-43301d12f4a3",
   "metadata": {},
   "source": [
    "Explanation:\n",
    "\n",
    "* The calculate_factorial function takes a number as input and calculates its factorial using a for loop.\n",
    "* It checks if the number is negative, in which case it returns a message since the factorial is not defined for negative numbers.\n",
    "* If the number is zero, it returns 1 (by definition, the factorial of 0 is 1).\n",
    "* For positive integers, it uses a for loop to multiply the numbers from 1 to the given number to calculate the factorial.\n",
    "* The user is prompted to input a non-negative integer.\n",
    "* The program then calculates the factorial using the calculate_factorial function and prints the result."
   ]
  },
  {
   "cell_type": "markdown",
   "id": "09ffd1d7-b948-4168-848d-024e69f012f0",
   "metadata": {},
   "source": [
    "5. Create a program to print the multiplication table of a given number using a `for` loop."
   ]
  },
  {
   "cell_type": "code",
   "execution_count": 47,
   "id": "0578d822-ae6d-4338-95ba-b7c6c35540fc",
   "metadata": {},
   "outputs": [
    {
     "name": "stdin",
     "output_type": "stream",
     "text": [
      "Enter the number to print the multiplication table:  5\n",
      "Enter how may rows needed to print:  12\n"
     ]
    },
    {
     "name": "stdout",
     "output_type": "stream",
     "text": [
      "Multiplication table of 5\n",
      "1 x 5 = 5\n",
      "2 x 5 = 10\n",
      "3 x 5 = 15\n",
      "4 x 5 = 20\n",
      "5 x 5 = 25\n",
      "6 x 5 = 30\n",
      "7 x 5 = 35\n",
      "8 x 5 = 40\n",
      "9 x 5 = 45\n",
      "10 x 5 = 50\n",
      "11 x 5 = 55\n",
      "12 x 5 = 60\n"
     ]
    }
   ],
   "source": [
    "def multiplication(n, range_value):\n",
    "    print(f'Multiplication table of {n}')\n",
    "\n",
    "    # Use a for loop to iterate from 1 to the specified range\n",
    "    for i in range(1, range_value + 1):\n",
    "        # Print each line of the multiplication table\n",
    "        print(f'{i} x {n} = {i * n}')\n",
    "\n",
    "# Get user input for the number and the range value\n",
    "n = int(input('Enter the number to print the multiplication table: '))\n",
    "value = int(input('Enter how may rows needed to print: '))\n",
    "\n",
    "# Call the multiplication function with user-input values\n",
    "multiplication(n, value)\n"
   ]
  },
  {
   "cell_type": "markdown",
   "id": "04148879-e6ad-4c29-a6ae-478e776dd984",
   "metadata": {},
   "source": [
    "Explanation:\n",
    "\n",
    "* Function Definition:\n",
    "The multiplication function is defined to take two parameters, n (the number for which the multiplication table is needed) and range_value (the range up to which the multiplication table should be displayed).\n",
    "* Print Header:\n",
    "Inside the function, it prints a header indicating which number's multiplication table is being displayed.\n",
    "* For Loop:\n",
    "A for loop is used to iterate from 1 to the specified range (range_value).\n",
    "* Print Multiplication Table:\n",
    "For each iteration of the loop, it prints a line showing the multiplication of the current iteration number (i) with the given number (n).\n",
    "* User Input:\n",
    "The program prompts the user to enter the number for which the multiplication table is needed (n) and the range up to which the multiplication table should be displayed (value).\n",
    "* Function Call:\n",
    "The multiplication function is then called with the user-input values."
   ]
  },
  {
   "cell_type": "markdown",
   "id": "90165cb2-7c2d-4304-837f-012243d536ff",
   "metadata": {},
   "source": [
    "6. Write a program that counts the number of even and odd numbers in a list using a `for` loop."
   ]
  },
  {
   "cell_type": "code",
   "execution_count": 60,
   "id": "367174cf-f1b5-4dda-a767-bc27557b7af6",
   "metadata": {},
   "outputs": [
    {
     "name": "stdout",
     "output_type": "stream",
     "text": [
      "Count of Odd numbers in the list is 4 - [1, 3, 5, 7],\n",
      "Count of Even numbers in the list is 6 - [2, 4, 6, 8, 12, 42]\n"
     ]
    }
   ],
   "source": [
    "def number_types(number):\n",
    "    # initiating empty lists to store odd and even numbers separately\n",
    "    odd = []\n",
    "    even = []\n",
    "    \n",
    "    # looping over the list provided by the user\n",
    "    for i in number:\n",
    "        if i % 2 == 0:\n",
    "            even.append(i)\n",
    "        else:\n",
    "            odd.append(i)\n",
    "    \n",
    "    # printing the results directly without using 'return'\n",
    "    print(f'Count of Odd numbers in the list is {len(odd)} - {odd},\\nCount of Even numbers in the list is {len(even)} - {even}')\n",
    "\n",
    "# list to pass into the function\n",
    "number = [1, 2, 3, 4, 5, 6, 7, 8, 12, 42]\n",
    "number_types(number)"
   ]
  },
  {
   "cell_type": "markdown",
   "id": "53226c55-1182-4006-91a5-759da9c75369",
   "metadata": {},
   "source": [
    "Explanation:\n",
    "* Function Definition:\n",
    "number_types is a function that takes a list (number) as an argument. It categorizes the numbers in the list into odd and even and prints the counts along with the respective lists.\n",
    "* Initialization of Lists:\n",
    "Two empty lists, odd and even, are initialized. These lists will be used to store odd and even numbers, respectively.\n",
    "* For Loop:\n",
    "The for loop iterates over each element (i) in the input list (number).\n",
    "* Categorizing Numbers:\n",
    "Inside the loop, each number is checked for parity (even or odd).\n",
    "If the number is even (i % 2 == 0), it is appended to the even list.\n",
    "If the number is odd, it is appended to the odd list.\n",
    "* Printing Results:\n",
    "After the loop, the function prints the results using the print statement.\n",
    "It prints the count and the list of odd numbers, followed by the count and the list of even numbers.\n",
    "The f-string is used for formatting, and len() is used to get the count of elements in each list.\n",
    "* Function Call:\n",
    "Finally, the function is called with the list [1, 2, 3, 4, 5, 6, 7, 8, 12, 42].\n",
    "The results are displayed, showing the count and the respective lists of odd and even numbers."
   ]
  },
  {
   "cell_type": "markdown",
   "id": "98754de2-0181-498d-817c-6e59bead55b1",
   "metadata": {},
   "source": [
    "7. Develop a program that prints the squares of numbers from 1 to 5 using a `for` loop."
   ]
  },
  {
   "cell_type": "code",
   "execution_count": 65,
   "id": "bcd4fa08-fb12-4935-8a6a-73c3c94156c9",
   "metadata": {},
   "outputs": [
    {
     "name": "stdin",
     "output_type": "stream",
     "text": [
      "Enter the start range:  1\n",
      "Enter the end range:  5\n"
     ]
    },
    {
     "name": "stdout",
     "output_type": "stream",
     "text": [
      "Squares of numbers from 1 to 5\n"
     ]
    },
    {
     "data": {
      "text/plain": [
       "[1, 4, 9, 16, 25]"
      ]
     },
     "execution_count": 65,
     "metadata": {},
     "output_type": "execute_result"
    }
   ],
   "source": [
    "def squares(start_range, end_range):\n",
    "    print(f'Squares of numbers from {start_range} to {end_range}')\n",
    "    #initiating a empty list to store the square values from loop\n",
    "    square=[] \n",
    "    for i in range(start_range, end_range+1):\n",
    "        square.append(i**2) # using the **2 method to square the values\n",
    "    return square\n",
    "start_range= int(input(\"Enter the start range: \"))\n",
    "end_range= int(input(\"Enter the end range: \"))\n",
    "squares(start_range, end_range)\n"
   ]
  },
  {
   "cell_type": "markdown",
   "id": "b30e251a-456e-4669-95eb-537c7a8b304a",
   "metadata": {},
   "source": [
    "Explanation:\n",
    "\n",
    "* Function Definition:\n",
    "squares is a function that takes two parameters, start_range and end_range, representing the range of numbers for which you want to calculate the squares.\n",
    "It initializes an empty list called square to store the square values.\n",
    "* Print Header:\n",
    "The function prints a header indicating the range for which the squares will be calculated.\n",
    "* For Loop:\n",
    "A for loop is used to iterate from start_range to end_range (inclusive).\n",
    "For each iteration, it calculates the square of the current number (i) using the exponentiation operator (**) and appends it to the square list.\n",
    "* Return Statement:\n",
    "The function returns the list of squares.\n",
    "* Input from users:\n",
    "Getting the start range and end range inputs from users\n",
    "* Function calling:\n",
    "Calling the function squares(start_range, end_range) with the user input ranges"
   ]
  },
  {
   "cell_type": "markdown",
   "id": "95a2237a-fba9-44ae-a615-c3c1e248cc6a",
   "metadata": {},
   "source": [
    "8. Create a program to find the length of a string without using the `len()` function."
   ]
  },
  {
   "cell_type": "code",
   "execution_count": 69,
   "id": "39987e6d-af38-4891-a7e4-0a63d0d205e2",
   "metadata": {},
   "outputs": [
    {
     "name": "stdin",
     "output_type": "stream",
     "text": [
      "Enter the string:  Hello world\n"
     ]
    },
    {
     "data": {
      "text/plain": [
       "'Length of string \"Hello world\" is 11'"
      ]
     },
     "execution_count": 69,
     "metadata": {},
     "output_type": "execute_result"
    }
   ],
   "source": [
    "def string_length(string):\n",
    "    length=0\n",
    "    for i in string:\n",
    "        length+=1\n",
    "    return f'Length of string \"{string}\" is {length}'\n",
    "\n",
    "string=input('Enter the string: ')\n",
    "string_length(string)"
   ]
  },
  {
   "cell_type": "markdown",
   "id": "abeb8d34-fb41-4872-ab36-01d0aa9de632",
   "metadata": {},
   "source": [
    "Explanation:\n",
    "* Function Definition:\n",
    "string_length is a function that takes a string as a parameter (string).\n",
    "It initializes a variable length to 0, which will be used to count the characters in the string.\n",
    "* For Loop:\n",
    "The function uses a for loop to iterate through each character (i) in the input string (string).\n",
    "For each character, the length variable is incremented by 1.\n",
    "* Return Statement:\n",
    "The function returns a formatted string using an f-string.\n",
    "The formatted string includes the original input string and its length.\n",
    "* Input from users:\n",
    "used the input() method and get the string from user\n",
    "* Function calling:\n",
    "call the function with the user input string as passing argument string_length(string)"
   ]
  },
  {
   "cell_type": "markdown",
   "id": "1211522f-b6a3-4ad5-9422-d59ba6c19363",
   "metadata": {},
   "source": [
    "9. Write a program that calculates the average of a list of numbers using a `for` loop."
   ]
  },
  {
   "cell_type": "code",
   "execution_count": 7,
   "id": "ab14c7f6-bb6e-4780-9c72-ccc046534def",
   "metadata": {},
   "outputs": [
    {
     "name": "stdout",
     "output_type": "stream",
     "text": [
      "The average of the list [11, 2, 4, 67, 57, 34] is: 29.17\n"
     ]
    }
   ],
   "source": [
    "def calculate_average(numbers):   \n",
    "    # Initialize sum and count variables\n",
    "    total_sum = 0\n",
    "    count = 0\n",
    "    # Use a for loop to calculate the sum and count\n",
    "    for num in numbers:\n",
    "        total_sum += num\n",
    "        count += 1\n",
    "    # Calculate the average\n",
    "    average = total_sum / count\n",
    "    return round(average,2)\n",
    "\n",
    "# Example list\n",
    "number_list = [11, 2, 4, 67, 57, 34]\n",
    "\n",
    "# Call the function to calculate the average\n",
    "result = calculate_average(number_list)\n",
    "\n",
    "# Print the result\n",
    "print(f'The average of the list {number_list} is: {result}')\n",
    "\n",
    "    "
   ]
  },
  {
   "cell_type": "markdown",
   "id": "b5e453fd-43e4-4833-ad7c-32cae01a1a6f",
   "metadata": {},
   "source": [
    "Explanation:\n",
    "\n",
    "* Function Definition:\n",
    "The calculate_average function takes a list of numbers (numbers) as input.\n",
    "* Initialization of Variables:\n",
    "Two variables, total_sum and count, are initialized to zero. These variables will be used to calculate the sum and count of the numbers.\n",
    "* For Loop:\n",
    "A for loop iterates through each number in the input list (numbers).\n",
    "The loop increments the total_sum by the current number and increments the count by 1.\n",
    "* Calculate Average:\n",
    "After the loop, the function calculates the average by dividing the total sum by the count.\n",
    "* Round the Average:\n",
    "The round() function is used to round the calculated average to two decimal places.\n",
    "* Return Statement:\n",
    "The function returns the rounded average.\n",
    "* Example List and Function Call:\n",
    "An example list of numbers (number_list) is provided.\n",
    "The calculate_average function is called with the example list, and the result is stored in the result variable.\n",
    "* Print the Result:\n",
    "The result, along with a formatted string indicating the original list, is printed to the console."
   ]
  },
  {
   "cell_type": "markdown",
   "id": "74472945-6a6c-4fd0-be94-42480af5fbf0",
   "metadata": {},
   "source": [
    "10. Develop a program that prints the first `n` Fibonacci numbers using a `for` loop."
   ]
  },
  {
   "cell_type": "code",
   "execution_count": 23,
   "id": "c9ae4ac5-aaa8-4568-b560-f56716d1c5ce",
   "metadata": {},
   "outputs": [
    {
     "name": "stdin",
     "output_type": "stream",
     "text": [
      "Enter the value of n (number of Fibonacci numbers to print):  4\n"
     ]
    },
    {
     "name": "stdout",
     "output_type": "stream",
     "text": [
      "The first 4 Fibonacci numbers are: [0, 1, 1, 2]\n"
     ]
    }
   ],
   "source": [
    "def fibonacci(n):\n",
    "    # Check if n is less than or equal to 0\n",
    "    if n<=0:\n",
    "        print(\"Please enter a positive integer for n.\")\n",
    "        return\n",
    "    # Initialize the first two fibonacci numbers\n",
    "    fibbi=[0,1]\n",
    "    # used for loop to generate fibonacci sequence\n",
    "    for i in range(2,n):\n",
    "        next_number=fibbi[-2]+fibbi[-1]\n",
    "        fibbi.append(next_number)\n",
    "    print(f\"The first {n} Fibonacci numbers are: {fibbi}\")\n",
    "n=int(input(\"Enter the value of n (number of Fibonacci numbers to print): \"))\n",
    "fibonacci(n)"
   ]
  },
  {
   "cell_type": "markdown",
   "id": "7add5fcb-5613-47ee-bfc8-4ab202cd01e4",
   "metadata": {},
   "source": [
    "Explanation:\n",
    "* Function Definition:\n",
    "The fibonacci function takes an integer n as input.\n",
    "* Input Validation:\n",
    "It checks if n is less than or equal to 0. If so, it prints an error message and returns.\n",
    "* Initialize Fibonacci Sequence:\n",
    "The first two Fibonacci numbers, 0 and 1, are initialized in the fibbi list.\n",
    "* For Loop:\n",
    "A for loop starts from index 2 and iterates up to n-1.\n",
    "In each iteration, it calculates the next Fibonacci number by adding the last two numbers in the sequence.\n",
    "* Append to Sequence:\n",
    "The next Fibonacci number is appended to the fibbi list.\n",
    "* Print the Result:\n",
    "After the loop, the function prints the first n Fibonacci numbers.\n",
    "* Get User Input and Call the Function:\n",
    "The program prompts the user to enter the value of n.\n",
    "The fibonacci function is then called with the user-input value."
   ]
  },
  {
   "cell_type": "markdown",
   "id": "09dd7832-332b-4c2d-9938-718806998663",
   "metadata": {},
   "source": [
    "# Intermediate Level:\n",
    "11. Write a program to check if a given list contains any duplicates using a `for` loop."
   ]
  },
  {
   "cell_type": "code",
   "execution_count": 34,
   "id": "38e6ad0f-bd73-4b2e-ae36-774faeb093a4",
   "metadata": {},
   "outputs": [
    {
     "name": "stdout",
     "output_type": "stream",
     "text": [
      "Your list contains duplicates which is ['jas', 4]\n"
     ]
    }
   ],
   "source": [
    "def duplicate_find(value):\n",
    "    unique=[]\n",
    "    duplicates=[]\n",
    "    for i in value:\n",
    "        if i not in unique:\n",
    "            unique.append(i)\n",
    "        else:\n",
    "            duplicates.append(i)\n",
    "    if len(duplicates)==0:\n",
    "        print(\"Your list doesn't have any duplicates\")\n",
    "    else:\n",
    "        print('Your list contains duplicates which is',duplicates)\n",
    "        \n",
    "list_value=[3,4,'jas' ,43,'jas',4]\n",
    "duplicate_find(list_value)"
   ]
  },
  {
   "cell_type": "markdown",
   "id": "ff206088-29e0-49cf-95f4-376bd75ea60d",
   "metadata": {},
   "source": [
    "Explanation:\n",
    "* Initialization of Lists:\n",
    "Two lists, unique and duplicates, are initialized. unique will store unique elements encountered so far, and duplicates will store duplicate elements.\n",
    "* For Loop:\n",
    "The for loop iterates through each element (i) in the input list (value).\n",
    "It checks if the element is not in the unique list. If not, it appends it to unique. If it is, it appends it to duplicates.\n",
    "* Checking for Duplicates:\n",
    "After the loop, it checks the length of the duplicates list. If it's zero, the list doesn't have any duplicates. Otherwise, it prints the list of duplicates.\n",
    "* Example List and Function Call:\n",
    "An example list (value) is provided.\n",
    "The duplicate_find function is called with the example list.\n",
    "* Print the Result:\n",
    "The function prints whether the list contains duplicates or not, and if duplicates are present, it prints the list of duplicates."
   ]
  },
  {
   "cell_type": "markdown",
   "id": "fc58d673-4bdb-420e-a688-c973c82b78ad",
   "metadata": {},
   "source": [
    "12. Create a program that prints the prime numbers in a given range using a `for` loop."
   ]
  },
  {
   "cell_type": "code",
   "execution_count": 52,
   "id": "29416d46-f216-4948-947f-01e7ec9c802c",
   "metadata": {},
   "outputs": [
    {
     "name": "stdin",
     "output_type": "stream",
     "text": [
      "Enter the start of the range:  1\n",
      "Enter the end of the range:  30\n"
     ]
    },
    {
     "name": "stdout",
     "output_type": "stream",
     "text": [
      "Prime numbers in the range [1, 30]:\n",
      "2\n",
      "3\n",
      "5\n",
      "7\n",
      "11\n",
      "13\n",
      "17\n",
      "19\n",
      "23\n",
      "29\n"
     ]
    }
   ],
   "source": [
    "def is_prime(num):\n",
    "    # if num less than 2 its a not prime\n",
    "    if num < 2: \n",
    "        return False\n",
    "    # Iterating through range 2- square root of num +1 \n",
    "    for i in range(2, int(num**0.5) + 1):\n",
    "        if num % i == 0:         # if remainder of num by i is 0 then not prime\n",
    "            return False\n",
    "    return True\n",
    "\n",
    "def print_primes_in_range(start, end):\n",
    "    print(f'Prime numbers in the range [{start}, {end}]:')\n",
    "    for num in range(start, end + 1): \n",
    "        if is_prime(num):\n",
    "            print(num)\n",
    "\n",
    "start_range = int(input(\"Enter the start of the range: \"))\n",
    "end_range = int(input(\"Enter the end of the range: \"))\n",
    "\n",
    "print_primes_in_range(start_range, end_range)\n"
   ]
  },
  {
   "cell_type": "markdown",
   "id": "d8a3d345-2051-48fa-b437-9fcdfa9b9a31",
   "metadata": {},
   "source": [
    "Explanation:\n",
    "* Function Definition: is_prime(num) will takes number as input parameter\n",
    "* Input Validation:\n",
    "The function first checks if num is less than 2. If so, it returns False because numbers less than 2 are not prime.\n",
    "* For Loop for Prime Check:\n",
    "The function then uses a for loop to iterate over the range from 2 to the square root of num (inclusive).\n",
    "For each i in this range, it checks if num is divisible evenly by i (i.e., num % i == 0). If true, it means num is not prime, and the function returns False.\n",
    "* Return Statement:\n",
    "If the loop completes without finding a factor, the function returns True, indicating that num is a prime number.\n",
    "\n",
    "* Second function: print_primes_in_range(start, end) takes the start and end range as input parameter\n",
    "* Print Header:\n",
    "The function prints a header indicating that it will print prime numbers in the specified range.\n",
    "* For Loop for Printing Primes:\n",
    "\n",
    "It uses a for loop to iterate over each number in the range from start to end.\n",
    "For each number (num), it calls the is_prime function to check if it's a prime number. If true, it prints the prime number."
   ]
  },
  {
   "cell_type": "markdown",
   "id": "c2dd2096-e42a-4805-be58-f78f4c70344e",
   "metadata": {},
   "source": [
    "13. Develop a program that counts the number of vowels in a string using a `for` loop."
   ]
  },
  {
   "cell_type": "code",
   "execution_count": 60,
   "id": "11e891c2-891d-4f12-9c6d-37d39865e5f4",
   "metadata": {},
   "outputs": [
    {
     "name": "stdin",
     "output_type": "stream",
     "text": [
      "Enter a string:  HellO World HOw aRE you\n"
     ]
    },
    {
     "name": "stdout",
     "output_type": "stream",
     "text": [
      "The number of vowels in the string is: 8\n"
     ]
    }
   ],
   "source": [
    "def count_vowels(input_string):\n",
    "    vowels = \"aeiou\"\n",
    "    vowel_count = 0\n",
    "    \n",
    "    for char in input_string.lower():\n",
    "        if char in vowels:\n",
    "            vowel_count += 1\n",
    "\n",
    "    return vowel_count\n",
    "\n",
    "# Example usage\n",
    "input_string = input(\"Enter a string: \")\n",
    "result = count_vowels(input_string)\n",
    "\n",
    "print(f\"The number of vowels in the string is: {result}\")\n"
   ]
  },
  {
   "cell_type": "markdown",
   "id": "de886d98-84bd-4e6d-a6c4-79936d152d34",
   "metadata": {},
   "source": [
    "Explanation:\n",
    "* Function Definition:\n",
    "The count_vowels function is defined to take an input_string as an argument.\n",
    "It initializes vowels with lowercase vowels and vowel_count to 0.\n",
    "* For Loop:\n",
    "The for loop iterates over each character in the input_string.\n",
    "For each character, it checks if the lowercase version of the character (char.lower()) is in the vowels string.\n",
    "If it's a vowel, it increments the vowel_count by 1.\n",
    "* Return statement:\n",
    "The function returns the final vowel_count.\n",
    "* Example Usage:\n",
    "The user is prompted to enter a string.\n",
    "The count_vowels function is called with the user-input string.\n",
    "The result is printed, indicating the number of vowels in the original input string."
   ]
  },
  {
   "cell_type": "markdown",
   "id": "f5d8c9b4-5e81-4f45-862f-b49fb253cc03",
   "metadata": {},
   "source": [
    "14. Write a program to find the maximum element in a 2D list using a nested `for` loop."
   ]
  },
  {
   "cell_type": "code",
   "execution_count": 3,
   "id": "60590a85-72d4-47c5-b26b-1f71d63b4411",
   "metadata": {},
   "outputs": [
    {
     "name": "stdout",
     "output_type": "stream",
     "text": [
      "The maximum element in the 2D list is: 9\n"
     ]
    }
   ],
   "source": [
    "def find_max_element(list_2d):\n",
    "    # Initialize max_element with the smallest possible integer value\n",
    "    max_element = float('-inf')\n",
    "\n",
    "    # Nested loop to iterate over each element in the 2D list\n",
    "    for row in list_2d:\n",
    "        for element in row:\n",
    "            # Update max_element if the current element is greater\n",
    "            if element > max_element:\n",
    "                max_element = element\n",
    "    return max_element\n",
    "\n",
    "# Example 2D list\n",
    "list_2d = [\n",
    "    [3, 7, 2],\n",
    "    [9, 4, 8],\n",
    "    [5, 1, 6]\n",
    "]\n",
    "\n",
    "max_element = find_max_element(list_2d)\n",
    "print(f\"The maximum element in the 2D list is: {max_element}\")\n"
   ]
  },
  {
   "cell_type": "markdown",
   "id": "551b5c14-2762-4ecc-bcb7-9564f95660b3",
   "metadata": {},
   "source": [
    "Explanation:\n",
    "\n",
    "* Function Definition:\n",
    "The find_max_element function is defined to take a 2D list (list_2d) as input.\n",
    "max_element is initialized with the smallest possible float value (float('-inf')).\n",
    "* Nested Loop:\n",
    "A nested for loop is used to iterate over each element in the 2D list (list_2d).\n",
    "The outer loop (for row in list_2d:) iterates over each row in the matrix.\n",
    "The inner loop (for element in row:) iterates over each element in the current row.\n",
    "* Update max_element:\n",
    "Inside the inner loop, the current element is compared with the current max_element.\n",
    "If the element is greater than the current max_element, it updates max_element with the new value.\n",
    "* Return Statement:\n",
    "The function returns the final max_element.\n",
    "* Example Usage:\n",
    "An example 2D list (list_2d) is provided.\n",
    "The find_max_element function is called with the example matrix to find the maximum element.\n",
    "The result is printed using print."
   ]
  },
  {
   "cell_type": "markdown",
   "id": "538026bb-766b-412d-8ebf-0260d80011ff",
   "metadata": {},
   "source": [
    "15. Create a program that removes all occurrences of a specific element from a list using a `for` loop."
   ]
  },
  {
   "cell_type": "code",
   "execution_count": 19,
   "id": "573b5021-8868-4a20-a5ee-5744c0178424",
   "metadata": {},
   "outputs": [
    {
     "name": "stdout",
     "output_type": "stream",
     "text": [
      "Original List: [1, 2, 3, 2, 4, 2, 5]\n",
      "Updated List after removing 2: [1, 3, 4, 5]\n"
     ]
    }
   ],
   "source": [
    "def remove_element(lst, target):\n",
    "    result_list = []\n",
    "    # Iterate over each element in the original list\n",
    "    for element in lst:\n",
    "        # Check if the current element is not equal to the target\n",
    "        if element != target:\n",
    "            # Add the element to the result_list\n",
    "            result_list.append(element)\n",
    "    return result_list\n",
    "\n",
    "original_list = [1, 2, 3, 2, 4, 2, 5]\n",
    "target_element = 2\n",
    "\n",
    "updated_list = remove_element(original_list, target_element)\n",
    "\n",
    "print(f\"Original List: {original_list}\")\n",
    "print(f\"Updated List after removing {target_element}: {updated_list}\")\n"
   ]
  },
  {
   "cell_type": "markdown",
   "id": "bcab7855-4f53-4bd9-983f-c4b3f236ecb3",
   "metadata": {},
   "source": [
    "Explanation:\n",
    "\n",
    "* The remove_element function takes a list (lst) and a target element (target) as input.\n",
    "* Inside the function, a new list (result_list) is created to store the elements without the target.\n",
    "* The for loop iterates over each element in the original list.\n",
    "* For each element, it checks if it is equal to the target. If not, it adds the element to the result_list.\n",
    "* The function returns the result_list containing elements without the target.\n",
    "* Example usage demonstrates removing all occurrences of a specific target element (2) from the original list.\n",
    "* The result is printed, showing the original list and the updated list after removing the target element."
   ]
  },
  {
   "cell_type": "markdown",
   "id": "41f6a191-0f46-40ce-b28d-3b3f39c98e49",
   "metadata": {},
   "source": [
    "16. Develop a program that generates a multiplication table for numbers from 1 to 5 using a nested `for` loop."
   ]
  },
  {
   "cell_type": "code",
   "execution_count": 39,
   "id": "8483b937-055d-41f6-9556-622c7bb18b31",
   "metadata": {},
   "outputs": [
    {
     "name": "stdout",
     "output_type": "stream",
     "text": [
      "\n",
      "Multiplication table for 1:\n",
      "\n",
      "1 x 1 = 1\n",
      "2 x 1 = 2\n",
      "3 x 1 = 3\n",
      "4 x 1 = 4\n",
      "5 x 1 = 5\n",
      "6 x 1 = 6\n",
      "7 x 1 = 7\n",
      "8 x 1 = 8\n",
      "9 x 1 = 9\n",
      "10 x 1 = 10\n",
      "\n",
      "Multiplication table for 2:\n",
      "\n",
      "1 x 2 = 2\n",
      "2 x 2 = 4\n",
      "3 x 2 = 6\n",
      "4 x 2 = 8\n",
      "5 x 2 = 10\n",
      "6 x 2 = 12\n",
      "7 x 2 = 14\n",
      "8 x 2 = 16\n",
      "9 x 2 = 18\n",
      "10 x 2 = 20\n",
      "\n",
      "Multiplication table for 3:\n",
      "\n",
      "1 x 3 = 3\n",
      "2 x 3 = 6\n",
      "3 x 3 = 9\n",
      "4 x 3 = 12\n",
      "5 x 3 = 15\n",
      "6 x 3 = 18\n",
      "7 x 3 = 21\n",
      "8 x 3 = 24\n",
      "9 x 3 = 27\n",
      "10 x 3 = 30\n",
      "\n",
      "Multiplication table for 4:\n",
      "\n",
      "1 x 4 = 4\n",
      "2 x 4 = 8\n",
      "3 x 4 = 12\n",
      "4 x 4 = 16\n",
      "5 x 4 = 20\n",
      "6 x 4 = 24\n",
      "7 x 4 = 28\n",
      "8 x 4 = 32\n",
      "9 x 4 = 36\n",
      "10 x 4 = 40\n",
      "\n",
      "Multiplication table for 5:\n",
      "\n",
      "1 x 5 = 5\n",
      "2 x 5 = 10\n",
      "3 x 5 = 15\n",
      "4 x 5 = 20\n",
      "5 x 5 = 25\n",
      "6 x 5 = 30\n",
      "7 x 5 = 35\n",
      "8 x 5 = 40\n",
      "9 x 5 = 45\n",
      "10 x 5 = 50\n"
     ]
    }
   ],
   "source": [
    "def multiplication_tables(n, times):\n",
    "    # iterating over the range of n ( number of tables needed)+1 to include the last \n",
    "    for i in range(1,n+1):\n",
    "        print(f\"\\nMultiplication table for {i}:\\n\")\n",
    "        # inside the loop creating a nested loop to get the multiplication of tables from the i to number of rows\n",
    "        for j in range(1,times+1):\n",
    "            print(f'{j} x {i} = {i*j}')\n",
    "multiplication_tables(5,10)"
   ]
  },
  {
   "cell_type": "markdown",
   "id": "579f7766-3291-4a6b-b5d1-ba142e4ff613",
   "metadata": {},
   "source": [
    "Explanation:\n",
    "\n",
    "* The multiplication_tables function takes two parameters n and times.\n",
    "n: Number of multiplication tables to generate.\n",
    "times: Number of multiples for each table.\n",
    "The outer loop (for i in range(1, n + 1):) iterates over the range from 1 to n (inclusive) to generate multiplication tables for numbers up to n.\n",
    "\n",
    "* Inside the outer loop, there is an inner loop (for j in range(1, times + 1):) that iterates from 1 to times to generate the specified number of multiples for each number.\n",
    "\n",
    "* For each combination of i and j, the product i * j is calculated and printed in the format j x i = i*j, representing the multiplication operation and the result.\n",
    "\n",
    "* The function is then called with multiplication_tables(5, 10) to generate and display multiplication tables for numbers from 1 to 5, with 10 multiples for each number."
   ]
  },
  {
   "cell_type": "markdown",
   "id": "55e29b64-d129-4a0c-80ae-3e95299a5ab2",
   "metadata": {},
   "source": [
    "17. Write a program that converts a list of Fahrenheit temperatures to Celsius using a `for` loop."
   ]
  },
  {
   "cell_type": "code",
   "execution_count": 45,
   "id": "b6563a2f-b9d7-443a-8b82-6059cfb605a9",
   "metadata": {},
   "outputs": [
    {
     "name": "stdout",
     "output_type": "stream",
     "text": [
      "Fahrenheit Temperatures: [32, 68, 86, 104, 212]\n",
      "Celsius Temperatures: [0.0, 20.0, 30.0, 40.0, 100.0]\n"
     ]
    }
   ],
   "source": [
    "# Temperature in degrees Celsius (°C) = (Temperature in degrees Fahrenheit (°F) - 32) * 5/9.\n",
    "\n",
    "def celsius(fahrenheit_temp):\n",
    "    celcius_temp=[]\n",
    "    #iterating over the list of fahrenheit \n",
    "    for i in fahrenheit_temp:\n",
    "        celc= (i - 32) * 5/9 # using the formula to find the celcius using fahrenheit\n",
    "        celcius_temp.append(celc)\n",
    "    return celcius_temp\n",
    "fahrenheit_temp= [32, 68, 86, 104, 212]\n",
    "celsius_temperatures=celsius(fahrenheit_temp)\n",
    "print(f\"Fahrenheit Temperatures: {fahrenheit_temp}\")\n",
    "print(f\"Celsius Temperatures: {celsius_temperatures}\")\n"
   ]
  },
  {
   "cell_type": "markdown",
   "id": "aecf77cc-5af3-4686-9634-d2c81c5b01d0",
   "metadata": {},
   "source": [
    "Explanation:\n",
    "\n",
    "* The celsius function takes a list of Fahrenheit temperatures (fahrenheit_temp) as input.\n",
    "* Inside the function, an empty list (celsius_temp) is initialized to store the converted Celsius temperatures.\n",
    "* The for loop iterates over each Fahrenheit temperature in the input list.\n",
    "* For each Fahrenheit temperature, it calculates the equivalent Celsius temperature using the conversion formula (F - 32) * 5/9.\n",
    "* The converted Celsius temperature is then appended to the celsius_temp list.\n",
    "* The function returns the list of Celsius temperatures.\n",
    "* Example usage demonstrates converting a list of Fahrenheit temperatures to Celsius.\n",
    "* The result is printed, showing both the original Fahrenheit temperatures and the corresponding Celsius temperatures."
   ]
  },
  {
   "cell_type": "markdown",
   "id": "c4a7d484-3a8a-41e7-ad44-2f8ed63dae07",
   "metadata": {},
   "source": [
    "18. Create a program to print the common elements from two lists using a `for` loop."
   ]
  },
  {
   "cell_type": "code",
   "execution_count": 50,
   "id": "cec78d16-4644-4211-b8a3-097ba74d75ac",
   "metadata": {},
   "outputs": [
    {
     "name": "stdout",
     "output_type": "stream",
     "text": [
      "List 1: [1, 2, 3, 4, 5]\n",
      "List 2: [3, 4, 5, 6, 7]\n",
      "Common Elements: [3, 4, 5]\n"
     ]
    }
   ],
   "source": [
    "def common_elements(lis1, lis2):\n",
    "    #initialize an empty list to store common elements\n",
    "    common=[]\n",
    "    #iterating over the list 1 elements and list2 elements in nested loop with i and j interating variables\n",
    "    for i in lis1:\n",
    "        for j in lis2:\n",
    "            # if the element from lst2 is equal to element from list1 then appending the element to common list\n",
    "            if i==j:\n",
    "                common.append(i)\n",
    "    return common\n",
    "list1 = [1, 2, 3, 4, 5]\n",
    "list2 = [3, 4, 5, 6, 7]\n",
    "common_element_list=common_elements(list1,list2)\n",
    "\n",
    "print(f\"List 1: {list1}\")\n",
    "print(f\"List 2: {list2}\")\n",
    "print(f\"Common Elements: {common_element_list}\")\n",
    "        "
   ]
  },
  {
   "cell_type": "markdown",
   "id": "801377c6-b784-4631-a426-5923ab98cf36",
   "metadata": {},
   "source": [
    "Explanation:\n",
    "\n",
    "* The common_elements function takes two lists (lis1 and lis2) as input.\n",
    "* An empty list (common) is initialized to store the common elements.\n",
    "* The outer loop (for i in lis1:) iterates over each element in the first list.\n",
    "* Inside the outer loop, there is an inner loop (for j in lis2:) that iterates over each element in the second list.\n",
    "* For each combination of i and j, it checks if they are equal.\n",
    "* If a common element is found, it is appended to the common list.\n",
    "* The function returns the list of common elements.\n",
    "* Example usage demonstrates finding and printing the common elements between two example lists.\n",
    "* The result is printed, showing both input lists and the common elements."
   ]
  },
  {
   "cell_type": "markdown",
   "id": "a678a011-b71b-4473-8e68-cffe09590eae",
   "metadata": {},
   "source": [
    "19. Develop a program that prints the pattern of right-angled triangles using a `for` loop. Use ‘*’ to draw the\n",
    "pattern"
   ]
  },
  {
   "cell_type": "code",
   "execution_count": 53,
   "id": "8de03b17-692f-46b8-88ef-0e291f3475e8",
   "metadata": {},
   "outputs": [
    {
     "name": "stdout",
     "output_type": "stream",
     "text": [
      "* \n",
      "* * \n",
      "* * * \n",
      "* * * * \n",
      "* * * * * \n",
      "* * * * * * \n",
      "* * * * * * * \n"
     ]
    }
   ],
   "source": [
    "def print_right_triangle(rows):\n",
    "    for i in range(1, rows + 1):\n",
    "        for j in range(1, i + 1):\n",
    "            print('*', end=' ')\n",
    "        print()\n",
    "\n",
    "# Example usage\n",
    "triangle_rows = 7\n",
    "print_right_triangle(triangle_rows)\n"
   ]
  },
  {
   "cell_type": "markdown",
   "id": "f344d809-f7fd-4b2a-9488-870431412518",
   "metadata": {},
   "source": [
    "Explanation:\n",
    "\n",
    "* The print_right_triangle function takes the number of rows (rows) as input.\n",
    "* The outer loop (for i in range(1, rows + 1):) iterates over the range from 1 to the specified number of rows.\n",
    "* Inside the outer loop, there is an inner loop (for j in range(1, i + 1):) that iterates from 1 to the current value of i.\n",
    "* For each value of j, it prints '*' followed by a space without moving to the next line (end=' ').\n",
    "* After printing the '*' characters for the current row, a new line is printed to start the next row.\n",
    "* Example usage demonstrates printing a right-angled triangle with 7 rows."
   ]
  },
  {
   "cell_type": "markdown",
   "id": "5ed23956-a29c-4da8-9c63-4e8161d05cf5",
   "metadata": {},
   "source": [
    "20. Write a program to find the greatest common divisor (GCD) of two numbers using a `for` loop."
   ]
  },
  {
   "cell_type": "code",
   "execution_count": 18,
   "id": "6d2c17eb-a4a6-402d-b04b-9ba93a1529dc",
   "metadata": {},
   "outputs": [
    {
     "name": "stdin",
     "output_type": "stream",
     "text": [
      "Enter the first number:  15\n",
      "Enter the second number:  70\n"
     ]
    },
    {
     "name": "stdout",
     "output_type": "stream",
     "text": [
      "The GCD of 15 and 70 is 5.\n"
     ]
    }
   ],
   "source": [
    "def find_gcd(a, b):\n",
    "    # Ensure that a is greater than or equal to b\n",
    "    if a < b:\n",
    "        a, b = b, a\n",
    "\n",
    "    gcd = 1\n",
    "\n",
    "    for i in range(1, b + 1):\n",
    "        if a % i == 0 and b % i == 0:\n",
    "            gcd = i\n",
    "\n",
    "    return gcd\n",
    "\n",
    "# Example usage\n",
    "num1 = int(input(\"Enter the first number: \"))\n",
    "num2 = int(input(\"Enter the second number: \"))\n",
    "\n",
    "result = find_gcd(num1, num2)\n",
    "print(f\"The GCD of {num1} and {num2} is {result}.\")\n"
   ]
  },
  {
   "cell_type": "markdown",
   "id": "dac42533-bb1c-49c7-a54e-9a562b410ced",
   "metadata": {},
   "source": [
    "Explanation:\n",
    "\n",
    "* def find_gcd(a, b):: This line defines a function named find_gcd that takes two parameters, a and b. These parameters represent the two numbers for which we want to find the greatest common divisor (GCD).\n",
    "* if a < b:: This conditional statement checks whether a is less than b. If true, it swaps the values of a and b to ensure that a is greater than or equal to b.\n",
    "* gcd = 1: This line initializes a variable named gcd to 1. This variable will be used to store the greatest common divisor.\n",
    "* for i in range(1, b + 1):: This line starts a for loop that iterates through the numbers from 1 to b (inclusive). The loop variable is i, and it represents the potential common divisor.\n",
    "* if a % i == 0 and b % i == 0:: Inside the loop, this condition checks if i is a common divisor of both a and b. If true, it updates the gcd variable to the current value of i.\n",
    "* return gcd: This line returns the final calculated GCD after the loop has finished.\n",
    "* Finally getting the numbers from user using input() method and calling the function and printing the statement."
   ]
  },
  {
   "cell_type": "markdown",
   "id": "540bd36a-492e-4063-8150-6574bb1a3601",
   "metadata": {},
   "source": [
    "# Advanced Level:\n",
    "21. Create a program that calculates the sum of the digits of numbers in a list using a list comprehension."
   ]
  },
  {
   "cell_type": "code",
   "execution_count": 33,
   "id": "f6671390-1fbf-45cf-ab18-69010f0d4138",
   "metadata": {},
   "outputs": [
    {
     "name": "stdout",
     "output_type": "stream",
     "text": [
      "Original list: [123, 456, 789, 989]\n",
      "Sum of digits for each number: [6, 15, 24, 26]\n"
     ]
    }
   ],
   "source": [
    "# creating a function to calculate the digits\n",
    "def digit_sum(num):\n",
    "    # converting the int() of digits to str() to iterate over and do calculate with changing back to int()\n",
    "    digits=sum([ int(i) for i in str(num)]) \n",
    "    return digits\n",
    "# creating a function to iterate the list of numbers and calculate the sum of digits in the list\n",
    "def sum_of_digits(numbers_list):\n",
    "    final_list=[ digit_sum(i) for i in numbers_list]\n",
    "    return final_list\n",
    "\n",
    "number_list=[123, 456, 789, 989]\n",
    "result= sum_of_digits(number_list)\n",
    "print('Original list:' ,number_list)\n",
    "print('Sum of digits for each number:' , result)"
   ]
  },
  {
   "cell_type": "markdown",
   "id": "73cd2a4b-6501-4ff9-a883-7930f9fcc671",
   "metadata": {},
   "source": [
    "Explanation:\n",
    "\n",
    "* digit_sum function:\n",
    "Input: num - a single number for which the sum of digits needs to be calculated.\n",
    "Logic: The function uses a list comprehension to convert each digit of the number (num) to an integer, and then calculates the sum of these digits using the sum function.\n",
    "Output: Returns the sum of digits for the given number.\n",
    "\n",
    "* sum_of_digits function:\n",
    "Input: numbers_list - a list of numbers for which the sum of digits needs to be calculated.\n",
    "Logic: The function uses a list comprehension to apply the digit_sum function to each number in the input list (numbers_list).\n",
    "Output: Returns a list containing the sum of digits for each number in the input list.\n",
    "\n",
    "* Example usage:\n",
    "Creates a list of numbers (number_list).\n",
    "Calls the sum_of_digits function with the list of numbers to calculate the sum of digits for each number.\n",
    "Prints the original list and the result, which is the list of sums of digits for each corresponding number in the original list."
   ]
  },
  {
   "cell_type": "markdown",
   "id": "aeb468e5-80ab-4ef6-8497-b695d74b0477",
   "metadata": {},
   "source": [
    "22. Write a program to find the prime factors of a given number using a `for` loop and list comprehension."
   ]
  },
  {
   "cell_type": "code",
   "execution_count": 21,
   "id": "7feeaba6-601b-4d90-8d0b-4939fbb891d7",
   "metadata": {},
   "outputs": [
    {
     "name": "stdin",
     "output_type": "stream",
     "text": [
      "Enter the number to check : 45\n"
     ]
    },
    {
     "name": "stdout",
     "output_type": "stream",
     "text": [
      "The prime Factors for 45 is [3, 5]\n"
     ]
    }
   ],
   "source": [
    "def prime_factors(factors):\n",
    "    if factors <2:\n",
    "        return False\n",
    "    for i in range(2,int(factors**0.5)+1):\n",
    "        if factors %i==0:\n",
    "            return False\n",
    "    return True\n",
    "    \n",
    "def _factors(num):  \n",
    "    factors= [ i for i in range(1,num+1) if num % i ==0 ]          \n",
    "    prime_factors_= [i for i in factors if prime_factors(i)]\n",
    "    print(f'The prime Factors for {num} is {prime_factors_}')\n",
    "num= int(input('Enter the number to check :') )   \n",
    "_factors(num)"
   ]
  },
  {
   "cell_type": "markdown",
   "id": "f21b3f91-ed21-4bf6-b210-3f06937134c8",
   "metadata": {},
   "source": [
    "Explanation:\n",
    "\n",
    "**prime_factors function:**\n",
    "\n",
    "Checks if the given number (factors) is less than 2. If so, it returns False because prime numbers are greater than 1.\n",
    "Iterates through numbers from 2 to the square root of factors plus 1, checking if factors is divisible evenly by any of them. If it is, the function returns False.\n",
    "If no factors are found, it returns True, indicating that the number is prime.\n",
    "\n",
    "**_factors function:**\n",
    "Takes a number num as input.\n",
    "Creates a list called factors containing all factors of num by iterating through numbers from 1 to num and including only those that divide num evenly.\n",
    "Creates a list called prime_factors_ containing only the prime factors from the list factors. It uses the prime_factors function.\n",
    "Prints a message indicating the prime factors of the input number.\n",
    "\n",
    "**User Input and Function Call:**\n",
    "Takes user input for a number.\n",
    "Calls the _factors function with the provided number."
   ]
  },
  {
   "cell_type": "markdown",
   "id": "2b43aa91-63de-4c9e-9d6a-feba4b58fd4a",
   "metadata": {},
   "source": [
    "23. Develop a program that extracts unique elements from a list and stores them in a new list using a list\n",
    "comprehension."
   ]
  },
  {
   "cell_type": "code",
   "execution_count": 1,
   "id": "103ebcc0-3818-444c-b716-ca05a4df4694",
   "metadata": {},
   "outputs": [
    {
     "name": "stdout",
     "output_type": "stream",
     "text": [
      "Original List: [1, 2, 2, 3, 4, 4, 5, 6, 6]\n",
      "Unique Elements: [1, 2, 3, 4, 5, 6]\n"
     ]
    }
   ],
   "source": [
    "def extract_unique_elements(input_list):\n",
    "    # Use a list comprehension to create a new list with unique elements\n",
    "    unique_elements = [x for i, x in enumerate(input_list) if x not in input_list[:i]]\n",
    "    return unique_elements\n",
    "\n",
    "# Example usage:\n",
    "input_list = [1, 2, 2, 3, 4, 4, 5, 6, 6]\n",
    "result = extract_unique_elements(input_list)\n",
    "\n",
    "print(f\"Original List: {input_list}\")\n",
    "print(f\"Unique Elements: {result}\")\n"
   ]
  },
  {
   "cell_type": "markdown",
   "id": "ab40d166-222c-4482-9491-5b78169a8b82",
   "metadata": {},
   "source": [
    "Explanation:\n",
    "\n",
    "* The extract_unique_elements function takes an input list as a parameter.\n",
    "* Inside the function, a list comprehension is used to create a new list (unique_elements) containing only the unique elements.\n",
    "* The enumerate function is used to get both the index (i) and the element (x) in each iteration.\n",
    "* The list comprehension checks if the current element (x) is not in the portion of the input list that precedes * it (input_list[:i]). If it's not, it is included in the unique_elements list.\n",
    "* The resulting list contains only the unique elements and is returned by the function."
   ]
  },
  {
   "cell_type": "markdown",
   "id": "98a250fe-bdd4-44a9-878a-e0a39b7cad62",
   "metadata": {},
   "source": [
    "24. Create a program that generates a list of all palindromic numbers up to a specified limit using a list\n",
    "comprehension."
   ]
  },
  {
   "cell_type": "code",
   "execution_count": 11,
   "id": "114efd9f-69a0-422c-967b-aa5357b612f1",
   "metadata": {},
   "outputs": [
    {
     "name": "stdin",
     "output_type": "stream",
     "text": [
      "Enter the limit to generate palindromic numbers up to: 50\n"
     ]
    },
    {
     "name": "stdout",
     "output_type": "stream",
     "text": [
      "List of palindromic number upto 50: [1, 2, 3, 4, 5, 6, 7, 8, 9, 11, 22, 33, 44]\n"
     ]
    }
   ],
   "source": [
    "def palnidrome_numbers(limit):\n",
    "    res=[i for i in range(1,limit+1) if str(i) == str(i)[::-1]]\n",
    "    print(f'List of palindromic number upto {limit}: {res}')\n",
    "limit = int(input(\"Enter the limit to generate palindromic numbers up to:\"))\n",
    "palnidrome_numbers(limit)    "
   ]
  },
  {
   "cell_type": "markdown",
   "id": "b3b6280b-f59b-47bc-95ba-ee5613cf478c",
   "metadata": {},
   "source": [
    "Explanation:\n",
    "\n",
    "* Function Definition (palindromic_numbers):\n",
    "The function palindromic_numbers takes a single parameter, limit, which represents the upper limit for generating palindromic numbers.\n",
    "It uses a list comprehension to generate a list (res) of palindromic numbers from 1 to the specified limit (limit).\n",
    "The condition str(i) == str(i)[::-1] checks if the string representation of the number (str(i)) is equal to its reverse (str(i)[::-1]). This condition ensures that the number is palindromic.\n",
    "The function then prints a message that includes the list of palindromic numbers.\n",
    "* User Input and Function Call:\n",
    "The program prompts the user to enter a limit for generating palindromic numbers using limit = int(input(\"Enter the limit to generate palindromic numbers up to: \")).\n",
    "It then calls the palindromic_numbers function with the user-specified limit as an argument.\n"
   ]
  },
  {
   "cell_type": "markdown",
   "id": "4faba30f-446b-4811-bc57-0e397e948463",
   "metadata": {},
   "source": [
    "25. Write a program to flatten a nested list using list comprehension."
   ]
  },
  {
   "cell_type": "code",
   "execution_count": 66,
   "id": "e5384877-530c-4d75-9ecf-17037746e93d",
   "metadata": {},
   "outputs": [
    {
     "name": "stdout",
     "output_type": "stream",
     "text": [
      "Original Nested List: [[1, 2, 3], 4, 5, [6, 7], [8, 9]]\n",
      "Flattened List: [1, 2, 3, 4, 5, 6, 7, 8, 9]\n"
     ]
    }
   ],
   "source": [
    "def flatten_nested_list(nested_list):\n",
    "    flattened_list = [item if isinstance(sublist, list) else sublist for sublist in nested_list for item in (sublist if isinstance(sublist, list) else [sublist])]\n",
    "    return flattened_list\n",
    "\n",
    "# Example usage:\n",
    "nested_list = [[1, 2, 3],4,5,[6,7],[ 8, 9]]\n",
    "flattened_result = flatten_nested_list(nested_list)\n",
    "\n",
    "print(f\"Original Nested List: {nested_list}\")\n",
    "print(f\"Flattened List: {flattened_result}\")\n"
   ]
  },
  {
   "cell_type": "markdown",
   "id": "551d4be9-f6cd-48b7-b5ba-c930ea9b115d",
   "metadata": {},
   "source": [
    "Explanation:\n",
    "\n",
    "* flatten_nested_list Function:\n",
    "This function takes a nested list, nested_list, as a parameter.\n",
    "* List Comprehension:\n",
    "The list comprehension is used to flatten the nested list.\n",
    "The outer loop (for sublist in nested_list) iterates through each element in the nested list.\n",
    "The inner loop (for item in (sublist if isinstance(sublist, list) else [sublist])) iterates through each item in the current element. It uses a conditional expression to handle both lists and non-list elements correctly.\n",
    "If the current element (sublist) is a list, the inner loop iterates through each item in that list. If it's not a list, the inner loop iterates through a single-item list containing the element itself.\n",
    "The result is a flat list containing all the items from the nested structure.\n",
    "* Return Statement:\n",
    "The flattened list is then returned by the function.\n",
    "* Example Usage:\n",
    "An example nested list, nested_list, is provided: [[1, 2, 3], 4, 5, [6, 7], [8, 9]].\n",
    "The flatten_nested_list function is called with this nested list.\n",
    "The original nested list and the resulting flattened list are then printed."
   ]
  },
  {
   "cell_type": "markdown",
   "id": "1a9074d6-5a5d-4096-8e5c-45b0601fad54",
   "metadata": {},
   "source": [
    "26. Develop a program that computes the sum of even and odd numbers in a list separately using list\n",
    "comprehension."
   ]
  },
  {
   "cell_type": "code",
   "execution_count": 1,
   "id": "17c45fa9-67b1-411d-b77f-6c919d6c1d68",
   "metadata": {},
   "outputs": [
    {
     "name": "stdout",
     "output_type": "stream",
     "text": [
      "The sum of odd number in the list is 25, Even number in the list is 20\n"
     ]
    }
   ],
   "source": [
    "def sum_odd_and_even(list_):\n",
    "    odd=sum([ i for i in list_ if i %2!=0])\n",
    "    even= sum([ i for i in list_ if i %2==0])\n",
    "    print(f'The sum of odd number in the list is {odd}, Even number in the list is {even}')\n",
    "    \n",
    "list_= [1, 2, 3, 4, 5, 6, 7, 8, 9]\n",
    "sum_odd_and_even(list_)"
   ]
  },
  {
   "cell_type": "markdown",
   "id": "549d1a81-e056-413e-afde-f83598562cc3",
   "metadata": {},
   "source": [
    "Explanation:\n",
    "\n",
    "* The sum_odd_and_even function takes a list as a parameter.\n",
    "* It uses list comprehensions to create two lists:\n",
    "* odd: Contains odd numbers from the input list.\n",
    "* even: Contains even numbers from the input list.\n",
    "* The sum function is then used to calculate the sum of elements in each list.\n",
    "* Finally, the function prints the sums of odd and even numbers in the input list.\n",
    "* The example usage demonstrates calling the function with the list [1, 2, 3, 4, 5, 6, 7, 8, 9], and it prints the sum of odd and even numbers in that list."
   ]
  },
  {
   "cell_type": "markdown",
   "id": "ebb9d2df-346a-4ca2-afdd-f04fde629fc2",
   "metadata": {},
   "source": [
    "27. Create a program that generates a list of squares of odd numbers between 1 and 10 using list\n",
    "comprehension."
   ]
  },
  {
   "cell_type": "code",
   "execution_count": 22,
   "id": "3009eedb-cf18-4e91-9bbe-2f11cb0dc292",
   "metadata": {},
   "outputs": [
    {
     "name": "stdout",
     "output_type": "stream",
     "text": [
      "The squares of odd numbers between 1 - 10 are [1, 9, 25, 49, 81]\n"
     ]
    }
   ],
   "source": [
    "def squared_odd(start_range, end_range):\n",
    "    squares=[ i**2 for i in range(start_range, end_range) if i %2!=0]\n",
    "    print(f'The squares of odd numbers between {start_range} - {end_range} are {squares}')\n",
    "start_range=1\n",
    "end_range=10\n",
    "squared_odd(start_range, end_range)"
   ]
  },
  {
   "cell_type": "markdown",
   "id": "8134d230-ac07-4228-80de-ae88b55f2e6f",
   "metadata": {},
   "source": [
    "Explanation:\n",
    "\n",
    "* Function Definition:\n",
    "def squared_odd(start_range, end_range): defines a function named squared_odd that takes two parameters, start_range and end_range.\n",
    "* List Comprehension:\n",
    "squares = [i**2 for i in range(start_range, end_range) if i % 2 != 0] is a list comprehension.\n",
    "range(start_range, end_range) generates a sequence of numbers from start_range to end_range-1.\n",
    "if i % 2 != 0 is the condition that filters out even numbers, ensuring only odd numbers are considered.\n",
    "i**2 calculates the square of each odd number i.\n",
    "The result is a list, squares, containing the squares of odd numbers within the specified range.\n",
    "* Printing the Result:\n",
    "print(f'The squares of odd numbers between {start_range} - {end_range} are {squares}') prints a message that includes the specified range and the list of squares of odd numbers.\n",
    "* Setting the Range:\n",
    "start_range = 1 and end_range = 10 set the range parameters.\n",
    "* Function Call:\n",
    "squared_odd(start_range, end_range) calls the function with the specified range."
   ]
  },
  {
   "cell_type": "markdown",
   "id": "a21fe47c-dde9-4fd0-98fb-73c9d0b2f629",
   "metadata": {},
   "source": [
    "28. Write a program that combines two lists into a dictionary using list comprehension."
   ]
  },
  {
   "cell_type": "code",
   "execution_count": 7,
   "id": "96763c33-8626-48cf-9deb-1a339c888364",
   "metadata": {},
   "outputs": [
    {
     "name": "stdout",
     "output_type": "stream",
     "text": [
      "{'name': 'Jas', 'age': 25, 'city': 'Chennai'}\n"
     ]
    }
   ],
   "source": [
    "def dict_from_lists(list1,list2):\n",
    "    my_dict = {k: v for k, v in zip(list1, list2)}\n",
    "    print( my_dict)\n",
    "    \n",
    "\n",
    "list1 = ['name', 'age', 'city']\n",
    "list2 = ['Jas', 25, 'Chennai']\n",
    "dict_from_lists(list1,list2)\n"
   ]
  },
  {
   "cell_type": "markdown",
   "id": "2751d0c8-d93b-4d81-9fda-b1f9e0337cf6",
   "metadata": {},
   "source": [
    "Explanation:\n",
    "* list1 and list2 are two lists defined with some values.\n",
    "* The function dict_from_lists takes two lists (list1 and list2) as parameters.\n",
    "* Inside the function, a dictionary (my_dict) is created using a dictionary comprehension. The zip function is used to pair corresponding elements from list1 and list2.\n",
    "* The resulting dictionary has keys from list1 and values from list2.\n",
    "* The dictionary is then printed using print(my_dict).\n",
    "* Finally calling the function dict_from_lists with the list1 and list2 parameters."
   ]
  },
  {
   "cell_type": "markdown",
   "id": "f68b6949-848b-4fe4-84e4-f8c97b85d163",
   "metadata": {},
   "source": [
    "29. Develop a program that extracts the vowels from a string and stores them in a list using list comprehension."
   ]
  },
  {
   "cell_type": "code",
   "execution_count": 9,
   "id": "6ee79737-eaf4-4395-b568-ac61f21303a8",
   "metadata": {},
   "outputs": [
    {
     "name": "stdin",
     "output_type": "stream",
     "text": [
      "Enter the string HellO WorlD\n"
     ]
    },
    {
     "data": {
      "text/plain": [
       "['e', 'o', 'o']"
      ]
     },
     "execution_count": 9,
     "metadata": {},
     "output_type": "execute_result"
    }
   ],
   "source": [
    "def extract_vowels(string):\n",
    "    vowels='aeiou'\n",
    "    result=[ i for i in string.lower() if i in vowels]\n",
    "    return result\n",
    "string=input('Enter the string')\n",
    "extract_vowels(string)"
   ]
  },
  {
   "cell_type": "markdown",
   "id": "22224803-1503-4e66-9dd1-11facc1e4d33",
   "metadata": {},
   "source": [
    "Explanation:\n",
    "\n",
    "* Function Definition (extract_vowels):\n",
    "The function extract_vowels takes a string (string) as a parameter.\n",
    "The string vowels is defined, containing the vowels 'aeiou'.\n",
    "* result = [i for i in string.lower() if i in vowels]:\n",
    "It iterates through each character (i) in the lowercase version of the input string (string.lower()).\n",
    "The condition if i in vowels checks if the character is a vowel.\n",
    "The list comprehension creates a list (result) containing only the vowels found in the input string.\n",
    "The resulting list is then returned.\n",
    "* User Input:\n",
    "The input function is used to get a string input from the user, and the entered string is stored in the variable string.\n",
    "* Function Call:\n",
    "The extract_vowels function is called with the user-entered string (string), and the result is stored in the variable extracted_vowels.\n"
   ]
  },
  {
   "cell_type": "markdown",
   "id": "52e5d7ea-ee30-48aa-9ea3-cb128d6cf0d1",
   "metadata": {},
   "source": [
    "30. Create a program that removes all non-numeric characters from a list of strings using list comprehension."
   ]
  },
  {
   "cell_type": "code",
   "execution_count": 32,
   "id": "69f6665f-c06e-4d24-b605-be135820f576",
   "metadata": {},
   "outputs": [
    {
     "name": "stdout",
     "output_type": "stream",
     "text": [
      "Input String : ['abc123', '456def', '789xyz', '10pqr']\n",
      "Non_numberic Removed strings : ['123', '456', '789', '10']\n"
     ]
    }
   ],
   "source": [
    "def remove_non_numeric(lst):\n",
    "    result=[ ''.join(j for j in i if j.isdigit()) for i in lst  ]\n",
    "    return result\n",
    "\n",
    "input_strings = ['abc123', '456def', '789xyz', '10pqr']\n",
    "print('Input String :',input_strings)\n",
    "print('Non_numberic Removed strings :',remove_non_numeric(input_strings))"
   ]
  },
  {
   "cell_type": "markdown",
   "id": "c2e22a5f-6054-442b-9bc4-aae050cfc9c4",
   "metadata": {},
   "source": [
    "Explanation:\n",
    "\n",
    "* The function remove_non_numeric takes a list of strings (lst) as input.\n",
    "* The list comprehension iterates over each string (i) in the input list (lst).\n",
    "* For each string, it uses another list comprehension to join only the numeric characters (j.isdigit()) together into a new string.\n",
    "* The resulting list of modified strings is returned.\n",
    "* Initiated a variable input_strings with list of strings\n",
    "* Finaly print the input string and calls the function to return the removed non numberic string."
   ]
  },
  {
   "cell_type": "markdown",
   "id": "566f25dc-3000-4426-9777-308da3f5b7ff",
   "metadata": {},
   "source": [
    "# Challenge Level:\n",
    "31. Write a program to generate a list of prime numbers using the Sieve of Eratosthenes algorithm and list\n",
    "comprehension."
   ]
  },
  {
   "cell_type": "code",
   "execution_count": 21,
   "id": "7a5e5011-0233-4231-949d-56e3356136ad",
   "metadata": {},
   "outputs": [
    {
     "name": "stdin",
     "output_type": "stream",
     "text": [
      "Enter the limit 100\n"
     ]
    },
    {
     "name": "stdout",
     "output_type": "stream",
     "text": [
      "The list of prime numbers upto limit 100 are[2, 3, 5, 7, 11, 13, 17, 19, 23, 29, 31, 37, 41, 43, 47, 53, 59, 61, 67, 71, 73, 79, 83, 89, 97]\n"
     ]
    }
   ],
   "source": [
    "def Sieve_of_Eratosthenes_algorithm(limit):\n",
    "    # marking all the numbers from the limit to True \n",
    "    prime=[True] * (limit + 1)\n",
    "    # Since 0 and 1 are not prime marking it as false\n",
    "    prime[0] = prime[1] = False\n",
    "    #looping over the range from 2 - limit+1\n",
    "    for i in range(2,limit+1):\n",
    "        # if the list of prime indexing i is true it will multiply with same increment upto the limit and mark as false \n",
    "        if prime[i]:\n",
    "            prime[i*i:limit+1:i]= [False] * len(prime[i*i:limit+1:i])\n",
    "    # using the list comprehension and getting the values which are still True \n",
    "    prime_numbers=[i for i in range(2, limit+1) if prime[i]]\n",
    "    print( f'The list of prime numbers upto limit {limit} are { prime_numbers}')\n",
    "    \n",
    "limit=int(input('Enter the limit'))\n",
    "Sieve_of_Eratosthenes_algorithm(limit)"
   ]
  },
  {
   "cell_type": "markdown",
   "id": "2b5fdd0e-5ab5-49b8-aaef-27ee7053cb15",
   "metadata": {},
   "source": [
    "Explanation:\n",
    "    \n",
    "* Function Definition:  creaetd a funcation named Sieve_of_Eratosthenes_algorithm(limit): takes limit as parameter.\n",
    "* List Initialization (prime):\n",
    "A list named prime is initialized with True values for indices representing numbers from 0 to the given limit. This list will be used to mark numbers as prime or non-prime.\n",
    "* Marking Non-Primes (for Loop):\n",
    "The for loop iterates over the range from 2 to limit + 1.\n",
    "If the number at index i in the prime list is marked as True, it means i is a prime number. The multiples of i are then marked as False in the list, starting from i*i with increments of i up to the limit.\n",
    "* List Comprehension (prime_numbers):\n",
    "After the loop, a list comprehension is used to extract the prime numbers from the prime list. Numbers corresponding to True values in the prime list are included in the prime_numbers list.\n",
    "* Printing Prime Numbers:\n",
    "Finally, the program prints the list of prime numbers obtained.\n",
    "* User Input (limit):\n",
    "The program takes user input for the limit using input() method."
   ]
  },
  {
   "cell_type": "markdown",
   "id": "df591f5a-1a1f-4067-ba19-7dea9004748b",
   "metadata": {},
   "source": [
    "32. Create a program that generates a list of all Pythagorean triplets up to a specified limit using list\n",
    "comprehension."
   ]
  },
  {
   "cell_type": "code",
   "execution_count": 42,
   "id": "b5e08909-14f6-469f-b8fa-032b7d487a29",
   "metadata": {},
   "outputs": [
    {
     "name": "stdout",
     "output_type": "stream",
     "text": [
      "Pythagorean triplets up to 20: [(3, 4, 5), (5, 12, 13), (6, 8, 10), (8, 15, 17), (9, 12, 15), (12, 16, 20)]\n"
     ]
    }
   ],
   "source": [
    "def generate_pythagorean_triplets(limit):\n",
    "    triplets = [(a, b, c) for a in range(1, limit + 1) for b in range(a, limit + 1) for c in range(b, limit + 1) if a**2 + b**2 == c**2]\n",
    "    return triplets\n",
    "\n",
    "limit = 20\n",
    "pythagorean_triplets = generate_pythagorean_triplets(limit)\n",
    "\n",
    "print(f\"Pythagorean triplets up to {limit}: {pythagorean_triplets}\")\n"
   ]
  },
  {
   "cell_type": "markdown",
   "id": "1585f7ff-e619-4b3a-963b-59fcfd4355c8",
   "metadata": {},
   "source": [
    "Explanation:\n",
    "* Function Definition (generate_pythagorean_triplets):\n",
    "The function takes a limit parameter.\n",
    "It initializes an empty list called triplets.\n",
    "It uses a list comprehension to generate Pythagorean triplets, iterating through possible values of values of  a,  b, and c, subject to the condition a**2 +b**2 =c**2.\n",
    "The triplets that satisfy the Pythagorean theorem are appended to the triplets list.\n",
    "The resulting list of triplets is returned.\n",
    "* Example and Function Call:\n",
    "The program sets limit to 20.\n",
    "It calls the generate_pythagorean_triplets function with the specified limit.\n",
    "The returned list of Pythagorean triplets is stored in the variable pythagorean_triplets.\n",
    "* Print Statement:\n",
    "The program prints string that displays the limit and the list of Pythagorean triplets generated using f-string."
   ]
  },
  {
   "cell_type": "markdown",
   "id": "b0400e34-b575-42de-933c-41067a046756",
   "metadata": {},
   "source": [
    "33. Develop a program that generates a list of all possible combinations of two lists using list comprehension."
   ]
  },
  {
   "cell_type": "code",
   "execution_count": 43,
   "id": "a163bab5-3b20-4be7-abc9-dfc275555351",
   "metadata": {},
   "outputs": [
    {
     "name": "stdout",
     "output_type": "stream",
     "text": [
      "All possible combinations:\n",
      "(1, 'a')\n",
      "(1, 'b')\n",
      "(1, 'c')\n",
      "(2, 'a')\n",
      "(2, 'b')\n",
      "(2, 'c')\n",
      "(3, 'a')\n",
      "(3, 'b')\n",
      "(3, 'c')\n"
     ]
    }
   ],
   "source": [
    "def generate_combinations(list1, list2):\n",
    "    combinations = [(x, y) for x in list1 for y in list2]\n",
    "    return combinations\n",
    "\n",
    "# Example lists\n",
    "list1 = [1, 2, 3]\n",
    "list2 = ['a', 'b', 'c']\n",
    "\n",
    "# Call the function and store the result in a variable\n",
    "combinations = generate_combinations(list1, list2)\n",
    "\n",
    "# Print the resulting list of combinations\n",
    "print(\"All possible combinations:\")\n",
    "for combination in combinations:\n",
    "    print(combination)\n"
   ]
  },
  {
   "cell_type": "markdown",
   "id": "a325d31a-5c6b-4784-833a-c8da5174e532",
   "metadata": {},
   "source": [
    "Explanation:\n",
    "\n",
    "* Function Definition (generate_combinations):\n",
    "The function takes two lists (list1 and list2) as parameters.\n",
    "It uses a list comprehension to generate all possible combinations of elements from list1 and list2.\n",
    "Each combination is a tuple (x, y) where x is from list1 and y is from list2.\n",
    "The resulting list of combinations is returned.\n",
    "* Example Lists (list1 and list2):\n",
    "Two example lists are defined, containing integers and strings, respectively.\n",
    "* Function Call:\n",
    "The generate_combinations function is called with the example lists (list1 and list2), and the result is stored in the variable combinations.\n",
    "* Print Statements:\n",
    "The program prints a message indicating that it is displaying all possible combinations.\n",
    "It then iterates through the generated combinations and prints each one."
   ]
  },
  {
   "cell_type": "markdown",
   "id": "2adcb737-21c0-4ddb-b091-d868d1cc90b5",
   "metadata": {},
   "source": [
    "34. Write a program that calculates the mean, median, and mode of a list of numbers using list\n",
    "comprehension."
   ]
  },
  {
   "cell_type": "code",
   "execution_count": 2,
   "id": "987bd878-1035-416f-ad0c-f660a318a2a8",
   "metadata": {},
   "outputs": [
    {
     "name": "stdout",
     "output_type": "stream",
     "text": [
      "Mean 4.556 \n",
      "Median : [4]\n",
      "Mode : [2, 4]\n"
     ]
    }
   ],
   "source": [
    "class calculations:\n",
    "    def __init__(self, list_):\n",
    "        self.list_=list_\n",
    "\n",
    "    def mean(self):\n",
    "        mean= round(sum([i for i in self.list_]) / (len(self.list_)),3)\n",
    "        return mean\n",
    "    def mode(self):\n",
    "        frequency_dict = {value: self.list_.count(value) for value in self.list_}\n",
    "        mode= [ i for i in frequency_dict if frequency_dict[i]==max(frequency_dict.values())]\n",
    "        return mode\n",
    "    def median(self):\n",
    "        sorted_list = sorted(self.list_)\n",
    "        mid_range= len(sorted_list)//2\n",
    "        median= [(sorted_list[mid_range] + sorted_list[mid_range - 1])/2 if len(sorted_list)%2==0 else sorted_list[mid_range]]\n",
    "        return median\n",
    "        \n",
    "        \n",
    "list_= [2, 4, 6, 4, 8, 2, 9, 4, 2]  \n",
    "calc= calculations (list_)\n",
    "mean =calc.mean()\n",
    "mode = calc.mode()\n",
    "median = calc.median()\n",
    "\n",
    "\n",
    "print(f'''Mean {mean} \n",
    "Median : {median}\n",
    "Mode : {mode}''')"
   ]
  },
  {
   "cell_type": "markdown",
   "id": "46ab2595-8d56-4570-a302-48c0e3f29506",
   "metadata": {},
   "source": [
    "Explanation:\n",
    "\n",
    "Class Definition (Calculations):\n",
    "\n",
    "Defines a class named Calculations.\n",
    "The class has an __init__ method (constructor) that takes a list as an argument and initializes an instance variable self.list_ with that list.\n",
    "* Mean Method (mean):\n",
    "Calculates the mean of the list using list comprehension.\n",
    "Rounds the result to 3 decimal places.\n",
    "Returns the calculated mean.\n",
    "* Mode Method (mode):\n",
    "Creates a frequency dictionary for the list using a dictionary comprehension.\n",
    "Finds the mode(s) by creating a list of values with the maximum frequency using list comprehension.\n",
    "Returns the list of mode(s).\n",
    "* Median Method (median):\n",
    "Sorts the list in ascending order.\n",
    "Calculates the median using list comprehension, where the median is a list containing a single value.\n",
    "Returns the list containing the median.\n",
    "* Example Usage:\n",
    "Creates an instance of the Calculations class with the provided list [2, 4, 6, 4, 8, 2, 9, 4, 2].\n",
    "Calls the mean, mode, and median methods to calculate respective values.\n",
    "Prints the results using an f-string."
   ]
  },
  {
   "cell_type": "markdown",
   "id": "7758ead4-d4fc-45f4-938f-8ce9f172f797",
   "metadata": {},
   "source": [
    "35. Create a program that generates Pascal's triangle up to a specified number of rows using list\n",
    "comprehension."
   ]
  },
  {
   "cell_type": "code",
   "execution_count": 83,
   "id": "05417844-401b-4582-a675-d4760256afa7",
   "metadata": {},
   "outputs": [
    {
     "name": "stdin",
     "output_type": "stream",
     "text": [
      "Enter the number of rows : 9\n"
     ]
    },
    {
     "name": "stdout",
     "output_type": "stream",
     "text": [
      "Pascals Triangle for 9 rows\n",
      "                      1                      \n",
      "                     1 1                     \n",
      "                    1 2 1                    \n",
      "                   1 3 3 1                   \n",
      "                  1 4 6 4 1                  \n",
      "                1 5 10 10 5 1                \n",
      "               1 6 15 20 15 6 1              \n",
      "             1 7 21 35 35 21 7 1             \n",
      "            1 8 28 56 70 56 28 8 1           \n"
     ]
    }
   ],
   "source": [
    "def pascals_triangle(num_of_rows):\n",
    "    first = [1]\n",
    "    empt = [0]\n",
    "    max_width = num_of_rows * 5 \n",
    "\n",
    "    for i in range(num_of_rows):\n",
    "        row = [str(x) for x in first]\n",
    "        row_str = ' '.join(row).center(max_width)\n",
    "        print(row_str)\n",
    "        first = [i + j for i, j in zip(first + empt, empt + first)]\n",
    "\n",
    "num_of_rows=int(input(\"Enter the number of rows :\"))\n",
    "print(f'Pascals Triangle for {num_of_rows} rows')\n",
    "pascals_triangle(num_of_rows)\n"
   ]
  },
  {
   "cell_type": "markdown",
   "id": "6705e5f8-73fb-4256-80a5-ee8edeedc1d2",
   "metadata": {},
   "source": [
    "Explanation:\n",
    "\n",
    "Function pascals_triangle:\n",
    "* first is initialized with [1], representing the first row of Pascal's Triangle.\n",
    "* empt is initialized with [0], which is used to represent the gaps between the numbers in each row.\n",
    "* max_width is calculated as num_of_rows * 5. This determines the maximum width for centering the rows. Adjust as needed.\n",
    "* The loop iterates num_of_rows times.\n",
    "* In each iteration, the current row is converted to strings using a list comprehension.\n",
    "row_str is created by joining the elements of row with spaces and centering it within the specified max_width.\n",
    "print(row_str) prints the centered row.\n",
    "* The next row is generated using a list comprehension and updated to first.\n",
    "\n",
    "Input and Output:\n",
    "* num_of_rows is obtained from the user input.\n",
    "* The program then prints a header indicating the number of rows for Pascal's Triangle.\n",
    "* Finally, it calls the pascals_triangle function with the user-provided number of rows."
   ]
  },
  {
   "cell_type": "markdown",
   "id": "bdedd412-5f43-4913-bb00-d4a5074d8932",
   "metadata": {},
   "source": [
    "36. Develop a program that calculates the sum of the digits of a factorial of numbers from 1 to 5 using list\n",
    "comprehension."
   ]
  },
  {
   "cell_type": "code",
   "execution_count": 34,
   "id": "12aec922-aea8-482c-9241-c7e0273a787a",
   "metadata": {},
   "outputs": [
    {
     "name": "stdout",
     "output_type": "stream",
     "text": [
      "Factorial Sums of 1-5 : [1, 2, 6, 6, 3]\n"
     ]
    }
   ],
   "source": [
    "def factorial(n):\n",
    "    return 1 if n == 0 else n * factorial(n - 1)\n",
    "\n",
    "def sum_of_digits(num):\n",
    "    return sum(int(digit) for digit in str(num))\n",
    "\n",
    "factorial_sums = [sum_of_digits(factorial(i)) for i in range(1, 6)]\n",
    "\n",
    "print(\"Factorial Sums of 1-5 :\", factorial_sums)"
   ]
  },
  {
   "cell_type": "markdown",
   "id": "c0f2a10d-b1c4-4d4d-8e80-fb61a908c2ca",
   "metadata": {},
   "source": [
    "Explanation:\n",
    "\n",
    "* Factorial Function (factorial):\n",
    "This is a recursive function that calculates the factorial of a given number n.\n",
    "The base case is when n is 0, in which case the factorial is 1.\n",
    "Otherwise, it calculates the factorial by multiplying n with the factorial of n - 1.\n",
    "* Sum of Digits Function (sum_of_digits):\n",
    "This function calculates the sum of the digits of a given number num.\n",
    "It converts num to a string, iterates over its digits, converts each digit back to an integer, and then sums them up.\n",
    "* List Comprehension (factorial_sums):\n",
    "Uses a list comprehension to generate the sum of digits of the factorials for numbers from 1 to 5.\n",
    "It iterates over the range from 1 to 6 (exclusive) and calculates the factorial of each number using the factorial function.\n",
    "The sum_of_digits function is then applied to each factorial result to get the sum of its digits.\n",
    "The results are collected in the list factorial_sums.\n",
    "* Print Statement:\n",
    "Prints the list of factorial sums for numbers 1 through 5."
   ]
  },
  {
   "cell_type": "markdown",
   "id": "25c07544-f736-402e-a61d-6ddfe94bd295",
   "metadata": {},
   "source": [
    "37. Write a program that finds the longest word in a sentence using list comprehension.\n"
   ]
  },
  {
   "cell_type": "code",
   "execution_count": 58,
   "id": "1e7bcf0e-8c3d-4f93-bed4-04fe9d01c855",
   "metadata": {},
   "outputs": [
    {
     "name": "stdout",
     "output_type": "stream",
     "text": [
      "Longest Word: sentence\n"
     ]
    }
   ],
   "source": [
    "def longest_word(sentence):\n",
    "    # Use list comprehension to find the longest word\n",
    "    longest_word = max([word for word in sentence.split()], key=len)\n",
    "    return longest_word\n",
    "\n",
    "sentence = \"This is an example sentence to find the longest word.\"\n",
    "print(\"Longest Word:\", longest_word(sentence))"
   ]
  },
  {
   "cell_type": "markdown",
   "id": "bfc70aa9-e5e7-423e-ad65-2c6d96fba35d",
   "metadata": {},
   "source": [
    "Explanation:\n",
    "* Function Definition:\n",
    "def longest_word(sentence):: This line defines a function named longest_word that takes a single parameter sentence.\n",
    "* List Comprehension:\n",
    "longest_word = max([word for word in sentence.split()], key=len): List comprehension is used to create a list of words from the input sentence using sentence.split(). The max function then finds the word with the maximum length (key=len), and the result is assigned to the variable longest_word.\n",
    "* Return Statement:\n",
    "return longest_word: The function returns the calculated longest word.\n",
    "* Function Call:\n",
    "print(\"Longest Word:\", longest_word(sentence)): The function is called with the provided sentence, and the result is printed.\n"
   ]
  },
  {
   "cell_type": "markdown",
   "id": "f8e63d5d-73c3-4dfc-b1bc-fe7b0569f30e",
   "metadata": {},
   "source": [
    "38. Create a program that filters a list of strings to include only those with more than three vowels using list\n",
    "comprehension."
   ]
  },
  {
   "cell_type": "code",
   "execution_count": 90,
   "id": "538633e6-59b8-46ac-a2c3-0b7d04a23795",
   "metadata": {},
   "outputs": [
    {
     "name": "stdout",
     "output_type": "stream",
     "text": [
      "Original List: ['hello', 'audio', 'python', 'programming', 'eutopia']\n",
      "Filtered List (more than three vowels): ['audio', 'eutopia']\n"
     ]
    }
   ],
   "source": [
    "def vowels_count(string):\n",
    "    vowels = 'aeiou'\n",
    "    return sum(1 for char in string.lower() if char in vowels)\n",
    "\n",
    "def filter_strings_with_three_vowels(strings_list):\n",
    "    return [s for s in strings_list if vowels_count(s) > 3]\n",
    "\n",
    "# Example usage:\n",
    "strings_list = ['hello', 'audio', 'python', 'programming', 'eutopia']\n",
    "filtered_list = filter_strings_with_three_vowels(strings_list)\n",
    "\n",
    "print(\"Original List:\", strings_list)\n",
    "print(\"Filtered List (more than three vowels):\", filtered_list)\n"
   ]
  },
  {
   "cell_type": "markdown",
   "id": "3d743cf2-a20e-488f-9cfe-5721220465c6",
   "metadata": {},
   "source": [
    "Explanation: \n",
    "\n",
    "* vowels_count Function:\n",
    "vowels_count takes a string as input and returns the count of vowels in the string.\n",
    "It uses a generator expression (1 for char in string.lower() if char in vowels) to count the vowels (case-insensitive) in the given string.\n",
    "The sum function is then used to calculate the total count.\n",
    "* filter_strings_with_three_vowels Function:\n",
    "filter_strings_with_three_vowels takes a list of strings (strings_list) as input.\n",
    "It uses list comprehension to create a new list ([s for s in strings_list if vowels_count(s) > 3]) containing only the strings from the input list that have more than three vowels.\n",
    "* Example Usage:\n",
    "strings_list is a list of strings provided for testing.\n",
    "The filter_strings_with_three_vowels function is called with strings_list, and the result is stored in filtered_list.\n",
    "Finally, the original and filtered lists are printed. \n",
    "    "
   ]
  },
  {
   "cell_type": "markdown",
   "id": "a5501d7e-2e25-45fc-bb25-3ac26c9c2841",
   "metadata": {},
   "source": [
    "39. Develop a program that calculates the sum of the digits of numbers from 1 to 1000 using list\n",
    "comprehension."
   ]
  },
  {
   "cell_type": "code",
   "execution_count": 98,
   "id": "3f882335-bb8f-4431-81b1-95865b89026b",
   "metadata": {},
   "outputs": [
    {
     "name": "stdout",
     "output_type": "stream",
     "text": [
      "Sum of digits for numbers from 1 to 1000: 13501\n"
     ]
    }
   ],
   "source": [
    "def digit_sum(number):\n",
    "    return sum(int(digit) for digit in str(number))\n",
    "\n",
    "# Use list comprehension to calculate the sum of digits for numbers from 1 to 1000\n",
    "sum_of_digits_list = sum([digit_sum(number) for number in range(1, 1001)])\n",
    "\n",
    "print(\"Sum of digits for numbers from 1 to 1000:\", sum_of_digits_list)"
   ]
  },
  {
   "cell_type": "markdown",
   "id": "945d06b3-965f-4789-8829-4efc08ba7c22",
   "metadata": {},
   "source": [
    "Explanation: \n",
    "\n",
    "* digit_sum Function:\n",
    "digit_sum takes a number as input, converts it to a string, and then uses a generator expression (int(digit) for digit in str(number)) to create an iterable of integers representing the digits of the number. The sum function then calculates the sum of these digits.\n",
    "* List Comprehension:\n",
    "The list comprehension [digit_sum(number) for number in range(1, 1001)] generates a list containing the sum of digits for numbers from 1 to 1000. For each number in the range, digit_sum is called to calculate the sum of its digits.\n",
    "* Overall Sum:\n",
    "The sum function is then used outside the list comprehension to calculate the overall sum of digits for the entire list.\n",
    "* Printing the Result:\n",
    "The final result, which is the sum of digits for numbers from 1 to 1000, is printed."
   ]
  },
  {
   "cell_type": "markdown",
   "id": "79ebccaf-173b-4df1-ab61-a6f56ea1fa55",
   "metadata": {},
   "source": [
    "40. Write a program that generates a list of prime palindromic numbers using list comprehension."
   ]
  },
  {
   "cell_type": "code",
   "execution_count": 104,
   "id": "76d6eb82-96fa-4f73-9dbd-838fa43ec940",
   "metadata": {},
   "outputs": [
    {
     "name": "stdout",
     "output_type": "stream",
     "text": [
      "Prime Palindromes: [2, 3, 5, 7, 11, 101, 131, 151, 181, 191, 313, 353, 373, 383, 727, 757, 787, 797, 919, 929]\n"
     ]
    }
   ],
   "source": [
    "def is_prime(num):\n",
    "    if num < 2:\n",
    "        return False\n",
    "    for i in range(2, int(num**0.5) + 1):\n",
    "        if num % i == 0:\n",
    "            return False\n",
    "    return True\n",
    "\n",
    "def is_palindromic(num):\n",
    "    return str(num) == str(num)[::-1]\n",
    "prime_palindromes = [num for num in range(1, 1000) if is_prime(num) and is_palindromic(num)] # Generate a list of prime palindromic numbers using list comprehension\n",
    "\n",
    "print(\"Prime Palindromes:\", prime_palindromes)"
   ]
  },
  {
   "cell_type": "markdown",
   "id": "431d46e6-eba2-4999-971f-7c5a8f54775b",
   "metadata": {},
   "source": [
    "Explanation:\n",
    "\n",
    "* is_prime Function:\n",
    "is_prime checks whether a given number is prime. It returns True if the number is prime and False otherwise.\n",
    "* is_palindromic Function:\n",
    "is_palindromic checks whether a given number is palindromic (reads the same backward as forward).\n",
    "* List Comprehension:\n",
    "[num for num in range(1, 1000) if is_prime(num) and is_palindromic(num)]: This list comprehension generates a list of numbers from 1 to 999 (change the range as needed) that are both prime and palindromic.\n",
    "* Printing the Result:\n",
    "The resulting list of prime palindromic numbers is printed."
   ]
  },
  {
   "cell_type": "code",
   "execution_count": null,
   "id": "9891c99f-4e71-4aea-ac03-e353856166cf",
   "metadata": {},
   "outputs": [],
   "source": []
  }
 ],
 "metadata": {
  "kernelspec": {
   "display_name": "Python 3 (ipykernel)",
   "language": "python",
   "name": "python3"
  },
  "language_info": {
   "codemirror_mode": {
    "name": "ipython",
    "version": 3
   },
   "file_extension": ".py",
   "mimetype": "text/x-python",
   "name": "python",
   "nbconvert_exporter": "python",
   "pygments_lexer": "ipython3",
   "version": "3.10.8"
  }
 },
 "nbformat": 4,
 "nbformat_minor": 5
}
