{
 "cells": [
  {
   "cell_type": "markdown",
   "id": "ccedbfcb-8af6-4823-80e2-e27827ffa3ef",
   "metadata": {},
   "source": [
    "# Basic If-Else Statements:\n",
    "1. Write a Python program to check if a given number is positive or negative."
   ]
  },
  {
   "cell_type": "code",
   "execution_count": 1,
   "id": "96e9cb52-7aad-470f-aa96-fd546194c395",
   "metadata": {},
   "outputs": [
    {
     "name": "stdin",
     "output_type": "stream",
     "text": [
      "Enter the number to check:  -1\n"
     ]
    },
    {
     "name": "stdout",
     "output_type": "stream",
     "text": [
      "-1.0 is Negative\n"
     ]
    }
   ],
   "source": [
    "def check_positive_negative(number):\n",
    "    if number <0 :\n",
    "        return f'{number} is Negative'\n",
    "    elif number ==0:\n",
    "        return f'{number} is Zero'\n",
    "    else :\n",
    "        return f'{number} is Positive'\n",
    "number=float(input('Enter the number to check: '))  # Taking input from user      \n",
    "result= check_positive_negative(number)\n",
    "print(result) "
   ]
  },
  {
   "cell_type": "markdown",
   "id": "d6730c0c-04f7-4e59-99ad-dac8f8d43a4c",
   "metadata": {},
   "source": [
    "Explanation:\n",
    "* check_positive_negative Function:\n",
    "The function takes a number as input and checks if it is negative, zero, or positive.\n",
    "If the number is less than 0, it returns a string stating that the number is negative.\n",
    "If the number is equal to 0, it returns a string stating that the number is zero.\n",
    "If the number is greater than 0, it returns a string stating that the number is positive.\n",
    "* Taking User Input:\n",
    "number = float(input('Enter the number to check: ')): This line prompts the user to enter a number, converts the input to a float, and assigns it to the variable number. Using float allows the program to handle decimal numbers as well.\n",
    "* Calling the Function and Printing the Result:\n",
    "result = check_positive_negative(number): The check_positive_negative function is called with the user-inputted number, and the result is stored in the variable result.\n",
    "print(result): The result is then printed."
   ]
  },
  {
   "cell_type": "markdown",
   "id": "62ced42b-2337-49e5-ba1c-6f1ae36350dd",
   "metadata": {},
   "source": [
    "2. Create a program that determines if a person is eligible to vote based on their age."
   ]
  },
  {
   "cell_type": "code",
   "execution_count": 5,
   "id": "d1dcae0e-b99a-4765-af84-bd584fc914a7",
   "metadata": {},
   "outputs": [
    {
     "name": "stdout",
     "output_type": "stream",
     "text": [
      "Voting eligiblity Check\n"
     ]
    },
    {
     "name": "stdin",
     "output_type": "stream",
     "text": [
      "Enter the name of the person Jasper R\n",
      "Enter the age:  25\n"
     ]
    },
    {
     "name": "stdout",
     "output_type": "stream",
     "text": [
      "Jasper R is eligible to vote.\n"
     ]
    }
   ],
   "source": [
    "def voter_eligiblity(name, age):\n",
    "    if age >= 18:\n",
    "        return f'{name} is eligible to vote.'\n",
    "    else:\n",
    "        return f'{name} is not eligible to vote.'\n",
    "    \n",
    "print('Voting eligiblity Check')\n",
    "name=input('Enter the name of the person')\n",
    "age= int(input('Enter the age: '))\n",
    "result=voter_eligiblity(name, age)\n",
    "print(result)"
   ]
  },
  {
   "cell_type": "markdown",
   "id": "f05b3d9d-6ee6-4326-aed6-144d20f46358",
   "metadata": {},
   "source": [
    "Explanation: \n",
    "* voter_eligibility Function:\n",
    "The function takes two parameters, name and age.\n",
    "It checks if the age is 18 or greater. If so, it returns a string indicating that the person is eligible to vote. Otherwise, it returns a string indicating that the person is not eligible.\n",
    "* Printing a Message:\n",
    "print('Voting Eligibility Check'): This line prints a message indicating that the program is checking voting eligibility.\n",
    "* Taking User Input:\n",
    "name = input('Enter the name of the person: '): This line prompts the user to enter the name of the person and assigns it to the variable name.\n",
    "age = int(input('Enter the age: ')): This line prompts the user to enter the age of the person, converts the input to an integer, and assigns it to the variable age.\n",
    "* Calling the Function and Printing the Result:\n",
    "result = voter_eligibility(name, age): The voter_eligibility function is called with the user-inputted name and age, and the result is stored in the variable result.\n",
    "* print(result): The result is then printed using print() method."
   ]
  },
  {
   "cell_type": "markdown",
   "id": "dc59c41f-f17a-4152-bd8e-9a9d3b76f9f6",
   "metadata": {},
   "source": [
    "3. Develop a program to find the maximum of two numbers using if-else statements."
   ]
  },
  {
   "cell_type": "code",
   "execution_count": 10,
   "id": "6f01124e-9fd5-4a0a-8a1b-af35aa23991d",
   "metadata": {},
   "outputs": [
    {
     "name": "stdin",
     "output_type": "stream",
     "text": [
      "Enter the first number: 123\n",
      "Enter the second number: 354\n"
     ]
    },
    {
     "name": "stdout",
     "output_type": "stream",
     "text": [
      "354 is greater than the 123\n"
     ]
    }
   ],
   "source": [
    "def maximum(no1, no2):\n",
    "    if no1 > no2:\n",
    "        return f'{no1} is greater than the {no2}'\n",
    "    else:\n",
    "        return f'{no2} is greater than the {no1}'\n",
    "no1, no2 = int(input('Enter the first number:')), int(input('Enter the second number:'))\n",
    "result= maximum(no1, no2)\n",
    "print(result)"
   ]
  },
  {
   "cell_type": "markdown",
   "id": "585d5cfb-f2dd-4db5-968a-59eb3e5d1a19",
   "metadata": {},
   "source": [
    "Explanation:\n",
    "\n",
    "* Function Definition:\n",
    "def maximum(no1, no2):\n",
    "Define a function named maximum that takes two parameters, no1 and no2.\n",
    "Inside the function:\n",
    "Check if no1 is greater than no2.\n",
    "If true, return a string indicating that no1 is greater.\n",
    "Otherwise, return a string indicating that no2 is greater.\n",
    "* User Input:\n",
    "no1, no2 = int(input('Enter the first number:')), int(input('Enter the second number:'))\n",
    "Prompt the user to enter two numbers.\n",
    "Use int(input(...)) to convert the entered values to integers.\n",
    "Assign the entered values to the variables no1 and no2.\n",
    "* Function Call and Result Display:\n",
    "result = maximum(no1, no2)\n",
    "Call the maximum function with the values entered by the user (no1 and no2).\n",
    "Store the result returned by the function in the variable result.\n",
    "print(result)\n",
    "Print the result, indicating which number is greater."
   ]
  },
  {
   "cell_type": "markdown",
   "id": "ff2fbce8-6044-41d2-aaa0-7039a3a572dc",
   "metadata": {},
   "source": [
    "4. Write a Python script to classify a given year as a leap year or not."
   ]
  },
  {
   "cell_type": "code",
   "execution_count": 4,
   "id": "ecfbbbca-739d-4e2d-aac6-341958f37fdc",
   "metadata": {},
   "outputs": [
    {
     "name": "stdin",
     "output_type": "stream",
     "text": [
      "Enter the year to check 2024\n"
     ]
    },
    {
     "name": "stdout",
     "output_type": "stream",
     "text": [
      "2024 is a leap year\n"
     ]
    }
   ],
   "source": [
    "def leap_year(year):\n",
    "    if (year %4 ==0 and year %100!=0) or year %400 ==0 :\n",
    "        return f'{year} is a leap year'\n",
    "    else:\n",
    "        return f'{year} is not a leap year'\n",
    "    \n",
    "year=int(input('Enter the year to check'))\n",
    "print(leap_year(year))"
   ]
  },
  {
   "cell_type": "markdown",
   "id": "f4bad57b-62d3-4db9-97c3-f43e34c013e6",
   "metadata": {},
   "source": [
    "Explanation: \n",
    "\n",
    "* Function Definition:\n",
    "def leap_year(year):\n",
    "Defines a function named leap_year that takes a year as a parameter.\n",
    "Inside the function:\n",
    "Checks if the year satisfies the conditions for being a leap year.\n",
    "Returns a formatted string indicating whether the year is a leap year or not.\n",
    "* User Input:\n",
    "year = int(input('Enter the year to check:'))\n",
    "Prompts the user to enter a year.\n",
    "Converts the entered value to an integer using int() and assigns it to the variable year.\n",
    "* Function Call and Result Display:\n",
    "print(leap_year(year))\n",
    "Calls the leap_year function with the user-entered year as an argument.\n",
    "Prints the result, which is a string indicating whether the entered year is a leap year or not."
   ]
  },
  {
   "cell_type": "markdown",
   "id": "7e1068f0-c2cf-4df0-a7f4-b878dca86a54",
   "metadata": {},
   "source": [
    "5. Create a program that checks whether a character is a vowel or a consonant."
   ]
  },
  {
   "cell_type": "code",
   "execution_count": 16,
   "id": "5d6dfa80-9f4f-465c-84a9-2cb2e50061c7",
   "metadata": {},
   "outputs": [
    {
     "name": "stdin",
     "output_type": "stream",
     "text": [
      "Enter the character to check: d\n"
     ]
    },
    {
     "data": {
      "text/plain": [
       "'d is a consonant'"
      ]
     },
     "execution_count": 16,
     "metadata": {},
     "output_type": "execute_result"
    }
   ],
   "source": [
    "def vowel_or_constant_check(character):\n",
    "    vowels= 'aeiou'\n",
    "    if character.lower() in vowels:\n",
    "        return f'{character} is vowel'\n",
    "    else:\n",
    "        return f'{character} is a consonant'\n",
    "character=input('Enter the character to check:')\n",
    "vowel_or_constant_check(character)"
   ]
  },
  {
   "cell_type": "markdown",
   "id": "d709e2cc-7ad6-4113-b703-4a4f0724700e",
   "metadata": {},
   "source": [
    "Explanation:\n",
    "\n",
    "* Function Definition: def vowel_or_constant_check(character):\n",
    "Defines a function named vowel_or_constant_check that takes a character as a parameter.\n",
    "Inside the function:\n",
    "Defines a string vowels containing the vowels ('aeiou').\n",
    "Converts the input character to lowercase using character.lower() to handle both uppercase and lowercase input.\n",
    "Checks if the lowercase character is in the vowels string to determine if it's a vowel.\n",
    "Returns a formatted string indicating whether the character is a vowel or a consonant.\n",
    "* User Input:\n",
    "character = input('Enter the character to check:')\n",
    "Prompts the user to enter a character.\n",
    "Assigns the entered value to the variable character.\n",
    "* Function Call and Result Display:\n",
    "result = vowel_or_constant_check(character)\n",
    "Calls the vowel_or_constant_check function with the user-entered character as an argument.\n",
    "Stores the result in the variable result.\n",
    "* print(result)\n",
    "Prints the result, which is a string indicating whether the entered character is a vowel or a consonant."
   ]
  },
  {
   "cell_type": "markdown",
   "id": "b930a047-7668-447d-92d5-afbc6a0293c3",
   "metadata": {},
   "source": [
    "6. Implement a program to determine whether a given number is even or odd."
   ]
  },
  {
   "cell_type": "code",
   "execution_count": 28,
   "id": "8752bf20-146e-474d-b130-10bbf59b6504",
   "metadata": {},
   "outputs": [
    {
     "name": "stdin",
     "output_type": "stream",
     "text": [
      "Enter the positive number to check odd or even:  5\n"
     ]
    },
    {
     "name": "stdout",
     "output_type": "stream",
     "text": [
      "5 is an odd number.\n"
     ]
    }
   ],
   "source": [
    "def odd_or_even(number):\n",
    "    if number % 2 == 0:\n",
    "        print(f'{number} is an even number.')\n",
    "    else:\n",
    "        print(f'{number} is an odd number.')\n",
    "\n",
    "number = int(input('Enter the positive number to check odd or even: '))\n",
    "odd_or_even(number)\n"
   ]
  },
  {
   "cell_type": "markdown",
   "id": "2a71252e-3284-4052-856d-d40d88e4e13a",
   "metadata": {},
   "source": [
    "Explanation:\n",
    "\n",
    "Function Definition:\n",
    "\n",
    "* def odd_or_even(number):\n",
    "Defines a function named odd_or_even that takes a number as a parameter.\n",
    "\n",
    "* Inside the function:\n",
    "Checks if the number is divisible by 2 (number % 2 == 0) to determine if it's even.\n",
    "Prints a message indicating whether the number is even or odd.\n",
    "* User Input:\n",
    "number = int(input('Enter the number to check odd or even: '))\n",
    "Prompts the user to enter a number.\n",
    "Converts the entered value to an integer using int() and assigns it to the variable number.\n",
    "\n",
    "Function Call and Result Display:\n",
    "* odd_or_even(number)\n",
    "Calls the odd_or_even function with the user-entered number as an argument.\n",
    "Prints a message indicating whether the entered number is even or odd."
   ]
  },
  {
   "cell_type": "markdown",
   "id": "33977048-7922-44a3-b38d-f4c1dd8d0532",
   "metadata": {},
   "source": [
    "7. Write a Python function to calculate the absolute value of a number without using the `abs()` function."
   ]
  },
  {
   "cell_type": "code",
   "execution_count": 79,
   "id": "2564836d-a34e-4473-b549-cd1210236ca9",
   "metadata": {},
   "outputs": [
    {
     "name": "stdin",
     "output_type": "stream",
     "text": [
      "Enter a number:  -21.2\n"
     ]
    },
    {
     "name": "stdout",
     "output_type": "stream",
     "text": [
      "The absolute value of -21.2 is: 21.2\n"
     ]
    }
   ],
   "source": [
    "def absolute_value(number):\n",
    "    if number < 0:\n",
    "        return -number\n",
    "    else:\n",
    "        return number\n",
    "\n",
    "number = float(input(\"Enter a number: \")) #using float because user may input float values\n",
    "result = absolute_value(number)\n",
    "print(f\"The absolute value of {number} is: {result}\")\n"
   ]
  },
  {
   "cell_type": "markdown",
   "id": "7844d111-3e6d-44b3-9c42-5d4a743b5b2f",
   "metadata": {},
   "source": [
    "Explanation:\n",
    "\n",
    "Function Definition:\n",
    "* Defines a function named absolute_value that calculates the absolute value of a given number.\n",
    "If the number is negative, it returns the negation of the number to make it positive. Otherwise, it returns the number itself.\n",
    "\n",
    "Example Usage:\n",
    "* Takes user input for a number, using float(input(...)) to handle both integer and float input.\n",
    "Calls the absolute_value function with the user-entered number as an argument.\n",
    "Prints the result, displaying the entered number and its absolute value."
   ]
  },
  {
   "cell_type": "markdown",
   "id": "3891af0f-0e88-46cd-becd-e1c7d172d029",
   "metadata": {},
   "source": [
    "8. Develop a program that determines the largest of three given numbers using if-else statements."
   ]
  },
  {
   "cell_type": "code",
   "execution_count": 89,
   "id": "7cbc33d0-8b5f-4de4-8f80-7af8f3a386c9",
   "metadata": {},
   "outputs": [
    {
     "name": "stdin",
     "output_type": "stream",
     "text": [
      "Enter the first number:  20\n",
      "Enter the second number:  20.1\n",
      "Enter the third number:  20.2\n"
     ]
    },
    {
     "name": "stdout",
     "output_type": "stream",
     "text": [
      "The largest number among 20.0, 20.1, and 20.2 is: 20.2\n"
     ]
    }
   ],
   "source": [
    "def find_largest_number(num1, num2, num3):\n",
    "    if num1 >= num2 and num1 >= num3:\n",
    "        return num1\n",
    "    elif num2 >= num1 and num2 >= num3:\n",
    "        return num2\n",
    "    else:\n",
    "        return num3\n",
    "\n",
    "num1 = float(input(\"Enter the first number: \"))\n",
    "num2 = float(input(\"Enter the second number: \"))\n",
    "num3 = float(input(\"Enter the third number: \"))\n",
    "\n",
    "largest_number = find_largest_number(num1, num2, num3)\n",
    "print(f\"The largest number among {num1}, {num2}, and {num3} is: {largest_number}\")\n"
   ]
  },
  {
   "cell_type": "markdown",
   "id": "a006d9fa-ac2f-44d9-bb69-281dd5002fce",
   "metadata": {},
   "source": [
    "Explanation: \n",
    "\n",
    "* Function Definition:\n",
    "find_largest_number is a function that takes three parameters (num1, num2, and num3).\n",
    "It uses if-else statements to compare the numbers and determine the largest among them.\n",
    "* Inside Function : Comparison:\n",
    "Compares num1 with both num2 and num3.\n",
    "If num1 is greater than or equal to both, it is returned as the largest.\n",
    "Otherwise, it moves to the next conditions.\n",
    "* Nested Comparison:\n",
    "Compares num2 with both num1 and num3.\n",
    "If num2 is greater than or equal to both, it is returned as the largest.\n",
    "Otherwise, it moves to the last condition.\n",
    "* Final Comparison:\n",
    "If none of the above conditions are met, it implies that num3 is the largest.\n",
    "num3 is returned as the result.\n",
    "\n",
    "Example Usage:\n",
    "* Takes user input for three numbers (num1, num2, and num3) using float(input(...)) to handle numeric input.\n",
    "* Calls the find_largest_number function with the user-entered numbers.\n",
    "* Prints the result, indicating the largest number among the entered values."
   ]
  },
  {
   "cell_type": "markdown",
   "id": "e732b7b1-9dac-4ace-b0d7-66302e7840a6",
   "metadata": {},
   "source": [
    "9. Create a program that checks if a given string is a palindrome."
   ]
  },
  {
   "cell_type": "code",
   "execution_count": 99,
   "id": "5dc62079-cce5-473b-8ab9-3f6919295ac9",
   "metadata": {},
   "outputs": [
    {
     "name": "stdin",
     "output_type": "stream",
     "text": [
      "Enter the string Madam\n"
     ]
    },
    {
     "name": "stdout",
     "output_type": "stream",
     "text": [
      "Madam is a palindrome\n"
     ]
    }
   ],
   "source": [
    "def palindrome(string):\n",
    "    string_lowered= string.lower()\n",
    "    if string_lowered ==string_lowered[::-1]:\n",
    "        print(f'{string} is a palindrome')\n",
    "    else:\n",
    "        print(f'{string} is not a palindrome')\n",
    "string= input('Enter the string') \n",
    "palindrome(string)"
   ]
  },
  {
   "cell_type": "markdown",
   "id": "d7df0597-c931-47e1-a3f9-e0ccecf8da72",
   "metadata": {},
   "source": [
    "Explanation: \n",
    "* Function Definition:\n",
    "The palindrome function takes a parameter string.\n",
    "It converts the input string to lowercase using lower() to make the palindrome check case-insensitive.\n",
    "Using the If else consition it compares the original lowercase string with its reverse to check if it's a palindrome.\n",
    "Prints whether the entered string is a palindrome or not.\n",
    "* Example Usage:\n",
    "Takes user input for a string using input('Enter the string').\n",
    "Calls the palindrome function with the user-entered string.\n",
    "Prints whether the entered string is a palindrome or not."
   ]
  },
  {
   "cell_type": "markdown",
   "id": "d9ab3fe7-c868-4740-959e-2ae137b267a7",
   "metadata": {},
   "source": [
    "10. Write a Python program to calculate the grade based on a student's score."
   ]
  },
  {
   "cell_type": "code",
   "execution_count": 107,
   "id": "5ee00601-a9ea-4455-872b-a974aeabba0e",
   "metadata": {},
   "outputs": [
    {
     "name": "stdin",
     "output_type": "stream",
     "text": [
      "Enter the student's score:  98\n"
     ]
    },
    {
     "name": "stdout",
     "output_type": "stream",
     "text": [
      "The student's grade is: A\n"
     ]
    }
   ],
   "source": [
    "def calculate_grade(score):\n",
    "    if 90 <= score <= 100:\n",
    "        return 'A'\n",
    "    elif 80 <= score < 90:\n",
    "        return 'B'\n",
    "    elif 70 <= score < 80:\n",
    "        return 'C'\n",
    "    elif 60 <= score < 70:\n",
    "        return 'D'\n",
    "    elif 0 <= score < 60:\n",
    "        return 'F'\n",
    "    else:\n",
    "        return 'Invalid score'\n",
    "\n",
    "score = float(input(\"Enter the student's score: \"))\n",
    "grade = calculate_grade(score)\n",
    "print(f\"The student's grade is: {grade}\")\n"
   ]
  },
  {
   "cell_type": "markdown",
   "id": "77e2a522-8157-469d-986e-25df3548cdc9",
   "metadata": {},
   "source": [
    "Explanation: \n",
    "* Function Definition:\n",
    "The calculate_grade function takes a score as a parameter.\n",
    "It uses a series of if-elif-else statements to determine the corresponding grade based on the given score.\n",
    "If the score falls into a specific range, the function returns the corresponding grade.\n",
    "* Example Usage:\n",
    "Takes user input for the student's score using float(input(...)) to handle numeric input.\n",
    "Calls the calculate_grade function with the entered score.\n",
    "Prints the calculated grade for the entered score.\n",
    "\n",
    "Grade Criteria:\n",
    "A: 90-100,\n",
    "B: 80-89,\n",
    "C: 70-79,\n",
    "D: 60-69,\n",
    "F: 0-59,\n",
    "If the score is outside these ranges, it prints 'Invalid score'."
   ]
  },
  {
   "cell_type": "markdown",
   "id": "e41e8fc1-fe83-4580-afc4-2962b1746f6f",
   "metadata": {},
   "source": [
    "# Nested If-Else Statements:\n",
    "11. Write a program to find the largest among three numbers using nested if-else statements."
   ]
  },
  {
   "cell_type": "code",
   "execution_count": 108,
   "id": "ac99b6d1-e0df-49ef-8af5-be4cb29fa0f2",
   "metadata": {},
   "outputs": [
    {
     "name": "stdin",
     "output_type": "stream",
     "text": [
      "Enter the first number:  20\n",
      "Enter the second number:  43\n",
      "Enter the third number:  242\n"
     ]
    },
    {
     "name": "stdout",
     "output_type": "stream",
     "text": [
      "The largest number among 20.0, 43.0, and 242.0 is: 242.0\n"
     ]
    }
   ],
   "source": [
    "# Function to find the largest among three numbers\n",
    "def find_largest_number(num1, num2, num3):\n",
    "    if num1 >= num2:\n",
    "        if num1 >= num3:\n",
    "            return num1\n",
    "        else:\n",
    "            return num3\n",
    "    else:\n",
    "        if num2 >= num3:\n",
    "            return num2\n",
    "        else:\n",
    "            return num3\n",
    "\n",
    "num1 = float(input(\"Enter the first number: \"))\n",
    "num2 = float(input(\"Enter the second number: \"))\n",
    "num3 = float(input(\"Enter the third number: \"))\n",
    "\n",
    "largest_number = find_largest_number(num1, num2, num3)\n",
    "print(f\"The largest number among {num1}, {num2}, and {num3} is: {largest_number}\")\n"
   ]
  },
  {
   "cell_type": "markdown",
   "id": "5b0dea78-2999-4965-a780-dddd53d4b1f5",
   "metadata": {},
   "source": [
    "Explanation:\n",
    "\n",
    "* Function Definition:\n",
    "The find_largest_number function takes three parameters (num1, num2, and num3).\n",
    "It uses nested if-else statements to compare the numbers and determine the largest among them.\n",
    "* Example Usage:\n",
    "Takes user input for three numbers (num1, num2, and num3) using float(input(...)) to handle numeric input.\n",
    "Calls the find_largest_number function with the user-entered numbers.\n",
    "Prints the result, indicating the largest number among the entered values."
   ]
  },
  {
   "cell_type": "markdown",
   "id": "64cd20c3-739c-4514-8337-69f19ec52b89",
   "metadata": {},
   "source": [
    "12. Implement a program to determine if a triangle is equilateral, isosceles, or scalene."
   ]
  },
  {
   "cell_type": "code",
   "execution_count": 114,
   "id": "b86a023d-76d2-421d-840a-45f078140052",
   "metadata": {},
   "outputs": [
    {
     "name": "stdin",
     "output_type": "stream",
     "text": [
      "Enter the length of side 1:  60\n",
      "Enter the length of side 2:  40\n",
      "Enter the length of side 3:  40\n"
     ]
    },
    {
     "name": "stdout",
     "output_type": "stream",
     "text": [
      "The triangle is a Isosceles Triangle.\n"
     ]
    }
   ],
   "source": [
    "def triangle_type(side1, side2, side3):\n",
    "    if side1 + side2 > side3 and side1 + side3 > side2 and side2 + side3 > side1:\n",
    "        if side1 == side2 == side3:\n",
    "            return \"Equilateral Triangle\"\n",
    "        elif side1 == side2 or side1 == side3 or side2 == side3:\n",
    "            return \"Isosceles Triangle\"\n",
    "        else:\n",
    "            return \"Scalene Triangle\"\n",
    "    else:\n",
    "        return(\"Invalid triangle. The sum of the lengths of any two sides must be greater than the length of the third side\") \n",
    "\n",
    "side1 = float(input(\"Enter the length of side 1: \"))\n",
    "side2 = float(input(\"Enter the length of side 2: \"))\n",
    "side3 = float(input(\"Enter the length of side 3: \"))\n",
    "triangle = triangle_type(side1, side2, side3)\n",
    "print(f\"The triangle is a {triangle}.\")"
   ]
  },
  {
   "cell_type": "markdown",
   "id": "ab9a308d-b49a-46ce-a04e-e7b9cbe76acd",
   "metadata": {},
   "source": [
    "Explanation: \n",
    "\n",
    "* Function Definition:\n",
    "The triangle_type function takes three parameters (side1, side2, and side3).\n",
    "It first checks if the entered side lengths form a valid triangle based on the triangle inequality theorem.\n",
    "If valid, it further checks the type of triangle (equilateral, isosceles, or scalene). If not valid, it returns a message about the invalid triangle.\n",
    "* Nested if-else Statements:\n",
    "Triangle Type Criteria:\n",
    "Equilateral Triangle: If all three sides are equal.\n",
    "Isosceles Triangle: If Two sides are equal.\n",
    "Scalene Triangle:If No sides are equal.\n",
    "\n",
    "* Example Usage:\n",
    "Takes user input for the lengths of three sides of a triangle using float(input(...)) to handle numeric input.\n",
    "Calls the triangle_type function with the user-entered side lengths.\n",
    "Prints the result, indicating the type of the triangle or an error message if it's an invalid triangle."
   ]
  },
  {
   "cell_type": "markdown",
   "id": "e18ced29-858f-4c1d-86b6-889083c899e2",
   "metadata": {},
   "source": [
    "13. Develop a program that checks if a year is a leap year and also if it is a century year."
   ]
  },
  {
   "cell_type": "code",
   "execution_count": 9,
   "id": "6947cd5c-0820-4ed1-a552-c8f1674df7df",
   "metadata": {
    "tags": []
   },
   "outputs": [
    {
     "name": "stdin",
     "output_type": "stream",
     "text": [
      "Enter the year : 300\n"
     ]
    },
    {
     "name": "stdout",
     "output_type": "stream",
     "text": [
      "300 is not leap year but century year\n"
     ]
    }
   ],
   "source": [
    "def leap_year_check(year):\n",
    "    return (year %4==0 and year %100 !=0) or year %400 ==0\n",
    "def century_year_check(year):\n",
    "    return year % 100 == 0 \n",
    "year=int(input('Enter the year :'))  \n",
    "\n",
    "if leap_year_check(year):\n",
    "    if century_year_check(year):\n",
    "        print(f'{year} is leap year and century year')\n",
    "    else:\n",
    "        print(f'{year} is leap year but not century year')\n",
    "else:\n",
    "    if century_year_check(year):\n",
    "        print(f'{year} is not leap year but century year')\n",
    "    else:\n",
    "        print(f'{year} is not leap year and not century year')\n",
    "        \n"
   ]
  },
  {
   "cell_type": "markdown",
   "id": "39bcef1a-7e60-4cb6-8759-1bf82fa5032e",
   "metadata": {},
   "source": [
    "Explanation:\n",
    "\n",
    "* leap_year_check function:\n",
    "This function checks if a year is a leap year based on the conditions specified for leap years.\n",
    "Returns True if the year is a leap year, otherwise False.\n",
    "* century_year_check function:\n",
    "This function checks if a year is a century year.\n",
    "Returns True if the year is a century year, otherwise False.\n",
    "* User Input:\n",
    "Takes user input for the year using int(input('Enter the year: ')).\n",
    "* Main If-Else Block:\n",
    "Checks if the entered year is a leap year using leap_year_check.\n",
    "If true, it goes into a nested if-else block to check if it's also a century year using century_year_check.\n",
    "Prints appropriate messages based on the combinations of leap year and century year conditions.\n",
    "If the year is not a leap year, it goes into the else block and prints messages based on whether it's a century year or not.\n",
    "* Final Output:\n",
    "Prints messages indicating whether the entered year is a leap year, a century year, both, or neither."
   ]
  },
  {
   "cell_type": "markdown",
   "id": "43ecafa6-7309-4677-b10b-6c6136a27a6b",
   "metadata": {},
   "source": [
    "14. Write a Python script to determine if a number is positive, negative, or zero."
   ]
  },
  {
   "cell_type": "code",
   "execution_count": 8,
   "id": "32fb3333-965b-4e75-bd72-0bc56e4bc61f",
   "metadata": {},
   "outputs": [
    {
     "name": "stdin",
     "output_type": "stream",
     "text": [
      "Enter the number:  -1\n"
     ]
    },
    {
     "data": {
      "text/plain": [
       "'The number is negative'"
      ]
     },
     "execution_count": 8,
     "metadata": {},
     "output_type": "execute_result"
    }
   ],
   "source": [
    "def check_sign(number):\n",
    "    if number >= 0:\n",
    "        if number == 0:\n",
    "            return 'The number is Zero'\n",
    "        else:\n",
    "            return 'The number is positive'\n",
    "    else:\n",
    "        return 'The number is negative'\n",
    "number=float(input('Enter the number: '))    \n",
    "check_sign(number) "
   ]
  },
  {
   "cell_type": "markdown",
   "id": "0dc607c8-52f0-4d98-ba35-d04d5956d43f",
   "metadata": {},
   "source": [
    "Explanation:\n",
    "\n",
    "* check_sign Function:\n",
    "The function takes a number as an argument and checks its sign using nested if-else statements.\n",
    "The outer if-statement checks if the number is greater than or equal to 0.\n",
    "If true, it goes into the nested if-else block:\n",
    "The nested if-statement checks if the number is equal to 0.\n",
    "If true, it returns 'The number is 0'.\n",
    "If false, it returns 'The number is positive'.\n",
    "If the outer if-statement is false (number is negative), it returns 'The number is negative'.\n",
    "* User Input:\n",
    "Takes user input for a number using float(input(...)) to handle numeric input.\n",
    "* Function Call and Result:\n",
    "Calls the check_sign function with the user-entered number.\n",
    "Prints the result, which indicates whether the number is positive, negative, or zero."
   ]
  },
  {
   "cell_type": "markdown",
   "id": "9fee36f1-dece-41ef-a0e2-65228f62128e",
   "metadata": {},
   "source": [
    "15. Create a program to check if a person is a teenager (between 13 and 19 years old)."
   ]
  },
  {
   "cell_type": "code",
   "execution_count": 22,
   "id": "8dc8a462-474f-4555-8bbb-1f6e6fd18d45",
   "metadata": {},
   "outputs": [
    {
     "name": "stdin",
     "output_type": "stream",
     "text": [
      "Enter the age:  13\n"
     ]
    },
    {
     "name": "stdout",
     "output_type": "stream",
     "text": [
      "The person is Teenager\n"
     ]
    }
   ],
   "source": [
    "def teenager_check(age):\n",
    "    if age >0:\n",
    "        if 13 <=age <= 19:\n",
    "            return 'Teenager'\n",
    "        else:\n",
    "            return 'not a teenager'\n",
    "    else:\n",
    "        return 'Invalid age'\n",
    "age= int(input('Enter the age: '))\n",
    "print(f'The person is {teenager_check(age)}')"
   ]
  },
  {
   "cell_type": "markdown",
   "id": "f5aa00f9-af59-413d-a72f-77cf96dee580",
   "metadata": {},
   "source": [
    "Explanation:\n",
    "\n",
    "* teenager_check Function:\n",
    "The function takes an age as an argument.\n",
    "The outer if-statement checks if the age is greater than 0.\n",
    "If true, it goes into the nested if-else block:\n",
    "The nested if-statement checks if the age is between 13 and 19 (inclusive).\n",
    "If true, it returns 'Teenager'.\n",
    "If false, it returns 'Not a teenager'.\n",
    "If the outer if-statement is false (age is not greater than 0), it returns 'Invalid age'.\n",
    "* User Input:\n",
    "Takes user input for the person's age using int(input('Enter the age: ')).\n",
    "* Function Call and Result:\n",
    "Calls the teenager_check function with the entered age.\n",
    "Prints a message indicating whether the person is a teenager, not a teenager, or if the age is invalid."
   ]
  },
  {
   "cell_type": "markdown",
   "id": "4c93993e-4a0e-4d2e-bbb1-9a258259f6c5",
   "metadata": {},
   "source": [
    "16. Develop a program that determines the type of angle based on its measure (acute, obtuse, or right)."
   ]
  },
  {
   "cell_type": "code",
   "execution_count": 23,
   "id": "56c1d3a7-2435-4fe8-baee-82e963b691aa",
   "metadata": {},
   "outputs": [
    {
     "name": "stdin",
     "output_type": "stream",
     "text": [
      "Enter the angle measure (in degrees):  50\n"
     ]
    },
    {
     "name": "stdout",
     "output_type": "stream",
     "text": [
      "The angle is a Acute Angle.\n"
     ]
    }
   ],
   "source": [
    "def angle_type(angle):\n",
    "    if angle > 0:\n",
    "        if angle < 90:\n",
    "            return 'Acute Angle'\n",
    "        elif angle == 90:\n",
    "            return 'Right Angle'\n",
    "        elif angle < 180:\n",
    "            return 'Obtuse Angle'\n",
    "        elif angle == 180:\n",
    "            return 'Straight Angle'\n",
    "        else:\n",
    "            return 'Reflex Angle'\n",
    "    else:\n",
    "        return 'Invalid angle'\n",
    "angle = float(input('Enter the angle measure (in degrees): '))\n",
    "result = angle_type(angle)\n",
    "print(f'The angle is a {result}.')\n"
   ]
  },
  {
   "cell_type": "markdown",
   "id": "d12cdaa6-b70f-4c7a-b3ac-764ca91121b4",
   "metadata": {},
   "source": [
    "Explanation:\n",
    "\n",
    "* angle_type Function:\n",
    "The function takes an angle measure as an argument.\n",
    "The outer if-statement checks if the angle is greater than 0.\n",
    "If true, it goes into the nested if-elif-else block:\n",
    "The first nested if-statement checks if the angle is less than 90, making it an acute angle.\n",
    "The second nested if-statement checks if the angle is equal to 90, making it a right angle.\n",
    "The third nested if-statement checks if the angle is less than 180, making it an obtuse angle.\n",
    "The fourth nested if-statement checks if the angle is equal to 180, making it a straight angle.\n",
    "If none of the above conditions are met, it is considered a reflex angle.\n",
    "If the outer if-statement is false (angle is not greater than 0), it returns 'Invalid angle'.\n",
    "* User Input:\n",
    "Takes user input for the angle measure using float(input('Enter the angle measure (in degrees): ')).\n",
    "* Function Call and Result:\n",
    "Calls the angle_type function with the entered angle.\n",
    "Prints a message indicating the type of angle based on its measure."
   ]
  },
  {
   "cell_type": "markdown",
   "id": "96a92a25-5d20-412b-a42d-9c73214a9eec",
   "metadata": {},
   "source": [
    "17. Write a Python program to calculate the roots of a quadratic equation."
   ]
  },
  {
   "cell_type": "code",
   "execution_count": 66,
   "id": "3722e6ef-9c30-488f-aea2-f49cb305f3b2",
   "metadata": {},
   "outputs": [
    {
     "name": "stdin",
     "output_type": "stream",
     "text": [
      "Enter the coefficient a:  1\n",
      "Enter the coefficient b:  2\n",
      "Enter the coefficient c:  3\n"
     ]
    },
    {
     "name": "stdout",
     "output_type": "stream",
     "text": [
      "Complex Roots. Root 1 = -1.0 + 1.4142135623730951i, Root 2 = -1.0 - 1.4142135623730951i\n"
     ]
    }
   ],
   "source": [
    "def quadratic_equation(a, b, c):\n",
    "    if a != 0:\n",
    "        discriminant = b**2 - 4*a*c\n",
    "        squared_value = abs(discriminant)**0.5\n",
    "\n",
    "        if discriminant >= 0:\n",
    "            if discriminant == 0:\n",
    "                root = -b / (2 * a)\n",
    "                return f'Real and same root. Root = {root}'\n",
    "            else:\n",
    "                root1 = (-b + squared_value) / (2 * a)\n",
    "                root2 = (-b - squared_value) / (2 * a)\n",
    "                return f'Real and different roots. Root 1 = {root1}, Root 2 = {root2}'\n",
    "        else:\n",
    "            real_part = -b / (2 * a)\n",
    "            imaginary_part = squared_value / (2 * a)\n",
    "            root1 = f\"{real_part} + {imaginary_part}i\"\n",
    "            root2 = f\"{real_part} - {imaginary_part}i\"\n",
    "            return f'Complex Roots. Root 1 = {root1}, Root 2 = {root2}'\n",
    "    else:\n",
    "        return 'Input correct quadratic equation (a cannot be zero)'\n",
    "\n",
    "a = float(input('Enter the coefficient a: '))\n",
    "b = float(input('Enter the coefficient b: '))\n",
    "c = float(input('Enter the coefficient c: '))\n",
    "\n",
    "print(quadratic_equation(a, b, c))"
   ]
  },
  {
   "cell_type": "markdown",
   "id": "21794cc8-7f12-4f27-a185-f67a6663babc",
   "metadata": {},
   "source": [
    "Explanation:\n",
    "\n",
    "* Function Definition:\n",
    "quadratic_equation is a function that takes three coefficients (a, b, and c) as input and calculates the roots of the quadratic equation.\n",
    "* Input Validation:\n",
    "Checks if a is not equal to zero to ensure a valid quadratic equation. If a is zero, it returns a message indicating that the input is not a valid quadratic equation.\n",
    "* Calculating Discriminant:\n",
    "Calculates the discriminant (b**2 - 4*a*c) and its square root (squared_value) for further calculations.\n",
    "* Determining Roots:\n",
    "Checks the discriminant to determine the nature of the roots (real or complex).\n",
    "If real roots, further checks if there's one or two real roots and calculates accordingly.\n",
    "If complex roots, calculates the real and imaginary parts of the roots.\n",
    "* Output:\n",
    "Prints the result, indicating the type and values of the roots.\n",
    "    "
   ]
  },
  {
   "cell_type": "markdown",
   "id": "b14b7889-04db-4a70-af67-f52d0eacd2b6",
   "metadata": {},
   "source": [
    "18. Implement a program to determine the day of the week based on a user-provided number (1 for Monday, 2\n",
    "for Tuesday, etc.)."
   ]
  },
  {
   "cell_type": "code",
   "execution_count": 2,
   "id": "9a85d92b-b0b6-4304-af4c-4157de57986f",
   "metadata": {},
   "outputs": [
    {
     "name": "stdin",
     "output_type": "stream",
     "text": [
      "Enter a number (1-7) to determine the day of the week:  3\n"
     ]
    },
    {
     "name": "stdout",
     "output_type": "stream",
     "text": [
      "The day of the week for 3 is Wednesday\n"
     ]
    }
   ],
   "source": [
    "def day_of_week(number):\n",
    "    days = [\"Monday\", \"Tuesday\", \"Wednesday\", \"Thursday\", \"Friday\", \"Saturday\", \"Sunday\"]\n",
    "\n",
    "    if 1 <= number <= 7:\n",
    "        return f\"The day of the week for {number} is {days[number-1]}\"\n",
    "    else:\n",
    "        return \"Invalid input. Please enter a number between 1 and 7.\"\n",
    "\n",
    "# Get user input\n",
    "user_input = int(input(\"Enter a number (1-7) to determine the day of the week: \"))\n",
    "\n",
    "# calling the function and print the day of the week\n",
    "result = day_of_week(user_input)\n",
    "print(result)\n"
   ]
  },
  {
   "cell_type": "markdown",
   "id": "893ea45d-35c6-40fe-9381-71a17f91eb03",
   "metadata": {},
   "source": [
    "Explanation:\n",
    "\n",
    "* Function Definition:\n",
    "day_of_week is a function that takes a number as input and returns the corresponding day of the week.\n",
    "* Day List:\n",
    "The list days contains the names of the days of the week in order.\n",
    "* Input Validation:\n",
    "Checks if the input number is between 1 and 7 (inclusive). If valid, it returns the corresponding day; otherwise, it returns an error message.\n",
    "* User Input:\n",
    "Asks the user to input a number between 1 and 7.\n",
    "* Output:\n",
    "Prints the result, indicating the day of the week for the provided number."
   ]
  },
  {
   "cell_type": "markdown",
   "id": "5858a733-498b-43da-ac56-0630434b59cd",
   "metadata": {},
   "source": [
    "19. Create a program that determines if a year is a leap year and also if it is evenly divisible by 400."
   ]
  },
  {
   "cell_type": "code",
   "execution_count": 6,
   "id": "67983736-69a5-4d63-9abc-1103a4048f1e",
   "metadata": {},
   "outputs": [
    {
     "name": "stdin",
     "output_type": "stream",
     "text": [
      "Enter the year to check:  2024\n"
     ]
    },
    {
     "name": "stdout",
     "output_type": "stream",
     "text": [
      "2024 is a leap year but not evenly divisible by 400.\n"
     ]
    }
   ],
   "source": [
    "def is_leap_year(year):\n",
    "    return (year % 4 == 0 and year % 100 != 0) or (year % 400 == 0)\n",
    "\n",
    "year = int(input(\"Enter the year to check: \"))\n",
    "\n",
    "if is_leap_year(year):\n",
    "    print(f'{year} is a leap year',end=' ')\n",
    "    if year % 400 == 0:\n",
    "        print('and also evenly divisible by 400.')\n",
    "    else:\n",
    "        print('but not evenly divisible by 400.')\n",
    "else:\n",
    "    if year % 400 == 0:\n",
    "        print(f'{year} is not a leap year but evenly divisible by 400.')\n",
    "    else:\n",
    "        print(f'{year} is neither a leap year nor evenly divisible by 400.')\n"
   ]
  },
  {
   "cell_type": "markdown",
   "id": "4c17514e-c1a3-42a8-973c-707f8be5c0f9",
   "metadata": {},
   "source": [
    "* Function Definition:\n",
    "def is_leap_year(year):\n",
    "Determines if a given 'year' is a leap year.\n",
    "Returns True if (year % 4 == 0 and year % 100 != 0) or (year % 400 == 0); otherwise, returns False.\n",
    "* User Input:\n",
    "year = int(input(\"Enter the year to check: \"))\n",
    "Prompts the user to input a year.\n",
    "Converts the input to an integer using int().\n",
    "* Leap Year Check:\n",
    "if is_leap_year(year):\n",
    "Checks if the entered 'year' is a leap year using the is_leap_year function.\n",
    "Prints a message if it's a leap year.\n",
    "Additional check:\n",
    "If 'year' is evenly divisible by 400, prints an extra message.\n",
    "* Non-Leap Year Check:\n",
    "else:\n",
    "If the entered 'year' is not a leap year:\n",
    "Checks if it's evenly divisible by 400.\n",
    "Prints messages based on divisibility by 400 or not."
   ]
  },
  {
   "cell_type": "markdown",
   "id": "9effe5b8-4ae0-4c21-9383-2fbac180a3e6",
   "metadata": {},
   "source": [
    "20. Develop a program that checks if a given number is prime or not using nested if-else statements."
   ]
  },
  {
   "cell_type": "code",
   "execution_count": 4,
   "id": "b2882bbb-519c-463e-8d55-11ceaaf48b02",
   "metadata": {},
   "outputs": [
    {
     "name": "stdin",
     "output_type": "stream",
     "text": [
      "Enter a number:  3\n"
     ]
    },
    {
     "name": "stdout",
     "output_type": "stream",
     "text": [
      "3 is a prime number.\n"
     ]
    }
   ],
   "source": [
    "def is_prime(number):\n",
    "    # Check if the number is greater than 1\n",
    "    if number > 1:\n",
    "        # Check for factors\n",
    "        for i in range(2, int(number**0.5) + 1):\n",
    "            if (number % i) == 0:\n",
    "                print(f'{number} is not a prime number.')\n",
    "                print(f'It is divisible by {i}.')\n",
    "                break\n",
    "        else:\n",
    "            print(f'{number} is a prime number.')\n",
    "    else:\n",
    "        print(f'{number} is not a prime number.')\n",
    "\n",
    "# Get user input\n",
    "number = int(input(\"Enter a number: \"))\n",
    "\n",
    "# Call the function to check if the number is prime\n",
    "is_prime(number)\n"
   ]
  },
  {
   "cell_type": "markdown",
   "id": "94f14433-8f2c-4f2f-992f-fb72b6f43baf",
   "metadata": {},
   "source": [
    "Explanation:\n",
    "\n",
    "* The is_prime function takes a number as an argument and checks if it is prime or not.\n",
    "* The function first checks if the number is greater than 1 (prime numbers are greater than 1).\n",
    "* It then uses a loop to iterate through potential factors from 2 to the square root of the number.\n",
    "* If the number is divisible by any of these factors, it is not a prime number, and the loop breaks. The program prints a message indicating that the number is not prime and mentions the factor.\n",
    "* If the loop completes without finding a factor, the number is considered prime, and a corresponding message is printed.\n",
    "* If the number is less than or equal to 1, it is not considered prime, and a message is printed accordingly."
   ]
  },
  {
   "cell_type": "markdown",
   "id": "8ba98be1-89ff-4015-81b8-19e994764291",
   "metadata": {},
   "source": [
    "# Elif Statements:\n",
    "21. Write a Python program to assign grades based on different ranges of scores using elif statements."
   ]
  },
  {
   "cell_type": "code",
   "execution_count": 5,
   "id": "9a0388d2-dca7-4168-81eb-98839ef202a9",
   "metadata": {},
   "outputs": [
    {
     "name": "stdin",
     "output_type": "stream",
     "text": [
      "Enter the student's score:  88\n"
     ]
    },
    {
     "name": "stdout",
     "output_type": "stream",
     "text": [
      "The student's grade is: B\n"
     ]
    }
   ],
   "source": [
    "def score_grade(score):\n",
    "    if 90 <= score <= 100:\n",
    "        return 'A'\n",
    "    elif 80 <= score < 90:\n",
    "        return 'B'\n",
    "    elif 70 <= score < 80:\n",
    "        return 'C'\n",
    "    elif 60 <= score < 70:\n",
    "        return 'D'\n",
    "    elif 0 <= score < 60:\n",
    "        return 'F'\n",
    "    else:\n",
    "        return 'Invalid score'\n",
    "\n",
    "score = float(input(\"Enter the student's score: \"))\n",
    "grade = score_grade(score)\n",
    "print(f\"The student's grade is: {grade}\")"
   ]
  },
  {
   "cell_type": "markdown",
   "id": "6458e95f-0081-4189-9579-84c22b99c84f",
   "metadata": {},
   "source": [
    "Explanation: \n",
    "* Function Definition:\n",
    "The score_grade function takes a score as a parameter.\n",
    "It uses a series of if-elif-else statements to determine the corresponding grade based on the given score.\n",
    "If the score falls into a specific range, the function returns the corresponding grade.\n",
    "* Example Usage:\n",
    "Takes user input for the student's score using float(input(...)) to handle numeric input.\n",
    "Calls the calculate_grade function with the entered score.\n",
    "Prints the calculated grade for the entered score.\n",
    "\n",
    "Grade Criteria:\n",
    "A: 90-100,\n",
    "B: 80-89,\n",
    "C: 70-79,\n",
    "D: 60-69,\n",
    "F: 0-59,\n",
    "If the score is outside these ranges, it prints 'Invalid score'."
   ]
  },
  {
   "cell_type": "markdown",
   "id": "dec32003-332d-4a9f-afd5-c19ba9af7a6d",
   "metadata": {},
   "source": [
    "22. Implement a program to determine the type of a triangle based on its angles."
   ]
  },
  {
   "cell_type": "code",
   "execution_count": 10,
   "id": "0a078303-90b3-4f1f-8d82-383a07bd2cc3",
   "metadata": {},
   "outputs": [
    {
     "name": "stdin",
     "output_type": "stream",
     "text": [
      "Enter the first angle:  40\n",
      "Enter the second angle:  60\n",
      "Enter the third angle:  80\n"
     ]
    },
    {
     "name": "stdout",
     "output_type": "stream",
     "text": [
      "The triangle with angles 40, 60, and 80 is a Scalene Triangle.\n"
     ]
    }
   ],
   "source": [
    "def triangle_type(angle1, angle2, angle3):\n",
    "    # Check if the sum of angles is 180 degrees (valid triangle)\n",
    "    if angle1 + angle2 + angle3 == 180:\n",
    "        # Check the types of triangles based on angles\n",
    "        if angle1 == angle2 == angle3:\n",
    "            return \"Equilateral Triangle\"\n",
    "        elif angle1 == angle2 or angle2 == angle3 or angle1 == angle3:\n",
    "            return \"Isosceles Triangle\"\n",
    "        else:\n",
    "            return \"Scalene Triangle\"\n",
    "    else:\n",
    "        return \"Invalid Triangle\"\n",
    "\n",
    "# Get user input for angles\n",
    "angle1 = int(input(\"Enter the first angle: \"))\n",
    "angle2 = int(input(\"Enter the second angle: \"))\n",
    "angle3 = int(input(\"Enter the third angle: \"))\n",
    "\n",
    "# Call the function to determine the type of triangle\n",
    "result = triangle_type(angle1, angle2, angle3)\n",
    "\n",
    "# Display the result\n",
    "print(f\"The triangle with angles {angle1}, {angle2}, and {angle3} is a {result}.\")\n"
   ]
  },
  {
   "cell_type": "markdown",
   "id": "186da8f2-4910-41b3-abc3-b12ac399c0f8",
   "metadata": {},
   "source": [
    "Explanation:\n",
    "\n",
    "* The triangle_type function takes three angles as input and determines the type of triangle based on those angles.\n",
    "* It first checks if the sum of the angles is 180 degrees, which is a requirement for a valid triangle.\n",
    "* Inside the valid triangle check, it then checks for the types of triangles based on the angles:\n",
    "* If all three angles are equal, it's an equilateral triangle.\n",
    "* If at least two angles are equal, it's an isosceles triangle.\n",
    "* If all three angles are different, it's a scalene triangle.\n",
    "* If the sum of angles is not 180 degrees, the function returns \"Invalid Triangle.\"\n",
    "* User input is obtained for the three angles to test the program.\n",
    "* The program calls the function and prints the result indicating the type of the triangle based on its angles."
   ]
  },
  {
   "cell_type": "markdown",
   "id": "c70e92d9-9759-4d8b-8a4f-c1ec802399b9",
   "metadata": {},
   "source": [
    "23. Develop a program to categorize a given person's BMI into underweight, normal, overweight, or obese using\n",
    "elif statements."
   ]
  },
  {
   "cell_type": "code",
   "execution_count": 13,
   "id": "fc78dbee-3516-40e9-b204-64552b031ac8",
   "metadata": {},
   "outputs": [
    {
     "name": "stdin",
     "output_type": "stream",
     "text": [
      "Enter weight in kilograms:  79\n",
      "Enter height in meters:  1.67\n"
     ]
    },
    {
     "name": "stdout",
     "output_type": "stream",
     "text": [
      "Your BMI is 28.33, and you are categorized as Overweight.\n"
     ]
    }
   ],
   "source": [
    "def calculate_bmi(weight, height):\n",
    "    # BMI formula: BMI = weight (kg) / (height (m))^2\n",
    "    bmi = weight / (height ** 2)\n",
    "    return bmi\n",
    "\n",
    "def categorize_bmi(bmi):\n",
    "    if bmi < 18.5:\n",
    "        return \"Underweight\"\n",
    "    elif 18.5 <= bmi < 24.9:\n",
    "        return \"Normal\"\n",
    "    elif 25 <= bmi < 29.9:\n",
    "        return \"Overweight\"\n",
    "    else:\n",
    "        return \"Obese\"\n",
    "\n",
    "# Get user input for weight and height\n",
    "weight = float(input(\"Enter weight in kilograms: \"))\n",
    "height = float(input(\"Enter height in meters: \"))\n",
    "\n",
    "# Call the function to calculate BMI\n",
    "bmi = calculate_bmi(weight, height)\n",
    "\n",
    "# Call the function to categorize BMI and display the result\n",
    "category = categorize_bmi(bmi)\n",
    "print(f\"Your BMI is {bmi:.2f}, and you are categorized as {category}.\")\n"
   ]
  },
  {
   "cell_type": "markdown",
   "id": "95f08669-a951-4838-80df-55a3d9217c92",
   "metadata": {},
   "source": [
    "Explanation:\n",
    "\n",
    "* calculate_bmi function:\n",
    "Takes weight (in kilograms) and height (in meters) as input.\n",
    "Calculates BMI using the formula BMI = weight / (height^2).\n",
    "Returns the calculated BMI.\n",
    "* categorize_bmi function:\n",
    "Takes BMI as input.\n",
    "Categorizes BMI using elif statements into underweight, normal, overweight, or obese.\n",
    "Returns the category.\n",
    "* User Input:\n",
    "Prompts the user to enter weight and height.\n",
    "* BMI Calculation:\n",
    "Calls the calculate_bmi function with user-provided weight and height.\n",
    "* BMI Categorization:\n",
    "Calls the categorize_bmi function with the calculated BMI.\n",
    "Displays the result indicating the BMI category."
   ]
  },
  {
   "cell_type": "markdown",
   "id": "9897300c-8985-4a1a-bc93-1405d52aaea2",
   "metadata": {},
   "source": [
    "24. Create a program that determines whether a given number is positive, negative, or zero using elif\n",
    "statements."
   ]
  },
  {
   "cell_type": "code",
   "execution_count": 18,
   "id": "ec5e386c-10a1-4e6f-977e-d932291f66d2",
   "metadata": {},
   "outputs": [
    {
     "name": "stdin",
     "output_type": "stream",
     "text": [
      "Enter a number:  -2\n"
     ]
    },
    {
     "name": "stdout",
     "output_type": "stream",
     "text": [
      "The number -2.0 is Negative.\n"
     ]
    }
   ],
   "source": [
    "def determine_number_type(number):\n",
    "    if number > 0:\n",
    "        return \"Positive\"\n",
    "    elif number < 0:\n",
    "        return \"Negative\"\n",
    "    else:\n",
    "        return \"Zero\"\n",
    "\n",
    "# Get user input for a number\n",
    "number = float(input(\"Enter a number: \"))\n",
    "# Call the function to determine the type of the number\n",
    "number_type = determine_number_type(number)\n",
    "print(f\"The number {number} is {number_type}.\")\n"
   ]
  },
  {
   "cell_type": "markdown",
   "id": "bceab146-7157-49fd-9828-99ea917d8e93",
   "metadata": {},
   "source": [
    "Explanation:\n",
    "\n",
    "* determine_number_type function:\n",
    "Takes a number as input.\n",
    "Uses if, elif, and else statements to determine whether the number is positive, negative, or zero.\n",
    "Returns the determined type as a string.\n",
    "* User Input:\n",
    "Prompts the user to enter a number.\n",
    "* Type Determination:\n",
    "Calls the determine_number_type function with the user-provided number.\n",
    "* Display Result:\n",
    "Prints the result indicating whether the number is positive, negative, or zero."
   ]
  },
  {
   "cell_type": "markdown",
   "id": "af9c799d-5b53-47d4-a2d8-844b8602db7d",
   "metadata": {},
   "source": [
    "25. Write a Python script to determine the type of a character (uppercase, lowercase, or special) using elif\n",
    "statements."
   ]
  },
  {
   "cell_type": "code",
   "execution_count": 31,
   "id": "32a842f9-6cb5-4b81-b034-9163315f5e52",
   "metadata": {},
   "outputs": [
    {
     "name": "stdin",
     "output_type": "stream",
     "text": [
      "Enter a character:  R\n"
     ]
    },
    {
     "name": "stdout",
     "output_type": "stream",
     "text": [
      "The character 'R' is Uppercase.\n"
     ]
    }
   ],
   "source": [
    "def determine_char_type(char):\n",
    "    if char.isnumeric():\n",
    "        return 'numeric, enter a valid character.'\n",
    "    else:\n",
    "        if char.isupper():\n",
    "            return \"Uppercase\"\n",
    "        elif char.islower():\n",
    "            return \"Lowercase\"\n",
    "        else:\n",
    "            return \"Special Character\"\n",
    "\n",
    "# Get user input for a character\n",
    "character = input(\"Enter a character: \")\n",
    "\n",
    "# Check if the input is a single character\n",
    "if len(character) == 1:\n",
    "    # Call the function to determine the type of the character\n",
    "    char_type = determine_char_type(character)\n",
    "    print(f\"The character '{character}' is {char_type}.\")\n",
    "else:\n",
    "    print(\"Please enter a single character.\")\n"
   ]
  },
  {
   "cell_type": "markdown",
   "id": "8f878bdd-8795-4e66-970d-78e861a0b0ef",
   "metadata": {},
   "source": [
    "Explanation:\n",
    "* determine_char_type function:\n",
    "Checks if the character is numeric using char.isnumeric().\n",
    "If numeric, returns a message indicating that it's numeric.\n",
    "If not numeric, proceeds with the checks for uppercase, lowercase, or special character.\n",
    "* User Input:\n",
    "Prompts the user to enter a character.\n",
    "* Character Type Determination:\n",
    "Calls the determine_char_type function with the user-provided character.\n",
    "* Display Result:\n",
    "Prints the result indicating whether the character is numeric, uppercase, lowercase, or a special character.\n",
    "* Input Validation:\n",
    "Checks if the entered input is a single character. If not, it prompts the user to enter a single character."
   ]
  },
  {
   "cell_type": "markdown",
   "id": "82074dd6-d061-4b5f-b84e-9c376b90a6a9",
   "metadata": {},
   "source": [
    "26. Implement a program to calculate the discounted price based on different purchase amounts using elif\n",
    "statements."
   ]
  },
  {
   "cell_type": "code",
   "execution_count": 52,
   "id": "dfd99ca5-7342-4d52-bd4d-1713b73bc5f1",
   "metadata": {},
   "outputs": [
    {
     "name": "stdin",
     "output_type": "stream",
     "text": [
      "Enter the purchase amount Rs:  900\n"
     ]
    },
    {
     "name": "stdout",
     "output_type": "stream",
     "text": [
      "Purchased amount Rs: 900.0, discounted price Rs:855.0\n"
     ]
    }
   ],
   "source": [
    "def calculated_discount_price(purchase_amount):\n",
    "    if purchase_amount >=500:\n",
    "        if purchase_amount >=1000:\n",
    "            discount_percent= 10\n",
    "        elif purchase_amount >=500:\n",
    "            discount_percent= 5\n",
    "        else:\n",
    "            discount_percent= 0\n",
    "        discount_amount=  purchase_amount* discount_percent/100\n",
    "        final_price= purchase_amount- discount_amount\n",
    "        print( f'Purchased amount Rs: {purchase_amount}, discounted price Rs:{final_price}')\n",
    "    else:\n",
    "        print(f'Sorry you are not eligible for any discount right now. I encourage you to purchase Rs.{500-purchase_amount} more to get eligible.')\n",
    "purchase_amount= float(input('Enter the purchase amount Rs: '))    \n",
    "final_amount= calculated_discount_price(purchase_amount)\n",
    "final_amount"
   ]
  },
  {
   "cell_type": "markdown",
   "id": "ec1b4414-e397-4228-8548-7d4597ca017d",
   "metadata": {},
   "source": [
    "Explanation:\n",
    "\n",
    "* calculated_discount_price Function:\n",
    "This function takes purchase_amount as input and calculates the discounted price based on different discount percentages.\n",
    "If purchase_amount is greater than or equal to 500, it further checks if it's greater than or equal to 1000 or 500 to determine the discount percentage.\n",
    "It then calculates the discount amount and subtracts it from the purchase_amount to get the final discounted price.\n",
    "It prints the purchased amount and the discounted price.\n",
    "* Nested Conditions:\n",
    "The nested if-elif-else structure is used to determine the discount percentage based on the entered purchase_amount.\n",
    "If purchase_amount is greater than or equal to 1000, a 10% discount is applied.\n",
    "If it's between 500 and 1000, a 5% discount is applied.\n",
    "If it's below 500, no discount is applied.\n",
    "* Print Statements:\n",
    "Informative print statements are included to display the purchased amount, discounted price, and eligibility for discounts.\n",
    "* Else Statement:\n",
    "If purchase_amount is below 500, an encouragement message is printed, suggesting the user purchase more to become eligible for discounts.\n",
    "* User Input:\n",
    "The script prompts the user to input the purchase_amount.\n",
    "* Function Call:\n",
    "The function is called with the entered purchase_amount.\n",
    "* Variable Assignment:\n",
    "The result of the function call is assigned to the variable final_amount.\n",
    "* Print Final Amount:\n",
    "The variable final_amount is printed, but note that since your function doesn't explicitly return a value, final_amount will be None. If you want to return a value from the function and print it separately, you can modify the function accordingly."
   ]
  },
  {
   "cell_type": "markdown",
   "id": "38854c4e-2a7e-43de-8b30-afe8ec1d9242",
   "metadata": {},
   "source": [
    "27. Develop a program to calculate the electricity bill based on different consumption slabs using elif\n",
    "statements."
   ]
  },
  {
   "cell_type": "code",
   "execution_count": 37,
   "id": "aff5e42d-fcfe-4833-b0e9-51636f002215",
   "metadata": {},
   "outputs": [
    {
     "name": "stdin",
     "output_type": "stream",
     "text": [
      "Enter the units consumed:  1001\n"
     ]
    },
    {
     "name": "stdout",
     "output_type": "stream",
     "text": [
      "As per your power consumption, for 1001.0 units, you need to pay Rs: 6561.0/-\n"
     ]
    }
   ],
   "source": [
    "def slab_1000_and_above(units):\n",
    "    unit=units\n",
    "    price=0\n",
    "    while unit>0:\n",
    "        if unit  > 1000:\n",
    "            unit_consume=unit-1000\n",
    "            price +=  11 *unit_consume\n",
    "            unit-=unit_consume\n",
    "        elif 801<= unit <= 1000:\n",
    "            unit_consume=unit-800\n",
    "            price +=  10 *unit_consume\n",
    "            unit-=unit_consume\n",
    "        elif 601<= unit <= 800:\n",
    "            unit_consume=unit-600\n",
    "            price +=  9 *unit_consume\n",
    "            unit-=unit_consume\n",
    "        elif 501<= unit <= 600:\n",
    "            unit_consume=unit-500\n",
    "            price +=  8 *unit_consume\n",
    "            unit-=unit_consume\n",
    "        elif 401 <= unit <= 500:\n",
    "            unit_consume=unit-400\n",
    "            price += 6 *unit_consume\n",
    "            unit-=unit_consume  \n",
    "        elif 101<= unit <= 400:\n",
    "            unit_consume=unit-100\n",
    "            price += 4.50*unit_consume \n",
    "            unit-=unit_consume \n",
    "        else:\n",
    "            price += 0\n",
    "            unit-=100\n",
    "    return price\n",
    "\n",
    "def slab_500(units):\n",
    "    unit=units\n",
    "    price=0\n",
    "    while unit>0:\n",
    "        if 401 <= unit <= 500:\n",
    "            unit_consume=unit-400\n",
    "            price +=  6 *unit_consume\n",
    "            unit-=unit_consume\n",
    "        elif 201 <= unit <= 400:\n",
    "            unit_consume=unit-200\n",
    "            price += 4.50 *unit_consume\n",
    "            unit-=unit_consume\n",
    "        elif 101 <= unit <= 200:\n",
    "            unit_consume=unit-100\n",
    "            price += 2.25 *unit_consume\n",
    "            unit-=unit_consume\n",
    "        else:\n",
    "            price += 0\n",
    "            unit-=100\n",
    "    return price\n",
    "\n",
    "unit_consumed=float(input('Enter the units consumed: '))\n",
    "if unit_consumed<=500:\n",
    "    price= slab_500(unit_consumed)\n",
    "    print(f'As per your power consumption, for {unit_consumed} units, you need to pay Rs: {price}/-')\n",
    "else:\n",
    "    price= slab_1000_and_above(unit_consumed)\n",
    "    print(f'As per your power consumption, for {unit_consumed} units, you need to pay Rs: {price}/-')"
   ]
  },
  {
   "cell_type": "markdown",
   "id": "e6fd3656-0dd4-4d18-b3ef-2d92ff09d4f4",
   "metadata": {},
   "source": [
    "Explanation : \n",
    "\n",
    "* Creating two functions slab_500 and slab_1000_and_above both taking units as parameter.\n",
    "* Inside the function assigning a unit variable to the units parameter passed since i don't want to change the original unit, then initiate the price to 0.\n",
    "* use the while loop looping the if and elif statements until the unit variable become 0. \n",
    "* Inside the while loop calculating the prices based on the unit available for example if the unit value is 400 it will first enter into the elif 201 <= unit <= 400 statement where i am assigning the unit consume value by subtracting the unit value with 200 since this slab starts from 201 to 400 so we can easily calculate how may units consumed from 200 to 400 (unit_consume=unit-200) then, as per the unit giving the rates multiplied by the unit_consume( price += 4.50 *unit_consume), finally subtracting the unit consumed to the unit variable we initialized(unit-=unit_consume).\n",
    "* Based on the Tamilnadu Electricity Board i have built this rates and slabs for 100 units there is no charges so i put that in the else part. Then return the price variable.\n",
    "\n",
    "* Finally getting the unit input from user and storing it into the variable unit_consumed.\n",
    "* Last, using the if and else statement, if the user input unit is below or = 500 it will call the function slab_500() and print the price with statement. Else if unit is above 500 it will enter into 2nd slab function slab_1000_and_above() and print the price with statement accordingly.          \n",
    "           \n",
    "            "
   ]
  },
  {
   "cell_type": "markdown",
   "id": "d344740e-6d0c-4db2-a6d1-dc96f02923a8",
   "metadata": {},
   "source": [
    "28. Create a program to determine the type of quadrilateral based on its angles and sides using elif\n",
    "statements."
   ]
  },
  {
   "cell_type": "code",
   "execution_count": 42,
   "id": "88d073eb-8282-4bac-b553-228388f6803d",
   "metadata": {},
   "outputs": [
    {
     "name": "stdin",
     "output_type": "stream",
     "text": [
      "Enter the length of side a:  90\n",
      "Enter the length of side b:  90\n",
      "Enter the length of side c:  90\n",
      "Enter the length of side d:  90\n",
      "Enter the measure of angle A:  90\n",
      "Enter the measure of angle B:  90\n",
      "Enter the measure of angle C:  90\n",
      "Enter the measure of angle D:  90\n"
     ]
    },
    {
     "name": "stdout",
     "output_type": "stream",
     "text": [
      "The quadrilateral is a Square\n"
     ]
    }
   ],
   "source": [
    "def determine_quadrilateral_type(a, b, c, d, angle_A, angle_B, angle_C, angle_D):\n",
    "    if angle_A + angle_B + angle_C + angle_D == 360: # Check if the sum of angles is 360 degrees\n",
    "        if a == b == c == d: # Check for specific quadrilateral types based on angles and sides\n",
    "            if angle_A == angle_B == angle_C == angle_D == 90:\n",
    "                return \"Square\"\n",
    "            else:\n",
    "                return \"Rhombus\"\n",
    "        elif a == c and b == d:\n",
    "            if angle_A == angle_C == 90:\n",
    "                return \"Rectangle\"\n",
    "            else:\n",
    "                return \"Parallelogram\"\n",
    "        else:\n",
    "            return \"Quadrilateral\"\n",
    "    else:\n",
    "        return \"Invalid Quadrilateral (Sum of angles is not 360 degrees)\"\n",
    "\n",
    "# Example usage\n",
    "side_a = float(input(\"Enter the length of side a: \"))\n",
    "side_b = float(input(\"Enter the length of side b: \"))\n",
    "side_c = float(input(\"Enter the length of side c: \"))\n",
    "side_d = float(input(\"Enter the length of side d: \"))\n",
    "angle_A = float(input(\"Enter the measure of angle A: \"))\n",
    "angle_B = float(input(\"Enter the measure of angle B: \"))\n",
    "angle_C = float(input(\"Enter the measure of angle C: \"))\n",
    "angle_D = float(input(\"Enter the measure of angle D: \"))\n",
    "\n",
    "result = determine_quadrilateral_type(side_a, side_b, side_c, side_d, angle_A, angle_B, angle_C, angle_D)\n",
    "print(f\"The quadrilateral is a {result}\")\n"
   ]
  },
  {
   "cell_type": "markdown",
   "id": "661fb61e-005a-47d4-b1fd-135f15723df1",
   "metadata": {},
   "source": [
    "Explanation:\n",
    "\n",
    "* Function Definition: The function determine_quadrilateral_type is defined, taking eight parameters representing the lengths of sides (a, b, c, d) and the measures of angles (angle_A, angle_B, angle_C, angle_D).\n",
    "* Checking Sum of Angles: The first if statement checks if the sum of angles is equal to 360 degrees. This is a basic check to ensure that the input represents a valid quadrilateral.\n",
    "* Nested if Statements: Within the first if block, there are nested if statements that further analyze the properties of the quadrilateral based on angles and sides:\n",
    "* If all sides are equal and all angles are 90 degrees, it's identified as a \"Square.\"\n",
    "* If all sides are equal but not all angles are 90 degrees, it's identified as a \"Rhombus.\"\n",
    "* If opposite sides are equal and opposite angles are equal to 90 degrees, it's identified as a \"Rectangle.\"\n",
    "* If opposite sides are equal but angles don't meet the criteria for a rectangle, it's identified as a \"Parallelogram.\"\n",
    "* If none of the above conditions are met, it's identified as a generic \"Quadrilateral.\"\n",
    "* Returning Results: The function returns the determined type of quadrilateral as a string.\n",
    "* Getting the input angles and sides from the user using input() function. Calling the function and and printing the result."
   ]
  },
  {
   "cell_type": "markdown",
   "id": "5d5e1dfc-5629-40a1-bac1-6961b90ad65e",
   "metadata": {},
   "source": [
    "29. Write a Python script to determine the season based on a user-provided month using elif statements."
   ]
  },
  {
   "cell_type": "code",
   "execution_count": 1,
   "id": "8cc37041-588b-4513-9801-17d5fab7a433",
   "metadata": {},
   "outputs": [
    {
     "name": "stdin",
     "output_type": "stream",
     "text": [
      "Enter the month (1-12):  4\n"
     ]
    },
    {
     "name": "stdout",
     "output_type": "stream",
     "text": [
      "The season for month 4 is Spring.\n"
     ]
    }
   ],
   "source": [
    "def determine_season(month):\n",
    "    if month in [12, 1, 2]:\n",
    "        return \"Winter\"\n",
    "    elif month in [3, 4, 5]:\n",
    "        return \"Spring\"\n",
    "    elif month in [6, 7, 8]:\n",
    "        return \"Summer\"\n",
    "    elif month in [9, 10, 11]:\n",
    "        return \"autumn\"\n",
    "    else:\n",
    "        return \"Invalid month\"\n",
    "\n",
    "# Get user input for the month\n",
    "try:\n",
    "    month = int(input(\"Enter the month (1-12): \"))\n",
    "    if 1 <= month <= 12:\n",
    "        season = determine_season(month)\n",
    "        print(f\"The season for month {month} is {season}.\")\n",
    "    else:\n",
    "        print(\"Invalid input. Month should be between 1 and 12.\")\n",
    "except ValueError:\n",
    "    print(\"Invalid input. Please enter a valid integer for the month.\")"
   ]
  },
  {
   "cell_type": "markdown",
   "id": "108bfd2c-0b7d-4307-82a7-1bb9e3844df0",
   "metadata": {},
   "source": [
    "Explanation:\n",
    "\n",
    "* determine_season function:\n",
    "Checks the input month and returns the corresponding season.\n",
    "Seasons are defined as Winter (December, January, February), Spring (March, April, May), Summer (June, July, August), Autumn (September, October, November).\n",
    "If the input month is outside the range 1 to 12, it returns \"Invalid month.\"\n",
    "* User Input Handling:\n",
    "Uses a try and except block to handle potential errors during user input.\n",
    "Prompts the user to enter a month using input(\"Enter the month (1-12): \").\n",
    "Attempts to convert the user input to an integer using int(input(...)).\n",
    "* Validating Input:\n",
    "Checks if the entered month is within the valid range of 1 to 12.\n",
    "If the input is valid, calls the determine_season function to get the corresponding season.\n",
    "Prints the result, indicating the season for the entered month.\n",
    "If the entered month is outside the valid range, prints an error message.\n",
    "* Handling Input Errors:\n",
    "If the conversion to an integer fails (e.g., if the user enters a non-numeric value), catches the ValueError in the except block.\n",
    "Prints an error message instructing the user to enter a valid integer for the month."
   ]
  },
  {
   "cell_type": "markdown",
   "id": "4b88be9c-aad4-496c-b00c-836b19f10a47",
   "metadata": {},
   "source": [
    "30. Implement a program to determine the type of a year (leap or common) and month (30 or 31 days) using\n",
    "elif statements."
   ]
  },
  {
   "cell_type": "code",
   "execution_count": 1,
   "id": "f6b9ea0a-a1a2-43c9-807b-aa2f48180bd6",
   "metadata": {},
   "outputs": [
    {
     "name": "stdin",
     "output_type": "stream",
     "text": [
      "Enter the year:  1998\n",
      "Enter the month (1-12):  9\n"
     ]
    },
    {
     "name": "stdout",
     "output_type": "stream",
     "text": [
      "1998 is a common year.\n",
      "The number of days in month 9 is 30.\n"
     ]
    }
   ],
   "source": [
    "def is_leap_year(year):\n",
    "    #Check if a year is a leap year.\n",
    "    if (year % 4 == 0 and year % 100 != 0) or (year % 400 == 0):\n",
    "        return True\n",
    "    else:\n",
    "        return False\n",
    "\n",
    "def determine_days_in_month(month, year):\n",
    "    #Determine the number of days in a month.\n",
    "    if month in [1, 3, 5, 7, 8, 10, 12]:\n",
    "        return 31\n",
    "    elif month in [4, 6, 9, 11]:\n",
    "        return 30\n",
    "    elif month == 2:\n",
    "        # Check for February and consider leap year\n",
    "        if is_leap_year(year):\n",
    "            return 29\n",
    "        else:\n",
    "            return 28\n",
    "    else:\n",
    "        return -1  # Invalid month\n",
    "\n",
    "# Get user input for year and month\n",
    "try:\n",
    "    year = int(input(\"Enter the year: \"))\n",
    "    month = int(input(\"Enter the month (1-12): \"))\n",
    "\n",
    "    if 1 <= month <= 12:\n",
    "        leap_year = is_leap_year(year)\n",
    "        days_in_month = determine_days_in_month(month, year)\n",
    "\n",
    "        if leap_year:\n",
    "            print(f\"{year} is a leap year.\")\n",
    "        else:\n",
    "            print(f\"{year} is a common year.\")\n",
    "\n",
    "        print(f\"The number of days in month {month} is {days_in_month}.\")\n",
    "    else:\n",
    "        print(\"Invalid input. Month should be between 1 and 12.\")\n",
    "except ValueError:\n",
    "    print(\"Invalid input. Please enter valid integers for the year and month.\")\n"
   ]
  },
  {
   "cell_type": "markdown",
   "id": "91c229df-3f8d-421a-ab51-c2296a4e8201",
   "metadata": {},
   "source": [
    "Explanation: \n",
    "* is_leap_year Function:\n",
    "Checks if a given year is a leap year.\n",
    "Uses the leap year rule: divisible by 4, not divisible by 100 unless also divisible by 400.\n",
    "Returns True if it's a leap year, otherwise False.\n",
    "* determine_days_in_month Function:\n",
    "Determines the number of days in a given month for a specified year.\n",
    "Uses elif statements to handle different month scenarios:\n",
    "Months with 31 days: January, March, May, July, August, October, December.\n",
    "Months with 30 days: April, June, September, November.\n",
    "February: Checks for leap year using is_leap_year function, returns 29 for leap years and 28 for non-leap years.\n",
    "Returns -1 for an invalid month.\n",
    "* User Input Handling:\n",
    "Takes user input for the year and month using the input function.\n",
    "Converts the input to integers using int().\n",
    "Uses a try and except block to handle potential ValueError exceptions during conversion.\n",
    "* Validating Input and Printing Results:\n",
    "Checks if the entered month is within the valid range (1 to 12).\n",
    "Calls the is_leap_year function to determine if the entered year is a leap year.\n",
    "Calls the determine_days_in_month function to get the number of days in the entered month.\n",
    "Prints whether the year is a leap year or a common year.\n",
    "Prints the number of days in the entered month.\n",
    "If the entered month is outside the valid range, it prints an error message.\n",
    "* Handling Input Errors:\n",
    "If the conversion to integers fails (e.g., if the user enters non-numeric values), the code catches the ValueError in the except block.\n",
    "Prints an error message instructing the user to enter valid integers for the year and month."
   ]
  },
  {
   "cell_type": "markdown",
   "id": "83dcab2f-9af8-4fad-972c-e09cdadac7d7",
   "metadata": {},
   "source": [
    "# Basic Level:\n",
    "1. Write a Python program that checks if a given number is positive, negative, or zero."
   ]
  },
  {
   "cell_type": "code",
   "execution_count": 4,
   "id": "cf0bec55-4165-4f1d-a771-8ddf4199eaf1",
   "metadata": {},
   "outputs": [
    {
     "name": "stdin",
     "output_type": "stream",
     "text": [
      "Enter the number:  -7\n"
     ]
    },
    {
     "data": {
      "text/plain": [
       "'The number is negative'"
      ]
     },
     "execution_count": 4,
     "metadata": {},
     "output_type": "execute_result"
    }
   ],
   "source": [
    "def check_sign(number):\n",
    "    if number >= 0:\n",
    "        if number == 0:\n",
    "            return 'The number is Zero'\n",
    "        else:\n",
    "            return 'The number is positive'\n",
    "    else:\n",
    "        return 'The number is negative'\n",
    "number=float(input('Enter the number: '))    \n",
    "check_sign(number) "
   ]
  },
  {
   "cell_type": "markdown",
   "id": "237d3ea6-8d11-437e-b3e9-3df2db8e8112",
   "metadata": {},
   "source": [
    "Explanation:\n",
    "\n",
    "* check_sign Function:\n",
    "The function takes a number as an argument and checks its sign using nested if-else statements.\n",
    "The outer if-statement checks if the number is greater than or equal to 0.\n",
    "If true, it goes into the nested if-else block:\n",
    "The nested if-statement checks if the number is equal to 0.\n",
    "If true, it returns 'The number is 0'.\n",
    "If false, it returns 'The number is positive'.\n",
    "If the outer if-statement is false (number is negative), it returns 'The number is negative'.\n",
    "* User Input:\n",
    "Takes user input for a number using float(input(...)) to handle numeric input.\n",
    "* Function Call and Result:\n",
    "Calls the check_sign function with the user-entered number.\n",
    "Prints the result, which indicates whether the number is positive, negative, or zero."
   ]
  },
  {
   "cell_type": "markdown",
   "id": "1a9e867e-5570-4310-95e2-e9295c526f25",
   "metadata": {},
   "source": [
    "2. Create a program to determine if a person is eligible to vote based on their age."
   ]
  },
  {
   "cell_type": "code",
   "execution_count": 6,
   "id": "2cd0cd31-fe92-4901-82d6-758e2f775757",
   "metadata": {},
   "outputs": [
    {
     "name": "stdout",
     "output_type": "stream",
     "text": [
      "Voting eligiblity Check\n"
     ]
    },
    {
     "name": "stdin",
     "output_type": "stream",
     "text": [
      "Enter the name of the person Jasper\n",
      "Enter the age:  24\n"
     ]
    },
    {
     "name": "stdout",
     "output_type": "stream",
     "text": [
      "Jasper is eligible to vote.\n"
     ]
    }
   ],
   "source": [
    "def voter_eligiblity(name, age):\n",
    "    if age >= 18:\n",
    "        return f'{name} is eligible to vote.'\n",
    "    else:\n",
    "        return f'{name} is not eligible to vote.'\n",
    "    \n",
    "print('Voting eligiblity Check')\n",
    "name=input('Enter the name of the person')\n",
    "age= int(input('Enter the age: '))\n",
    "result=voter_eligiblity(name, age)\n",
    "print(result)"
   ]
  },
  {
   "cell_type": "markdown",
   "id": "3ecb575c-aeb8-4896-b4fe-d37f0fb19c4b",
   "metadata": {},
   "source": [
    "Explanation: \n",
    "* voter_eligibility Function:\n",
    "The function takes two parameters, name and age.\n",
    "It checks if the age is 18 or greater. If so, it returns a string indicating that the person is eligible to vote. Otherwise, it returns a string indicating that the person is not eligible.\n",
    "* Printing a Message:\n",
    "print('Voting Eligibility Check'): This line prints a message indicating that the program is checking voting eligibility.\n",
    "* Taking User Input:\n",
    "name = input('Enter the name of the person: '): This line prompts the user to enter the name of the person and assigns it to the variable name.\n",
    "age = int(input('Enter the age: ')): This line prompts the user to enter the age of the person, converts the input to an integer, and assigns it to the variable age.\n",
    "* Calling the Function and Printing the Result:\n",
    "result = voter_eligibility(name, age): The voter_eligibility function is called with the user-inputted name and age, and the result is stored in the variable result.\n",
    "* print(result): The result is then printed using print() method."
   ]
  },
  {
   "cell_type": "markdown",
   "id": "3d294f1f-f7de-40c2-a191-c84fd06877dd",
   "metadata": {},
   "source": [
    "3. Write a program to find the maximum of two given numbers using conditional statements."
   ]
  },
  {
   "cell_type": "code",
   "execution_count": 7,
   "id": "ba68a158-00ef-4ad8-8088-f2fea0e922b4",
   "metadata": {},
   "outputs": [
    {
     "name": "stdin",
     "output_type": "stream",
     "text": [
      "Enter the first number: 34\n",
      "Enter the second number: 56\n"
     ]
    },
    {
     "name": "stdout",
     "output_type": "stream",
     "text": [
      "56 is greater than the 34\n"
     ]
    }
   ],
   "source": [
    "def maximum(no1, no2):\n",
    "    if no1 > no2:\n",
    "        return f'{no1} is greater than the {no2}'\n",
    "    else:\n",
    "        return f'{no2} is greater than the {no1}'\n",
    "no1, no2 = int(input('Enter the first number:')), int(input('Enter the second number:'))\n",
    "result= maximum(no1, no2)\n",
    "print(result)"
   ]
  },
  {
   "cell_type": "markdown",
   "id": "ab4e9474-8865-4f51-b682-dc7ac305d9db",
   "metadata": {},
   "source": [
    "Explanation:\n",
    "\n",
    "* Function Definition:\n",
    "def maximum(no1, no2):\n",
    "Define a function named maximum that takes two parameters, no1 and no2.\n",
    "Inside the function:\n",
    "Check if no1 is greater than no2.\n",
    "If true, return a string indicating that no1 is greater.\n",
    "Otherwise, return a string indicating that no2 is greater.\n",
    "* User Input:\n",
    "no1, no2 = int(input('Enter the first number:')), int(input('Enter the second number:'))\n",
    "Prompt the user to enter two numbers.\n",
    "Use int(input(...)) to convert the entered values to integers.\n",
    "Assign the entered values to the variables no1 and no2.\n",
    "* Function Call and Result Display:\n",
    "result = maximum(no1, no2)\n",
    "Call the maximum function with the values entered by the user (no1 and no2).\n",
    "Store the result returned by the function in the variable result.\n",
    "print(result)\n",
    "Print the result, indicating which number is greater."
   ]
  },
  {
   "cell_type": "markdown",
   "id": "a0f8590b-752e-4b56-ba65-f2d618bb7f4d",
   "metadata": {},
   "source": [
    "4. Develop a program that calculates the grade of a student based on their exam score."
   ]
  },
  {
   "cell_type": "code",
   "execution_count": 8,
   "id": "dd9f455c-b0ee-4ed8-8844-bf0951b26ace",
   "metadata": {},
   "outputs": [
    {
     "name": "stdin",
     "output_type": "stream",
     "text": [
      "Enter the student's score:  99\n"
     ]
    },
    {
     "name": "stdout",
     "output_type": "stream",
     "text": [
      "The student's grade is: A\n"
     ]
    }
   ],
   "source": [
    "def calculate_grade(score):\n",
    "    if 90 <= score <= 100:\n",
    "        return 'A'\n",
    "    elif 80 <= score < 90:\n",
    "        return 'B'\n",
    "    elif 70 <= score < 80:\n",
    "        return 'C'\n",
    "    elif 60 <= score < 70:\n",
    "        return 'D'\n",
    "    elif 0 <= score < 60:\n",
    "        return 'F'\n",
    "    else:\n",
    "        return 'Invalid score'\n",
    "\n",
    "score = float(input(\"Enter the student's score: \"))\n",
    "grade = calculate_grade(score)\n",
    "print(f\"The student's grade is: {grade}\")"
   ]
  },
  {
   "cell_type": "markdown",
   "id": "628c2210-67b3-4519-89d3-f1cfea5cfc7f",
   "metadata": {},
   "source": [
    "Explanation: \n",
    "* Function Definition:\n",
    "The calculate_grade function takes a score as a parameter.\n",
    "It uses a series of if-elif-else statements to determine the corresponding grade based on the given score.\n",
    "If the score falls into a specific range, the function returns the corresponding grade.\n",
    "* Example Usage:\n",
    "Takes user input for the student's score using float(input(...)) to handle numeric input.\n",
    "Calls the calculate_grade function with the entered score.\n",
    "Prints the calculated grade for the entered score.\n",
    "\n",
    "Grade Criteria:\n",
    "A: 90-100,\n",
    "B: 80-89,\n",
    "C: 70-79,\n",
    "D: 60-69,\n",
    "F: 0-59,\n",
    "If the score is outside these ranges, it prints 'Invalid score'."
   ]
  },
  {
   "cell_type": "markdown",
   "id": "57719213-8bbc-4c29-b41f-6cc3b61906d0",
   "metadata": {},
   "source": [
    "5. Create a program that checks if a year is a leap year or not."
   ]
  },
  {
   "cell_type": "code",
   "execution_count": 9,
   "id": "005d40b9-9a6b-4419-ae29-85d74daf683d",
   "metadata": {},
   "outputs": [
    {
     "name": "stdin",
     "output_type": "stream",
     "text": [
      "Enter the year to check 2004\n"
     ]
    },
    {
     "name": "stdout",
     "output_type": "stream",
     "text": [
      "2004 is a leap year\n"
     ]
    }
   ],
   "source": [
    "def leap_year(year):\n",
    "    if (year %4 ==0 and year %100!=0) or year %400 ==0 :\n",
    "        return f'{year} is a leap year'\n",
    "    else:\n",
    "        return f'{year} is not a leap year'\n",
    "    \n",
    "year=int(input('Enter the year to check'))\n",
    "print(leap_year(year))"
   ]
  },
  {
   "cell_type": "markdown",
   "id": "33a96d85-22b9-497f-b5c3-d236e052a79b",
   "metadata": {},
   "source": [
    "Explanation: \n",
    "\n",
    "* Function Definition:\n",
    "def leap_year(year):\n",
    "Defines a function named leap_year that takes a year as a parameter.\n",
    "Inside the function:\n",
    "Checks if the year satisfies the conditions for being a leap year.\n",
    "Returns a formatted string indicating whether the year is a leap year or not.\n",
    "* User Input:\n",
    "year = int(input('Enter the year to check:'))\n",
    "Prompts the user to enter a year.\n",
    "Converts the entered value to an integer using int() and assigns it to the variable year.\n",
    "* Function Call and Result Display:\n",
    "print(leap_year(year))\n",
    "Calls the leap_year function with the user-entered year as an argument.\n",
    "Prints the result, which is a string indicating whether the entered year is a leap year or not."
   ]
  },
  {
   "cell_type": "markdown",
   "id": "4dd044db-e8f4-40e3-89b5-1657434ca44d",
   "metadata": {},
   "source": [
    "6. Write a program to classify a triangle based on its sides' lengths."
   ]
  },
  {
   "cell_type": "code",
   "execution_count": 11,
   "id": "03c6d1d3-8d82-4737-99fe-08d946c9d9a6",
   "metadata": {},
   "outputs": [
    {
     "name": "stdin",
     "output_type": "stream",
     "text": [
      "Enter the length of side 1:  45\n",
      "Enter the length of side 2:  45\n",
      "Enter the length of side 3:  60\n"
     ]
    },
    {
     "name": "stdout",
     "output_type": "stream",
     "text": [
      "The triangle is a Isosceles Triangle.\n"
     ]
    }
   ],
   "source": [
    "def triangle_type(side1, side2, side3):\n",
    "    if side1 + side2 > side3 and side1 + side3 > side2 and side2 + side3 > side1:\n",
    "        if side1 == side2 == side3:\n",
    "            return \"Equilateral Triangle\"\n",
    "        elif side1 == side2 or side1 == side3 or side2 == side3:\n",
    "            return \"Isosceles Triangle\"\n",
    "        else:\n",
    "            return \"Scalene Triangle\"\n",
    "    else:\n",
    "        return(\"Invalid triangle. The sum of the lengths of any two sides must be greater than the length of the third side\") \n",
    "\n",
    "side1 = float(input(\"Enter the length of side 1: \"))\n",
    "side2 = float(input(\"Enter the length of side 2: \"))\n",
    "side3 = float(input(\"Enter the length of side 3: \"))\n",
    "triangle = triangle_type(side1, side2, side3)\n",
    "print(f\"The triangle is a {triangle}.\")"
   ]
  },
  {
   "cell_type": "markdown",
   "id": "f3e99bc5-e2f5-49e3-9d65-1efc99e08264",
   "metadata": {},
   "source": [
    "Explanation: \n",
    "\n",
    "* Function Definition:\n",
    "The triangle_type function takes three parameters (side1, side2, and side3).\n",
    "It first checks if the entered side lengths form a valid triangle based on the triangle inequality theorem.\n",
    "If valid, it further checks the type of triangle (equilateral, isosceles, or scalene). If not valid, it returns a message about the invalid triangle.\n",
    "* Nested if-else Statements:\n",
    "Triangle Type Criteria:\n",
    "Equilateral Triangle: If all three sides are equal.\n",
    "Isosceles Triangle: If Two sides are equal.\n",
    "Scalene Triangle:If No sides are equal.\n",
    "\n",
    "* Example Usage:\n",
    "Takes user input for the lengths of three sides of a triangle using float(input(...)) to handle numeric input.\n",
    "Calls the triangle_type function with the user-entered side lengths.\n",
    "Prints the result, indicating the type of the triangle or an error message if it's an invalid triangle."
   ]
  },
  {
   "cell_type": "markdown",
   "id": "0192c4c4-802d-45c8-b8e4-996dd56a3c4e",
   "metadata": {},
   "source": [
    "7. Build a program that determines the largest of three given numbers."
   ]
  },
  {
   "cell_type": "code",
   "execution_count": 12,
   "id": "913d0897-d87b-4eb7-94ad-dd6f111e2814",
   "metadata": {},
   "outputs": [
    {
     "name": "stdin",
     "output_type": "stream",
     "text": [
      "Enter the first number:  35\n",
      "Enter the second number:  24\n",
      "Enter the third number:  67\n"
     ]
    },
    {
     "name": "stdout",
     "output_type": "stream",
     "text": [
      "The largest number among 35.0, 24.0, and 67.0 is: 67.0\n"
     ]
    }
   ],
   "source": [
    "def find_largest_number(num1, num2, num3):\n",
    "    if num1 >= num2 and num1 >= num3:\n",
    "        return num1\n",
    "    elif num2 >= num1 and num2 >= num3:\n",
    "        return num2\n",
    "    else:\n",
    "        return num3\n",
    "\n",
    "num1 = float(input(\"Enter the first number: \"))\n",
    "num2 = float(input(\"Enter the second number: \"))\n",
    "num3 = float(input(\"Enter the third number: \"))\n",
    "\n",
    "largest_number = find_largest_number(num1, num2, num3)\n",
    "print(f\"The largest number among {num1}, {num2}, and {num3} is: {largest_number}\")"
   ]
  },
  {
   "cell_type": "markdown",
   "id": "78a4d06c-3a48-43d1-9233-1bd852aab87c",
   "metadata": {},
   "source": [
    "Explanation: \n",
    "\n",
    "* Function Definition:\n",
    "find_largest_number is a function that takes three parameters (num1, num2, and num3).\n",
    "It uses if-else statements to compare the numbers and determine the largest among them.\n",
    "* Inside Function : Comparison:\n",
    "Compares num1 with both num2 and num3.\n",
    "If num1 is greater than or equal to both, it is returned as the largest.\n",
    "Otherwise, it moves to the next conditions.\n",
    "* Nested Comparison:\n",
    "Compares num2 with both num1 and num3.\n",
    "If num2 is greater than or equal to both, it is returned as the largest.\n",
    "Otherwise, it moves to the last condition.\n",
    "* Final Comparison:\n",
    "If none of the above conditions are met, it implies that num3 is the largest.\n",
    "num3 is returned as the result.\n",
    "\n",
    "Example Usage:\n",
    "* Takes user input for three numbers (num1, num2, and num3) using float(input(...)) to handle numeric input.\n",
    "* Calls the find_largest_number function with the user-entered numbers.\n",
    "* Prints the result, indicating the largest number among the entered values."
   ]
  },
  {
   "cell_type": "markdown",
   "id": "6466e863-778c-4eab-b595-fd8a419960ad",
   "metadata": {},
   "source": [
    "8. Develop a program that checks whether a character is a vowel or a consonant."
   ]
  },
  {
   "cell_type": "code",
   "execution_count": 13,
   "id": "1e84b634-84b3-49bc-aca0-e0987e9cf45b",
   "metadata": {},
   "outputs": [
    {
     "name": "stdin",
     "output_type": "stream",
     "text": [
      "Enter the character to check: d\n"
     ]
    },
    {
     "data": {
      "text/plain": [
       "'d is a consonant'"
      ]
     },
     "execution_count": 13,
     "metadata": {},
     "output_type": "execute_result"
    }
   ],
   "source": [
    "def vowel_or_constant_check(character):\n",
    "    vowels= 'aeiou'\n",
    "    if character.lower() in vowels:\n",
    "        return f'{character} is vowel'\n",
    "    else:\n",
    "        return f'{character} is a consonant'\n",
    "character=input('Enter the character to check:')\n",
    "vowel_or_constant_check(character)"
   ]
  },
  {
   "cell_type": "markdown",
   "id": "20e38c41-e060-4f74-81b0-75df10c3559c",
   "metadata": {},
   "source": [
    "Explanation:\n",
    "\n",
    "* Function Definition: def vowel_or_constant_check(character):\n",
    "Defines a function named vowel_or_constant_check that takes a character as a parameter.\n",
    "* Inside the function:\n",
    "Defines a string vowels containing the vowels ('aeiou').\n",
    "Converts the input character to lowercase using character.lower() to handle both uppercase and lowercase input.\n",
    "Checks if the lowercase character is in the vowels string to determine if it's a vowel.\n",
    "Returns a formatted string indicating whether the character is a vowel or a consonant.\n",
    "* User Input:\n",
    "character = input('Enter the character to check:')\n",
    "Prompts the user to enter a character.\n",
    "Assigns the entered value to the variable character.\n",
    "* Function Call and Result Display:\n",
    "result = vowel_or_constant_check(character)\n",
    "Calls the vowel_or_constant_check function with the user-entered character as an argument.\n",
    "Stores the result in the variable result.\n",
    "* print(result)\n",
    "Prints the result, which is a string indicating whether the entered character is a vowel or a consonant."
   ]
  },
  {
   "cell_type": "markdown",
   "id": "0855d35d-9989-46f7-be04-c1b02c324021",
   "metadata": {},
   "source": [
    "9. Create a program to calculate the total cost of a shopping cart based on discounts."
   ]
  },
  {
   "cell_type": "code",
   "execution_count": 14,
   "id": "9c2c3666-66b2-416c-be62-958561bff454",
   "metadata": {},
   "outputs": [
    {
     "name": "stdin",
     "output_type": "stream",
     "text": [
      "Enter the price of the item:  50\n",
      "Enter the quantity:  10\n"
     ]
    },
    {
     "name": "stdout",
     "output_type": "stream",
     "text": [
      "The total cost for 10 items is $450.00.\n"
     ]
    }
   ],
   "source": [
    "def calculate_discounted_price(item_price, quantity):\n",
    "    #Calculate the discounted price for a given item based on quantity.\n",
    "    if quantity >= 10:\n",
    "        discount_percentage = 0.1  # 10% discount for quantities of 10 or more\n",
    "    else:\n",
    "        discount_percentage = 0\n",
    "\n",
    "    discounted_price = item_price * (1-discount_percentage)\n",
    "    total_cost = discounted_price * quantity\n",
    "    return total_cost\n",
    "\n",
    "# Get user input for the item and quantity\n",
    "try:\n",
    "    item_price = float(input(\"Enter the price of the item: \"))\n",
    "    quantity = int(input(\"Enter the quantity: \"))\n",
    "\n",
    "    if item_price >= 0 and quantity >= 0:\n",
    "        total_cost = calculate_discounted_price(item_price, quantity)\n",
    "        print(f\"The total cost for {quantity} items is ${total_cost:.2f}.\")\n",
    "    else:\n",
    "        print(\"Invalid input. Price and quantity must be non-negative.\")\n",
    "except ValueError:\n",
    "    print(\"Invalid input. Please enter valid numeric values for the price and quantity.\")\n"
   ]
  },
  {
   "cell_type": "markdown",
   "id": "d164520e-3a4f-4109-9d0e-b16aa80e1ad4",
   "metadata": {},
   "source": [
    "Explanation:\n",
    "\n",
    "* calculate_discounted_price Function:\n",
    "Takes two parameters - item_price and quantity.\n",
    "Applies a 10% discount if the quantity is 10 or more.\n",
    "Calculates the discounted price and then the total cost for the given quantity.\n",
    "Returns the total cost.\n",
    "* User Input Handling:\n",
    "Takes user input for the price of the item and the quantity.\n",
    "Uses a try and except block to handle potential ValueError exceptions during conversion.\n",
    "* Validating Input and Calculating Total Cost:\n",
    "Checks if both the item price and quantity are non-negative.\n",
    "Calls the calculate_discounted_price function with the entered item price and quantity.\n",
    "Prints the total cost with a 2-decimal precision.\n",
    "* Handling Input Errors:\n",
    "If the conversion to floating-point or integer numbers fails, the code catches the ValueError in the except block.\n",
    "Prints an error message instructing the user to enter valid numeric values for the price and quantity."
   ]
  },
  {
   "cell_type": "markdown",
   "id": "afe9653f-22ff-46c6-98be-4fd15302ca45",
   "metadata": {},
   "source": [
    "10. Write a program that checks if a given number is even or odd."
   ]
  },
  {
   "cell_type": "code",
   "execution_count": 15,
   "id": "e3c55cb7-31a7-41c9-bb73-a5ecc71c6414",
   "metadata": {},
   "outputs": [
    {
     "name": "stdin",
     "output_type": "stream",
     "text": [
      "Enter the positive number to check odd or even:  345\n"
     ]
    },
    {
     "name": "stdout",
     "output_type": "stream",
     "text": [
      "345 is an odd number.\n"
     ]
    }
   ],
   "source": [
    "def odd_or_even(number):\n",
    "    if number % 2 == 0:\n",
    "        print(f'{number} is an even number.')\n",
    "    else:\n",
    "        print(f'{number} is an odd number.')\n",
    "\n",
    "number = int(input('Enter the positive number to check odd or even: '))\n",
    "odd_or_even(number)"
   ]
  },
  {
   "cell_type": "markdown",
   "id": "f16938e9-39ba-43da-a389-25f354d31aae",
   "metadata": {},
   "source": [
    "Explanation:\n",
    "\n",
    "Function Definition:\n",
    "\n",
    "* def odd_or_even(number):\n",
    "Defines a function named odd_or_even that takes a number as a parameter.\n",
    "\n",
    "* Inside the function:\n",
    "Checks if the number is divisible by 2 (number % 2 == 0) to determine if it's even.\n",
    "Prints a message indicating whether the number is even or odd.\n",
    "* User Input:\n",
    "number = int(input('Enter the number to check odd or even: '))\n",
    "Prompts the user to enter a number.\n",
    "Converts the entered value to an integer using int() and assigns it to the variable number.\n",
    "\n",
    "Function Call and Result Display:\n",
    "* odd_or_even(number)\n",
    "Calls the odd_or_even function with the user-entered number as an argument.\n",
    "Prints a message indicating whether the entered number is even or odd."
   ]
  },
  {
   "cell_type": "markdown",
   "id": "1fac79b0-0c81-48a1-89b8-792cbe54649b",
   "metadata": {},
   "source": [
    "# Intermediate Level:\n",
    "11. Write a program that calculates the roots of a quadratic equation ."
   ]
  },
  {
   "cell_type": "code",
   "execution_count": 1,
   "id": "7fa57ec6-ee72-42a0-a092-553ee21c3d6a",
   "metadata": {},
   "outputs": [
    {
     "name": "stdin",
     "output_type": "stream",
     "text": [
      "Enter the coefficient a:  1\n",
      "Enter the coefficient b:  -1\n",
      "Enter the coefficient c:  2\n"
     ]
    },
    {
     "name": "stdout",
     "output_type": "stream",
     "text": [
      "Complex Roots. Root 1 = 0.5 + 1.3228756555322954i, Root 2 = 0.5 - 1.3228756555322954i\n"
     ]
    }
   ],
   "source": [
    "def quadratic_equation(a, b, c):\n",
    "    if a != 0:\n",
    "        discriminant = b**2 - 4*a*c\n",
    "        squared_value = abs(discriminant)**0.5\n",
    "\n",
    "        if discriminant >= 0:\n",
    "            if discriminant == 0:\n",
    "                root = -b / (2 * a)\n",
    "                return f'Real and same root. Root = {root}'\n",
    "            else:\n",
    "                root1 = (-b + squared_value) / (2 * a)\n",
    "                root2 = (-b - squared_value) / (2 * a)\n",
    "                return f'Real and different roots. Root 1 = {root1}, Root 2 = {root2}'\n",
    "        else:\n",
    "            real_part = -b / (2 * a)\n",
    "            imaginary_part = squared_value / (2 * a)\n",
    "            root1 = f\"{real_part} + {imaginary_part}i\"\n",
    "            root2 = f\"{real_part} - {imaginary_part}i\"\n",
    "            return f'Complex Roots. Root 1 = {root1}, Root 2 = {root2}'\n",
    "    else:\n",
    "        return 'Input correct quadratic equation (a cannot be zero)'\n",
    "\n",
    "a = float(input('Enter the coefficient a: '))\n",
    "b = float(input('Enter the coefficient b: '))\n",
    "c = float(input('Enter the coefficient c: '))\n",
    "\n",
    "print(quadratic_equation(a, b, c))"
   ]
  },
  {
   "cell_type": "markdown",
   "id": "b3f77cb4-542e-4c27-9e6b-a04c4eb10333",
   "metadata": {},
   "source": [
    "Explanation:\n",
    "\n",
    "* Function Definition:\n",
    "quadratic_equation is a function that takes three coefficients (a, b, and c) as input and calculates the roots of the quadratic equation.\n",
    "* Input Validation:\n",
    "Checks if a is not equal to zero to ensure a valid quadratic equation. If a is zero, it returns a message indicating that the input is not a valid quadratic equation.\n",
    "* Calculating Discriminant:\n",
    "Calculates the discriminant (b**2 - 4*a*c) and its square root (squared_value) for further calculations.\n",
    "* Determining Roots:\n",
    "Checks the discriminant to determine the nature of the roots (real or complex).\n",
    "If real roots, further checks if there's one or two real roots and calculates accordingly.\n",
    "If complex roots, calculates the real and imaginary parts of the roots.\n",
    "* Output:\n",
    "Prints the result, indicating the type and values of the roots."
   ]
  },
  {
   "cell_type": "markdown",
   "id": "16b1a58c-e083-4c44-9704-3d0949a8e3fb",
   "metadata": {},
   "source": [
    "12. Create a program that determines the day of the week based on the day number (1-7)."
   ]
  },
  {
   "cell_type": "code",
   "execution_count": 8,
   "id": "0af5ac1e-a50b-4f79-a45b-0824289e96b9",
   "metadata": {},
   "outputs": [
    {
     "name": "stdin",
     "output_type": "stream",
     "text": [
      "Enter the day number (1-7):  1\n"
     ]
    },
    {
     "name": "stdout",
     "output_type": "stream",
     "text": [
      "The day of the week for day number 1 is Monday.\n"
     ]
    }
   ],
   "source": [
    "def day(day_number):\n",
    "    days=['Monday', 'Tuesday', 'Wednesday', 'Thursday', 'Friday', 'Saturday', 'Sunday']\n",
    "    if 1<=day_number <=7:\n",
    "        return days[day_number-1]\n",
    "    else:\n",
    "        return 'Invalid day Number'\n",
    "    \n",
    "day_number = int(input(\"Enter the day number (1-7): \"))\n",
    "day_of_week = day(day_number)\n",
    "print(f\"The day of the week for day number {day_number} is {day_of_week}.\")"
   ]
  },
  {
   "cell_type": "markdown",
   "id": "1551529a-ce67-4af8-b843-f04d4d384865",
   "metadata": {},
   "source": [
    "Explanation:\n",
    "* day Function:\n",
    "Defines a function called day that takes a parameter day_number.\n",
    "Creates a list days containing the names of the days of the week.\n",
    "Checks if the entered day_number is within the valid range (1-7).\n",
    "Returns the corresponding day of the week from the days list.\n",
    "If the entered day_number is outside the valid range, it returns an error message.\n",
    "* User Input Handling:\n",
    "Takes user input for the day_number using the input function.\n",
    "Converts the input to an integer using int().\n",
    "* Function Call and Printing Result:\n",
    "Calls the day function with the entered day_number.\n",
    "Prints the determined day of the week using an f-string.\n",
    "* Handling Invalid Input:\n",
    "If the entered day_number is not within the valid range, the function returns an error message.\n",
    "The program then prints invalid error message."
   ]
  },
  {
   "cell_type": "markdown",
   "id": "69ad94a8-3001-425f-8b97-82fbd261a9fa",
   "metadata": {},
   "source": [
    "13. Develop a program that calculates the factorial of a given number using recursion."
   ]
  },
  {
   "cell_type": "code",
   "execution_count": 16,
   "id": "710efe3e-8d0e-4b5a-a7de-ae9a165e495d",
   "metadata": {},
   "outputs": [
    {
     "name": "stdin",
     "output_type": "stream",
     "text": [
      "Enter a non-negative integer:  5\n"
     ]
    },
    {
     "name": "stdout",
     "output_type": "stream",
     "text": [
      "The factorial for number 5 is 120\n"
     ]
    }
   ],
   "source": [
    "def factorial(number):\n",
    "    if number==0 or number==1:\n",
    "        return 1\n",
    "    else:\n",
    "        return number*factorial(number-1)\n",
    "\n",
    "number = int(input(\"Enter a non-negative integer: \"))\n",
    "print(f'The factorial for number {number} is {factorial(number)}')    "
   ]
  },
  {
   "cell_type": "markdown",
   "id": "2934dc62-2575-416c-8f00-08285fc90527",
   "metadata": {},
   "source": [
    "Explanation: \n",
    "* factorial Function:\n",
    "Defines a recursive function named factorial that takes a parameter number.\n",
    "Checks for the base case: if number is 0 or 1, it returns 1.\n",
    "If not, it returns number * factorial(number - 1), thus invoking the function recursively.\n",
    "* User Input Handling:\n",
    "Takes user input for a non-negative integer using the input function.\n",
    "Converts the input to an integer using int().\n",
    "* Calculating and Printing Result:\n",
    "Calls the factorial function with the entered number.\n",
    "Prints the calculated factorial using an f-string."
   ]
  },
  {
   "cell_type": "markdown",
   "id": "1631baf2-bb5c-4986-af72-ccecd533e4b0",
   "metadata": {},
   "source": [
    "14. Write a program to find the largest among three numbers without using the `max()` function."
   ]
  },
  {
   "cell_type": "code",
   "execution_count": 17,
   "id": "b73e59ca-05af-4d7e-b85d-7213f5ef1491",
   "metadata": {},
   "outputs": [
    {
     "name": "stdin",
     "output_type": "stream",
     "text": [
      "Enter the first number:  405\n",
      "Enter the second number:  353\n",
      "Enter the third number:  3523\n"
     ]
    },
    {
     "name": "stdout",
     "output_type": "stream",
     "text": [
      "The largest number among 405.0, 353.0, and 3523.0 is: 3523.0\n"
     ]
    }
   ],
   "source": [
    "def find_largest_number(num1, num2, num3):\n",
    "    if num1 >= num2 and num1 >= num3:\n",
    "        return num1\n",
    "    elif num2 >= num1 and num2 >= num3:\n",
    "        return num2\n",
    "    else:\n",
    "        return num3\n",
    "\n",
    "num1 = float(input(\"Enter the first number: \"))\n",
    "num2 = float(input(\"Enter the second number: \"))\n",
    "num3 = float(input(\"Enter the third number: \"))\n",
    "\n",
    "largest_number = find_largest_number(num1, num2, num3)\n",
    "print(f\"The largest number among {num1}, {num2}, and {num3} is: {largest_number}\")"
   ]
  },
  {
   "cell_type": "markdown",
   "id": "8a74fc07-97fc-4d6b-9a34-d956139459d6",
   "metadata": {},
   "source": [
    "Explanation: \n",
    "\n",
    "* Function Definition:\n",
    "find_largest_number is a function that takes three parameters (num1, num2, and num3).\n",
    "It uses if-else statements to compare the numbers and determine the largest among them.\n",
    "* Inside Function : Comparison:\n",
    "Compares num1 with both num2 and num3.\n",
    "If num1 is greater than or equal to both, it is returned as the largest.\n",
    "Otherwise, it moves to the next conditions.\n",
    "* Nested Comparison:\n",
    "Compares num2 with both num1 and num3.\n",
    "If num2 is greater than or equal to both, it is returned as the largest.\n",
    "Otherwise, it moves to the last condition.\n",
    "* Final Comparison:\n",
    "If none of the above conditions are met, it implies that num3 is the largest.\n",
    "num3 is returned as the result.\n",
    "\n",
    "Example Usage:\n",
    "* Takes user input for three numbers (num1, num2, and num3) using float(input(...)) to handle numeric input.\n",
    "* Calls the find_largest_number function with the user-entered numbers.\n",
    "* Prints the result, indicating the largest number among the entered values."
   ]
  },
  {
   "cell_type": "markdown",
   "id": "ea94d76b-539f-40de-a9fa-98e1a8202f4a",
   "metadata": {},
   "source": [
    "15. Create a program that simulates a basic ATM transaction menu."
   ]
  },
  {
   "cell_type": "code",
   "execution_count": 9,
   "id": "7434cc45-ed2f-446a-930b-adb947748f67",
   "metadata": {},
   "outputs": [
    {
     "name": "stdout",
     "output_type": "stream",
     "text": [
      "WELCOME TO MY ATM\n",
      "        Please INSERT your card!\n",
      "        -- Type INSERT for card insertion\n"
     ]
    },
    {
     "name": "stdin",
     "output_type": "stream",
     "text": [
      " insert\n"
     ]
    },
    {
     "name": "stdout",
     "output_type": "stream",
     "text": [
      "ATM Transaction Menu:\n",
      "\n",
      "Choose your option: \n",
      "1. Check Balance\n",
      "2. Deposit Money\n",
      "3. Withdraw Money\n",
      "4. Quit\n"
     ]
    },
    {
     "name": "stdin",
     "output_type": "stream",
     "text": [
      " 2\n",
      "Enter the amount you want to deposit?  150\n"
     ]
    },
    {
     "name": "stdout",
     "output_type": "stream",
     "text": [
      "Your current available balance is Rs. 1150.0\n"
     ]
    },
    {
     "name": "stdin",
     "output_type": "stream",
     "text": [
      "To coninue with the main menu, Type BACK else Type QUIT:  back\n"
     ]
    },
    {
     "name": "stdout",
     "output_type": "stream",
     "text": [
      "ATM Transaction Menu:\n",
      "\n",
      "Choose your option: \n",
      "1. Check Balance\n",
      "2. Deposit Money\n",
      "3. Withdraw Money\n",
      "4. Quit\n"
     ]
    },
    {
     "name": "stdin",
     "output_type": "stream",
     "text": [
      " 1\n",
      "Enter your 4 digit pin:  1234\n"
     ]
    },
    {
     "name": "stdout",
     "output_type": "stream",
     "text": [
      "Your account balance is Rs.1150.0\n"
     ]
    },
    {
     "name": "stdin",
     "output_type": "stream",
     "text": [
      "To coninue with the main menu, Type BACK else Type QUIT:  back\n"
     ]
    },
    {
     "name": "stdout",
     "output_type": "stream",
     "text": [
      "ATM Transaction Menu:\n",
      "\n",
      "Choose your option: \n",
      "1. Check Balance\n",
      "2. Deposit Money\n",
      "3. Withdraw Money\n",
      "4. Quit\n"
     ]
    },
    {
     "name": "stdin",
     "output_type": "stream",
     "text": [
      " 3\n",
      "Enter the amount to withdraw:  2345\n",
      "Enter your 4 digit pin:  1234\n"
     ]
    },
    {
     "name": "stdout",
     "output_type": "stream",
     "text": [
      "Insufficient funds. Withdrawal amount exceeds your balance.\n"
     ]
    },
    {
     "name": "stdin",
     "output_type": "stream",
     "text": [
      "To coninue with the main menu, Type BACK else Type QUIT:  back\n"
     ]
    },
    {
     "name": "stdout",
     "output_type": "stream",
     "text": [
      "ATM Transaction Menu:\n",
      "\n",
      "Choose your option: \n",
      "1. Check Balance\n",
      "2. Deposit Money\n",
      "3. Withdraw Money\n",
      "4. Quit\n"
     ]
    },
    {
     "name": "stdin",
     "output_type": "stream",
     "text": [
      " 3\n",
      "Enter the amount to withdraw:  346\n",
      "Enter your 4 digit pin:  w222\n"
     ]
    },
    {
     "name": "stdout",
     "output_type": "stream",
     "text": [
      "Incorrect pin. Enter your valid 4 digit pin\n"
     ]
    },
    {
     "name": "stdin",
     "output_type": "stream",
     "text": [
      "To coninue with the main menu, Type BACK else Type QUIT:  back\n"
     ]
    },
    {
     "name": "stdout",
     "output_type": "stream",
     "text": [
      "ATM Transaction Menu:\n",
      "\n",
      "Choose your option: \n",
      "1. Check Balance\n",
      "2. Deposit Money\n",
      "3. Withdraw Money\n",
      "4. Quit\n"
     ]
    },
    {
     "name": "stdin",
     "output_type": "stream",
     "text": [
      " 3\n",
      "Enter the amount to withdraw:  755\n",
      "Enter your 4 digit pin:  1234\n"
     ]
    },
    {
     "name": "stdout",
     "output_type": "stream",
     "text": [
      "Rs.755.00 has been withdrawn. Your current available balance is: Rs.395.00\n"
     ]
    },
    {
     "name": "stdin",
     "output_type": "stream",
     "text": [
      "To coninue with the main menu, Type BACK else Type QUIT:  quit\n"
     ]
    },
    {
     "name": "stdout",
     "output_type": "stream",
     "text": [
      "Thank you for using the ATM. Goodbye!\n"
     ]
    }
   ],
   "source": [
    "class ATM_stimulation:\n",
    "    \n",
    "    def __init__(self, initial_balance=1000.0):\n",
    "        self.initial_balance = initial_balance\n",
    "           \n",
    "    def display(self):\n",
    "        #welcome\n",
    "        print('''WELCOME TO MY ATM\n",
    "        Please INSERT your card!\n",
    "        -- Type INSERT for card insertion''')\n",
    "        status = input().lower()\n",
    "        if status == 'insert':\n",
    "            return self.main_menu()\n",
    "        else:\n",
    "            print('Try Again!')\n",
    "        \n",
    "    def main_menu(self):       \n",
    "        #  menu\n",
    "        print(\"ATM Transaction Menu:\",end='\\n\\n')\n",
    "        print('Choose your option: ')\n",
    "        print(\"1. Check Balance\")\n",
    "        print(\"2. Deposit Money\")\n",
    "        print(\"3. Withdraw Money\")\n",
    "        print(\"4. Quit\")\n",
    "        option = int(input())\n",
    "        return option\n",
    "    def options(self):\n",
    "        option=input('To coninue with the main menu, Type BACK else Type QUIT: ').lower()\n",
    "        if option=='back':\n",
    "            return self.main_menu()\n",
    "        else:\n",
    "            return 4\n",
    "    def pin(self):\n",
    "        pin = input('Enter your 4 digit pin: ')\n",
    "        if pin.isdigit() and len(pin)==4:\n",
    "            return True\n",
    "        else:\n",
    "            print('Incorrect pin. Enter your valid 4 digit pin')\n",
    "            return False\n",
    "        \n",
    "    def check_balance(self):\n",
    "        #balance check\n",
    "        pin= self.pin()\n",
    "        if pin:\n",
    "            print(f'Your account balance is Rs.{self.initial_balance}')\n",
    "        return self.options()\n",
    "\n",
    "    def deposit_money(self):\n",
    "        #depositing money\n",
    "        rupees = int(input('Enter the amount you want to deposit? '))\n",
    "        self.initial_balance += rupees\n",
    "        print('Your current available balance is Rs.', self.initial_balance)\n",
    "        \n",
    "        return self.options()\n",
    "    \n",
    "    def withdraw_money(self):\n",
    "        #withdraw money from the account.\n",
    "        amount= float(input('Enter the amount to withdraw: '))\n",
    "        pin= self.pin()\n",
    "        if pin:\n",
    "            if amount > 0 and amount <= self.initial_balance:\n",
    "                self.initial_balance -= amount\n",
    "                print(f\"Rs.{amount:.2f} has been withdrawn. Your current available balance is: Rs.{self.initial_balance:.2f}\")\n",
    "            elif amount <= 0:\n",
    "                print(\"Invalid withdrawal amount. Please enter a positive amount.\")\n",
    "            else:\n",
    "                print(\"Insufficient funds. Withdrawal amount exceeds your balance.\")\n",
    "                return self.options()\n",
    "        return self.options()\n",
    "\n",
    "atm_instance = ATM_stimulation()\n",
    "\n",
    "# Initial display\n",
    "option = atm_instance.display()\n",
    "\n",
    "# Main loop\n",
    "while option != 4:\n",
    "    if option == 1:\n",
    "        option = atm_instance.check_balance()\n",
    "    elif option == 2:\n",
    "        option = atm_instance.deposit_money()\n",
    "    elif option ==3:\n",
    "        option = atm_instance.withdraw_money()\n",
    "    else:\n",
    "        print(\"Invalid option. Please choose a valid option.\")\n",
    "        option = atm_instance.display()\n",
    "\n",
    "print(\"Thank you for using the ATM. Goodbye!\")"
   ]
  },
  {
   "cell_type": "markdown",
   "id": "945a125d-9faa-4984-9430-a774cd9391d8",
   "metadata": {},
   "source": [
    "Explanation: \n",
    "    \n",
    "Class Definition:\n",
    "* ATM_stimulation is a class that represents an ATM simulation.\n",
    "* The class has an __init__ method to initialize the object with the initial balances.\n",
    "Display function:\n",
    "* display function prompts the user to insert the card and returns the result.\n",
    "Main Menu function:\n",
    "* main_menu function displays the main menu and returns the selected option.\n",
    "Options function:\n",
    "* options function allows the user to continue with the main menu or quit using the if and else statement.\n",
    "PIN function:\n",
    "* pin method prompts the user to enter a 4-digit PIN and validates it.\n",
    "Check Balance function:\n",
    "* check_balance method checks the balance if the PIN is valid else return the options function.\n",
    "Deposit Money function:\n",
    "* deposit_money method allows the user to deposit money into their account, also updating the initial amount with the deposited money and print the total available finally return the option function to either continue or quit.\n",
    "Withdraw Money function:\n",
    "* withdraw_money method allows the user to withdraw money from their account. Get the input amount from user to withdraw then check the pin function is true if true based on the amount available he can withdraw or else print insufficient message finally return the option function.\n",
    "ATM Instance and Main Loop:\n",
    "* An instance of the ATM_stimulation class is created, and the main loop is initiated to handle user interactions. Where i used the while loop to continue until the option gets 4 / quit as option."
   ]
  },
  {
   "cell_type": "markdown",
   "id": "377102a7-3e29-4495-912a-1548a17c1b8e",
   "metadata": {},
   "source": [
    "16. Build a program that checks if a given string is a palindrome or not."
   ]
  },
  {
   "cell_type": "code",
   "execution_count": 1,
   "id": "d5ffc127-99c9-4997-adbc-46291ab5f903",
   "metadata": {},
   "outputs": [
    {
     "name": "stdin",
     "output_type": "stream",
     "text": [
      "Enter the string malayalam\n"
     ]
    },
    {
     "name": "stdout",
     "output_type": "stream",
     "text": [
      "malayalam is a palindrome\n"
     ]
    }
   ],
   "source": [
    "def palindrome(string):\n",
    "    string_lowered= string.lower()\n",
    "    if string_lowered ==string_lowered[::-1]:\n",
    "        print(f'{string} is a palindrome')\n",
    "    else:\n",
    "        print(f'{string} is not a palindrome')\n",
    "string= input('Enter the string') \n",
    "palindrome(string)"
   ]
  },
  {
   "cell_type": "markdown",
   "id": "fa540ee6-5184-4506-baa3-5b7cdae8e54d",
   "metadata": {},
   "source": [
    "Explanation: \n",
    "* Function Definition:\n",
    "The palindrome function takes a parameter string.\n",
    "It converts the input string to lowercase using lower() to make the palindrome check case-insensitive.\n",
    "Using the If else consition it compares the original lowercase string with its reverse to check if it's a palindrome.\n",
    "Prints whether the entered string is a palindrome or not.\n",
    "* Example Usage:\n",
    "Takes user input for a string using input('Enter the string').\n",
    "Calls the palindrome function with the user-entered string.\n",
    "Prints whether the entered string is a palindrome or not."
   ]
  },
  {
   "cell_type": "markdown",
   "id": "bb14aeca-1b0a-4c43-90e0-31669b6ff79b",
   "metadata": {},
   "source": [
    "17. Write a program that calculates the average of a list of numbers, excluding the smallest and largest values."
   ]
  },
  {
   "cell_type": "code",
   "execution_count": 17,
   "id": "a2c5ed55-d1ce-4183-929f-3fce2f559777",
   "metadata": {},
   "outputs": [
    {
     "name": "stdout",
     "output_type": "stream",
     "text": [
      "The average excluding the smallest and largest values is: 3.0\n"
     ]
    }
   ],
   "source": [
    "def largest(list_):\n",
    "    largest_value = list_[0]\n",
    "    for i in list_:\n",
    "        if i >= largest_value:\n",
    "            largest_value = i\n",
    "    return largest_value\n",
    "\n",
    "def smallest(list_):\n",
    "    smallest = list_[0]\n",
    "    for i in list_:\n",
    "        if i <= smallest:\n",
    "            smallest = i\n",
    "    return smallest\n",
    "\n",
    "def average(list_):\n",
    "    max_value = largest(list_)\n",
    "    min_value = smallest(list_)\n",
    "    avg_list = sum([i for i in list_ if i != max_value and i != min_value])\n",
    "    count = len([i for i in list_ if i != max_value and i != min_value])\n",
    "    \n",
    "    return avg_list / count if count != 0 else 0\n",
    "\n",
    "numbers_list = [1, 2, 3, 4, 5]\n",
    "result = average(numbers_list)\n",
    "print(f'The average excluding the smallest and largest values is: {result}')"
   ]
  },
  {
   "cell_type": "markdown",
   "id": "5c4c66f1-1cb3-4cfa-a583-c7c664df5415",
   "metadata": {},
   "source": [
    "Explanation: \n",
    "* largest function: It finds the largest value in the given list. It initializes largest_value with the first element of the list and iterates through the list, updating largest_value if a larger value is encountered.\n",
    "* smallest function: It finds the smallest value in the given list. It initializes smallest with the first element of the list and iterates through the list, updating smallest if a smaller value is encountered.\n",
    "* average function: It calculates the average of the list excluding the smallest and largest values. It uses the largest and smallest functions to find these values. Then, it creates a list comprehension to filter out the values that are not the smallest or largest. The sum and length of this filtered list are used to calculate the average, with a check to avoid division by zero.\n",
    "* Main part of the code: It initializes a list of numbers (numbers_list) and calls the average function to calculate the average, excluding the smallest and largest values. The result is then printed."
   ]
  },
  {
   "cell_type": "markdown",
   "id": "c0a35000-f1a5-4fac-90e3-25b1f8a75b34",
   "metadata": {},
   "source": [
    "18. Develop a program that converts a given temperature from Celsius to Fahrenheit."
   ]
  },
  {
   "cell_type": "code",
   "execution_count": 18,
   "id": "1ae4efe3-f4b1-4fd8-827b-9bf213cb612f",
   "metadata": {},
   "outputs": [
    {
     "name": "stdin",
     "output_type": "stream",
     "text": [
      "Enter the temperature in Celsius:  102\n"
     ]
    },
    {
     "name": "stdout",
     "output_type": "stream",
     "text": [
      "102.0 degrees Celsius is equal to 215.60 degrees Fahrenheit.\n"
     ]
    }
   ],
   "source": [
    "def celsius_to_fahrenheit(celsius):\n",
    "    fahrenheit = (celsius * 9/5) + 32\n",
    "    return fahrenheit\n",
    "\n",
    "celsius = float(input(\"Enter the temperature in Celsius: \"))\n",
    "fahrenheit = celsius_to_fahrenheit(celsius)\n",
    "print(f\"{celsius} degrees Celsius is equal to {fahrenheit:.2f} degrees Fahrenheit.\")"
   ]
  },
  {
   "cell_type": "markdown",
   "id": "c780a0be-dcbb-4767-81d4-a0a2c7150be5",
   "metadata": {},
   "source": [
    "Explanation: \n",
    "\n",
    "* Function Definition: A function named celsius_to_fahrenheit is defined.\n",
    "It takes a parameter celsius, representing the temperature in Celsius.\n",
    "Inside the function, the Celsius temperature is converted to Fahrenheit using the formula (Celsius * 9/5) + 32.\n",
    "The result (temperature in Fahrenheit) is returned from the function.\n",
    "* User Input: The user is prompted to enter a temperature in Celsius using the input function.\n",
    "The entered value is converted to a floating-point number using float().\n",
    "* Function Invocation: The celsius_to_fahrenheit function is called with the user-provided temperature in Celsius (celsius) as an argument.\n",
    "The result (temperature in Fahrenheit) is stored in the variable fahrenheit.\n",
    "* Print Statement:The original temperature in Celsius and its equivalent in Fahrenheit are printed.\n",
    "The :.2f in the print statement ensures that the Fahrenheit value is formatted with two decimal places."
   ]
  },
  {
   "cell_type": "markdown",
   "id": "72d84860-780c-45d6-bf55-4d2b5bad7d4b",
   "metadata": {},
   "source": [
    "19. Create a program that simulates a basic calculator for addition, subtraction, multiplication, and division."
   ]
  },
  {
   "cell_type": "code",
   "execution_count": 8,
   "id": "7f501996-da47-4c09-a4db-949cf5264e87",
   "metadata": {},
   "outputs": [
    {
     "name": "stdin",
     "output_type": "stream",
     "text": [
      "Enter your first value:  10\n",
      "Enter your second value:  0\n"
     ]
    },
    {
     "name": "stdout",
     "output_type": "stream",
     "text": [
      "\n",
      "\n",
      "For Addition type 1,\n",
      "For Subtraction type 2,\n",
      "For Multiplication type 3,\n",
      "For Division type 4.\n",
      "\n"
     ]
    },
    {
     "name": "stdin",
     "output_type": "stream",
     "text": [
      "Enter the operation:  4\n"
     ]
    },
    {
     "name": "stdout",
     "output_type": "stream",
     "text": [
      "Value 2 cannot be Zero!\n"
     ]
    }
   ],
   "source": [
    "def calculator(value1, value2, operation):\n",
    "    if operation == 1:\n",
    "        return value1 + value2\n",
    "    elif operation == 2:\n",
    "        return value1 - value2\n",
    "    elif operation == 3:\n",
    "        return value1 * value2\n",
    "    elif operation == 4:\n",
    "        if value2 != 0:\n",
    "            return value1 / value2\n",
    "        else:\n",
    "            print('Value 2 cannot be Zero for division!')\n",
    "            return None\n",
    "    else:\n",
    "        print('Invalid operation!')\n",
    "        return None\n",
    "\n",
    "value1 = float(input('Enter your first value: '))\n",
    "value2 = float(input('Enter your second value: '))\n",
    "\n",
    "print('''\\n\n",
    "For Addition type 1,\n",
    "For Subtraction type 2,\n",
    "For Multiplication type 3,\n",
    "For Division type 4.\n",
    "''')\n",
    "operation = int(input('Enter the operation: '))\n",
    "\n",
    "result = calculator(value1, value2, operation)\n",
    "\n",
    "if result is not None:\n",
    "    print(f'The result is: {result}')"
   ]
  },
  {
   "cell_type": "markdown",
   "id": "9b1163c8-d8e9-4d91-aa0a-7be4db532817",
   "metadata": {},
   "source": [
    "Explanation:\n",
    "\n",
    "* def calculator(value1, value2, operation): This function takes three parameters (value1, value2, and operation).\n",
    "It checks the value of the operation parameter and performs addition, subtraction, multiplication, or division accordingly.\n",
    "If the operation is division (operation == 4), it checks if value2 is not zero before performing the division operation. If value2 is zero, it prints an error message.\n",
    "If the operation is not 1, 2, 3, or 4, it prints an \"Invalid operation!\" message.\n",
    "The function returns the result of the operation or None in case of an error.\n",
    "* User Input:The user is prompted to enter two numeric values (value1 and value2). The float() function is used to convert the user input to floating-point numbers.\n",
    "* Operation Input:The user is presented with a menu of operations (addition, subtraction, multiplication, and division).\n",
    "The int() function is used to convert the user input to an integer representing the chosen operation.\n",
    "* Function Call:result = calculator(value1, value2, operation) The calculator function is called with the user-provided values (value1, value2) and the chosen operation (operation).\n",
    "The result is stored in the variable result.\n",
    "* Result Display: If the result is not None (i.e., the operation was successful), it prints the result."
   ]
  },
  {
   "cell_type": "markdown",
   "id": "084e48c0-ee87-4a4c-86e0-d7e9777b670a",
   "metadata": {},
   "source": [
    "20. Write a program that determines the roots of a cubic equation using the Cardano formula."
   ]
  },
  {
   "cell_type": "code",
   "execution_count": 16,
   "id": "e59ef4d6-fdc7-45c5-b13c-1d1bc48ad005",
   "metadata": {},
   "outputs": [
    {
     "name": "stdin",
     "output_type": "stream",
     "text": [
      "Enter the coefficient a:  2\n",
      "Enter the coefficient b:  3\n",
      "Enter the coefficient c:  5\n",
      "Enter the coefficient d:  7\n"
     ]
    },
    {
     "name": "stdout",
     "output_type": "stream",
     "text": [
      "The roots of the cubic equation are:\n",
      "Root 1: (-0.2652614598264911+0j)\n",
      "Root 2: (-2.4630691974545433+0j)\n",
      "Root 3: (-1.5659359125426837+0j)\n"
     ]
    }
   ],
   "source": [
    "import cmath  \n",
    "#math library for cos and sqrt operations \n",
    "\n",
    "def cubic_roots(a, b, c, d):\n",
    "    # Calculate coefficients p and q\n",
    "    p = (3 * a * c - b**2) / (3 * a**2)\n",
    "    q = (2 * b**3 - 9 * a * b * c + 27 * a**2 * d) / (27 * a**3)\n",
    "    \n",
    "    # Calculate discriminant delta\n",
    "    delta = (q**2 / 4) + (p**3 / 27)\n",
    "    \n",
    "    # Check discriminant conditions\n",
    "    if delta > 0:\n",
    "        # Case 1: Three real roots\n",
    "        root1 = (-1 / 3) * q + cmath.sqrt(delta) ** (1 / 3) + (-1 / 3) * p / cmath.sqrt(delta) ** (1 / 3)\n",
    "        root2 = (-1 / 3) * q - cmath.sqrt(delta) ** (1 / 3) + (-1 / 3) * p / cmath.sqrt(delta) ** (1 / 3)\n",
    "        root3 = (-1 / 3) * q - (-1 / 2) * cmath.sqrt(delta) ** (1 / 3) - (-1 / 3) * p / (-1 / 2) * cmath.sqrt(delta) ** (1 / 3)\n",
    "    elif delta == 0:\n",
    "        # Case 2: Three real roots with repeated root\n",
    "        root1 = -2 * cmath.sqrt(-1 / 3 * p) * cmath.cos(1 / 3 * cmath.acos(-3 * q / (2 * cmath.sqrt(-1 / 3 * p))) - 2 * cmath.pi / 3)\n",
    "        root2 = -2 * cmath.sqrt(-1 / 3 * p) * cmath.cos(1 / 3 * cmath.acos(-3 * q / (2 * cmath.sqrt(-1 / 3 * p))))\n",
    "        root3 = -2 * cmath.sqrt(-1 / 3 * p) * cmath.cos(1 / 3 * cmath.acos(-3 * q / (2 * cmath.sqrt(-1 / 3 * p))) - 4 * cmath.pi / 3)\n",
    "    else:\n",
    "        # Case 3: One real root, two complex conjugate roots\n",
    "        sqrt_delta = cmath.sqrt(-1 * delta)\n",
    "        root1 = -1 / 3 * q + (sqrt_delta / 2) ** (1 / 3) + (sqrt_delta / 2) ** (1 / 3)\n",
    "        root2 = -1 / 3 * q - cmath.exp(2 * cmath.pi * 1j / 3) * (sqrt_delta / 2) ** (1 / 3) - cmath.exp(4 * cmath.pi * 1j / 3) * (sqrt_delta / 2) ** (1 / 3)\n",
    "        root3 = -1 / 3 * q - cmath.exp(4 * cmath.pi * 1j / 3) * (sqrt_delta / 2) ** (1 / 3) - cmath.exp(2 * cmath.pi * 1j / 3) * (sqrt_delta / 2) ** (1 / 3)\n",
    "    \n",
    "    return root1, root2, root3\n",
    "\n",
    "# Input coefficients of the cubic equation\n",
    "a = float(input('Enter the coefficient a: '))\n",
    "b = float(input('Enter the coefficient b: '))\n",
    "c = float(input('Enter the coefficient c: '))\n",
    "d = float(input('Enter the coefficient d: '))\n",
    "\n",
    "# Calculate roots\n",
    "roots = cubic_roots(a, b, c, d)\n",
    "\n",
    "# Display the roots\n",
    "print(f'The roots of the cubic equation are:')\n",
    "for i, root in enumerate(roots, start=1):\n",
    "    print(f'Root {i}: {root}')\n"
   ]
  },
  {
   "cell_type": "markdown",
   "id": "e4ec6d68-33fd-4bd2-abac-b51c465c460e",
   "metadata": {},
   "source": [
    "Explanation:\n",
    "\n",
    "* Importing cmath:\n",
    "The cmath module is imported to handle complex numbers, as the roots of a cubic equation may be real or complex.\n",
    "* Function cubic_roots:\n",
    "This function takes coefficients a, b, c, and d of a cubic equation as input.\n",
    "It calculates coefficients p and q based on the Cardano formula.\n",
    "It computes the discriminant δ.It checks different cases based on the discriminant and calculates the roots accordingly.\n",
    "* Input Coefficients:\n",
    "The user is prompted to enter the coefficients of the cubic equation (a, b, c, d).\n",
    "* Calculating Roots:\n",
    "The cubic_roots function is called with the provided coefficients to calculate the roots.\n",
    "* Displaying Roots:\n",
    "The program prints the calculated roots of the cubic equation. The roots may be real or complex, depending on the discriminant."
   ]
  },
  {
   "cell_type": "markdown",
   "id": "fca1de26-8a75-4b96-b735-876b4df05281",
   "metadata": {},
   "source": [
    "# Advanced Level:\n",
    "21. Create a program that calculates the income tax based on the user's income and tax brackets."
   ]
  },
  {
   "cell_type": "code",
   "execution_count": 29,
   "id": "e4588176-76bc-467b-a519-439a544f6e45",
   "metadata": {},
   "outputs": [
    {
     "name": "stdin",
     "output_type": "stream",
     "text": [
      "Enter your annual income:  200000\n"
     ]
    },
    {
     "name": "stdout",
     "output_type": "stream",
     "text": [
      "Your income tax is: 10000.0\n"
     ]
    }
   ],
   "source": [
    "def calculate_income_tax(income):\n",
    "    # Define tax brackets and corresponding rates\n",
    "    brackets = [100000, 300000, 700000, float('inf')]  # Example brackets (customize as needed)\n",
    "    rates = [0, 0.1, 0.2, 0.3]  # Example tax rates corresponding to brackets\n",
    "    \n",
    "    # Initialize variables\n",
    "    tax_due = 0\n",
    "    remaining_income = income\n",
    "    \n",
    "    # Calculate tax based on brackets\n",
    "    for i in range(len(brackets)):\n",
    "        if remaining_income <= 0:\n",
    "            break\n",
    "        \n",
    "        # Determine taxable income in the current bracket\n",
    "        taxable_income = min(remaining_income, brackets[i])\n",
    "        \n",
    "        # Calculate tax for the current bracket\n",
    "        tax_due += taxable_income * rates[i]\n",
    "        \n",
    "        # Update remaining income\n",
    "        remaining_income -= taxable_income\n",
    "    \n",
    "    return tax_due\n",
    "\n",
    "# Get user input for income\n",
    "income = float(input('Enter your annual income: '))\n",
    "\n",
    "# Calculate income tax\n",
    "tax_amount = calculate_income_tax(income)\n",
    "\n",
    "# Display the calculated tax amount\n",
    "print(f'Your income tax is: {tax_amount}')\n"
   ]
  },
  {
   "cell_type": "markdown",
   "id": "7406a5cc-d601-46dc-a84c-bd29bfedf207",
   "metadata": {},
   "source": [
    "Explanation:\n",
    "\n",
    "* def calculate_income_tax(income):\n",
    "This defines a function named calculate_income_tax that takes the user's income as a parameter.\n",
    "* brackets and rates:\n",
    "brackets is a list representing the income thresholds for different tax brackets. The last element, float('inf'), represents an open-ended upper bracket.\n",
    "rates is a list representing the corresponding tax rates for each bracket. These rates are in decimal form (e.g., 0.1 for 10%).\n",
    "* Initialize Variables:\n",
    "tax_due is initialized to zero. This variable will store the cumulative tax amount.\n",
    "remaining_income is initialized with the user's total income.\n",
    "* Calculate Tax based on Brackets:\n",
    "The code uses a loop to iterate through the tax brackets.\n",
    "If remaining_income becomes zero or negative, the loop breaks, ensuring that calculations stop when there's no more income to be taxed.\n",
    "* Determine Taxable Income:\n",
    "taxable_income is calculated as the minimum value between the remaining income and the upper limit of the current tax bracket (brackets[i]). This ensures that the taxable income in the current bracket doesn't exceed the bracket's upper limit.\n",
    "* Calculate Tax for the Current Bracket:\n",
    "The tax for the current bracket is calculated by multiplying the taxable_income by the corresponding tax rate (rates[i]).\n",
    "The result is added to the total tax due (tax_due).\n",
    "* Update Remaining Income:\n",
    "The remaining_income is updated by subtracting the taxable_income for the current bracket.\n",
    "* Get User Input:\n",
    "The program prompts the user to input their annual income.\n",
    "* Calculate Income Tax:\n",
    "The calculate_income_tax function is called with the user's income, and the result is stored in the variable tax_amount.\n",
    "* Display Result:\n",
    "The calculated income tax amount is displayed to the user."
   ]
  },
  {
   "cell_type": "markdown",
   "id": "48e58825-651a-4afc-acde-c9c141760610",
   "metadata": {},
   "source": [
    "22. Write a program that simulates a rock-paper-scissors game against the computer."
   ]
  },
  {
   "cell_type": "code",
   "execution_count": 6,
   "id": "694c72c6-9ebc-4abe-96bd-07852a1526e0",
   "metadata": {},
   "outputs": [
    {
     "name": "stdin",
     "output_type": "stream",
     "text": [
      "Enter your choice (rock, paper, or scissors):  Rock\n"
     ]
    },
    {
     "name": "stdout",
     "output_type": "stream",
     "text": [
      "\n",
      "You chose: rock\n",
      "Computer chose: rock\n",
      "It's a tie!\n"
     ]
    },
    {
     "name": "stdin",
     "output_type": "stream",
     "text": [
      "\n",
      "Do you want to play again? (yes/no):  yes\n",
      "Enter your choice (rock, paper, or scissors):  Scissor\n"
     ]
    },
    {
     "name": "stdout",
     "output_type": "stream",
     "text": [
      "Invalid choice. Please enter rock, paper, or scissors.\n"
     ]
    },
    {
     "name": "stdin",
     "output_type": "stream",
     "text": [
      "Enter your choice (rock, paper, or scissors):  scissors\n"
     ]
    },
    {
     "name": "stdout",
     "output_type": "stream",
     "text": [
      "\n",
      "You chose: scissors\n",
      "Computer chose: paper\n",
      "You win!\n"
     ]
    },
    {
     "name": "stdin",
     "output_type": "stream",
     "text": [
      "\n",
      "Do you want to play again? (yes/no):  no\n"
     ]
    },
    {
     "name": "stdout",
     "output_type": "stream",
     "text": [
      "Thanks for playing. Goodbye!\n"
     ]
    }
   ],
   "source": [
    "import random\n",
    "\n",
    "def get_user_choice():\n",
    "    user_choice = input(\"Enter your choice (rock, paper, or scissors): \").lower()\n",
    "    while user_choice not in [\"rock\", \"paper\", \"scissors\"]:\n",
    "        print(\"Invalid choice. Please enter rock, paper, or scissors.\")\n",
    "        user_choice = input(\"Enter your choice (rock, paper, or scissors): \").lower()\n",
    "    return user_choice\n",
    "\n",
    "def get_computer_choice():\n",
    "    return random.choice([\"rock\", \"paper\", \"scissors\"])\n",
    "\n",
    "def determine_winner(user_choice, computer_choice):\n",
    "    if user_choice == computer_choice:\n",
    "        return \"It's a tie!\"\n",
    "    elif (\n",
    "        (user_choice == \"rock\" and computer_choice == \"scissors\") or\n",
    "        (user_choice == \"paper\" and computer_choice == \"rock\") or\n",
    "        (user_choice == \"scissors\" and computer_choice == \"paper\")\n",
    "    ):\n",
    "        return \"You win!\"\n",
    "    else:\n",
    "        return \"Computer wins!\"\n",
    "\n",
    "# Main game loop\n",
    "while True:\n",
    "    user_choice = get_user_choice()\n",
    "    computer_choice = get_computer_choice()\n",
    "\n",
    "    print(f\"\\nYou chose: {user_choice}\")\n",
    "    print(f\"Computer chose: {computer_choice}\")\n",
    "\n",
    "    result = determine_winner(user_choice, computer_choice)\n",
    "    print(result)\n",
    "\n",
    "    play_again = input(\"\\nDo you want to play again? (yes/no): \").lower()\n",
    "    if play_again != \"yes\":\n",
    "        print(\"Thanks for playing. Goodbye!\")\n",
    "        break\n"
   ]
  },
  {
   "cell_type": "markdown",
   "id": "99b14de8-3d2b-4890-b94b-ab9bdcaedb80",
   "metadata": {},
   "source": [
    "Explanation:\n",
    "\n",
    "* get_user_choice Function:\n",
    "Prompts the user to input their choice (rock, paper, or scissors).\n",
    "Validates the input, ensuring it is one of the valid choices.\n",
    "* get_computer_choice Function:\n",
    "Randomly selects the computer's choice from rock, paper, or scissors.\n",
    "* determine_winner Function:\n",
    "Compares the user's and computer's choices to determine the winner.\n",
    "Prints the result indicating whether it's a tie, the user wins, or the computer wins.\n",
    "* Main Game Loop:\n",
    "Continuously loops until the user decides to stop playing.\n",
    "Inside the loop, it gets the user's and computer's choices, determines the winner, and displays the results.\n",
    "Asks the user if they want to play again. If the response is not \"yes,\" the loop ends, and the game concludes."
   ]
  },
  {
   "cell_type": "markdown",
   "id": "ba3851df-ce78-4d66-bd30-c7543f2ffb51",
   "metadata": {},
   "source": [
    "23. Develop a program that generates a random password based on user preferences (length, complexity)."
   ]
  },
  {
   "cell_type": "code",
   "execution_count": 77,
   "id": "225d7bf1-6c4c-4da7-9f03-033f2569907e",
   "metadata": {},
   "outputs": [
    {
     "name": "stdin",
     "output_type": "stream",
     "text": [
      "Enter the password length you want to generate:  6\n",
      "How complex you need your password:\n",
      "                        low,\n",
      "                        medium,\n",
      "                        high:  medium\n"
     ]
    },
    {
     "name": "stdout",
     "output_type": "stream",
     "text": [
      "Your randomly generated password is: mGZiXV\n"
     ]
    }
   ],
   "source": [
    "import random\n",
    "import string\n",
    "\n",
    "def _password(length, complexity):\n",
    "    password = ''\n",
    "    available_chars = ''\n",
    "\n",
    "    if complexity == 'low':\n",
    "        available_chars += string.digits + string.ascii_lowercase\n",
    "    elif complexity == 'medium':\n",
    "        available_chars += string.digits + string.ascii_lowercase + string.ascii_uppercase\n",
    "    elif complexity == 'high':\n",
    "        available_chars += string.digits + string.ascii_lowercase + string.ascii_uppercase + string.punctuation\n",
    "\n",
    "    # Ensure the total length of the password is exactly equal to the specified length\n",
    "    while len(password) < length:\n",
    "        password += random.choice(available_chars)\n",
    "\n",
    "    pwd_list = list(password)\n",
    "    random.shuffle(pwd_list)\n",
    "    return ''.join(pwd_list)\n",
    "\n",
    "def password_generator():\n",
    "    length = int(input('Enter the password length you want to generate: '))\n",
    "    complexity = input('''How complex you need your password:\n",
    "                        low,\n",
    "                        medium,\n",
    "                        high: ''').lower()\n",
    "\n",
    "    if length >= 4:\n",
    "        password = _password(length, complexity)\n",
    "        print(f'Your randomly generated password is: {password}')\n",
    "    else:\n",
    "        print('Password length should be at least 4. Please try again!')\n",
    "\n",
    "password_generator()"
   ]
  },
  {
   "cell_type": "markdown",
   "id": "2fc12a49-bb45-4353-8357-954beef32499",
   "metadata": {},
   "source": [
    "Explanation:\n",
    "\n",
    "*  _password function:\n",
    "length and complexity are parameters representing the desired length and complexity of the password.\n",
    "password is initially an empty string that will store the generated password.\n",
    "available_chars is an empty string that will store the set of characters based on the specified complexity.\n",
    "Depending on the complexity level chosen, characters are added to available_chars.\n",
    "The while loop ensures that the total length of the password is exactly equal to the specified length. In each iteration, a random character from available_chars is added to the password.\n",
    "* password_generator function:\n",
    "Gets user input for the desired password length (length) and complexity level (complexity).\n",
    "Calls the _password function with the specified parameters.\n",
    "Prints the generated password to the console if the length is at least 4; otherwise, it prompts the user to try again.\n",
    "* Example Execution:\n",
    "User input: Password length = 8, Complexity = 'high'\n",
    "_password generates a password with exactly 8 characters, including digits, lowercase letters, uppercase letters, and punctuation.\n",
    "The password is then printed to the console."
   ]
  },
  {
   "cell_type": "markdown",
   "id": "a39408f9-c70f-42f7-871a-a1d6a0e9065f",
   "metadata": {},
   "source": [
    "24. Create a program that implements a simple text-based adventure game with branching scenarios."
   ]
  },
  {
   "cell_type": "code",
   "execution_count": 88,
   "id": "fa05d3af-f7ce-47f0-bfc0-9dcc851b04b8",
   "metadata": {},
   "outputs": [
    {
     "name": "stdout",
     "output_type": "stream",
     "text": [
      "Welcome to the Text Adventure Game! You find yourself standing at a crossroad. You need to make decisions that will shape your adventure!\n",
      "Which path will you take?\n",
      "1. Forest\n",
      "2. Cave\n",
      "3. Quit\n"
     ]
    },
    {
     "name": "stdin",
     "output_type": "stream",
     "text": [
      "Enter the number of your choice:  1\n"
     ]
    },
    {
     "name": "stdout",
     "output_type": "stream",
     "text": [
      "\n",
      "You enter a dense forest.As you walk deeper, you hear strange noises around you.What do you want to do?\n",
      "1. Continue forward\n",
      "2. Turn back\n"
     ]
    },
    {
     "name": "stdin",
     "output_type": "stream",
     "text": [
      "Enter the number of your choice:  1\n"
     ]
    },
    {
     "name": "stdout",
     "output_type": "stream",
     "text": [
      "\n",
      "You encounter a friendly woodland creature. It guides you safely through the forest.\n",
      "Congratulations! You successfully completed the forest scenario.\n",
      "Which path will you take?\n",
      "1. Forest\n",
      "2. Cave\n",
      "3. Quit\n"
     ]
    },
    {
     "name": "stdin",
     "output_type": "stream",
     "text": [
      "Enter the number of your choice:  3\n"
     ]
    },
    {
     "name": "stdout",
     "output_type": "stream",
     "text": [
      "\n",
      "Thanks for playing! Goodbye!"
     ]
    }
   ],
   "source": [
    "import time\n",
    "\n",
    "def print_letter_by_letter(text, delay=0.05 ):\n",
    "    for char in text:\n",
    "        print(char, end='', flush=True)\n",
    "        time.sleep(delay)\n",
    "def introduction():\n",
    "    print_letter_by_letter(\"Welcome to the Text Adventure Game! You find yourself standing at a crossroad. \")\n",
    "    print_letter_by_letter(\"You need to make decisions that will shape your adventure!\")\n",
    "\n",
    "def make_choice(question, options):\n",
    "    print_letter_by_letter(question)\n",
    "    for i, option in enumerate(options, start=1):\n",
    "        print_letter_by_letter(f\"{i}. {option}\\n\")\n",
    "\n",
    "    while True:\n",
    "        try:\n",
    "            choice = int(input(\"Enter the number of your choice: \"))\n",
    "            if 1 <= choice <= len(options):\n",
    "                return choice\n",
    "            else:\n",
    "                print_letter_by_letter(\"Invalid choice. Please enter a valid number.\")\n",
    "        except ValueError:\n",
    "            print_letter_by_letter(\"Invalid input. Please enter a number.\")\n",
    "\n",
    "def forest_scenario():\n",
    "    print_letter_by_letter(\"\\nYou enter a dense forest.\")\n",
    "    time.sleep(1)\n",
    "    print_letter_by_letter(\"As you walk deeper, you hear strange noises around you.\")\n",
    "    time.sleep(1)\n",
    "    \n",
    "    choice = make_choice(\"What do you want to do?\\n\", [\"Continue forward\", \"Turn back\"])\n",
    "    \n",
    "    if choice == 1:\n",
    "        print_letter_by_letter(\"\\nYou encounter a friendly woodland creature. It guides you safely through the forest.\")\n",
    "        return \"success\"\n",
    "    else:\n",
    "        print_letter_by_letter(\"\\nYou decide to turn back. You return to the crossroad.\")\n",
    "        return \"failure\"\n",
    "\n",
    "def cave_scenario():\n",
    "    print_letter_by_letter(\"\\nYou discover a mysterious cave entrance.\")\n",
    "    time.sleep(1)\n",
    "    print_letter_by_letter(\"The entrance is dark, but you can hear echoes from inside.\")\n",
    "    time.sleep(1)\n",
    "    \n",
    "    choice = make_choice(\"What do you want to do?\\n\", [\"Enter the cave\", \"Leave\"])\n",
    "    \n",
    "    if choice == 1:\n",
    "        print_letter_by_letter(\"\\nYou enter the cave and find a hidden treasure!\")\n",
    "        return \"success\"\n",
    "    else:\n",
    "        print_letter_by_letter(\"\\nYou decide to leave the cave. You return to the crossroad.\")\n",
    "        return \"failure\"\n",
    "\n",
    "def main():\n",
    "    introduction()\n",
    "\n",
    "    while True:\n",
    "        choice = make_choice(\"\\nWhich path will you take?\\n\", [\"Forest\", \"Cave\", \"Quit\"])\n",
    "\n",
    "        if choice == 1:\n",
    "            result = forest_scenario()\n",
    "            if result == \"success\":\n",
    "                print_letter_by_letter(\"\\nCongratulations! You successfully completed the forest scenario.\")\n",
    "            else:\n",
    "                print_letter_by_letter(\"\\nYou didn't make it through the forest.\")\n",
    "        elif choice == 2:\n",
    "            result = cave_scenario()\n",
    "            if result == \"success\":\n",
    "                print_letter_by_letter(\"\\nCongratulations! You found a hidden treasure.\")\n",
    "            else:\n",
    "                print_letter_by_letter(\"\\nYou decided not to enter the cave.\")\n",
    "        elif choice == 3:\n",
    "            print_letter_by_letter(\"\\nThanks for playing! Goodbye!\")\n",
    "            break\n",
    "\n",
    "if __name__ == \"__main__\":\n",
    "    main()\n"
   ]
  },
  {
   "cell_type": "markdown",
   "id": "446faced-9d9a-4193-b1a3-f466b9408062",
   "metadata": {},
   "source": [
    "Explanation :\n",
    "    \n",
    "* print_letter_by_letter Function:\n",
    "This function takes a text and prints it letter by letter with a specified delay.\n",
    "end='' ensures that the characters are printed without a newline, and flush=True flushes the output immediately.\n",
    "time.sleep(delay) introduces a delay between each character.\n",
    "\n",
    "* introduction Function:\n",
    "Uses print_letter_by_letter to create a letter-by-letter introduction to the game.\n",
    "\n",
    "* make_choice Function:\n",
    "Prints the question and options letter by letter.\n",
    "Takes user input and ensures it is a valid choice.\n",
    "\n",
    "* forest_scenario and cave_scenario Functions:\n",
    "Present scenarios and choices, returning the result (\"success\" or \"failure\").\n",
    "\n",
    "* main Function:\n",
    "Calls introduction to start the game.\n",
    "Uses a loop to allow the player to make choices until they choose to quit.\n",
    "\n",
    "* Starting the Game:\n",
    "The if __name__ == \"__main__\": block ensures that the main function is called when the script is run."
   ]
  },
  {
   "cell_type": "markdown",
   "id": "07b7a783-1218-43d8-95c8-fc0295106aab",
   "metadata": {},
   "source": [
    "25. Build a program that solves a linear equation for x, considering different cases."
   ]
  },
  {
   "cell_type": "code",
   "execution_count": 93,
   "id": "1e56eab7-35bb-4cbe-bf39-3a1271fc5a14",
   "metadata": {},
   "outputs": [
    {
     "name": "stdout",
     "output_type": "stream",
     "text": [
      "Linear Equation Solver\n",
      "Equation format: ax + b = 0\n"
     ]
    },
    {
     "name": "stdin",
     "output_type": "stream",
     "text": [
      "Enter the value of a:  -4\n",
      "Enter the value of b:  6\n"
     ]
    },
    {
     "name": "stdout",
     "output_type": "stream",
     "text": [
      "The solution is x = 1.5\n"
     ]
    }
   ],
   "source": [
    "def solve_linear_equation(a, b):\n",
    "    if a == 0:\n",
    "        if b == 0:\n",
    "            return \"Infinite solutions (all real numbers)\"\n",
    "        else:\n",
    "            return \"No solution\"\n",
    "    else:\n",
    "        x = -b / a\n",
    "        return f\"The solution is x = {x}\"\n",
    "\n",
    "def main():\n",
    "    print(\"Linear Equation Solver\")\n",
    "    print(\"Equation format: ax + b = 0\")\n",
    "\n",
    "    try:\n",
    "        a = float(input(\"Enter the value of a: \"))\n",
    "        b = float(input(\"Enter the value of b: \"))\n",
    "        \n",
    "        result = solve_linear_equation(a, b)\n",
    "        print(result)\n",
    "\n",
    "    except ValueError:\n",
    "        print(\"Invalid input. Please enter numeric values for a and b.\")\n",
    "\n",
    "if __name__ == \"__main__\":\n",
    "    main()\n"
   ]
  },
  {
   "cell_type": "markdown",
   "id": "e1898bdb-41e4-400f-bc5a-d019fa04e45c",
   "metadata": {},
   "source": [
    "Explantion : \n",
    "\n",
    "* solve_linear_equation Function:\n",
    "\n",
    "Takes coefficients a and b of the linear equation ax+b=0.\n",
    "Checks different cases:\n",
    "If a is 0 and b is 0, there are infinite solutions.\n",
    "If a is 0 and b is not 0, there is no solution.\n",
    "Otherwise, calculates and returns the solution x=−b/a.\n",
    "\n",
    "* main Function:\n",
    "Prompts the user to enter coefficients a and b.\n",
    "Calls solve_linear_equation with the provided coefficients and prints the result.\n",
    "\n",
    "* User Interaction:\n",
    "The user is guided to enter the coefficients, and the program handles invalid inputs gracefully.\n",
    "\n",
    "* Starting the Program:\n",
    "The if __name__ == \"__main__\": block ensures that the main function is called when the script is run."
   ]
  },
  {
   "cell_type": "markdown",
   "id": "a7f4bc90-4d0f-490f-96b3-794c4671df3e",
   "metadata": {},
   "source": [
    "26. Write a program that simulates a basic quiz game with multiple-choice questions and scoring."
   ]
  },
  {
   "cell_type": "code",
   "execution_count": 95,
   "id": "f67b42af-a1f1-4100-ae70-64fa2dc0aeb0",
   "metadata": {},
   "outputs": [
    {
     "name": "stdout",
     "output_type": "stream",
     "text": [
      "Welcome to the Quiz Game!\n",
      "What is the capital of India?\n",
      "1. Delhi\n",
      "2. Chennai\n",
      "3. TamilNadu\n",
      "4. Kerala\n"
     ]
    },
    {
     "name": "stdin",
     "output_type": "stream",
     "text": [
      "Enter the number of your choice:  1\n"
     ]
    },
    {
     "name": "stdout",
     "output_type": "stream",
     "text": [
      "Correct!\n",
      "\n",
      "Which planet is known as the Red Planet?\n",
      "1. Mars\n",
      "2. Venus\n",
      "3. Jupiter\n",
      "4. Saturn\n"
     ]
    },
    {
     "name": "stdin",
     "output_type": "stream",
     "text": [
      "Enter the number of your choice:  1\n"
     ]
    },
    {
     "name": "stdout",
     "output_type": "stream",
     "text": [
      "Correct!\n",
      "\n",
      "Who wrote 'Romeo and Juliet'?\n",
      "1. William Shakespeare\n",
      "2. Charles Dickens\n",
      "3. Jane Austen\n",
      "4. Mark Twain\n"
     ]
    },
    {
     "name": "stdin",
     "output_type": "stream",
     "text": [
      "Enter the number of your choice:  1\n"
     ]
    },
    {
     "name": "stdout",
     "output_type": "stream",
     "text": [
      "Correct!\n",
      "\n",
      "Quiz complete! Your final score is: 3/3\n"
     ]
    }
   ],
   "source": [
    "class QuizQuestion:\n",
    "    def __init__(self, question, options, correct_option):\n",
    "        self.question = question\n",
    "        self.options = options\n",
    "        self.correct_option = correct_option\n",
    "\n",
    "    def ask_question(self):\n",
    "        print(self.question)\n",
    "        for i, option in enumerate(self.options, start=1):\n",
    "            print(f\"{i}. {option}\")\n",
    "        try:\n",
    "            user_choice = int(input(\"Enter the number of your choice: \"))\n",
    "            if 1 <= user_choice <= len(self.options):\n",
    "                return user_choice\n",
    "            else:\n",
    "                print(\"Invalid choice. Please enter a valid number.\")\n",
    "        except ValueError:\n",
    "            print(\"Invalid input. Please enter a number.\")\n",
    "\n",
    "class QuizGame:\n",
    "    def __init__(self):\n",
    "        self.questions = [\n",
    "            QuizQuestion(\"What is the capital of India?\", [\"Delhi\", \"Chennai\", \"TamilNadu\", \"Kerala\"], 1),\n",
    "            QuizQuestion(\"Which planet is known as the Red Planet?\", [\"Mars\", \"Venus\", \"Jupiter\", \"Saturn\"], 1),\n",
    "            QuizQuestion(\"Who wrote 'Romeo and Juliet'?\", [\"William Shakespeare\", \"Charles Dickens\", \"Jane Austen\", \"Mark Twain\"], 1),\n",
    "        ]\n",
    "        self.score = 0\n",
    "\n",
    "    def play_quiz(self):\n",
    "        print(\"Welcome to the Quiz Game!\")\n",
    "        for question in self.questions:\n",
    "            user_choice = question.ask_question()\n",
    "            if user_choice == question.correct_option:\n",
    "                print(\"Correct!\\n\")\n",
    "                self.score += 1\n",
    "            else:\n",
    "                print(f\"Wrong! The correct answer was: {question.options[question.correct_option - 1]}\\n\")\n",
    "\n",
    "        print(f\"Quiz complete! Your final score is: {self.score}/{len(self.questions)}\")\n",
    "\n",
    "def main():\n",
    "    quiz_game = QuizGame()\n",
    "    quiz_game.play_quiz()\n",
    "\n",
    "if __name__ == \"__main__\":\n",
    "    main()\n"
   ]
  },
  {
   "cell_type": "markdown",
   "id": "f4bfaff0-3379-4564-9fd2-e5ca2c5a7c41",
   "metadata": {},
   "source": [
    "Explanation : \n",
    "    \n",
    "* QuizQuestion Class:\n",
    "__init__: Initializes a QuizQuestion object with a question, a list of options, and the index of the correct option.\n",
    "ask_question: Presents the question and options to the user, takes user input, and returns the chosen option.\n",
    "* QuizGame Class:\n",
    "__init__: Initializes a QuizGame object with a list of QuizQuestion instances and initializes the score to 0.\n",
    "play_quiz: Conducts the quiz by iterating through the questions, asking each question, updating the score, and providing feedback.\n",
    "* main Function:\n",
    "Creates an instance of QuizGame and starts the quiz.\n",
    "Starting the Program:\n",
    "The if __name__ == \"__main__\": block ensures that the main function is called when the script is run."
   ]
  },
  {
   "cell_type": "markdown",
   "id": "fd3f076c-744a-4a2b-8a84-5ad723d0c67c",
   "metadata": {},
   "source": [
    "27. Develop a program that determines whether a given year is a prime number or not."
   ]
  },
  {
   "cell_type": "code",
   "execution_count": 11,
   "id": "7e3a7329-8cf3-4176-9c41-0fdf023ecb7c",
   "metadata": {},
   "outputs": [
    {
     "name": "stdin",
     "output_type": "stream",
     "text": [
      "Enter year to check if it's a prime number:  2002\n"
     ]
    },
    {
     "name": "stdout",
     "output_type": "stream",
     "text": [
      "2002 is not a prime number. It can be divided by other numbers.\n"
     ]
    }
   ],
   "source": [
    "def is_prime(year):\n",
    "    if year <= 1:\n",
    "        return False  # Numbers less than or equal to 1 are not prime\n",
    "\n",
    "    for i in range(2, int(year**0.5) + 1):\n",
    "        if year % i == 0:\n",
    "            return False  # It's not a prime number\n",
    "\n",
    "    return True  # It's a prime number\n",
    "\n",
    "def prime_year():\n",
    "    try:\n",
    "        year = int(input(\"Enter year to check if it's a prime number: \"))\n",
    "        if is_prime(year):\n",
    "            print(f\"{year} is a prime number.\")\n",
    "        else:\n",
    "            print(f\"{year} is not a prime number. It can be divided by other numbers.\")\n",
    "    except ValueError:\n",
    "        print(\"Invalid input. Please enter a valid number.\")\n",
    "\n",
    "prime_year()"
   ]
  },
  {
   "cell_type": "markdown",
   "id": "1b5839bc-4a6f-4b0c-ad7e-8a4e72f75107",
   "metadata": {},
   "source": [
    "Explanation : \n",
    "    \n",
    "* is_prime function:\n",
    "Takes a year as input and checks whether it's a prime number or not.\n",
    "If the year is less than or equal to 1, it returns False since numbers less than or equal to 1 are not prime.\n",
    "It then iterates through numbers from 2 to the square root of the given year (inclusive) and checks if the year is divisible evenly by any of those numbers.\n",
    "If it finds any such number, it returns False as the year is not a prime number.\n",
    "If no such factor is found, it returns True indicating that the year is a prime number.    \n",
    "* prime_year() function:\n",
    "prime_year is a function that interacts with the user to input a year, then checks if it's a prime number using the is_prime function.\n",
    "try and except ValueError are used to handle potential errors if the user enters something that can't be converted to an integer.\n",
    "Inside the try block, it takes user input for a year, converts it to an integer, and then calls the is_prime function.\n",
    "If the year is prime, it prints a message indicating that. If it's not prime, it indicates that the year can be divided by other numbers."
   ]
  },
  {
   "cell_type": "markdown",
   "id": "d24130af-18cb-46c0-bc77-f860bcfb73b9",
   "metadata": {},
   "source": [
    "28. Create a program that sorts three numbers in ascending order using conditional statements."
   ]
  },
  {
   "cell_type": "code",
   "execution_count": 13,
   "id": "f6f3ee96-88e0-4d2c-8285-0397d84af796",
   "metadata": {},
   "outputs": [
    {
     "name": "stdin",
     "output_type": "stream",
     "text": [
      "Enter the first number:  98\n",
      "Enter the second number:  34\n",
      "Enter the third number:  21\n"
     ]
    },
    {
     "name": "stdout",
     "output_type": "stream",
     "text": [
      "Sorted numbers in ascending order: (21.0, 34.0, 98.0)\n"
     ]
    }
   ],
   "source": [
    "def sort_numbers():\n",
    "    try:\n",
    "        # Get input from the user\n",
    "        num1 = float(input(\"Enter the first number: \"))\n",
    "        num2 = float(input(\"Enter the second number: \"))\n",
    "        num3 = float(input(\"Enter the third number: \"))\n",
    "\n",
    "        # Sort the numbers using conditional statements\n",
    "        if num1 <= num2 <= num3:\n",
    "            sorted_numbers = (num1, num2, num3)\n",
    "        elif num1 <= num3 <= num2:\n",
    "            sorted_numbers = (num1, num3, num2)\n",
    "        elif num2 <= num1 <= num3:\n",
    "            sorted_numbers = (num2, num1, num3)\n",
    "        elif num2 <= num3 <= num1:\n",
    "            sorted_numbers = (num2, num3, num1)\n",
    "        elif num3 <= num1 <= num2:\n",
    "            sorted_numbers = (num3, num1, num2)\n",
    "        else:\n",
    "            sorted_numbers = (num3, num2, num1)\n",
    "\n",
    "        # Display the sorted numbers\n",
    "        print(\"Sorted numbers in ascending order:\", sorted_numbers)\n",
    "\n",
    "    except ValueError:\n",
    "        print(\"Invalid input. Please enter valid numbers.\")\n",
    "\n",
    "# Call the function to sort the numbers\n",
    "sort_numbers()\n"
   ]
  },
  {
   "cell_type": "markdown",
   "id": "70cb6b8d-a66d-4328-beae-18e39d884868",
   "metadata": {},
   "source": [
    "Explanation: \n",
    "\n",
    "* Function Definition:\n",
    "A function named sort_numbers is defined.\n",
    "* Try-Except Block:\n",
    "A try block is used for executing code that might raise an exception.\n",
    "* User Input:\n",
    "Users are prompted to enter three numbers.\n",
    "float() is used for converting input to floating-point numbers.\n",
    "* Conditional Statements for Sorting:\n",
    "Conditional statements check different orderings of the three numbers.\n",
    "The sorted order is assigned to the variable sorted_numbers.\n",
    "* Display Sorted Numbers:\n",
    "The sorted numbers are printed to the console.\n",
    "* Exception Handling:\n",
    "If a ValueError occurs during input conversion, an error message is displayed.\n",
    "* Function Call:\n",
    "The function sort_numbers is called to execute the sorting of numbers."
   ]
  },
  {
   "cell_type": "markdown",
   "id": "e2a637b4-432f-4e8c-86ea-d0d3501cb9a6",
   "metadata": {},
   "source": [
    "29. Build a program that determines the roots of a quartic equation using numerical methods."
   ]
  },
  {
   "cell_type": "code",
   "execution_count": 6,
   "id": "23240bc1-0537-454b-a46b-14bf838de294",
   "metadata": {},
   "outputs": [
    {
     "name": "stdout",
     "output_type": "stream",
     "text": [
      "Roots of the quartic equation are: [1.0, 4.280826937797402, 1.0, 1.0]\n"
     ]
    }
   ],
   "source": [
    "def quartic_equation(x, a, b, c, d, e):\n",
    "    return a * x**4 + b * x**3 + c * x**2 + d * x + e\n",
    "\n",
    "def quartic_derivative(x, a, b, c, d):\n",
    "    return 4 * a * x**3 + 3 * b * x**2 + 2 * c * x + d\n",
    "\n",
    "def newton_raphson_quartic(initial_guess, a, b, c, d, e, tolerance=1e-6, max_iterations=100):\n",
    "    x = initial_guess\n",
    "    iterations = 0\n",
    "\n",
    "    while abs(quartic_equation(x, a, b, c, d, e)) > tolerance and iterations < max_iterations:\n",
    "        x -= quartic_equation(x, a, b, c, d, e) / quartic_derivative(x, a, b, c, d)\n",
    "        iterations += 1\n",
    "\n",
    "    return x\n",
    "\n",
    "def find_quartic_roots(a, b, c, d, e):\n",
    "    roots = []\n",
    "\n",
    "    # Find the first root\n",
    "    root1 = newton_raphson_quartic(1.0, a, b, c, d, e)\n",
    "    roots.append(root1)\n",
    "\n",
    "    # Factor out the root1 from the equation\n",
    "    reduced_quartic = [1, -root1] + [a, b, c, d, e]\n",
    "    \n",
    "    # Solve the reduced cubic equation\n",
    "    root2 = newton_raphson_quartic(1.0, *reduced_quartic)\n",
    "    roots.append(root2)\n",
    "\n",
    "    # Factor out root1 and root2\n",
    "    reduced_cubic = [1, -root1, -root2] + [a, b, c, d, e]\n",
    "\n",
    "    # Solve the reduced quadratic equation\n",
    "    for i in range(2):\n",
    "        root = newton_raphson_quartic(1.0, *reduced_cubic[:-1])  # Pass only six arguments\n",
    "        roots.append(root)\n",
    "        # Factor out the latest root\n",
    "        reduced_cubic = [1, -root] + reduced_cubic[2:]\n",
    "\n",
    "    return roots\n",
    "\n",
    "# Example Coefficients\n",
    "a = 1\n",
    "b = -10\n",
    "c = 35\n",
    "d = -50\n",
    "e = 24\n",
    "\n",
    "# Find all roots of the quartic equation\n",
    "roots = find_quartic_roots(a, b, c, d, e)\n",
    "print(\"Roots of the quartic equation are:\", roots)\n"
   ]
  },
  {
   "cell_type": "markdown",
   "id": "548b2d67-8490-407f-9cd8-d9f4dc84a2d0",
   "metadata": {},
   "source": [
    "Explanation: \n",
    "* quartic_equation function:\n",
    "Purpose: Computes the value of the quartic equation at a given point.\n",
    "Parameters:\n",
    "x: The variable in the quartic equation.\n",
    "a, b, c, d, e: Coefficients of the quartic equation.\n",
    "* quartic_derivative function:\n",
    "Purpose: Computes the derivative of the quartic equation with respect to x.\n",
    "Parameters:\n",
    "x: The variable in the quartic equation.\n",
    "a, b, c, d: Coefficients of the quartic equation.\n",
    "* newton_raphson_quartic function:\n",
    "Purpose: Applies the Newton-Raphson method to find a root of the quartic equation.\n",
    "Parameters:\n",
    "initial_guess: Initial guess for the root.\n",
    "a, b, c, d, e: Coefficients of the quartic equation.\n",
    "tolerance: Tolerance for the convergence criteria (default: 1e-6).\n",
    "max_iterations: Maximum number of iterations (default: 100).\n",
    "Returns: The root found using the Newton-Raphson method.\n",
    "* find_quartic_roots function:\n",
    "Purpose: Finds all the roots of the quartic equation.\n",
    "Parameters:\n",
    "a, b, c, d, e: Coefficients of the quartic equation.\n",
    "Returns: A list containing all the roots of the quartic equation.\n",
    "* Example Coefficients:\n",
    "Coefficients (a, b, c, d, e) are set for an example quartic equation.\n",
    "Modify these coefficients to solve a different quartic equation.\n",
    "* Finding Roots:\n",
    "The find_quartic_roots function is called with the example coefficients.\n",
    "The roots are printed.\n",
    "    "
   ]
  },
  {
   "cell_type": "markdown",
   "id": "9b7314d9-c1c6-4b5e-b282-285d89719b69",
   "metadata": {},
   "source": [
    "30. Write a program that calculates the BMI (Body Mass Index) and provides health recommendations based\n",
    "on the user's input."
   ]
  },
  {
   "cell_type": "code",
   "execution_count": 1,
   "id": "12c14835-e448-455a-a55e-d8c9d5cb1677",
   "metadata": {},
   "outputs": [
    {
     "name": "stdin",
     "output_type": "stream",
     "text": [
      "Enter weight in kilograms:  60\n",
      "Enter height in meters:  1.5\n"
     ]
    },
    {
     "name": "stdout",
     "output_type": "stream",
     "text": [
      "Your BMI is 26.67, and you are categorized as Overweight. Do exercise and eat vegetables and low calorie foods avoid junk foods..\n"
     ]
    }
   ],
   "source": [
    "def calculate_bmi(weight, height):\n",
    "    # BMI formula: BMI = weight (kg) / (height (m))^2\n",
    "    bmi = weight / (height ** 2)\n",
    "    return bmi\n",
    "\n",
    "def categorize_bmi(bmi):\n",
    "    if bmi < 18.5:\n",
    "        return \"Underweight. Eat well, Drink Milk, meat and eat vegetables, eggs to gain more weight.\"\n",
    "    elif 18.5 <= bmi < 24.9:\n",
    "        return \"Normal. Maintain your food style eat healthy daily.\"\n",
    "    elif 25 <= bmi < 29.9:\n",
    "        return \"Overweight. Do exercise and eat vegetables and low calorie foods avoid junk foods.\"\n",
    "    else:\n",
    "        return \"Obese. Go walking daily and do exercise and eat vegetables and low calorie foods avoid junk foods, follow Calorie defecit diet. \"\n",
    "\n",
    "    \n",
    "# Get user input for weight and height\n",
    "weight = float(input(\"Enter weight in kilograms: \"))\n",
    "height = float(input(\"Enter height in meters: \"))\n",
    "\n",
    "# Call the function to calculate BMI\n",
    "bmi = calculate_bmi(weight, height)\n",
    "\n",
    "# Call the function to categorize BMI and display the result\n",
    "category = categorize_bmi(bmi)\n",
    "print(f\"Your BMI is {bmi:.2f}, and you are categorized as {category}\")"
   ]
  },
  {
   "cell_type": "markdown",
   "id": "c9aa469f-d62f-4d5b-83fd-3f8c95998bd7",
   "metadata": {},
   "source": [
    "Explanation:\n",
    "* calculate_bmi function:\n",
    "This function takes two parameters, weight and height, and calculates the BMI using the formula BMI = weight (kg) / (height (m))^2.\n",
    "It returns the calculated BMI.\n",
    "* categorize_bmi function:\n",
    "This function takes the calculated BMI as a parameter and categorizes it into different health categories.\n",
    "It returns a string message with health recommendations based on the BMI category.\n",
    "* User Input:\n",
    "The program prompts the user to input their weight and height in kilograms and meters, respectively, using the input function.\n",
    "* Function Calls:\n",
    "The calculate_bmi function is called with the user-input weight and height values, and the result is stored in the variable bmi.\n",
    "The categorize_bmi function is called with the calculated BMI (bmi), and the result is stored in the variable category.\n",
    "* Output:\n",
    "The program prints a formatted message using print that includes the calculated BMI and the health category with specific recommendations based on the BMI category."
   ]
  },
  {
   "cell_type": "markdown",
   "id": "4e13e52c-153e-4630-9fc2-290c968b7dfa",
   "metadata": {},
   "source": [
    "# Challenge Level:\n",
    "31. Create a program that validates a password based on complexity rules (length, characters, etc.)."
   ]
  },
  {
   "cell_type": "code",
   "execution_count": 3,
   "id": "b6a0ece8-b84c-4728-b7ce-6fb7f41cb789",
   "metadata": {},
   "outputs": [
    {
     "name": "stdin",
     "output_type": "stream",
     "text": [
      "Enter the password for validation check:  pas#dor(98\n"
     ]
    },
    {
     "name": "stdout",
     "output_type": "stream",
     "text": [
      "Your password is valid and Strong level complexity.\n"
     ]
    }
   ],
   "source": [
    "import string\n",
    "def password_validation(password):\n",
    "    if len(password)>3:\n",
    "        strength_level='Low'\n",
    "        if len(password)>=9:\n",
    "            strength_level='Strong'\n",
    "        elif len(password)>=5:\n",
    "            strength_level='Medium'\n",
    "\n",
    "        # Check if the password contains at least one uppercase letter\n",
    "        if any(char.isupper() for char in password):\n",
    "            if strength_level=='Low':   # Upgrade strength level to Medium if not already Strong\n",
    "                strength_level='Medium'   \n",
    "\n",
    "         # Check if the password contains at least one digit\n",
    "        if any(char.isdigit() for char in password):\n",
    "            if strength_level == \"Low\": # Upgrade strength level to Medium if not already Strong\n",
    "                strength_level = \"Medium\"\n",
    "\n",
    "        # Check if the password contains at least one special character\n",
    "        special_characters = string.punctuation\n",
    "        if any(char in special_characters for char in password):\n",
    "            # Upgrade strength level to Strong if not already Strong\n",
    "            if strength_level != \"Strong\":\n",
    "                strength_level = \"Medium\"\n",
    "\n",
    "        return strength_level\n",
    "    else:\n",
    "        return 'Password length is too short. '\n",
    "    \n",
    "pswd_input=input('Enter the password for validation check: ')\n",
    "validation = password_validation(pswd_input)\n",
    "\n",
    "if validation in {'Low', 'Medium', 'Strong'}:\n",
    "    print(f'Your password is valid and {validation} level complexity.')\n",
    "else:\n",
    "    print(f'Your password is invalid. {validation}')"
   ]
  },
  {
   "cell_type": "markdown",
   "id": "8339cf99-bc19-4068-878d-5d8d39c39094",
   "metadata": {},
   "source": [
    "Explanation: \n",
    "\n",
    "* Function Definition (password_validation):\n",
    "The function takes a password as input and checks its length.\n",
    "It assigns an initial strength level of 'Low' and updates it based on the password's length and the presence of uppercase letters, digits, and special characters.\n",
    "* Password Length Check:\n",
    "Checks if the password length is greater than 3 characters.\n",
    "If true, initializes the strength level as 'Low' and updates it based on length conditions.\n",
    "* Uppercase Letter Check:\n",
    "Checks if the password contains at least one uppercase letter.\n",
    "If true, upgrades the strength level to 'Medium' if it was 'Low'.\n",
    "* Digit Check:\n",
    "Checks if the password contains at least one digit.\n",
    "If true, upgrades the strength level to 'Medium' if it was 'Low'.\n",
    "* Special Character Check:\n",
    "Checks if the password contains at least one special character.\n",
    "If true, upgrades the strength level to 'Medium' if it was not already 'Strong'.\n",
    "* Result Return:\n",
    "Returns the final strength level or a message indicating that the password length is too short.\n",
    "* User Input and Validation:\n",
    "Asks the user to enter a password for validation.\n",
    "Calls the password_validation function to validate the entered password.\n",
    "* Result Display:\n",
    "Prints a message indicating whether the password is valid or invalid, along with its complexity level.\n"
   ]
  },
  {
   "cell_type": "markdown",
   "id": "42bb73c9-f1b2-41a2-9687-d0ee133612b1",
   "metadata": {},
   "source": [
    "32. Develop a program that performs matrix addition and subtraction based on user input."
   ]
  },
  {
   "cell_type": "code",
   "execution_count": 20,
   "id": "48572ccc-2ee7-4001-9f76-3cc42eaf9734",
   "metadata": {},
   "outputs": [
    {
     "name": "stdout",
     "output_type": "stream",
     "text": [
      "Matrix 1:\n"
     ]
    },
    {
     "name": "stdin",
     "output_type": "stream",
     "text": [
      "Enter the number of rows:  2\n",
      "Enter the number of columns:  2\n",
      "Enter element at position (1,1):  2\n",
      "Enter element at position (1,2):  3\n",
      "Enter element at position (2,1):  3\n",
      "Enter element at position (2,2):  4\n"
     ]
    },
    {
     "name": "stdout",
     "output_type": "stream",
     "text": [
      "\n",
      "Matrix 2:\n"
     ]
    },
    {
     "name": "stdin",
     "output_type": "stream",
     "text": [
      "Enter the number of rows:  3\n",
      "Enter the number of columns:  2\n",
      "Enter element at position (1,1):  2\n",
      "Enter element at position (1,2):  3\n",
      "Enter element at position (2,1):  4\n",
      "Enter element at position (2,2):  5\n",
      "Enter element at position (3,1):  2\n",
      "Enter element at position (3,2):  3\n",
      "Enter what calculation you need to do add or subtract? for addition type 1 for subtraction type 2 1\n"
     ]
    },
    {
     "name": "stdout",
     "output_type": "stream",
     "text": [
      "\n",
      "Matrix Addition Result:\n",
      "[4.0, 6.0]\n",
      "[7.0, 9.0]\n"
     ]
    }
   ],
   "source": [
    "def matrix_addition(matrix1, matrix2):\n",
    "    result = [[0 for _ in range(len(matrix1[0]))] for _ in range(len(matrix1))]\n",
    "    for i in range(len(matrix1)):\n",
    "        for j in range(len(matrix1[0])):\n",
    "            result[i][j] = matrix1[i][j] + matrix2[i][j]\n",
    "    return result\n",
    "\n",
    "def matrix_subtraction(matrix1, matrix2):\n",
    "    result = [[0 for _ in range(len(matrix1[0]))] for _ in range(len(matrix1))]\n",
    "    for i in range(len(matrix1)):\n",
    "        for j in range(len(matrix1[0])):\n",
    "            result[i][j] = matrix1[i][j] - matrix2[i][j]\n",
    "    return result\n",
    "\n",
    "def print_matrix(matrix):\n",
    "    for row in matrix:\n",
    "        print(row)\n",
    "\n",
    "def get_matrix_from_user():\n",
    "    rows = int(input(\"Enter the number of rows: \"))\n",
    "    cols = int(input(\"Enter the number of columns: \"))\n",
    "    \n",
    "    matrix = []\n",
    "    for i in range(rows):\n",
    "        row = []\n",
    "        for j in range(cols):\n",
    "            element = float(input(f\"Enter element at position ({i+1},{j+1}): \"))\n",
    "            row.append(element)\n",
    "        matrix.append(row)\n",
    "    \n",
    "    return matrix\n",
    "\n",
    "# Get matrices from user\n",
    "print(\"Matrix 1:\")\n",
    "matrix1 = get_matrix_from_user()\n",
    "\n",
    "print(\"\\nMatrix 2:\")\n",
    "matrix2 = get_matrix_from_user()\n",
    "\n",
    "calc= int(input('Enter what calculation you need to do add or subtract? for addition type 1 for subtraction type 2'))\n",
    "\n",
    "if calc ==1:\n",
    "    addition_result = matrix_addition(matrix1, matrix2)\n",
    "    print(\"\\nMatrix Addition Result:\")\n",
    "    print_matrix(addition_result)\n",
    "else:\n",
    "    subtraction_result = matrix_subtraction(matrix1, matrix2)\n",
    "    print(\"\\nMatrix Subtraction Result:\")\n",
    "    print_matrix(subtraction_result)\n"
   ]
  },
  {
   "cell_type": "markdown",
   "id": "6e0e9818-d372-40e7-9829-4f5ca09b1a73",
   "metadata": {},
   "source": [
    "Explanation: \n",
    "\n",
    "* Matrix Addition Function (matrix_addition):\n",
    "It takes two matrices, matrix1 and matrix2, as input.\n",
    "Creates a result matrix (result) with the same dimensions as the input matrices.\n",
    "Iterates through each element in the matrices, adds the corresponding elements, and stores the result in the result matrix.\n",
    "Returns the resulting matrix.\n",
    "* Matrix Subtraction Function (matrix_subtraction):\n",
    "Similar to the addition function but subtracts corresponding elements instead of adding.\n",
    "* Print Matrix Function (print_matrix):\n",
    "Takes a matrix as input and prints each row on a new line.\n",
    "* Get Matrix from User Function (get_matrix_from_user):\n",
    "Takes user input for the number of rows and columns.\n",
    "Creates a matrix based on user input for each element.\n",
    "Returns the created matrix.\n",
    "* Main Code:\n",
    "Prompts the user to enter matrices (Matrix 1 and Matrix 2) using the get_matrix_from_user function.\n",
    "Asks the user whether they want to perform addition or subtraction.\n",
    "Calls the respective function (matrix_addition or matrix_subtraction) based on user input.\n",
    "Prints the result using the print_matrix function."
   ]
  },
  {
   "cell_type": "markdown",
   "id": "3e292957-bcd6-4664-b3df-1e431769f728",
   "metadata": {},
   "source": [
    "33. Write a program that calculates the greatest common divisor (GCD) of two numbers using the Euclidean\n",
    "algorithm."
   ]
  },
  {
   "cell_type": "code",
   "execution_count": 9,
   "id": "36a25e5f-eab4-48dd-8691-8ba76737862d",
   "metadata": {},
   "outputs": [
    {
     "name": "stdin",
     "output_type": "stream",
     "text": [
      "Enter the first number:  36\n",
      "Enter the second number:  60\n"
     ]
    },
    {
     "name": "stdout",
     "output_type": "stream",
     "text": [
      "The GCD of 36 and 60 is: 12\n"
     ]
    }
   ],
   "source": [
    "def gcd_euclidean(a, b):\n",
    "    while b:\n",
    "        a, b = b, a % b\n",
    "    return a\n",
    "\n",
    "# Get user input for two numbers\n",
    "num1 = int(input(\"Enter the first number: \"))\n",
    "num2 = int(input(\"Enter the second number: \"))\n",
    "\n",
    "# Call the function to calculate GCD\n",
    "gcd_result = gcd_euclidean(num1, num2)\n",
    "\n",
    "# Display the result\n",
    "print(f\"The GCD of {num1} and {num2} is: {gcd_result}\")\n"
   ]
  },
  {
   "cell_type": "markdown",
   "id": "d17370e2-2c51-400c-9178-e439faaf2306",
   "metadata": {},
   "source": [
    "Explanation:\n",
    "\n",
    "* The gcd_euclidean function takes two parameters (a and b) and uses the Euclidean algorithm to calculate the GCD.\n",
    "* The algorithm repeatedly applies the formula: gcd(a, b) = gcd(b, a % b) until b becomes 0.\n",
    "* The function returns the final value of a, which is the GCD of the two numbers.\n",
    "* The user is prompted to enter two numbers, and the program calculates and prints their GCD."
   ]
  },
  {
   "cell_type": "markdown",
   "id": "b97dff04-d4e0-4403-8162-9a43e7004888",
   "metadata": {},
   "source": [
    "34. Build a program that performs matrix multiplication using nested loops and conditional statements."
   ]
  },
  {
   "cell_type": "code",
   "execution_count": 2,
   "id": "2d54d803-e2f5-4318-8ad5-938a6ad26fb8",
   "metadata": {},
   "outputs": [
    {
     "name": "stdout",
     "output_type": "stream",
     "text": [
      "Matrix 1:\n"
     ]
    },
    {
     "name": "stdin",
     "output_type": "stream",
     "text": [
      "Enter number of rows:  2\n",
      "Enter number of columns:  2\n",
      "Enter the element at position (1,1) 2\n",
      "Enter the element at position (1,2) 3\n",
      "Enter the element at position (2,1) 4\n",
      "Enter the element at position (2,2) 5\n"
     ]
    },
    {
     "name": "stdout",
     "output_type": "stream",
     "text": [
      "\n",
      "Matrix 2:\n"
     ]
    },
    {
     "name": "stdin",
     "output_type": "stream",
     "text": [
      "Enter number of rows:  2\n",
      "Enter number of columns:  2\n",
      "Enter the element at position (1,1) 4\n",
      "Enter the element at position (1,2) 5\n",
      "Enter the element at position (2,1) 7\n",
      "Enter the element at position (2,2) 5\n"
     ]
    },
    {
     "name": "stdout",
     "output_type": "stream",
     "text": [
      "\n",
      "Matrix Multiplication Result:\n",
      "[29.0, 25.0]\n",
      "[51.0, 45.0]\n"
     ]
    }
   ],
   "source": [
    "def get_matrix_from_user():\n",
    "    rows= int(input('Enter number of rows: '))\n",
    "    columns= int(input('Enter number of columns: '))\n",
    "    matrix=[]\n",
    "    for i in range(rows):\n",
    "        rows=[]\n",
    "        for j in range(columns):\n",
    "            values= float(input(f'Enter the element at position ({i+1},{j+1})'))\n",
    "            rows.append(values)\n",
    "        matrix.append(rows)\n",
    "    return matrix\n",
    "\n",
    "def print_matrix(matrix):\n",
    "    for row in matrix:\n",
    "        print(row)\n",
    "\n",
    "def matrix_multiplication(matrix1, matrix2):\n",
    "    result = [[0 for _ in range(len(matrix2[0]))] for _ in range(len(matrix1))]\n",
    "\n",
    "    # Check if matrices can be multiplied\n",
    "    if len(matrix1[0]) == len(matrix2):\n",
    "        for i in range(len(matrix1)):\n",
    "            for j in range(len(matrix2[0])):\n",
    "                for k in range(len(matrix2)):\n",
    "                    result[i][j] += matrix1[i][k] * matrix2[k][j]\n",
    "        return result\n",
    "    else:\n",
    "        return None\n",
    "\n",
    "# Get matrices from user\n",
    "print(\"Matrix 1:\")\n",
    "matrix1 = get_matrix_from_user()\n",
    "\n",
    "print(\"\\nMatrix 2:\")\n",
    "matrix2 = get_matrix_from_user()\n",
    "\n",
    "\n",
    "if len(matrix1[0]) ==len(matrix2[0]):\n",
    "    multiplication = matrix_multiplication(matrix1, matrix2)\n",
    "    print(\"\\nMatrix Multiplication Result:\")\n",
    "    print_matrix(multiplication)\n",
    "else:\n",
    "    print('Enter the matrix by matching column')"
   ]
  },
  {
   "cell_type": "markdown",
   "id": "4d2bffb9-3546-41af-a09e-386567136e53",
   "metadata": {},
   "source": [
    "Explanation:\n",
    "    \n",
    "* get_matrix_from_user() Function:\n",
    "Takes user input for the number of rows and columns.\n",
    "Uses nested loops to get user input for each element of the matrix.\n",
    "Returns the populated matrix.\n",
    "* print_matrix(matrix) Function:\n",
    "Takes a matrix as input and prints each row on a new line.\n",
    "* matrix_multiplication(matrix1, matrix2) Function:\n",
    "Checks if the matrices can be multiplied by comparing the number of columns in the first matrix (matrix1) with the number of rows in the second matrix (matrix2).\n",
    "If matrices can be multiplied, initializes a result matrix with appropriate dimensions.\n",
    "Uses three nested loops to perform matrix multiplication.\n",
    "Returns the resulting matrix.\n",
    "* Main Code:\n",
    "Gets two matrices (matrix1 and matrix2) from the user using get_matrix_from_user().\n",
    "Checks if the matrices can be multiplied based on their dimensions.\n",
    "If matrices can be multiplied, performs matrix multiplication using matrix_multiplication() and prints the result using print_matrix().\n",
    "If matrices cannot be multiplied, notifies the user to enter matrices with matching column sizes."
   ]
  },
  {
   "cell_type": "markdown",
   "id": "a1de5a44-fa58-4d5f-8f0e-9c028c676d6a",
   "metadata": {},
   "source": [
    "35. Create a program that simulates a basic text-based tic-tac-toe game against the computer."
   ]
  },
  {
   "cell_type": "code",
   "execution_count": 4,
   "id": "f8716cbf-ffd1-43d4-8f66-7f2ea648cc2b",
   "metadata": {},
   "outputs": [
    {
     "name": "stdout",
     "output_type": "stream",
     "text": [
      "Let's Begin the Game tic tac toe\n",
      "\n",
      "  |   |  \n",
      "----------\n",
      "  |   |  \n",
      "----------\n",
      "  |   |  \n",
      "Computer's move:\n",
      "  |   | O\n",
      "----------\n",
      "  |   |  \n",
      "----------\n",
      "  |   |  \n"
     ]
    },
    {
     "name": "stdin",
     "output_type": "stream",
     "text": [
      "Enter row (1, 2, or 3):  2\n",
      "Enter column (1, 2, or 3):  3\n"
     ]
    },
    {
     "name": "stdout",
     "output_type": "stream",
     "text": [
      "  |   | O\n",
      "----------\n",
      "  |   | X\n",
      "----------\n",
      "  |   |  \n",
      "Computer's move:\n",
      "  |   | O\n",
      "----------\n",
      "  |   | X\n",
      "----------\n",
      "  |   | O\n"
     ]
    },
    {
     "name": "stdin",
     "output_type": "stream",
     "text": [
      "Enter row (1, 2, or 3):  1\n",
      "Enter column (1, 2, or 3):  2\n"
     ]
    },
    {
     "name": "stdout",
     "output_type": "stream",
     "text": [
      "  | X | O\n",
      "----------\n",
      "  |   | X\n",
      "----------\n",
      "  |   | O\n",
      "Computer's move:\n",
      "  | X | O\n",
      "----------\n",
      "O |   | X\n",
      "----------\n",
      "  |   | O\n"
     ]
    },
    {
     "name": "stdin",
     "output_type": "stream",
     "text": [
      "Enter row (1, 2, or 3):  1\n",
      "Enter column (1, 2, or 3):  1\n"
     ]
    },
    {
     "name": "stdout",
     "output_type": "stream",
     "text": [
      "X | X | O\n",
      "----------\n",
      "O |   | X\n",
      "----------\n",
      "  |   | O\n",
      "Computer's move:\n",
      "X | X | O\n",
      "----------\n",
      "O |   | X\n",
      "----------\n",
      "O |   | O\n"
     ]
    },
    {
     "name": "stdin",
     "output_type": "stream",
     "text": [
      "Enter row (1, 2, or 3):  2\n",
      "Enter column (1, 2, or 3):  2\n"
     ]
    },
    {
     "name": "stdout",
     "output_type": "stream",
     "text": [
      "X | X | O\n",
      "----------\n",
      "O | X | X\n",
      "----------\n",
      "O |   | O\n",
      "Computer's move:\n",
      "X | X | O\n",
      "----------\n",
      "O | X | X\n",
      "----------\n",
      "O | O | O\n",
      "O wins!\n"
     ]
    }
   ],
   "source": [
    "import random\n",
    "print(\"Let's Begin the Game tic tac toe\\n\")\n",
    "def print_board(board):\n",
    "    for i, row in enumerate(board):\n",
    "        print(\" | \".join(row))\n",
    "        if i !=2:\n",
    "            print(\"-\" * 10)\n",
    "\n",
    "def check_winner(board, player):\n",
    "    # Check rows and columns\n",
    "    for i in range(3):\n",
    "        if all(cell == player for cell in board[i]) or all(board[j][i] == player for j in range(3)):\n",
    "            return True\n",
    "\n",
    "    # Check diagonals\n",
    "    if all(board[i][i] == player for i in range(3)) or all(board[i][2 - i] == player for i in range(3)):\n",
    "        return True\n",
    "\n",
    "    return False\n",
    "\n",
    "def is_board_full(board):\n",
    "    return all(cell != \" \" for row in board for cell in row)\n",
    "\n",
    "def get_empty_cells(board):\n",
    "    return [(i, j) for i in range(3) for j in range(3) if board[i][j] == \" \"]\n",
    "\n",
    "def player_move(board):\n",
    "    while True:\n",
    "        try:\n",
    "            row = int(input(\"Enter row (1, 2, or 3): \")) - 1\n",
    "            col = int(input(\"Enter column (1, 2, or 3): \")) - 1\n",
    "\n",
    "            if board[row][col] == \" \":\n",
    "                return row, col\n",
    "            else:\n",
    "                print(\"Cell already occupied. Try again.\")\n",
    "        except (ValueError, IndexError):\n",
    "            print(\"Invalid input. Please enter a valid row and column.\")\n",
    "\n",
    "def computer_move(board):\n",
    "    empty_cells = get_empty_cells(board)\n",
    "    return random.choice(empty_cells)\n",
    "\n",
    "def play_tic_tac_toe():\n",
    "    board = [[\" \" for _ in range(3)] for _ in range(3)]\n",
    "    players = [\"X\", \"O\"]\n",
    "    current_player = random.choice(players)\n",
    "\n",
    "    while True:\n",
    "        print_board(board)\n",
    "\n",
    "        if current_player == \"X\":\n",
    "            row, col = player_move(board)\n",
    "        else:\n",
    "            print(\"Computer's move:\")\n",
    "            row, col = computer_move(board)\n",
    "\n",
    "        board[row][col] = current_player\n",
    "\n",
    "        if check_winner(board, current_player):\n",
    "            print_board(board)\n",
    "            print(f\"{current_player} wins!\")\n",
    "            break\n",
    "        elif is_board_full(board):\n",
    "            print_board(board)\n",
    "            print(\"It's a tie!\")\n",
    "            break\n",
    "\n",
    "        current_player = \"O\" if current_player == \"X\" else \"X\"\n",
    "\n",
    "if __name__ == \"__main__\":\n",
    "    play_tic_tac_toe()\n"
   ]
  },
  {
   "cell_type": "markdown",
   "id": "e0fabe73-5fc4-41be-8fd6-011b16f49343",
   "metadata": {},
   "source": [
    "Explanation:\n",
    "\n",
    "* print_board(board) Function:\n",
    "Displays the current state of the Tic-Tac-Toe board.\n",
    "Prints each row, separated by vertical lines, and adds horizontal lines between rows.\n",
    "* check_winner(board, player) Function:\n",
    "Checks if the given player has won the game.\n",
    "It checks rows, columns, and diagonals for a match.\n",
    "* is_board_full(board) Function:\n",
    "Checks if the Tic-Tac-Toe board is full.\n",
    "* get_empty_cells(board) Function:\n",
    "Returns a list of empty cells on the board.\n",
    "* player_move(board) Function:\n",
    "Takes user input for the row and column (1 to 3).\n",
    "Checks if the chosen cell is empty and returns the selected row and column.\n",
    "* computer_move(board) Function:\n",
    "Selects a random empty cell on the board for the computer's move.\n",
    "* play_tic_tac_toe() Function:\n",
    "Initializes the game board.\n",
    "Randomly selects the starting player (X or O).\n",
    "Alternates between player and computer moves until there is a winner or the board is full.\n",
    "Prints the winner or declares a tie at the end of the game."
   ]
  },
  {
   "cell_type": "markdown",
   "id": "3481808b-c2ce-4f8b-b2df-0a29f6c22e43",
   "metadata": {},
   "source": [
    "36. Write a program that generates Fibonacci numbers up to a specified term using iterative methods."
   ]
  },
  {
   "cell_type": "code",
   "execution_count": 9,
   "id": "022cd7a5-6cf5-4b03-8a54-faf00205fd73",
   "metadata": {},
   "outputs": [
    {
     "name": "stdin",
     "output_type": "stream",
     "text": [
      "Enter the number of Fibonacci terms to generate:  9\n"
     ]
    },
    {
     "name": "stdout",
     "output_type": "stream",
     "text": [
      "Fibonacci numbers up to term 9: [0, 1, 1, 2, 3, 5, 8, 13, 21, 34]\n"
     ]
    }
   ],
   "source": [
    "def generate_fibonacci(n):\n",
    "    fibonacci_sequence = [0, 1]\n",
    "\n",
    "    for _ in range(2, n+1):\n",
    "        next_term = fibonacci_sequence[-1] + fibonacci_sequence[-2]\n",
    "        fibonacci_sequence.append(next_term)\n",
    "\n",
    "    return fibonacci_sequence\n",
    "\n",
    "# Get user input for the number of terms\n",
    "num_terms = int(input(\"Enter the number of Fibonacci terms to generate: \"))\n",
    "\n",
    "# Call the function to generate Fibonacci numbers\n",
    "fibonacci_numbers = generate_fibonacci(num_terms)\n",
    "\n",
    "# Display the result\n",
    "print(f\"Fibonacci numbers up to term {num_terms}: {fibonacci_numbers}\")\n"
   ]
  },
  {
   "cell_type": "markdown",
   "id": "a199528d-0b26-47ce-8bb7-ddda18ed14cd",
   "metadata": {},
   "source": [
    "Explanation:\n",
    "\n",
    "* The generate_fibonacci function initializes the Fibonacci sequence with the first two terms [0, 1].\n",
    "* It then uses a loop to iteratively calculate and append the next term to the sequence until the specified number of terms (n) is reached.\n",
    "* The user is prompted to enter the number of terms they want to generate.\n",
    "* The program calls the generate_fibonacci function and prints the resulting Fibonacci sequence."
   ]
  },
  {
   "cell_type": "markdown",
   "id": "fe0db331-70f8-42c4-8520-a58472f28e5e",
   "metadata": {},
   "source": [
    "37. Develop a program that calculates the nth term of the Fibonacci sequence using memoization."
   ]
  },
  {
   "cell_type": "code",
   "execution_count": 8,
   "id": "3f5ebd23-0871-4e80-84d0-ee53da91a655",
   "metadata": {},
   "outputs": [
    {
     "name": "stdin",
     "output_type": "stream",
     "text": [
      "Enter the value of n to find the nth Fibonacci term:  9\n"
     ]
    },
    {
     "name": "stdout",
     "output_type": "stream",
     "text": [
      "The 9th Fibonacci term is: 34\n"
     ]
    }
   ],
   "source": [
    "def fibonacci_memo(n, memo={}):\n",
    "    if n < 2:\n",
    "        return n\n",
    "\n",
    "    if n not in memo:\n",
    "        memo[n] = fibonacci_memo(n-1, memo) + fibonacci_memo(n-2, memo)\n",
    "\n",
    "    return memo[n]\n",
    "\n",
    "# Get user input for the desired term\n",
    "n = int(input(\"Enter the value of n to find the nth Fibonacci term: \"))\n",
    "\n",
    "# Calculate and print the nth Fibonacci term using memoization\n",
    "result = fibonacci_memo(n)\n",
    "print(f\"The {n}th Fibonacci term is: {result}\")"
   ]
  },
  {
   "cell_type": "markdown",
   "id": "30f37ac9-e4b3-4d6d-95af-4bb24bc223cd",
   "metadata": {},
   "source": [
    "Explanation: \n",
    "* Function Definition (fibonacci_memo):\n",
    "The fibonacci_memo function calculates the nth Fibonacci term using memoization. The memo dictionary is used to store previously computed Fibonacci values to avoid redundant calculations.\n",
    "* Base Case (if n < 2):\n",
    "If n is less than 2, the function returns n itself. This is the base case for the recursive function.\n",
    "* Memoization (if n not in memo):\n",
    "If n is not already in the memo dictionary, it calculates the Fibonacci term for n by recursively calling fibonacci_memo(n-1, memo) and fibonacci_memo(n-2, memo). The results are stored in the memo dictionary to avoid recalculating them in the future.\n",
    "* Return Result (return memo[n]):\n",
    "The function returns the calculated Fibonacci term for the input n.\n",
    "* User Input and Result Display:\n",
    "The user is prompted to enter the desired term (n).\n",
    "The program then calculates and prints the nth Fibonacci term using the fibonacci_memo function with memoization."
   ]
  },
  {
   "cell_type": "markdown",
   "id": "81470bf5-d07c-418e-86d9-f3dd98134ff6",
   "metadata": {},
   "source": [
    "38. Create a program that generates a calendar for a given month and year using conditional statements."
   ]
  },
  {
   "cell_type": "code",
   "execution_count": 30,
   "id": "fa38986b-8aa7-4e40-a792-4e0414338d91",
   "metadata": {},
   "outputs": [
    {
     "name": "stdin",
     "output_type": "stream",
     "text": [
      "Enter the year:  2024\n",
      "Enter the month (1-12):  2\n"
     ]
    },
    {
     "name": "stdout",
     "output_type": "stream",
     "text": [
      "   February 2024    \n",
      "--------------------\n",
      "Mo Tu We Th Fr Sa Su\n",
      "          1  2  3  4 \n",
      " 5  6  7  8  9 10 11 \n",
      "12 13 14 15 16 17 18 \n",
      "19 20 21 22 23 24 25 \n",
      "26 27 28 29          \n"
     ]
    }
   ],
   "source": [
    "import calendar\n",
    "\n",
    "def generate_calendar(year, month):\n",
    "    cal = calendar.monthcalendar(year, month)\n",
    "    header = calendar.month_name[month] + \" \" + str(year)\n",
    "    \n",
    "    # Display header\n",
    "    print(header.center(20))\n",
    "    print(\"-\" * 20)\n",
    "    \n",
    "    # Display weekdays\n",
    "    print(\"Mo Tu We Th Fr Sa Su\")\n",
    "\n",
    "    # Display calendar\n",
    "    for week in cal:\n",
    "        for day in week:\n",
    "            if day == 0:\n",
    "                print(\"  \", end=\" \")\n",
    "            else:\n",
    "                print(f\"{day:2d}\", end=\" \")\n",
    "        print()\n",
    "\n",
    "# Get user input for the year and month\n",
    "year = int(input(\"Enter the year: \"))\n",
    "month = int(input(\"Enter the month (1-12): \"))\n",
    "\n",
    "# Validate input\n",
    "if 1 <= month <= 12:\n",
    "    generate_calendar(year, month)\n",
    "else:\n",
    "    print(\"Invalid month. Please enter a month between 1 and 12.\")\n"
   ]
  },
  {
   "cell_type": "markdown",
   "id": "25eb6b8f-cb5c-459f-ac5e-8a4c270d6b96",
   "metadata": {},
   "source": [
    "Explanation:\n",
    "\n",
    "* The program uses the calendar module to generate a calendar for a specific month and year.\n",
    "* The generate_calendar function takes the year and month as parameters.\n",
    "* It uses calendar.monthcalendar(year, month) to get a list of lists representing the calendar for the specified month and year.\n",
    "* The header is printed with the month name and year centered within a line of 20 characters, followed by a line of 20 dashes.\n",
    "* The weekdays (\"Mo Tu We Th Fr Sa Su\") are printed.\n",
    "* The days of the month are printed in a grid format, with empty days represented by two spaces. It uses string formatting (f{day:2d}\") to ensure that each day is printed with two digits, providing a neat appearance for single-digit days.\n",
    "* The user is prompted to enter the year and month, and the input is validated to ensure a valid month is entered (between 1 and 12).\n",
    "* The program then calls generate_calendar with the user-provided year and month, displaying the generated calendar."
   ]
  },
  {
   "cell_type": "markdown",
   "id": "0f0f6fd6-c24e-4f7b-bc6b-8de067edcbcb",
   "metadata": {},
   "source": [
    "39. Build a program that simulates a basic text-based blackjack game against the computer."
   ]
  },
  {
   "cell_type": "code",
   "execution_count": 2,
   "id": "92b2c2c0-0a89-4751-8399-b7a887a214ed",
   "metadata": {},
   "outputs": [
    {
     "name": "stdout",
     "output_type": "stream",
     "text": [
      "Your cards: [10, 9], current score: 19\n",
      "Computer's first card: 9\n"
     ]
    },
    {
     "name": "stdin",
     "output_type": "stream",
     "text": [
      "Type 'y' to get another card, 'n' to pass:  y\n"
     ]
    },
    {
     "name": "stdout",
     "output_type": "stream",
     "text": [
      "Your cards: [10, 9, 3], current score: 22\n",
      "Computer's first card: 9\n",
      "Your final hand: [10, 9, 3], final score: 22\n",
      "Computer's final hand: [9, 10], final score: 19\n",
      "You went over. You lose!\n"
     ]
    }
   ],
   "source": [
    "import random\n",
    "\n",
    "def deal_card():\n",
    "    \"\"\"Return a random card from the deck.\"\"\"\n",
    "    cards = [11, 2, 3, 4, 5, 6, 7, 8, 9, 10, 10, 10, 10]\n",
    "    return random.choice(cards)\n",
    "\n",
    "def calculate_score(cards):\n",
    "    \"\"\"Calculate the total value of a hand of cards.\"\"\"\n",
    "    if sum(cards) == 21 and len(cards) == 2:\n",
    "        return 0  # Blackjack\n",
    "    if 11 in cards and sum(cards) > 21:\n",
    "        cards.remove(11)\n",
    "        cards.append(1)\n",
    "    return sum(cards)\n",
    "\n",
    "def compare(user_score, computer_score):\n",
    "    \"\"\"Compare the final scores and determine the winner.\"\"\"\n",
    "    if user_score == computer_score:\n",
    "        return \"It's a draw!\"\n",
    "    elif computer_score == 0:\n",
    "        return \"You lose, opponent has Blackjack!\"\n",
    "    elif user_score == 0:\n",
    "        return \"You win with a Blackjack!\"\n",
    "    elif user_score > 21:\n",
    "        return \"You went over. You lose!\"\n",
    "    elif computer_score > 21:\n",
    "        return \"Opponent went over. You win!\"\n",
    "    elif user_score > computer_score:\n",
    "        return \"You win!\"\n",
    "    else:\n",
    "        return \"You lose!\"\n",
    "\n",
    "def play_game():\n",
    "    user_cards = [deal_card(), deal_card()]\n",
    "    computer_cards = [deal_card(), deal_card()]\n",
    "    game_over = False\n",
    "\n",
    "    while not game_over:\n",
    "        user_score = calculate_score(user_cards)\n",
    "        computer_score = calculate_score(computer_cards)\n",
    "\n",
    "        print(f\"Your cards: {user_cards}, current score: {user_score}\")\n",
    "        print(f\"Computer's first card: {computer_cards[0]}\")\n",
    "\n",
    "        if user_score == 0 or computer_score == 0 or user_score > 21:\n",
    "            game_over = True\n",
    "        else:\n",
    "            should_continue = input(\"Type 'y' to get another card, 'n' to pass: \")\n",
    "            if should_continue == 'y':\n",
    "                user_cards.append(deal_card())\n",
    "            else:\n",
    "                game_over = True\n",
    "\n",
    "    while computer_score != 0 and computer_score < 17:\n",
    "        computer_cards.append(deal_card())\n",
    "        computer_score = calculate_score(computer_cards)\n",
    "\n",
    "    print(f\"Your final hand: {user_cards}, final score: {user_score}\")\n",
    "    print(f\"Computer's final hand: {computer_cards}, final score: {computer_score}\")\n",
    "    print(compare(user_score, computer_score))\n",
    "\n",
    "# Run the game\n",
    "play_game()\n"
   ]
  },
  {
   "cell_type": "markdown",
   "id": "c2b341a0-c52f-4933-816e-50d569b90442",
   "metadata": {},
   "source": [
    "Explanation: \n",
    "* deal_card() Function:\n",
    "This function returns a random card from the deck. The deck consists of cards with values 2 to 10, and face cards (Jack, Queen, King) each having a value of 10. The Ace has a value of 11 by default.\n",
    "* calculate_score(cards) Function:\n",
    "Calculates the total value of a hand of cards.\n",
    "If the sum of the cards is 21 and there are only two cards, it means a Blackjack, and the function returns 0.\n",
    "If there is an Ace in the hand and the sum exceeds 21, it converts the Ace's value from 11 to 1 to avoid busting.\n",
    "* compare(user_score, computer_score) Function:\n",
    "Compares the final scores and determines the winner based on Blackjack rules.\n",
    "* play_game() Function:\n",
    "Initiates the game by dealing initial cards to the user and computer.\n",
    "Implements the user's turn, allowing them to decide whether to get another card ('y') or pass ('n').\n",
    "Simulates the computer's turn based on a simple strategy (draw until the score is 17 or higher).\n",
    "Prints the final hands and scores, and determines the winner using the compare() function.\n",
    "* Game Loop:\n",
    "The game uses a loop (while not game_over) to manage the flow of the game until it's over.\n",
    "It handles the user's turn, computer's turn, and determines the winner.\n",
    "* Running the Game:\n",
    "The game is executed by calling play_game() at the end of the code."
   ]
  },
  {
   "cell_type": "markdown",
   "id": "1867b2db-39e0-46da-9894-e4eedd046a9d",
   "metadata": {},
   "source": [
    "40. Write a program that generates the prime factors of a given number using trial division."
   ]
  },
  {
   "cell_type": "code",
   "execution_count": 4,
   "id": "acabe6d0-d29e-4c67-9b2c-3b6c18da865e",
   "metadata": {},
   "outputs": [
    {
     "name": "stdin",
     "output_type": "stream",
     "text": [
      "Enter a number to find its prime factors:  36\n"
     ]
    },
    {
     "name": "stdout",
     "output_type": "stream",
     "text": [
      "The prime factors of 36 are: [2, 2, 3, 3]\n"
     ]
    }
   ],
   "source": [
    "def prime_factors(n):\n",
    "    factors = []\n",
    "    divisor = 2\n",
    "\n",
    "    while divisor <= n:\n",
    "        if n % divisor == 0:\n",
    "            factors.append(divisor)\n",
    "            n //= divisor\n",
    "        else:\n",
    "            divisor += 1\n",
    "\n",
    "    return factors\n",
    "\n",
    "# Get user input for the number\n",
    "number = int(input(\"Enter a number to find its prime factors: \"))\n",
    "\n",
    "# Calculate and print the prime factors\n",
    "result = prime_factors(number)\n",
    "print(f\"The prime factors of {number} are: {result}\")\n"
   ]
  },
  {
   "cell_type": "markdown",
   "id": "57f6c7b6-f21f-4680-9fd1-1777f98f050c",
   "metadata": {},
   "source": [
    "Explanation:\n",
    "\n",
    "* prime_factors(n) Function:\n",
    "This function takes an integer n as input and returns a list of its prime factors.\n",
    "It initializes an empty list factors to store the prime factors.\n",
    "It uses trial division to find the prime factors by iterating from 2 to the given number.\n",
    "If a divisor is found, it divides n by the divisor and appends the divisor to the factors list.\n",
    "The process continues until n becomes 1.\n",
    "* Getting User Input:\n",
    "The program prompts the user to enter a number for which they want to find the prime factors.\n",
    "* Printing the Result:\n",
    "The calculated prime factors are printed to the console."
   ]
  },
  {
   "cell_type": "code",
   "execution_count": null,
   "id": "3293e0ad-5f39-4958-b7c7-54beed8e8612",
   "metadata": {},
   "outputs": [],
   "source": []
  }
 ],
 "metadata": {
  "kernelspec": {
   "display_name": "Python 3 (ipykernel)",
   "language": "python",
   "name": "python3"
  },
  "language_info": {
   "codemirror_mode": {
    "name": "ipython",
    "version": 3
   },
   "file_extension": ".py",
   "mimetype": "text/x-python",
   "name": "python",
   "nbconvert_exporter": "python",
   "pygments_lexer": "ipython3",
   "version": "3.10.8"
  }
 },
 "nbformat": 4,
 "nbformat_minor": 5
}
