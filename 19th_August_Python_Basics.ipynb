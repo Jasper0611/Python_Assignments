{
 "cells": [
  {
   "cell_type": "markdown",
   "id": "1bc7c7dd-1d6e-484f-a028-193c089f2fce",
   "metadata": {},
   "source": [
    "# Topic : Python Basic Variables"
   ]
  },
  {
   "cell_type": "markdown",
   "id": "e4864d80-5f1d-4a78-8c31-f8356e82b78a",
   "metadata": {},
   "source": [
    "1. Declare two variables, `x` and `y`, and assign them integer values. Swap the values of these variables without using any temporary variable."
   ]
  },
  {
   "cell_type": "code",
   "execution_count": 16,
   "id": "3dcd755f-a904-402e-89ca-9b6b5e013c7c",
   "metadata": {},
   "outputs": [],
   "source": [
    "#creating varibales & assigning integer values\n",
    "a= 2\n",
    "b=3"
   ]
  },
  {
   "cell_type": "code",
   "execution_count": 17,
   "id": "dc9be8e2-f8e5-40c3-8e64-a83fca22cbbc",
   "metadata": {},
   "outputs": [
    {
     "name": "stdout",
     "output_type": "stream",
     "text": [
      "a: 3 b: 2\n"
     ]
    }
   ],
   "source": [
    "#swapping the values\n",
    "a,b=b,a\n",
    "print('a:',a, 'b:',b) "
   ]
  },
  {
   "cell_type": "markdown",
   "id": "df7735e3",
   "metadata": {},
   "source": [
    "Explanation: \n",
    "* a= 2, b=3  assigned these integer values in the first and second lines\n",
    "* a, b = b, a  swapping the values simultaneously so that their original values will swap together\n",
    "* print('a:',a, 'b:',b)  -printing the swapped values "
   ]
  },
  {
   "cell_type": "markdown",
   "id": "6982d00e-1e1c-4b4c-9ede-2d8c0d79f90a",
   "metadata": {},
   "source": [
    "2. Create a program that calculates the area of a rectangle. Take the length and\n",
    "width as inputs from the user and store them in variables. Calculate and\n",
    "display the area."
   ]
  },
  {
   "cell_type": "code",
   "execution_count": 16,
   "id": "6ab716c4-8549-4adb-8877-60cbe9aeef75",
   "metadata": {},
   "outputs": [
    {
     "name": "stdout",
     "output_type": "stream",
     "text": [
      "what is the length of rectangle? 10.5\n",
      "what is the width of rectangle? 20.7\n",
      "Your Area of rectangle is  217.35\n"
     ]
    }
   ],
   "source": [
    "#Formula for area of rectangle = Length * width\n",
    "\n",
    "\n",
    "length = float(input(\"what is the length of rectangle? \"))  #taking the input values for length in float type\n",
    "width = float(input(\"what is the width of rectangle? \"))  #taking the input values for width in float type\n",
    "area= length * width  \n",
    "\n",
    "print(\"Your Area of rectangle is \" ,area)"
   ]
  },
  {
   "cell_type": "markdown",
   "id": "0095655e",
   "metadata": {},
   "source": [
    "Explanation: \n",
    "\n",
    "* The area of a rectangle is calculated by multiplying its length and width. So, first asking the user to input its length and width details, since the input() function will take the input in string type, converting its type to float as the length and width can be in decimals.\n",
    "* Multiplying length and width given by the user and assign it to the area variable.\n",
    "* Printing the area variable using print() function along with the string \"Your Area of rectangle is \"."
   ]
  },
  {
   "cell_type": "markdown",
   "id": "ca5eaf09-fe40-434a-bd19-2331b2736aee",
   "metadata": {},
   "source": [
    "3. Write a Python program that converts temperatures from Celsius to\n",
    "Fahrenheit. Take the temperature in Celsius as input, store it in a variable,\n",
    "convert it to Fahrenheit, and display the result."
   ]
  },
  {
   "cell_type": "code",
   "execution_count": 28,
   "id": "243118ce-5a14-4fc9-9e37-a5e4ea3ab5f4",
   "metadata": {},
   "outputs": [
    {
     "name": "stdin",
     "output_type": "stream",
     "text": [
      "what is the Degree Celsius you want to convert into Fahrenheit?  24\n"
     ]
    },
    {
     "name": "stdout",
     "output_type": "stream",
     "text": [
      "24.0 degree Celsius is  75.2 Fahrenheit\n"
     ]
    }
   ],
   "source": [
    "#Formula for converting Celsius to Fahrenheit is  multiply celsius by 1.8 and add 32.\n",
    "\n",
    "Celsius = float(input(\"what is the Degree Celsius you want to convert into Fahrenheit? \"))   #using the float type as input since degrees of temp can be in decimals\n",
    "\n",
    "Fahrenheit= (Celsius *1.8) + 32\n",
    "print(Celsius,\"degree Celsius is \" ,Fahrenheit,\"Fahrenheit\")"
   ]
  },
  {
   "cell_type": "markdown",
   "id": "660eebb5",
   "metadata": {},
   "source": [
    "Explanation:\n",
    "\n",
    "* The formula for converting Celsius to Fahrenheit is multiply celsius by 1.8 and add 32. \n",
    "\n",
    "* Asking the user to input the celsius he want to convert using the input() function, since the input() function will take the input in string type, converting its type to float as Celsius can be in decimal values.\n",
    "* Applying the given celsius into the formula ((Celsius *1.8) + 32) and assign this value to the Fahrenheit variable.\n",
    "* Printing the Fahrenheit variable using print() function along with the strings to show the Celsius value they entered and its convereted Fahrenheit value."
   ]
  },
  {
   "cell_type": "markdown",
   "id": "f6b8eb47-4970-47de-b336-140e59a07814",
   "metadata": {},
   "source": [
    "# TOPIC: String Based Questions"
   ]
  },
  {
   "cell_type": "markdown",
   "id": "556a09cf-09bc-4ae5-8b09-fa3af0dd860b",
   "metadata": {},
   "source": [
    "1. Write a Python program that takes a string as input and prints the length of\n",
    "the string."
   ]
  },
  {
   "cell_type": "code",
   "execution_count": 28,
   "id": "63451711-fe8f-483c-ac55-114dcaaf9011",
   "metadata": {},
   "outputs": [
    {
     "name": "stdin",
     "output_type": "stream",
     "text": [
      "Enter the word:  Jasper\n"
     ]
    },
    {
     "name": "stdout",
     "output_type": "stream",
     "text": [
      "Lenth of the String is  6\n",
      "Lenth of the String is  6\n"
     ]
    }
   ],
   "source": [
    "user_input= input(\"Enter the word: \")  # taking the user input\n",
    "\n",
    "#1st method\n",
    "lenth_of_string=len(user_input)  #this method is by using the len inbuilt function\n",
    "print(\"Lenth of the String is \", lenth_of_string)\n",
    "\n",
    "#2nd method\n",
    "\n",
    "length=0 #initialising a variable holding 0 value\n",
    "for i in user_input:  # iterating the strings using for loop \n",
    "    length+=1  # adding 1 for every iteration \n",
    "    \n",
    "print(\"Lenth of the String is \", length)"
   ]
  },
  {
   "cell_type": "markdown",
   "id": "efea0c57",
   "metadata": {},
   "source": [
    "Explanation: \n",
    "\n",
    "* Asking the user to input the word to count the number of string characters in the word using the input() inbuilt function.\n",
    "* using the len() inbuilt function finding the length of the word and assing that value to the variable called lenth_of_string.\n",
    "* using the print() funcation printing the variable lenth_of_string.\n",
    "* In the second method using declaring a variable Length with value 0 and in the next line iterating the every single string from the word given by the user as i using the for loop statement.\n",
    "* Then adding 1 to the length variable we declared outside the loop for every iteration\n",
    "* printing the length variable using the print() function along with the string \"Lenth of the String is \"."
   ]
  },
  {
   "cell_type": "markdown",
   "id": "1233294a-c747-4e13-af2d-19ff022c9559",
   "metadata": {},
   "source": [
    "2. Create a program that takes a sentence from the user and counts the number\n",
    "of vowels (a, e, i, o, u) in the string."
   ]
  },
  {
   "cell_type": "code",
   "execution_count": 4,
   "id": "13b74d05-63dc-4cf6-bf29-cc68ac846f70",
   "metadata": {},
   "outputs": [
    {
     "name": "stdout",
     "output_type": "stream",
     "text": [
      "Enter the sentenceHOw Is YoUr day\n",
      "Vowels that are present in the string are:  ['o', 'i', 'o', 'u', 'a']\n",
      "total number of vowels present in string is 5\n"
     ]
    }
   ],
   "source": [
    "user_input=input(\"Enter the sentence\") # taking the user input\n",
    "lower_string=user_input.lower()  # using the lower built in function to lower case the letters\n",
    "vowels=['a','e','i','o','u']  # vowels present in English Grammar\n",
    "result=[]  \n",
    "for i in lower_string:  #iterating the user input modified with lower keyword\n",
    "    if i in vowels:  # checking if any letter from user input is in our vowels list, if it matches it will continue or else it will exit and return to loop\n",
    "        result.append(i)  # appending the letter with matched in our empty result list\n",
    "print('Vowels that are present in the string are: ', result)\n",
    "print('total number of vowels present in string is',len(result)) "
   ]
  },
  {
   "cell_type": "markdown",
   "id": "227affd8",
   "metadata": {},
   "source": [
    "Explanation: \n",
    "\n",
    "* Getting the input from user using the input() function\n",
    "* Changing all the words from the sentence into lower case in order to avoid the case sensetive issue while matching the letters.\n",
    "* assigning the vowels strings into a list to a variable called vowels because we are going to use this to match with our user input sentence\n",
    "* creating an empty list inorder to store the vowels which are going to match with our vowels input.\n",
    "* looping the lower_string using for loop statement and using the if class statement and in keyword inorder to find if any of the vowels strings from the variable is present in the lower_string, if any string matches it will be appended to our result list using the append built in function.\n",
    "* Printing the Vowels present in the user input using print function and printing the length of the vowels present using len keyword \n"
   ]
  },
  {
   "cell_type": "markdown",
   "id": "365050fe-48a4-4aa0-b7c1-a94c06530648",
   "metadata": {},
   "source": [
    "3. Given a string, reverse the order of characters using string slicing and print\n",
    "the reversed string."
   ]
  },
  {
   "cell_type": "code",
   "execution_count": 5,
   "id": "7c30cb6b-dd4a-4196-b136-de384310a51d",
   "metadata": {},
   "outputs": [
    {
     "name": "stdout",
     "output_type": "stream",
     "text": [
      "Enter the string: Hello World!\n",
      "!dlroW olleH\n"
     ]
    }
   ],
   "source": [
    "string=input('Enter the string: ')  # getting input from user\n",
    "slicing=string[::-1]  #using the string operation slicing method to reverse the string\n",
    "print(slicing)"
   ]
  },
  {
   "cell_type": "markdown",
   "id": "12f615e3",
   "metadata": {},
   "source": [
    "Explanation: \n",
    "\n",
    "* Geting the string from the user using input() function.\n",
    "* In string operation slicing is a technique we can pick the strings based on its index, hence using the syntax slicing[Start: stop:step] here i am giving the -1 as step to start from the reverse order and storing it inside the variable called slicing.\n",
    "* printing the variable slicing using print() function."
   ]
  },
  {
   "cell_type": "markdown",
   "id": "fb489897-5178-4fc8-b7c4-a116c3fb8149",
   "metadata": {},
   "source": [
    "4. Write a program that takes a string as input and checks if it is a palindrome\n",
    "(reads the same forwards and backwards).|"
   ]
  },
  {
   "cell_type": "code",
   "execution_count": 14,
   "id": "a1b206ac-9b63-4a00-b4a3-bdd65f0a28cc",
   "metadata": {},
   "outputs": [
    {
     "name": "stdout",
     "output_type": "stream",
     "text": [
      "Enter the word Madam\n",
      "This word Madam is a palindrome\n"
     ]
    }
   ],
   "source": [
    "user_input=input(\"Enter the word \")\n",
    "lower_sting=user_input.lower()\n",
    "reverse_string=lower_sting[::-1]\n",
    "if lower_sting == reverse_string:\n",
    "    print(f'This word {user_input} is a palindrome')\n",
    "else:\n",
    "    print(f'This word {user_input} is a not palindrome')"
   ]
  },
  {
   "cell_type": "markdown",
   "id": "a883886f",
   "metadata": {},
   "source": [
    "Explanation: \n",
    "\n",
    "* Geting the word from the user using input() function.\n",
    "* Changing all the letters from the word into lower case in order avoid any case sensetive issues.\n",
    "* Reverse the word using the slicing method in string operation.\n",
    "* Using the If else statement, if the lowered string matches the same letters in reverse sting index it will be palindrome so used a print() function to print the statement its a palindrome. If it doesn't match it will come into else statement and print its not a palindrome.\n"
   ]
  },
  {
   "cell_type": "markdown",
   "id": "4aecfc6d-9c39-4e5b-b328-c1ba405ffa18",
   "metadata": {},
   "source": [
    "5. Create a program that takes a string as input and removes all the spaces from\n",
    "it. Print the modified string without spaces."
   ]
  },
  {
   "cell_type": "code",
   "execution_count": 7,
   "id": "d3e644fc-9a43-4eac-99d2-ad8bf76e83f8",
   "metadata": {},
   "outputs": [
    {
     "name": "stdin",
     "output_type": "stream",
     "text": [
      "Enter the sentence Hello, How was your day?\n"
     ]
    },
    {
     "name": "stdout",
     "output_type": "stream",
     "text": [
      "Hello,Howwasyourday?\n",
      "Hello,Howwasyourday?\n"
     ]
    }
   ],
   "source": [
    "user_input=input(\"Enter the sentence\")  # taking user input\n",
    "\n",
    "#method 1\n",
    "split=user_input.split()  #splitting every string from the sentence using split function\n",
    "result=''    #creating a empty string variable in order to store strings later\n",
    "for i in split:   \n",
    "    result+=i   #appending string into result variable\n",
    "print(result)\n",
    "#method 2\n",
    "#using join & split method combined to remove spaces and join the string\n",
    "\n",
    "result2= \"\".join(user_input.split())\n",
    "print(result2)"
   ]
  },
  {
   "cell_type": "markdown",
   "id": "a0330860",
   "metadata": {},
   "source": [
    "Explanation: \n",
    "\n",
    "* Getting the sentence from the user using input() function\n",
    "* In first method using the Split() function and for loop to remove the spaces, firstly it split the every string from the sentence into a list of strings using the split function.\n",
    "* creating a result variable with empty string inorder to store the words later.\n",
    "* Iterating the split words into for loop and appending the words into empty string called result.\n",
    "* Printing the result using print() function with removed whitespaces.\n",
    "* In 2nd Method: using both the split and join function. the split function will split letters and store it as list without any whitespaces, then i use the join function to join the list of single strings into a word and storing it into a variable called result2.\n",
    "* printing the result2 using print() function."
   ]
  },
  {
   "cell_type": "code",
   "execution_count": null,
   "id": "a76f8c30",
   "metadata": {},
   "outputs": [],
   "source": []
  }
 ],
 "metadata": {
  "kernelspec": {
   "display_name": "Python 3 (ipykernel)",
   "language": "python",
   "name": "python3"
  },
  "language_info": {
   "codemirror_mode": {
    "name": "ipython",
    "version": 3
   },
   "file_extension": ".py",
   "mimetype": "text/x-python",
   "name": "python",
   "nbconvert_exporter": "python",
   "pygments_lexer": "ipython3",
   "version": "3.10.9"
  }
 },
 "nbformat": 4,
 "nbformat_minor": 5
}
